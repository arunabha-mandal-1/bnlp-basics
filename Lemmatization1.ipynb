{
  "nbformat": 4,
  "nbformat_minor": 0,
  "metadata": {
    "colab": {
      "provenance": [],
      "authorship_tag": "ABX9TyMtQTwdkmsFLNvRUcjU3iAR",
      "include_colab_link": true
    },
    "kernelspec": {
      "name": "python3",
      "display_name": "Python 3"
    },
    "language_info": {
      "name": "python"
    }
  },
  "cells": [
    {
      "cell_type": "markdown",
      "metadata": {
        "id": "view-in-github",
        "colab_type": "text"
      },
      "source": [
        "<a href=\"https://colab.research.google.com/github/arunabha-mandal-1/bnlp-basics/blob/main/Lemmatization1.ipynb\" target=\"_parent\"><img src=\"https://colab.research.google.com/assets/colab-badge.svg\" alt=\"Open In Colab\"/></a>"
      ]
    },
    {
      "cell_type": "markdown",
      "source": [
        "There are few Bengali Lemmatizer in BNLP domain. Let's try!"
      ],
      "metadata": {
        "id": "VzPEueP9FuJw"
      }
    },
    {
      "cell_type": "code",
      "source": [
        "text1 = \"\"\"জীবের মধ্যে সবচেয়ে সম্পূর্ণতা মানুষের। কিন্তু সবচেয়ে অসম্পূর্ণ হয়ে সে জন্মগ্রহণ করে। বাঘ ভালুক তার জীবনযাত্রার পনেরো- আনা মূলধন নিয়ে আসে প্রকৃতির মালখানা থেকে। জীবরঙ্গভূমিতে মানুষ এসে দেখা দেয় দুই শূন্য হাতে মুঠো বেঁধে।\n",
        "   মানুষ আসবার পূর্বেই জীবসৃষ্টিযজ্ঞে প্রকৃতির ভূরিব্যয়ের পালা শেষ হয়ে এসেছে। বিপুল মাংস, কঠিন বর্ম, প্রকাণ্ড লেজ নিয়ে জলে স্থলে পৃথুল দেহের যে অমিতাচার প্রবল হয়ে উঠেছিল তাতে ধরিত্রীকে দিলে ক্লান্ত করে। প্রমাণ হল আতিশয্যের পরাভব অনিবার্য। পরীক্ষায় এটাও স্থির হয়ে গেল যে, প্রশ্রয়ের পরিমাণ যত বেশি হয় দুর্বলতার বোঝাও তত দুর্বহ হয়ে ওঠে। নূতন পর্বে প্রকৃতি যথাসম্ভব মানুষের বরাদ্দ কম করে দিয়ে নিজে রইল নেপথ্যে।\n",
        "   মানুষকে দেখতে হল খুব ছোটো, কিন্তু সেটা একটা কৌশল মাত্র। এবারকার জীবযাত্রার পালায় বিপুলতাকে করা হল বহুলতায় পরিণত। মহাকায় জন্তু ছিল প্রকাণ্ড একলা, মানুষ হল দূরপ্রসারিত অনেক।\"\"\""
      ],
      "metadata": {
        "id": "uqaFQTHiF70O"
      },
      "execution_count": 1,
      "outputs": []
    },
    {
      "cell_type": "code",
      "source": [
        "text2 = \"\"\"চিত্ত যেথা ভয়শূন্য, উচ্চ যেথা শির,\n",
        "জ্ঞান যেথা মুক্ত, যেথা গৃহের প্রাচীর আপন প্রাঙ্গণতলে দিবসশর্বরী বসুধারে রাখে নাই খণ্ড ক্ষুদ্র করি,\n",
        "যেথা বাক্য হৃদয়ের উৎসমুখ হতে উচ্ছ্বসিয়া উঠে,\n",
        "যেথা নির্বারিত স্রোতে দেশের হ্রদয়\n",
        "বুদ্ধির সূত্রে শত শাখা শত স্রোতে সেঁচিয়া উঠে,\n",
        "যেথা কর্মযজ্ঞে বসন্তের হাওয়ায় অনুপ্রাণিত হয়ে অজানা পথে চলবারে জনে,\n",
        "যেথা চিন্তা তোমার আচারপন্থাকে বুদ্ধির তীক্ষ্ণ তলওয়ারে প্রতি দিন আঘাত করে,\n",
        "যেথা তুমি বিশ্ববিধাতা প্রবুদ্ধ উদার সৃষ্টি করে থাকো\n",
        "সর্বত্র সেই স্বর্গে উঠিতে যাক আমার দেশ।\"\"\""
      ],
      "metadata": {
        "id": "7V9zKS8KGN5D"
      },
      "execution_count": 2,
      "outputs": []
    },
    {
      "cell_type": "markdown",
      "source": [
        "# Spark NLP by John Snow LABS"
      ],
      "metadata": {
        "id": "AvW_sX9ZGgOt"
      }
    },
    {
      "cell_type": "code",
      "source": [
        "! pip install -q pyspark==3.3.0 spark-nlp==4.2.8"
      ],
      "metadata": {
        "id": "1uY43aVdHj1H"
      },
      "execution_count": 3,
      "outputs": []
    },
    {
      "cell_type": "code",
      "source": [
        "import json\n",
        "import pandas as pd\n",
        "import numpy as np\n",
        "\n",
        "import sparknlp\n",
        "import pyspark.sql.functions as F\n",
        "\n",
        "from pyspark.ml import Pipeline\n",
        "from pyspark.sql import SparkSession\n",
        "from sparknlp.annotator import *\n",
        "from sparknlp.base import *\n",
        "from sparknlp.pretrained import PretrainedPipeline\n",
        "from pyspark.sql.types import StringType, IntegerType"
      ],
      "metadata": {
        "id": "UUW3er-_HzeY"
      },
      "execution_count": 4,
      "outputs": []
    },
    {
      "cell_type": "code",
      "source": [
        "spark = sparknlp.start()"
      ],
      "metadata": {
        "id": "vX3xtNUwH9RH"
      },
      "execution_count": 5,
      "outputs": []
    },
    {
      "cell_type": "code",
      "source": [
        "sparknlp.version()"
      ],
      "metadata": {
        "colab": {
          "base_uri": "https://localhost:8080/",
          "height": 36
        },
        "id": "8iAgJe5vIh4h",
        "outputId": "2ce23197-9a4c-42da-b8e0-67147fe607de"
      },
      "execution_count": 6,
      "outputs": [
        {
          "output_type": "execute_result",
          "data": {
            "text/plain": [
              "'4.2.8'"
            ],
            "application/vnd.google.colaboratory.intrinsic+json": {
              "type": "string"
            }
          },
          "metadata": {},
          "execution_count": 6
        }
      ]
    },
    {
      "cell_type": "code",
      "source": [
        "spark"
      ],
      "metadata": {
        "colab": {
          "base_uri": "https://localhost:8080/",
          "height": 221
        },
        "id": "vdUn_xz0IlIZ",
        "outputId": "c472eec1-5ef3-48ff-aa72-a047ae99e434"
      },
      "execution_count": 7,
      "outputs": [
        {
          "output_type": "execute_result",
          "data": {
            "text/plain": [
              "<pyspark.sql.session.SparkSession at 0x7b3b37c44e50>"
            ],
            "text/html": [
              "\n",
              "            <div>\n",
              "                <p><b>SparkSession - in-memory</b></p>\n",
              "                \n",
              "        <div>\n",
              "            <p><b>SparkContext</b></p>\n",
              "\n",
              "            <p><a href=\"http://c95b5a5be5e4:4040\">Spark UI</a></p>\n",
              "\n",
              "            <dl>\n",
              "              <dt>Version</dt>\n",
              "                <dd><code>v3.3.0</code></dd>\n",
              "              <dt>Master</dt>\n",
              "                <dd><code>local[*]</code></dd>\n",
              "              <dt>AppName</dt>\n",
              "                <dd><code>Spark NLP</code></dd>\n",
              "            </dl>\n",
              "        </div>\n",
              "        \n",
              "            </div>\n",
              "        "
            ]
          },
          "metadata": {},
          "execution_count": 7
        }
      ]
    },
    {
      "cell_type": "code",
      "source": [
        "#getting lemma files\n",
        "#don't need this for bengali\n",
        "!wget https://raw.githubusercontent.com/mahavivo/vocabulary/master/lemmas/AntBNC_lemmas_ver_001.txt"
      ],
      "metadata": {
        "colab": {
          "base_uri": "https://localhost:8080/"
        },
        "id": "Lze0ThSRKs6Q",
        "outputId": "c0ec8df2-fcd7-4c67-c5fd-9feba5c17ea2"
      },
      "execution_count": 8,
      "outputs": [
        {
          "output_type": "stream",
          "name": "stdout",
          "text": [
            "--2024-05-23 15:36:11--  https://raw.githubusercontent.com/mahavivo/vocabulary/master/lemmas/AntBNC_lemmas_ver_001.txt\n",
            "Resolving raw.githubusercontent.com (raw.githubusercontent.com)... 185.199.110.133, 185.199.109.133, 185.199.111.133, ...\n",
            "Connecting to raw.githubusercontent.com (raw.githubusercontent.com)|185.199.110.133|:443... connected.\n",
            "HTTP request sent, awaiting response... 200 OK\n",
            "Length: 1348552 (1.3M) [text/plain]\n",
            "Saving to: ‘AntBNC_lemmas_ver_001.txt.1’\n",
            "\n",
            "AntBNC_lemmas_ver_0 100%[===================>]   1.29M  --.-KB/s    in 0.07s   \n",
            "\n",
            "2024-05-23 15:36:11 (19.3 MB/s) - ‘AntBNC_lemmas_ver_001.txt.1’ saved [1348552/1348552]\n",
            "\n"
          ]
        }
      ]
    },
    {
      "cell_type": "code",
      "source": [
        "# Defining Spark NLP pipeline\n",
        "documentAssembler = DocumentAssembler()\\\n",
        "    .setInputCol(\"text\")\\\n",
        "    .setOutputCol(\"document\")\n",
        "\n",
        "# sentenceDetector = SentenceDetector()\\\n",
        "#     .setInputCols(['document'])\\\n",
        "#     .setOutputCol('sentences')\n",
        "\n",
        "tokenizer = Tokenizer() \\\n",
        "    .setInputCols([\"document\"]) \\\n",
        "    .setOutputCol(\"token\")\n",
        "\n",
        "# normalizer = Normalizer() \\\n",
        "#     .setInputCols([\"token\"]) \\\n",
        "#     .setOutputCol(\"normalized\")\\\n",
        "#     .setLowercase(True)\\\n",
        "#     .setCleanupPatterns([\"[^\\w\\d\\s]\"])\n",
        "\n",
        "# stopwords_cleaner = StopWordsCleaner()\\\n",
        "#     .setInputCols(\"token\")\\\n",
        "#     .setOutputCol(\"removed_stopwords\")\\\n",
        "#     .setCaseSensitive(False)\\\n",
        "\n",
        "# stemmer = Stemmer() \\\n",
        "#     .setInputCols([\"token\"]) \\\n",
        "#     .setOutputCol(\"stem\")\n",
        "\n",
        "lemmatizer = LemmatizerModel.pretrained(\"lemma\", \"bn\") \\\n",
        "    .setInputCols([\"token\"]) \\\n",
        "    .setOutputCol(\"lemma\") \\\n",
        "    # .setDictionary(\"./AntBNC_lemmas_ver_001.txt\", value_delimiter =\"\\t\", key_delimiter = \"->\")\n",
        "\n",
        "nlp_pipeline = Pipeline(stages=[documentAssembler,\n",
        "                              #  sentenceDetector,\n",
        "                               tokenizer,\n",
        "                              #  normalizer,\n",
        "                              #  stopwords_cleaner,\n",
        "                              #  stemmer,\n",
        "                               lemmatizer])\n",
        "\n",
        "light_pipeline = LightPipeline(nlp_pipeline.fit(spark.createDataFrame([[\"\"]]).toDF(\"text\")))\n"
      ],
      "metadata": {
        "colab": {
          "base_uri": "https://localhost:8080/"
        },
        "id": "HO2jNKd4IpMj",
        "outputId": "d71b7253-76e1-4ab6-c011-b9d7db08899e"
      },
      "execution_count": 9,
      "outputs": [
        {
          "output_type": "stream",
          "name": "stdout",
          "text": [
            "lemma download started this may take some time.\n",
            "Approximate size to download 90.6 KB\n",
            "[OK!]\n"
          ]
        }
      ]
    },
    {
      "cell_type": "code",
      "source": [
        "# Run pipeline\n",
        "result1 = light_pipeline.fullAnnotate([text1])\n",
        "result2 = light_pipeline.fullAnnotate([text2])"
      ],
      "metadata": {
        "colab": {
          "base_uri": "https://localhost:8080/"
        },
        "id": "OemVVD0qJoXV",
        "outputId": "abbce744-e9a5-400b-8039-eab8e31642f6"
      },
      "execution_count": 10,
      "outputs": [
        {
          "output_type": "stream",
          "name": "stdout",
          "text": [
            "Before _validateStagesInputCols\n",
            "Before _validateStagesInputCols\n"
          ]
        }
      ]
    },
    {
      "cell_type": "code",
      "source": [
        "result1"
      ],
      "metadata": {
        "colab": {
          "base_uri": "https://localhost:8080/"
        },
        "id": "IWajh-caKzMy",
        "outputId": "8321a23a-1213-4302-808a-726d58de1ace"
      },
      "execution_count": 11,
      "outputs": [
        {
          "output_type": "execute_result",
          "data": {
            "text/plain": [
              "[{'document': [Annotation(document, 0, 818, জীবের মধ্যে সবচেয়ে সম্পূর্ণতা মানুষের। কিন্তু সবচেয়ে অসম্পূর্ণ হয়ে সে জন্মগ্রহণ করে। বাঘ ভালুক তার জীবনযাত্রার পনেরো- আনা মূলধন নিয়ে আসে প্রকৃতির মালখানা থেকে। জীবরঙ্গভূমিতে মানুষ এসে দেখা দেয় দুই শূন্য হাতে মুঠো বেঁধে।\n",
              "      মানুষ আসবার পূর্বেই জীবসৃষ্টিযজ্ঞে প্রকৃতির ভূরিব্যয়ের পালা শেষ হয়ে এসেছে। বিপুল মাংস, কঠিন বর্ম, প্রকাণ্ড লেজ নিয়ে জলে স্থলে পৃথুল দেহের যে অমিতাচার প্রবল হয়ে উঠেছিল তাতে ধরিত্রীকে দিলে ক্লান্ত করে। প্রমাণ হল আতিশয্যের পরাভব অনিবার্য। পরীক্ষায় এটাও স্থির হয়ে গেল যে, প্রশ্রয়ের পরিমাণ যত বেশি হয় দুর্বলতার বোঝাও তত দুর্বহ হয়ে ওঠে। নূতন পর্বে প্রকৃতি যথাসম্ভব মানুষের বরাদ্দ কম করে দিয়ে নিজে রইল নেপথ্যে।\n",
              "      মানুষকে দেখতে হল খুব ছোটো, কিন্তু সেটা একটা কৌশল মাত্র। এবারকার জীবযাত্রার পালায় বিপুলতাকে করা হল বহুলতায় পরিণত। মহাকায় জন্তু ছিল প্রকাণ্ড একলা, মানুষ হল দূরপ্রসারিত অনেক।, {}, [])],\n",
              "  'token': [Annotation(token, 0, 4, জীবের, {'sentence': '0'}, []),\n",
              "   Annotation(token, 6, 10, মধ্যে, {'sentence': '0'}, []),\n",
              "   Annotation(token, 12, 18, সবচেয়ে, {'sentence': '0'}, []),\n",
              "   Annotation(token, 20, 29, সম্পূর্ণতা, {'sentence': '0'}, []),\n",
              "   Annotation(token, 31, 38, মানুষের।, {'sentence': '0'}, []),\n",
              "   Annotation(token, 40, 45, কিন্তু, {'sentence': '0'}, []),\n",
              "   Annotation(token, 47, 53, সবচেয়ে, {'sentence': '0'}, []),\n",
              "   Annotation(token, 55, 63, অসম্পূর্ণ, {'sentence': '0'}, []),\n",
              "   Annotation(token, 65, 68, হয়ে, {'sentence': '0'}, []),\n",
              "   Annotation(token, 70, 71, সে, {'sentence': '0'}, []),\n",
              "   Annotation(token, 73, 81, জন্মগ্রহণ, {'sentence': '0'}, []),\n",
              "   Annotation(token, 83, 86, করে।, {'sentence': '0'}, []),\n",
              "   Annotation(token, 88, 90, বাঘ, {'sentence': '0'}, []),\n",
              "   Annotation(token, 92, 96, ভালুক, {'sentence': '0'}, []),\n",
              "   Annotation(token, 98, 100, তার, {'sentence': '0'}, []),\n",
              "   Annotation(token, 102, 112, জীবনযাত্রার, {'sentence': '0'}, []),\n",
              "   Annotation(token, 114, 118, পনেরো, {'sentence': '0'}, []),\n",
              "   Annotation(token, 119, 119, -, {'sentence': '0'}, []),\n",
              "   Annotation(token, 121, 123, আনা, {'sentence': '0'}, []),\n",
              "   Annotation(token, 125, 129, মূলধন, {'sentence': '0'}, []),\n",
              "   Annotation(token, 131, 135, নিয়ে, {'sentence': '0'}, []),\n",
              "   Annotation(token, 137, 139, আসে, {'sentence': '0'}, []),\n",
              "   Annotation(token, 141, 148, প্রকৃতির, {'sentence': '0'}, []),\n",
              "   Annotation(token, 150, 156, মালখানা, {'sentence': '0'}, []),\n",
              "   Annotation(token, 158, 162, থেকে।, {'sentence': '0'}, []),\n",
              "   Annotation(token, 164, 176, জীবরঙ্গভূমিতে, {'sentence': '0'}, []),\n",
              "   Annotation(token, 178, 182, মানুষ, {'sentence': '0'}, []),\n",
              "   Annotation(token, 184, 186, এসে, {'sentence': '0'}, []),\n",
              "   Annotation(token, 188, 191, দেখা, {'sentence': '0'}, []),\n",
              "   Annotation(token, 193, 196, দেয়, {'sentence': '0'}, []),\n",
              "   Annotation(token, 198, 200, দুই, {'sentence': '0'}, []),\n",
              "   Annotation(token, 202, 206, শূন্য, {'sentence': '0'}, []),\n",
              "   Annotation(token, 208, 211, হাতে, {'sentence': '0'}, []),\n",
              "   Annotation(token, 213, 216, মুঠো, {'sentence': '0'}, []),\n",
              "   Annotation(token, 218, 223, বেঁধে।, {'sentence': '0'}, []),\n",
              "   Annotation(token, 228, 232, মানুষ, {'sentence': '0'}, []),\n",
              "   Annotation(token, 234, 238, আসবার, {'sentence': '0'}, []),\n",
              "   Annotation(token, 240, 246, পূর্বেই, {'sentence': '0'}, []),\n",
              "   Annotation(token, 248, 261, জীবসৃষ্টিযজ্ঞে, {'sentence': '0'}, []),\n",
              "   Annotation(token, 263, 270, প্রকৃতির, {'sentence': '0'}, []),\n",
              "   Annotation(token, 272, 282, ভূরিব্যয়ের, {'sentence': '0'}, []),\n",
              "   Annotation(token, 284, 287, পালা, {'sentence': '0'}, []),\n",
              "   Annotation(token, 289, 291, শেষ, {'sentence': '0'}, []),\n",
              "   Annotation(token, 293, 296, হয়ে, {'sentence': '0'}, []),\n",
              "   Annotation(token, 298, 303, এসেছে।, {'sentence': '0'}, []),\n",
              "   Annotation(token, 305, 309, বিপুল, {'sentence': '0'}, []),\n",
              "   Annotation(token, 311, 314, মাংস, {'sentence': '0'}, []),\n",
              "   Annotation(token, 315, 315, ,, {'sentence': '0'}, []),\n",
              "   Annotation(token, 317, 320, কঠিন, {'sentence': '0'}, []),\n",
              "   Annotation(token, 322, 325, বর্ম, {'sentence': '0'}, []),\n",
              "   Annotation(token, 326, 326, ,, {'sentence': '0'}, []),\n",
              "   Annotation(token, 328, 335, প্রকাণ্ড, {'sentence': '0'}, []),\n",
              "   Annotation(token, 337, 339, লেজ, {'sentence': '0'}, []),\n",
              "   Annotation(token, 341, 345, নিয়ে, {'sentence': '0'}, []),\n",
              "   Annotation(token, 347, 349, জলে, {'sentence': '0'}, []),\n",
              "   Annotation(token, 351, 355, স্থলে, {'sentence': '0'}, []),\n",
              "   Annotation(token, 357, 361, পৃথুল, {'sentence': '0'}, []),\n",
              "   Annotation(token, 363, 367, দেহের, {'sentence': '0'}, []),\n",
              "   Annotation(token, 369, 370, যে, {'sentence': '0'}, []),\n",
              "   Annotation(token, 372, 379, অমিতাচার, {'sentence': '0'}, []),\n",
              "   Annotation(token, 381, 385, প্রবল, {'sentence': '0'}, []),\n",
              "   Annotation(token, 387, 390, হয়ে, {'sentence': '0'}, []),\n",
              "   Annotation(token, 392, 397, উঠেছিল, {'sentence': '0'}, []),\n",
              "   Annotation(token, 399, 402, তাতে, {'sentence': '0'}, []),\n",
              "   Annotation(token, 404, 412, ধরিত্রীকে, {'sentence': '0'}, []),\n",
              "   Annotation(token, 414, 417, দিলে, {'sentence': '0'}, []),\n",
              "   Annotation(token, 419, 425, ক্লান্ত, {'sentence': '0'}, []),\n",
              "   Annotation(token, 427, 430, করে।, {'sentence': '0'}, []),\n",
              "   Annotation(token, 432, 437, প্রমাণ, {'sentence': '0'}, []),\n",
              "   Annotation(token, 439, 440, হল, {'sentence': '0'}, []),\n",
              "   Annotation(token, 442, 450, আতিশয্যের, {'sentence': '0'}, []),\n",
              "   Annotation(token, 452, 456, পরাভব, {'sentence': '0'}, []),\n",
              "   Annotation(token, 458, 466, অনিবার্য।, {'sentence': '0'}, []),\n",
              "   Annotation(token, 468, 476, পরীক্ষায়, {'sentence': '0'}, []),\n",
              "   Annotation(token, 478, 481, এটাও, {'sentence': '0'}, []),\n",
              "   Annotation(token, 483, 487, স্থির, {'sentence': '0'}, []),\n",
              "   Annotation(token, 489, 492, হয়ে, {'sentence': '0'}, []),\n",
              "   Annotation(token, 494, 496, গেল, {'sentence': '0'}, []),\n",
              "   Annotation(token, 498, 499, যে, {'sentence': '0'}, []),\n",
              "   Annotation(token, 500, 500, ,, {'sentence': '0'}, []),\n",
              "   Annotation(token, 502, 511, প্রশ্রয়ের, {'sentence': '0'}, []),\n",
              "   Annotation(token, 513, 518, পরিমাণ, {'sentence': '0'}, []),\n",
              "   Annotation(token, 520, 521, যত, {'sentence': '0'}, []),\n",
              "   Annotation(token, 523, 526, বেশি, {'sentence': '0'}, []),\n",
              "   Annotation(token, 528, 530, হয়, {'sentence': '0'}, []),\n",
              "   Annotation(token, 532, 540, দুর্বলতার, {'sentence': '0'}, []),\n",
              "   Annotation(token, 542, 546, বোঝাও, {'sentence': '0'}, []),\n",
              "   Annotation(token, 548, 549, তত, {'sentence': '0'}, []),\n",
              "   Annotation(token, 551, 556, দুর্বহ, {'sentence': '0'}, []),\n",
              "   Annotation(token, 558, 561, হয়ে, {'sentence': '0'}, []),\n",
              "   Annotation(token, 563, 566, ওঠে।, {'sentence': '0'}, []),\n",
              "   Annotation(token, 568, 571, নূতন, {'sentence': '0'}, []),\n",
              "   Annotation(token, 573, 577, পর্বে, {'sentence': '0'}, []),\n",
              "   Annotation(token, 579, 585, প্রকৃতি, {'sentence': '0'}, []),\n",
              "   Annotation(token, 587, 594, যথাসম্ভব, {'sentence': '0'}, []),\n",
              "   Annotation(token, 596, 602, মানুষের, {'sentence': '0'}, []),\n",
              "   Annotation(token, 604, 609, বরাদ্দ, {'sentence': '0'}, []),\n",
              "   Annotation(token, 611, 612, কম, {'sentence': '0'}, []),\n",
              "   Annotation(token, 614, 616, করে, {'sentence': '0'}, []),\n",
              "   Annotation(token, 618, 622, দিয়ে, {'sentence': '0'}, []),\n",
              "   Annotation(token, 624, 627, নিজে, {'sentence': '0'}, []),\n",
              "   Annotation(token, 629, 631, রইল, {'sentence': '0'}, []),\n",
              "   Annotation(token, 633, 640, নেপথ্যে।, {'sentence': '0'}, []),\n",
              "   Annotation(token, 645, 651, মানুষকে, {'sentence': '0'}, []),\n",
              "   Annotation(token, 653, 657, দেখতে, {'sentence': '0'}, []),\n",
              "   Annotation(token, 659, 660, হল, {'sentence': '0'}, []),\n",
              "   Annotation(token, 662, 664, খুব, {'sentence': '0'}, []),\n",
              "   Annotation(token, 666, 669, ছোটো, {'sentence': '0'}, []),\n",
              "   Annotation(token, 670, 670, ,, {'sentence': '0'}, []),\n",
              "   Annotation(token, 672, 677, কিন্তু, {'sentence': '0'}, []),\n",
              "   Annotation(token, 679, 682, সেটা, {'sentence': '0'}, []),\n",
              "   Annotation(token, 684, 687, একটা, {'sentence': '0'}, []),\n",
              "   Annotation(token, 689, 692, কৌশল, {'sentence': '0'}, []),\n",
              "   Annotation(token, 694, 699, মাত্র।, {'sentence': '0'}, []),\n",
              "   Annotation(token, 701, 707, এবারকার, {'sentence': '0'}, []),\n",
              "   Annotation(token, 709, 718, জীবযাত্রার, {'sentence': '0'}, []),\n",
              "   Annotation(token, 720, 725, পালায়, {'sentence': '0'}, []),\n",
              "   Annotation(token, 727, 735, বিপুলতাকে, {'sentence': '0'}, []),\n",
              "   Annotation(token, 737, 739, করা, {'sentence': '0'}, []),\n",
              "   Annotation(token, 741, 742, হল, {'sentence': '0'}, []),\n",
              "   Annotation(token, 744, 751, বহুলতায়, {'sentence': '0'}, []),\n",
              "   Annotation(token, 753, 758, পরিণত।, {'sentence': '0'}, []),\n",
              "   Annotation(token, 760, 766, মহাকায়, {'sentence': '0'}, []),\n",
              "   Annotation(token, 768, 772, জন্তু, {'sentence': '0'}, []),\n",
              "   Annotation(token, 774, 776, ছিল, {'sentence': '0'}, []),\n",
              "   Annotation(token, 778, 785, প্রকাণ্ড, {'sentence': '0'}, []),\n",
              "   Annotation(token, 787, 790, একলা, {'sentence': '0'}, []),\n",
              "   Annotation(token, 791, 791, ,, {'sentence': '0'}, []),\n",
              "   Annotation(token, 793, 797, মানুষ, {'sentence': '0'}, []),\n",
              "   Annotation(token, 799, 800, হল, {'sentence': '0'}, []),\n",
              "   Annotation(token, 802, 812, দূরপ্রসারিত, {'sentence': '0'}, []),\n",
              "   Annotation(token, 814, 818, অনেক।, {'sentence': '0'}, [])],\n",
              "  'lemma': [Annotation(token, 0, 4, জীব, {'sentence': '0'}, []),\n",
              "   Annotation(token, 6, 10, মধ্যে, {'sentence': '0'}, []),\n",
              "   Annotation(token, 12, 18, সবচেয়ে, {'sentence': '0'}, []),\n",
              "   Annotation(token, 20, 29, সম্পূর্ণতা, {'sentence': '0'}, []),\n",
              "   Annotation(token, 31, 38, মানুষের।, {'sentence': '0'}, []),\n",
              "   Annotation(token, 40, 45, কিন্তু, {'sentence': '0'}, []),\n",
              "   Annotation(token, 47, 53, সবচেয়ে, {'sentence': '0'}, []),\n",
              "   Annotation(token, 55, 63, অসম্পূর্ণ, {'sentence': '0'}, []),\n",
              "   Annotation(token, 65, 68, হয়ে, {'sentence': '0'}, []),\n",
              "   Annotation(token, 70, 71, সে, {'sentence': '0'}, []),\n",
              "   Annotation(token, 73, 81, জন্মগ্রহণ, {'sentence': '0'}, []),\n",
              "   Annotation(token, 83, 86, করে।, {'sentence': '0'}, []),\n",
              "   Annotation(token, 88, 90, বাঘ, {'sentence': '0'}, []),\n",
              "   Annotation(token, 92, 96, ভালুক, {'sentence': '0'}, []),\n",
              "   Annotation(token, 98, 100, তিনি, {'sentence': '0'}, []),\n",
              "   Annotation(token, 102, 112, জীবনযাত্রা, {'sentence': '0'}, []),\n",
              "   Annotation(token, 114, 118, পনেরো, {'sentence': '0'}, []),\n",
              "   Annotation(token, 119, 119, -, {'sentence': '0'}, []),\n",
              "   Annotation(token, 121, 123, আনা, {'sentence': '0'}, []),\n",
              "   Annotation(token, 125, 129, মূলধন, {'sentence': '0'}, []),\n",
              "   Annotation(token, 131, 135, নিয়ে, {'sentence': '0'}, []),\n",
              "   Annotation(token, 137, 139, আসা, {'sentence': '0'}, []),\n",
              "   Annotation(token, 141, 148, প্রকৃত, {'sentence': '0'}, []),\n",
              "   Annotation(token, 150, 156, মালখানা, {'sentence': '0'}, []),\n",
              "   Annotation(token, 158, 162, থেকে।, {'sentence': '0'}, []),\n",
              "   Annotation(token, 164, 176, জীবরঙ্গভূমিতে, {'sentence': '0'}, []),\n",
              "   Annotation(token, 178, 182, মানুষ, {'sentence': '0'}, []),\n",
              "   Annotation(token, 184, 186, আসা, {'sentence': '0'}, []),\n",
              "   Annotation(token, 188, 191, দেখা, {'sentence': '0'}, []),\n",
              "   Annotation(token, 193, 196, দেয়, {'sentence': '0'}, []),\n",
              "   Annotation(token, 198, 200, দুই, {'sentence': '0'}, []),\n",
              "   Annotation(token, 202, 206, শূন্য, {'sentence': '0'}, []),\n",
              "   Annotation(token, 208, 211, হাত, {'sentence': '0'}, []),\n",
              "   Annotation(token, 213, 216, মুঠো, {'sentence': '0'}, []),\n",
              "   Annotation(token, 218, 223, বেঁধে।, {'sentence': '0'}, []),\n",
              "   Annotation(token, 228, 232, মানুষ, {'sentence': '0'}, []),\n",
              "   Annotation(token, 234, 238, আসবার, {'sentence': '0'}, []),\n",
              "   Annotation(token, 240, 246, পূর্ববল, {'sentence': '0'}, []),\n",
              "   Annotation(token, 248, 261, জীবসৃষ্টিযজ্ঞে, {'sentence': '0'}, []),\n",
              "   Annotation(token, 263, 270, প্রকৃত, {'sentence': '0'}, []),\n",
              "   Annotation(token, 272, 282, ভূরিব্যয়ের, {'sentence': '0'}, []),\n",
              "   Annotation(token, 284, 287, পালা, {'sentence': '0'}, []),\n",
              "   Annotation(token, 289, 291, শেষ, {'sentence': '0'}, []),\n",
              "   Annotation(token, 293, 296, হয়ে, {'sentence': '0'}, []),\n",
              "   Annotation(token, 298, 303, এসেছে।, {'sentence': '0'}, []),\n",
              "   Annotation(token, 305, 309, বিপুল, {'sentence': '0'}, []),\n",
              "   Annotation(token, 311, 314, মাংস, {'sentence': '0'}, []),\n",
              "   Annotation(token, 315, 315, ,, {'sentence': '0'}, []),\n",
              "   Annotation(token, 317, 320, কঠিন, {'sentence': '0'}, []),\n",
              "   Annotation(token, 322, 325, বর্ম, {'sentence': '0'}, []),\n",
              "   Annotation(token, 326, 326, ,, {'sentence': '0'}, []),\n",
              "   Annotation(token, 328, 335, প্রকাণ্ড, {'sentence': '0'}, []),\n",
              "   Annotation(token, 337, 339, লেজ, {'sentence': '0'}, []),\n",
              "   Annotation(token, 341, 345, নিয়ে, {'sentence': '0'}, []),\n",
              "   Annotation(token, 347, 349, জল, {'sentence': '0'}, []),\n",
              "   Annotation(token, 351, 355, স্থলে, {'sentence': '0'}, []),\n",
              "   Annotation(token, 357, 361, পৃথুল, {'sentence': '0'}, []),\n",
              "   Annotation(token, 363, 367, দেহের, {'sentence': '0'}, []),\n",
              "   Annotation(token, 369, 370, যে, {'sentence': '0'}, []),\n",
              "   Annotation(token, 372, 379, অমিতাচার, {'sentence': '0'}, []),\n",
              "   Annotation(token, 381, 385, প্রবল, {'sentence': '0'}, []),\n",
              "   Annotation(token, 387, 390, হয়ে, {'sentence': '0'}, []),\n",
              "   Annotation(token, 392, 397, ওঠা, {'sentence': '0'}, []),\n",
              "   Annotation(token, 399, 402, তা, {'sentence': '0'}, []),\n",
              "   Annotation(token, 404, 412, ধরিত্রীকে, {'sentence': '0'}, []),\n",
              "   Annotation(token, 414, 417, দেওয়া, {'sentence': '0'}, []),\n",
              "   Annotation(token, 419, 425, ক্লান্ত, {'sentence': '0'}, []),\n",
              "   Annotation(token, 427, 430, করে।, {'sentence': '0'}, []),\n",
              "   Annotation(token, 432, 437, প্রমাণ, {'sentence': '0'}, []),\n",
              "   Annotation(token, 439, 440, হল, {'sentence': '0'}, []),\n",
              "   Annotation(token, 442, 450, আতিশয্যের, {'sentence': '0'}, []),\n",
              "   Annotation(token, 452, 456, পরাভব, {'sentence': '0'}, []),\n",
              "   Annotation(token, 458, 466, অনিবার্য।, {'sentence': '0'}, []),\n",
              "   Annotation(token, 468, 476, পরীক্ষায়, {'sentence': '0'}, []),\n",
              "   Annotation(token, 478, 481, এটাও, {'sentence': '0'}, []),\n",
              "   Annotation(token, 483, 487, স্থির, {'sentence': '0'}, []),\n",
              "   Annotation(token, 489, 492, হয়ে, {'sentence': '0'}, []),\n",
              "   Annotation(token, 494, 496, গেল, {'sentence': '0'}, []),\n",
              "   Annotation(token, 498, 499, যে, {'sentence': '0'}, []),\n",
              "   Annotation(token, 500, 500, ,, {'sentence': '0'}, []),\n",
              "   Annotation(token, 502, 511, প্রশ্রয়ের, {'sentence': '0'}, []),\n",
              "   Annotation(token, 513, 518, পরিমাণ, {'sentence': '0'}, []),\n",
              "   Annotation(token, 520, 521, যত, {'sentence': '0'}, []),\n",
              "   Annotation(token, 523, 526, বেশি, {'sentence': '0'}, []),\n",
              "   Annotation(token, 528, 530, হয়, {'sentence': '0'}, []),\n",
              "   Annotation(token, 532, 540, দুর্বলতার, {'sentence': '0'}, []),\n",
              "   Annotation(token, 542, 546, বোঝাও, {'sentence': '0'}, []),\n",
              "   Annotation(token, 548, 549, তত, {'sentence': '0'}, []),\n",
              "   Annotation(token, 551, 556, দুর্বহ, {'sentence': '0'}, []),\n",
              "   Annotation(token, 558, 561, হয়ে, {'sentence': '0'}, []),\n",
              "   Annotation(token, 563, 566, ওঠে।, {'sentence': '0'}, []),\n",
              "   Annotation(token, 568, 571, নূতন, {'sentence': '0'}, []),\n",
              "   Annotation(token, 573, 577, পর্ব, {'sentence': '0'}, []),\n",
              "   Annotation(token, 579, 585, প্রকৃত, {'sentence': '0'}, []),\n",
              "   Annotation(token, 587, 594, যথাসম্ভব, {'sentence': '0'}, []),\n",
              "   Annotation(token, 596, 602, মানুষ, {'sentence': '0'}, []),\n",
              "   Annotation(token, 604, 609, বরাদ্দ, {'sentence': '0'}, []),\n",
              "   Annotation(token, 611, 612, কম, {'sentence': '0'}, []),\n",
              "   Annotation(token, 614, 616, করা, {'sentence': '0'}, []),\n",
              "   Annotation(token, 618, 622, দিয়ে, {'sentence': '0'}, []),\n",
              "   Annotation(token, 624, 627, নিজ, {'sentence': '0'}, []),\n",
              "   Annotation(token, 629, 631, রওয়া, {'sentence': '0'}, []),\n",
              "   Annotation(token, 633, 640, নেপথ্যে।, {'sentence': '0'}, []),\n",
              "   Annotation(token, 645, 651, মানুষ, {'sentence': '0'}, []),\n",
              "   Annotation(token, 653, 657, দেখা, {'sentence': '0'}, []),\n",
              "   Annotation(token, 659, 660, হল, {'sentence': '0'}, []),\n",
              "   Annotation(token, 662, 664, খুব, {'sentence': '0'}, []),\n",
              "   Annotation(token, 666, 669, ছোটো, {'sentence': '0'}, []),\n",
              "   Annotation(token, 670, 670, ,, {'sentence': '0'}, []),\n",
              "   Annotation(token, 672, 677, কিন্তু, {'sentence': '0'}, []),\n",
              "   Annotation(token, 679, 682, সে, {'sentence': '0'}, []),\n",
              "   Annotation(token, 684, 687, এক, {'sentence': '0'}, []),\n",
              "   Annotation(token, 689, 692, কৌশল, {'sentence': '0'}, []),\n",
              "   Annotation(token, 694, 699, মাত্র।, {'sentence': '0'}, []),\n",
              "   Annotation(token, 701, 707, এবারকার, {'sentence': '0'}, []),\n",
              "   Annotation(token, 709, 718, জীবযাত্রার, {'sentence': '0'}, []),\n",
              "   Annotation(token, 720, 725, পালায়, {'sentence': '0'}, []),\n",
              "   Annotation(token, 727, 735, বিপুলতাকে, {'sentence': '0'}, []),\n",
              "   Annotation(token, 737, 739, করা, {'sentence': '0'}, []),\n",
              "   Annotation(token, 741, 742, হল, {'sentence': '0'}, []),\n",
              "   Annotation(token, 744, 751, বহুলতায়, {'sentence': '0'}, []),\n",
              "   Annotation(token, 753, 758, পরিণত।, {'sentence': '0'}, []),\n",
              "   Annotation(token, 760, 766, মহাকায়, {'sentence': '0'}, []),\n",
              "   Annotation(token, 768, 772, জন্তু, {'sentence': '0'}, []),\n",
              "   Annotation(token, 774, 776, থাকা, {'sentence': '0'}, []),\n",
              "   Annotation(token, 778, 785, প্রকাণ্ড, {'sentence': '0'}, []),\n",
              "   Annotation(token, 787, 790, এক, {'sentence': '0'}, []),\n",
              "   Annotation(token, 791, 791, ,, {'sentence': '0'}, []),\n",
              "   Annotation(token, 793, 797, মানুষ, {'sentence': '0'}, []),\n",
              "   Annotation(token, 799, 800, হল, {'sentence': '0'}, []),\n",
              "   Annotation(token, 802, 812, দূরপ্রসারিত, {'sentence': '0'}, []),\n",
              "   Annotation(token, 814, 818, অনেক।, {'sentence': '0'}, [])]}]"
            ]
          },
          "metadata": {},
          "execution_count": 11
        }
      ]
    },
    {
      "cell_type": "code",
      "source": [
        "result2"
      ],
      "metadata": {
        "colab": {
          "base_uri": "https://localhost:8080/"
        },
        "id": "8L6bmZhrLOBz",
        "outputId": "3dc65389-8d27-4201-f277-af20d2f51516"
      },
      "execution_count": 12,
      "outputs": [
        {
          "output_type": "execute_result",
          "data": {
            "text/plain": [
              "[{'document': [Annotation(document, 0, 499, চিত্ত যেথা ভয়শূন্য, উচ্চ যেথা শির,\n",
              "   জ্ঞান যেথা মুক্ত, যেথা গৃহের প্রাচীর আপন প্রাঙ্গণতলে দিবসশর্বরী বসুধারে রাখে নাই খণ্ড ক্ষুদ্র করি,\n",
              "   যেথা বাক্য হৃদয়ের উৎসমুখ হতে উচ্ছ্বসিয়া উঠে,\n",
              "   যেথা নির্বারিত স্রোতে দেশের হ্রদয়\n",
              "   বুদ্ধির সূত্রে শত শাখা শত স্রোতে সেঁচিয়া উঠে,\n",
              "   যেথা কর্মযজ্ঞে বসন্তের হাওয়ায় অনুপ্রাণিত হয়ে অজানা পথে চলবারে জনে,\n",
              "   যেথা চিন্তা তোমার আচারপন্থাকে বুদ্ধির তীক্ষ্ণ তলওয়ারে প্রতি দিন আঘাত করে,\n",
              "   যেথা তুমি বিশ্ববিধাতা প্রবুদ্ধ উদার সৃষ্টি করে থাকো\n",
              "   সর্বত্র সেই স্বর্গে উঠিতে যাক আমার দেশ।, {}, [])],\n",
              "  'token': [Annotation(token, 0, 4, চিত্ত, {'sentence': '0'}, []),\n",
              "   Annotation(token, 6, 9, যেথা, {'sentence': '0'}, []),\n",
              "   Annotation(token, 11, 18, ভয়শূন্য, {'sentence': '0'}, []),\n",
              "   Annotation(token, 19, 19, ,, {'sentence': '0'}, []),\n",
              "   Annotation(token, 21, 24, উচ্চ, {'sentence': '0'}, []),\n",
              "   Annotation(token, 26, 29, যেথা, {'sentence': '0'}, []),\n",
              "   Annotation(token, 31, 33, শির, {'sentence': '0'}, []),\n",
              "   Annotation(token, 34, 34, ,, {'sentence': '0'}, []),\n",
              "   Annotation(token, 36, 40, জ্ঞান, {'sentence': '0'}, []),\n",
              "   Annotation(token, 42, 45, যেথা, {'sentence': '0'}, []),\n",
              "   Annotation(token, 47, 51, মুক্ত, {'sentence': '0'}, []),\n",
              "   Annotation(token, 52, 52, ,, {'sentence': '0'}, []),\n",
              "   Annotation(token, 54, 57, যেথা, {'sentence': '0'}, []),\n",
              "   Annotation(token, 59, 63, গৃহের, {'sentence': '0'}, []),\n",
              "   Annotation(token, 65, 71, প্রাচীর, {'sentence': '0'}, []),\n",
              "   Annotation(token, 73, 75, আপন, {'sentence': '0'}, []),\n",
              "   Annotation(token, 77, 87, প্রাঙ্গণতলে, {'sentence': '0'}, []),\n",
              "   Annotation(token, 89, 98, দিবসশর্বরী, {'sentence': '0'}, []),\n",
              "   Annotation(token, 100, 106, বসুধারে, {'sentence': '0'}, []),\n",
              "   Annotation(token, 108, 111, রাখে, {'sentence': '0'}, []),\n",
              "   Annotation(token, 113, 115, নাই, {'sentence': '0'}, []),\n",
              "   Annotation(token, 117, 120, খণ্ড, {'sentence': '0'}, []),\n",
              "   Annotation(token, 122, 128, ক্ষুদ্র, {'sentence': '0'}, []),\n",
              "   Annotation(token, 130, 132, করি, {'sentence': '0'}, []),\n",
              "   Annotation(token, 133, 133, ,, {'sentence': '0'}, []),\n",
              "   Annotation(token, 135, 138, যেথা, {'sentence': '0'}, []),\n",
              "   Annotation(token, 140, 144, বাক্য, {'sentence': '0'}, []),\n",
              "   Annotation(token, 146, 152, হৃদয়ের, {'sentence': '0'}, []),\n",
              "   Annotation(token, 154, 159, উৎসমুখ, {'sentence': '0'}, []),\n",
              "   Annotation(token, 161, 163, হতে, {'sentence': '0'}, []),\n",
              "   Annotation(token, 165, 175, উচ্ছ্বসিয়া, {'sentence': '0'}, []),\n",
              "   Annotation(token, 177, 179, উঠে, {'sentence': '0'}, []),\n",
              "   Annotation(token, 180, 180, ,, {'sentence': '0'}, []),\n",
              "   Annotation(token, 182, 185, যেথা, {'sentence': '0'}, []),\n",
              "   Annotation(token, 187, 195, নির্বারিত, {'sentence': '0'}, []),\n",
              "   Annotation(token, 197, 202, স্রোতে, {'sentence': '0'}, []),\n",
              "   Annotation(token, 204, 208, দেশের, {'sentence': '0'}, []),\n",
              "   Annotation(token, 210, 215, হ্রদয়, {'sentence': '0'}, []),\n",
              "   Annotation(token, 217, 223, বুদ্ধির, {'sentence': '0'}, []),\n",
              "   Annotation(token, 225, 230, সূত্রে, {'sentence': '0'}, []),\n",
              "   Annotation(token, 232, 233, শত, {'sentence': '0'}, []),\n",
              "   Annotation(token, 235, 238, শাখা, {'sentence': '0'}, []),\n",
              "   Annotation(token, 240, 241, শত, {'sentence': '0'}, []),\n",
              "   Annotation(token, 243, 248, স্রোতে, {'sentence': '0'}, []),\n",
              "   Annotation(token, 250, 257, সেঁচিয়া, {'sentence': '0'}, []),\n",
              "   Annotation(token, 259, 261, উঠে, {'sentence': '0'}, []),\n",
              "   Annotation(token, 262, 262, ,, {'sentence': '0'}, []),\n",
              "   Annotation(token, 264, 267, যেথা, {'sentence': '0'}, []),\n",
              "   Annotation(token, 269, 277, কর্মযজ্ঞে, {'sentence': '0'}, []),\n",
              "   Annotation(token, 279, 285, বসন্তের, {'sentence': '0'}, []),\n",
              "   Annotation(token, 287, 294, হাওয়ায়, {'sentence': '0'}, []),\n",
              "   Annotation(token, 296, 305, অনুপ্রাণিত, {'sentence': '0'}, []),\n",
              "   Annotation(token, 307, 310, হয়ে, {'sentence': '0'}, []),\n",
              "   Annotation(token, 312, 316, অজানা, {'sentence': '0'}, []),\n",
              "   Annotation(token, 318, 320, পথে, {'sentence': '0'}, []),\n",
              "   Annotation(token, 322, 327, চলবারে, {'sentence': '0'}, []),\n",
              "   Annotation(token, 329, 331, জনে, {'sentence': '0'}, []),\n",
              "   Annotation(token, 332, 332, ,, {'sentence': '0'}, []),\n",
              "   Annotation(token, 334, 337, যেথা, {'sentence': '0'}, []),\n",
              "   Annotation(token, 339, 344, চিন্তা, {'sentence': '0'}, []),\n",
              "   Annotation(token, 346, 350, তোমার, {'sentence': '0'}, []),\n",
              "   Annotation(token, 352, 362, আচারপন্থাকে, {'sentence': '0'}, []),\n",
              "   Annotation(token, 364, 370, বুদ্ধির, {'sentence': '0'}, []),\n",
              "   Annotation(token, 372, 378, তীক্ষ্ণ, {'sentence': '0'}, []),\n",
              "   Annotation(token, 380, 387, তলওয়ারে, {'sentence': '0'}, []),\n",
              "   Annotation(token, 389, 393, প্রতি, {'sentence': '0'}, []),\n",
              "   Annotation(token, 395, 397, দিন, {'sentence': '0'}, []),\n",
              "   Annotation(token, 399, 402, আঘাত, {'sentence': '0'}, []),\n",
              "   Annotation(token, 404, 406, করে, {'sentence': '0'}, []),\n",
              "   Annotation(token, 407, 407, ,, {'sentence': '0'}, []),\n",
              "   Annotation(token, 409, 412, যেথা, {'sentence': '0'}, []),\n",
              "   Annotation(token, 414, 417, তুমি, {'sentence': '0'}, []),\n",
              "   Annotation(token, 419, 429, বিশ্ববিধাতা, {'sentence': '0'}, []),\n",
              "   Annotation(token, 431, 438, প্রবুদ্ধ, {'sentence': '0'}, []),\n",
              "   Annotation(token, 440, 443, উদার, {'sentence': '0'}, []),\n",
              "   Annotation(token, 445, 450, সৃষ্টি, {'sentence': '0'}, []),\n",
              "   Annotation(token, 452, 454, করে, {'sentence': '0'}, []),\n",
              "   Annotation(token, 456, 459, থাকো, {'sentence': '0'}, []),\n",
              "   Annotation(token, 461, 467, সর্বত্র, {'sentence': '0'}, []),\n",
              "   Annotation(token, 469, 471, সেই, {'sentence': '0'}, []),\n",
              "   Annotation(token, 473, 479, স্বর্গে, {'sentence': '0'}, []),\n",
              "   Annotation(token, 481, 485, উঠিতে, {'sentence': '0'}, []),\n",
              "   Annotation(token, 487, 489, যাক, {'sentence': '0'}, []),\n",
              "   Annotation(token, 491, 494, আমার, {'sentence': '0'}, []),\n",
              "   Annotation(token, 496, 499, দেশ।, {'sentence': '0'}, [])],\n",
              "  'lemma': [Annotation(token, 0, 4, চিত্ত, {'sentence': '0'}, []),\n",
              "   Annotation(token, 6, 9, যেথা, {'sentence': '0'}, []),\n",
              "   Annotation(token, 11, 18, ভয়শূন্য, {'sentence': '0'}, []),\n",
              "   Annotation(token, 19, 19, ,, {'sentence': '0'}, []),\n",
              "   Annotation(token, 21, 24, উচ্চ, {'sentence': '0'}, []),\n",
              "   Annotation(token, 26, 29, যেথা, {'sentence': '0'}, []),\n",
              "   Annotation(token, 31, 33, শির, {'sentence': '0'}, []),\n",
              "   Annotation(token, 34, 34, ,, {'sentence': '0'}, []),\n",
              "   Annotation(token, 36, 40, জ্ঞান, {'sentence': '0'}, []),\n",
              "   Annotation(token, 42, 45, যেথা, {'sentence': '0'}, []),\n",
              "   Annotation(token, 47, 51, মুক্ত, {'sentence': '0'}, []),\n",
              "   Annotation(token, 52, 52, ,, {'sentence': '0'}, []),\n",
              "   Annotation(token, 54, 57, যেথা, {'sentence': '0'}, []),\n",
              "   Annotation(token, 59, 63, গৃহ, {'sentence': '0'}, []),\n",
              "   Annotation(token, 65, 71, প্রাচীর, {'sentence': '0'}, []),\n",
              "   Annotation(token, 73, 75, আপন, {'sentence': '0'}, []),\n",
              "   Annotation(token, 77, 87, প্রাঙ্গণতলে, {'sentence': '0'}, []),\n",
              "   Annotation(token, 89, 98, দিবসশর্বরী, {'sentence': '0'}, []),\n",
              "   Annotation(token, 100, 106, বসুধারে, {'sentence': '0'}, []),\n",
              "   Annotation(token, 108, 111, রাখা, {'sentence': '0'}, []),\n",
              "   Annotation(token, 113, 115, না, {'sentence': '0'}, []),\n",
              "   Annotation(token, 117, 120, খণ্ড, {'sentence': '0'}, []),\n",
              "   Annotation(token, 122, 128, ক্ষুদ্র, {'sentence': '0'}, []),\n",
              "   Annotation(token, 130, 132, করা, {'sentence': '0'}, []),\n",
              "   Annotation(token, 133, 133, ,, {'sentence': '0'}, []),\n",
              "   Annotation(token, 135, 138, যেথা, {'sentence': '0'}, []),\n",
              "   Annotation(token, 140, 144, বাক্য, {'sentence': '0'}, []),\n",
              "   Annotation(token, 146, 152, হৃদয়ের, {'sentence': '0'}, []),\n",
              "   Annotation(token, 154, 159, উৎসমুখ, {'sentence': '0'}, []),\n",
              "   Annotation(token, 161, 163, হতে, {'sentence': '0'}, []),\n",
              "   Annotation(token, 165, 175, উচ্ছ্বসিয়া, {'sentence': '0'}, []),\n",
              "   Annotation(token, 177, 179, ওঠা, {'sentence': '0'}, []),\n",
              "   Annotation(token, 180, 180, ,, {'sentence': '0'}, []),\n",
              "   Annotation(token, 182, 185, যেথা, {'sentence': '0'}, []),\n",
              "   Annotation(token, 187, 195, নির্বারিত, {'sentence': '0'}, []),\n",
              "   Annotation(token, 197, 202, স্রোত, {'sentence': '0'}, []),\n",
              "   Annotation(token, 204, 208, দেশ, {'sentence': '0'}, []),\n",
              "   Annotation(token, 210, 215, হ্রদয়, {'sentence': '0'}, []),\n",
              "   Annotation(token, 217, 223, বুদ্ধি, {'sentence': '0'}, []),\n",
              "   Annotation(token, 225, 230, সূত্র, {'sentence': '0'}, []),\n",
              "   Annotation(token, 232, 233, শত, {'sentence': '0'}, []),\n",
              "   Annotation(token, 235, 238, শাখা, {'sentence': '0'}, []),\n",
              "   Annotation(token, 240, 241, শত, {'sentence': '0'}, []),\n",
              "   Annotation(token, 243, 248, স্রোত, {'sentence': '0'}, []),\n",
              "   Annotation(token, 250, 257, সেঁচিয়া, {'sentence': '0'}, []),\n",
              "   Annotation(token, 259, 261, ওঠা, {'sentence': '0'}, []),\n",
              "   Annotation(token, 262, 262, ,, {'sentence': '0'}, []),\n",
              "   Annotation(token, 264, 267, যেথা, {'sentence': '0'}, []),\n",
              "   Annotation(token, 269, 277, কর্মযজ্ঞে, {'sentence': '0'}, []),\n",
              "   Annotation(token, 279, 285, বসন্ত, {'sentence': '0'}, []),\n",
              "   Annotation(token, 287, 294, হাওয়ায়, {'sentence': '0'}, []),\n",
              "   Annotation(token, 296, 305, অনুপ্রাণিত, {'sentence': '0'}, []),\n",
              "   Annotation(token, 307, 310, হয়ে, {'sentence': '0'}, []),\n",
              "   Annotation(token, 312, 316, অজানা, {'sentence': '0'}, []),\n",
              "   Annotation(token, 318, 320, পথ, {'sentence': '0'}, []),\n",
              "   Annotation(token, 322, 327, চলবারে, {'sentence': '0'}, []),\n",
              "   Annotation(token, 329, 331, জনে, {'sentence': '0'}, []),\n",
              "   Annotation(token, 332, 332, ,, {'sentence': '0'}, []),\n",
              "   Annotation(token, 334, 337, যেথা, {'sentence': '0'}, []),\n",
              "   Annotation(token, 339, 344, চিন্তা, {'sentence': '0'}, []),\n",
              "   Annotation(token, 346, 350, তুমি, {'sentence': '0'}, []),\n",
              "   Annotation(token, 352, 362, আচারপন্থাকে, {'sentence': '0'}, []),\n",
              "   Annotation(token, 364, 370, বুদ্ধি, {'sentence': '0'}, []),\n",
              "   Annotation(token, 372, 378, তীক্ষ্ণ, {'sentence': '0'}, []),\n",
              "   Annotation(token, 380, 387, তলওয়ারে, {'sentence': '0'}, []),\n",
              "   Annotation(token, 389, 393, প্রতি, {'sentence': '0'}, []),\n",
              "   Annotation(token, 395, 397, দেওয়া, {'sentence': '0'}, []),\n",
              "   Annotation(token, 399, 402, আঘাত, {'sentence': '0'}, []),\n",
              "   Annotation(token, 404, 406, করা, {'sentence': '0'}, []),\n",
              "   Annotation(token, 407, 407, ,, {'sentence': '0'}, []),\n",
              "   Annotation(token, 409, 412, যেথা, {'sentence': '0'}, []),\n",
              "   Annotation(token, 414, 417, তুমি, {'sentence': '0'}, []),\n",
              "   Annotation(token, 419, 429, বিশ্ববিধাতা, {'sentence': '0'}, []),\n",
              "   Annotation(token, 431, 438, প্রবুদ্ধ, {'sentence': '0'}, []),\n",
              "   Annotation(token, 440, 443, উদার, {'sentence': '0'}, []),\n",
              "   Annotation(token, 445, 450, সৃষ্টি, {'sentence': '0'}, []),\n",
              "   Annotation(token, 452, 454, করা, {'sentence': '0'}, []),\n",
              "   Annotation(token, 456, 459, থাকো, {'sentence': '0'}, []),\n",
              "   Annotation(token, 461, 467, সর্বত্র, {'sentence': '0'}, []),\n",
              "   Annotation(token, 469, 471, সেই, {'sentence': '0'}, []),\n",
              "   Annotation(token, 473, 479, স্বর্গ, {'sentence': '0'}, []),\n",
              "   Annotation(token, 481, 485, ওঠা, {'sentence': '0'}, []),\n",
              "   Annotation(token, 487, 489, যাওয়া, {'sentence': '0'}, []),\n",
              "   Annotation(token, 491, 494, আমি, {'sentence': '0'}, []),\n",
              "   Annotation(token, 496, 499, দেশ।, {'sentence': '0'}, [])]}]"
            ]
          },
          "metadata": {},
          "execution_count": 12
        }
      ]
    },
    {
      "cell_type": "code",
      "source": [
        "type(result2)"
      ],
      "metadata": {
        "colab": {
          "base_uri": "https://localhost:8080/"
        },
        "id": "7DDp1-XQLflW",
        "outputId": "8bfb10d0-47c6-410d-a4b3-14d74ee89798"
      },
      "execution_count": 13,
      "outputs": [
        {
          "output_type": "execute_result",
          "data": {
            "text/plain": [
              "list"
            ]
          },
          "metadata": {},
          "execution_count": 13
        }
      ]
    },
    {
      "cell_type": "code",
      "source": [
        "len(result2)"
      ],
      "metadata": {
        "colab": {
          "base_uri": "https://localhost:8080/"
        },
        "id": "FR01p80GQ_Ta",
        "outputId": "c29d3ccf-f2ba-4875-b836-9f21f02feefc"
      },
      "execution_count": 14,
      "outputs": [
        {
          "output_type": "execute_result",
          "data": {
            "text/plain": [
              "1"
            ]
          },
          "metadata": {},
          "execution_count": 14
        }
      ]
    },
    {
      "cell_type": "code",
      "source": [
        "word_tokens1 = [a.result for a in result1[0]['token']]\n",
        "print(word_tokens1)"
      ],
      "metadata": {
        "colab": {
          "base_uri": "https://localhost:8080/"
        },
        "id": "dk_HfRHgRuMy",
        "outputId": "942325cf-ef63-4758-e0d1-a5bf24672422"
      },
      "execution_count": 15,
      "outputs": [
        {
          "output_type": "stream",
          "name": "stdout",
          "text": [
            "['জীবের', 'মধ্যে', 'সবচেয়ে', 'সম্পূর্ণতা', 'মানুষের।', 'কিন্তু', 'সবচেয়ে', 'অসম্পূর্ণ', 'হয়ে', 'সে', 'জন্মগ্রহণ', 'করে।', 'বাঘ', 'ভালুক', 'তার', 'জীবনযাত্রার', 'পনেরো', '-', 'আনা', 'মূলধন', 'নিয়ে', 'আসে', 'প্রকৃতির', 'মালখানা', 'থেকে।', 'জীবরঙ্গভূমিতে', 'মানুষ', 'এসে', 'দেখা', 'দেয়', 'দুই', 'শূন্য', 'হাতে', 'মুঠো', 'বেঁধে।', 'মানুষ', 'আসবার', 'পূর্বেই', 'জীবসৃষ্টিযজ্ঞে', 'প্রকৃতির', 'ভূরিব্যয়ের', 'পালা', 'শেষ', 'হয়ে', 'এসেছে।', 'বিপুল', 'মাংস', ',', 'কঠিন', 'বর্ম', ',', 'প্রকাণ্ড', 'লেজ', 'নিয়ে', 'জলে', 'স্থলে', 'পৃথুল', 'দেহের', 'যে', 'অমিতাচার', 'প্রবল', 'হয়ে', 'উঠেছিল', 'তাতে', 'ধরিত্রীকে', 'দিলে', 'ক্লান্ত', 'করে।', 'প্রমাণ', 'হল', 'আতিশয্যের', 'পরাভব', 'অনিবার্য।', 'পরীক্ষায়', 'এটাও', 'স্থির', 'হয়ে', 'গেল', 'যে', ',', 'প্রশ্রয়ের', 'পরিমাণ', 'যত', 'বেশি', 'হয়', 'দুর্বলতার', 'বোঝাও', 'তত', 'দুর্বহ', 'হয়ে', 'ওঠে।', 'নূতন', 'পর্বে', 'প্রকৃতি', 'যথাসম্ভব', 'মানুষের', 'বরাদ্দ', 'কম', 'করে', 'দিয়ে', 'নিজে', 'রইল', 'নেপথ্যে।', 'মানুষকে', 'দেখতে', 'হল', 'খুব', 'ছোটো', ',', 'কিন্তু', 'সেটা', 'একটা', 'কৌশল', 'মাত্র।', 'এবারকার', 'জীবযাত্রার', 'পালায়', 'বিপুলতাকে', 'করা', 'হল', 'বহুলতায়', 'পরিণত।', 'মহাকায়', 'জন্তু', 'ছিল', 'প্রকাণ্ড', 'একলা', ',', 'মানুষ', 'হল', 'দূরপ্রসারিত', 'অনেক।']\n"
          ]
        }
      ]
    },
    {
      "cell_type": "markdown",
      "source": [
        "Tokenize using Spark NLP"
      ],
      "metadata": {
        "id": "kvyLtWleAMyj"
      }
    },
    {
      "cell_type": "code",
      "source": [
        "data1 = spark.createDataFrame([[text1]]).toDF(\"text\")\n",
        "documentAssembler1 = DocumentAssembler().setInputCol(\"text\").setOutputCol(\"document\")\n",
        "tokenizer = Tokenizer().setInputCols([\"document\"]).setOutputCol(\"token\").fit(data1)\n",
        "pipeline = Pipeline().setStages([documentAssembler, tokenizer]).fit(data1)\n",
        "result = pipeline.transform(data1)\n",
        "result.selectExpr(\"token.result\").show(truncate=False)"
      ],
      "metadata": {
        "colab": {
          "base_uri": "https://localhost:8080/"
        },
        "id": "Nil77td6A_Jx",
        "outputId": "c5196c87-c66f-45d8-cf19-449be3a15715"
      },
      "execution_count": 16,
      "outputs": [
        {
          "output_type": "stream",
          "name": "stdout",
          "text": [
            "+----------------------------------------------------------------------------------------------------------------------------------------------------------------------------------------------------------------------------------------------------------------------------------------------------------------------------------------------------------------------------------------------------------------------------------------------------------------------------------------------------------------------------------------------------------------------------------------------------------------------------------------------------------------------------------------------------------------------------------------------------------------------------------------------------------------------------------------------------------------------------------------------------------------------------------------------------------------------------------------+\n",
            "|result                                                                                                                                                                                                                                                                                                                                                                                                                                                                                                                                                                                                                                                                                                                                                                                                                                                                                                                                                                                  |\n",
            "+----------------------------------------------------------------------------------------------------------------------------------------------------------------------------------------------------------------------------------------------------------------------------------------------------------------------------------------------------------------------------------------------------------------------------------------------------------------------------------------------------------------------------------------------------------------------------------------------------------------------------------------------------------------------------------------------------------------------------------------------------------------------------------------------------------------------------------------------------------------------------------------------------------------------------------------------------------------------------------------+\n",
            "|[জীবের, মধ্যে, সবচেয়ে, সম্পূর্ণতা, মানুষের।, কিন্তু, সবচেয়ে, অসম্পূর্ণ, হয়ে, সে, জন্মগ্রহণ, করে।, বাঘ, ভালুক, তার, জীবনযাত্রার, পনেরো, -, আনা, মূলধন, নিয়ে, আসে, প্রকৃতির, মালখানা, থেকে।, জীবরঙ্গভূমিতে, মানুষ, এসে, দেখা, দেয়, দুই, শূন্য, হাতে, মুঠো, বেঁধে।, মানুষ, আসবার, পূর্বেই, জীবসৃষ্টিযজ্ঞে, প্রকৃতির, ভূরিব্যয়ের, পালা, শেষ, হয়ে, এসেছে।, বিপুল, মাংস, ,, কঠিন, বর্ম, ,, প্রকাণ্ড, লেজ, নিয়ে, জলে, স্থলে, পৃথুল, দেহের, যে, অমিতাচার, প্রবল, হয়ে, উঠেছিল, তাতে, ধরিত্রীকে, দিলে, ক্লান্ত, করে।, প্রমাণ, হল, আতিশয্যের, পরাভব, অনিবার্য।, পরীক্ষায়, এটাও, স্থির, হয়ে, গেল, যে, ,, প্রশ্রয়ের, পরিমাণ, যত, বেশি, হয়, দুর্বলতার, বোঝাও, তত, দুর্বহ, হয়ে, ওঠে।, নূতন, পর্বে, প্রকৃতি, যথাসম্ভব, মানুষের, বরাদ্দ, কম, করে, দিয়ে, নিজে, রইল, নেপথ্যে।, মানুষকে, দেখতে, হল, খুব, ছোটো, ,, কিন্তু, সেটা, একটা, কৌশল, মাত্র।, এবারকার, জীবযাত্রার, পালায়, বিপুলতাকে, করা, হল, বহুলতায়, পরিণত।, মহাকায়, জন্তু, ছিল, প্রকাণ্ড, একলা, ,, মানুষ, হল, দূরপ্রসারিত, অনেক।]|\n",
            "+----------------------------------------------------------------------------------------------------------------------------------------------------------------------------------------------------------------------------------------------------------------------------------------------------------------------------------------------------------------------------------------------------------------------------------------------------------------------------------------------------------------------------------------------------------------------------------------------------------------------------------------------------------------------------------------------------------------------------------------------------------------------------------------------------------------------------------------------------------------------------------------------------------------------------------------------------------------------------------------+\n",
            "\n"
          ]
        }
      ]
    },
    {
      "cell_type": "code",
      "source": [
        "type(result)"
      ],
      "metadata": {
        "colab": {
          "base_uri": "https://localhost:8080/",
          "height": 186
        },
        "id": "XAX7gyVzB1Wj",
        "outputId": "67f7b291-c4a8-4cad-8757-d785bf2e1e9a"
      },
      "execution_count": 17,
      "outputs": [
        {
          "output_type": "execute_result",
          "data": {
            "text/plain": [
              "pyspark.sql.dataframe.DataFrame"
            ],
            "text/html": [
              "<div style=\"max-width:800px; border: 1px solid var(--colab-border-color);\"><style>\n",
              "      pre.function-repr-contents {\n",
              "        overflow-x: auto;\n",
              "        padding: 8px 12px;\n",
              "        max-height: 500px;\n",
              "      }\n",
              "\n",
              "      pre.function-repr-contents.function-repr-contents-collapsed {\n",
              "        cursor: pointer;\n",
              "        max-height: 100px;\n",
              "      }\n",
              "    </style>\n",
              "    <pre style=\"white-space: initial; background:\n",
              "         var(--colab-secondary-surface-color); padding: 8px 12px;\n",
              "         border-bottom: 1px solid var(--colab-border-color);\"><b>pyspark.sql.dataframe.DataFrame</b><br/>def __init__(jdf: JavaObject, sql_ctx: Union[&#x27;SQLContext&#x27;, &#x27;SparkSession&#x27;])</pre><pre class=\"function-repr-contents function-repr-contents-collapsed\" style=\"\"><a class=\"filepath\" style=\"display:none\" href=\"#\">/usr/local/lib/python3.10/dist-packages/pyspark/sql/dataframe.py</a>A distributed collection of data grouped into named columns.\n",
              "\n",
              "A :class:`DataFrame` is equivalent to a relational table in Spark SQL,\n",
              "and can be created using various functions in :class:`SparkSession`::\n",
              "\n",
              "    people = spark.read.parquet(&quot;...&quot;)\n",
              "\n",
              "Once created, it can be manipulated using the various domain-specific-language\n",
              "(DSL) functions defined in: :class:`DataFrame`, :class:`Column`.\n",
              "\n",
              "To select a column from the :class:`DataFrame`, use the apply method::\n",
              "\n",
              "    ageCol = people.age\n",
              "\n",
              "A more concrete example::\n",
              "\n",
              "    # To create DataFrame using SparkSession\n",
              "    people = spark.read.parquet(&quot;...&quot;)\n",
              "    department = spark.read.parquet(&quot;...&quot;)\n",
              "\n",
              "    people.filter(people.age &gt; 30).join(department, people.deptId == department.id) \\\n",
              "      .groupBy(department.name, &quot;gender&quot;).agg({&quot;salary&quot;: &quot;avg&quot;, &quot;age&quot;: &quot;max&quot;})\n",
              "\n",
              ".. versionadded:: 1.3.0\n",
              "\n",
              ".. note: A DataFrame should only be created as described above. It should not be directly\n",
              "    created via using the constructor.</pre>\n",
              "      <script>\n",
              "      if (google.colab.kernel.accessAllowed && google.colab.files && google.colab.files.view) {\n",
              "        for (const element of document.querySelectorAll('.filepath')) {\n",
              "          element.style.display = 'block'\n",
              "          element.onclick = (event) => {\n",
              "            event.preventDefault();\n",
              "            event.stopPropagation();\n",
              "            google.colab.files.view(element.textContent, 82);\n",
              "          };\n",
              "        }\n",
              "      }\n",
              "      for (const element of document.querySelectorAll('.function-repr-contents')) {\n",
              "        element.onclick = (event) => {\n",
              "          event.preventDefault();\n",
              "          event.stopPropagation();\n",
              "          element.classList.toggle('function-repr-contents-collapsed');\n",
              "        };\n",
              "      }\n",
              "      </script>\n",
              "      </div>"
            ]
          },
          "metadata": {},
          "execution_count": 17
        }
      ]
    },
    {
      "cell_type": "code",
      "source": [
        "result.select(\"token.result\") # Trying to get it as an list"
      ],
      "metadata": {
        "colab": {
          "base_uri": "https://localhost:8080/"
        },
        "id": "RpRtZ045CSOv",
        "outputId": "ac6ab0aa-7d23-4347-8b3a-f26b314e0ba5"
      },
      "execution_count": 18,
      "outputs": [
        {
          "output_type": "execute_result",
          "data": {
            "text/plain": [
              "DataFrame[result: array<string>]"
            ]
          },
          "metadata": {},
          "execution_count": 18
        }
      ]
    },
    {
      "cell_type": "markdown",
      "source": [
        "# Another Approach"
      ],
      "metadata": {
        "id": "bibPVu9TFFR5"
      }
    },
    {
      "cell_type": "code",
      "source": [
        "!pip install bnlp_toolkit"
      ],
      "metadata": {
        "colab": {
          "base_uri": "https://localhost:8080/"
        },
        "id": "17d29twxFHt9",
        "outputId": "2bdb4bd1-fcee-44e6-c79e-4ee623944583"
      },
      "execution_count": 19,
      "outputs": [
        {
          "output_type": "stream",
          "name": "stdout",
          "text": [
            "Requirement already satisfied: bnlp_toolkit in /usr/local/lib/python3.10/dist-packages (4.0.1)\n",
            "Requirement already satisfied: sentencepiece==0.2.0 in /usr/local/lib/python3.10/dist-packages (from bnlp_toolkit) (0.2.0)\n",
            "Requirement already satisfied: gensim==4.3.2 in /usr/local/lib/python3.10/dist-packages (from bnlp_toolkit) (4.3.2)\n",
            "Requirement already satisfied: nltk==3.8.1 in /usr/local/lib/python3.10/dist-packages (from bnlp_toolkit) (3.8.1)\n",
            "Requirement already satisfied: numpy in /usr/local/lib/python3.10/dist-packages (from bnlp_toolkit) (1.25.2)\n",
            "Requirement already satisfied: scipy==1.10.1 in /usr/local/lib/python3.10/dist-packages (from bnlp_toolkit) (1.10.1)\n",
            "Requirement already satisfied: sklearn-crfsuite==0.3.6 in /usr/local/lib/python3.10/dist-packages (from bnlp_toolkit) (0.3.6)\n",
            "Requirement already satisfied: tqdm==4.66.3 in /usr/local/lib/python3.10/dist-packages (from bnlp_toolkit) (4.66.3)\n",
            "Requirement already satisfied: ftfy==6.2.0 in /usr/local/lib/python3.10/dist-packages (from bnlp_toolkit) (6.2.0)\n",
            "Requirement already satisfied: emoji==1.7.0 in /usr/local/lib/python3.10/dist-packages (from bnlp_toolkit) (1.7.0)\n",
            "Requirement already satisfied: requests in /usr/local/lib/python3.10/dist-packages (from bnlp_toolkit) (2.31.0)\n",
            "Requirement already satisfied: wcwidth<0.3.0,>=0.2.12 in /usr/local/lib/python3.10/dist-packages (from ftfy==6.2.0->bnlp_toolkit) (0.2.13)\n",
            "Requirement already satisfied: smart-open>=1.8.1 in /usr/local/lib/python3.10/dist-packages (from gensim==4.3.2->bnlp_toolkit) (6.4.0)\n",
            "Requirement already satisfied: click in /usr/local/lib/python3.10/dist-packages (from nltk==3.8.1->bnlp_toolkit) (8.1.7)\n",
            "Requirement already satisfied: joblib in /usr/local/lib/python3.10/dist-packages (from nltk==3.8.1->bnlp_toolkit) (1.4.2)\n",
            "Requirement already satisfied: regex>=2021.8.3 in /usr/local/lib/python3.10/dist-packages (from nltk==3.8.1->bnlp_toolkit) (2023.12.25)\n",
            "Requirement already satisfied: python-crfsuite>=0.8.3 in /usr/local/lib/python3.10/dist-packages (from sklearn-crfsuite==0.3.6->bnlp_toolkit) (0.9.10)\n",
            "Requirement already satisfied: six in /usr/local/lib/python3.10/dist-packages (from sklearn-crfsuite==0.3.6->bnlp_toolkit) (1.16.0)\n",
            "Requirement already satisfied: tabulate in /usr/local/lib/python3.10/dist-packages (from sklearn-crfsuite==0.3.6->bnlp_toolkit) (0.9.0)\n",
            "Requirement already satisfied: charset-normalizer<4,>=2 in /usr/local/lib/python3.10/dist-packages (from requests->bnlp_toolkit) (3.3.2)\n",
            "Requirement already satisfied: idna<4,>=2.5 in /usr/local/lib/python3.10/dist-packages (from requests->bnlp_toolkit) (3.7)\n",
            "Requirement already satisfied: urllib3<3,>=1.21.1 in /usr/local/lib/python3.10/dist-packages (from requests->bnlp_toolkit) (2.0.7)\n",
            "Requirement already satisfied: certifi>=2017.4.17 in /usr/local/lib/python3.10/dist-packages (from requests->bnlp_toolkit) (2024.2.2)\n"
          ]
        }
      ]
    },
    {
      "cell_type": "code",
      "source": [
        "from bnlp import NLTKTokenizer\n",
        "bnltk = NLTKTokenizer()"
      ],
      "metadata": {
        "colab": {
          "base_uri": "https://localhost:8080/"
        },
        "id": "Tac7BqgJFZel",
        "outputId": "a37b2286-376e-4bb0-fd46-376f306479c7"
      },
      "execution_count": 20,
      "outputs": [
        {
          "output_type": "stream",
          "name": "stdout",
          "text": [
            "punkt not found. downloading...\n"
          ]
        },
        {
          "output_type": "stream",
          "name": "stderr",
          "text": [
            "[nltk_data] Downloading package punkt to /root/nltk_data...\n",
            "[nltk_data]   Unzipping tokenizers/punkt.zip.\n"
          ]
        }
      ]
    },
    {
      "cell_type": "code",
      "source": [
        "bnlp_word_tokens1 = bnltk.word_tokenize(text1)\n",
        "bnlp_word_tokens2 = bnltk.word_tokenize(text2)"
      ],
      "metadata": {
        "id": "ttpho0wQGcV0"
      },
      "execution_count": 21,
      "outputs": []
    },
    {
      "cell_type": "code",
      "source": [
        "bnlp_word_tokens1"
      ],
      "metadata": {
        "colab": {
          "base_uri": "https://localhost:8080/"
        },
        "id": "EmtLWr9NGoup",
        "outputId": "50c84c1f-c5ce-42aa-b3b1-0a865bab87e1"
      },
      "execution_count": 22,
      "outputs": [
        {
          "output_type": "execute_result",
          "data": {
            "text/plain": [
              "['জীবের',\n",
              " 'মধ্যে',\n",
              " 'সবচেয়ে',\n",
              " 'সম্পূর্ণতা',\n",
              " 'মানুষের',\n",
              " '।',\n",
              " 'কিন্তু',\n",
              " 'সবচেয়ে',\n",
              " 'অসম্পূর্ণ',\n",
              " 'হয়ে',\n",
              " 'সে',\n",
              " 'জন্মগ্রহণ',\n",
              " 'করে',\n",
              " '।',\n",
              " 'বাঘ',\n",
              " 'ভালুক',\n",
              " 'তার',\n",
              " 'জীবনযাত্রার',\n",
              " 'পনেরো-',\n",
              " 'আনা',\n",
              " 'মূলধন',\n",
              " 'নিয়ে',\n",
              " 'আসে',\n",
              " 'প্রকৃতির',\n",
              " 'মালখানা',\n",
              " 'থেকে',\n",
              " '।',\n",
              " 'জীবরঙ্গভূমিতে',\n",
              " 'মানুষ',\n",
              " 'এসে',\n",
              " 'দেখা',\n",
              " 'দেয়',\n",
              " 'দুই',\n",
              " 'শূন্য',\n",
              " 'হাতে',\n",
              " 'মুঠো',\n",
              " 'বেঁধে',\n",
              " '।',\n",
              " 'মানুষ',\n",
              " 'আসবার',\n",
              " 'পূর্বেই',\n",
              " 'জীবসৃষ্টিযজ্ঞে',\n",
              " 'প্রকৃতির',\n",
              " 'ভূরিব্যয়ের',\n",
              " 'পালা',\n",
              " 'শেষ',\n",
              " 'হয়ে',\n",
              " 'এসেছে',\n",
              " '।',\n",
              " 'বিপুল',\n",
              " 'মাংস',\n",
              " ',',\n",
              " 'কঠিন',\n",
              " 'বর্ম',\n",
              " ',',\n",
              " 'প্রকাণ্ড',\n",
              " 'লেজ',\n",
              " 'নিয়ে',\n",
              " 'জলে',\n",
              " 'স্থলে',\n",
              " 'পৃথুল',\n",
              " 'দেহের',\n",
              " 'যে',\n",
              " 'অমিতাচার',\n",
              " 'প্রবল',\n",
              " 'হয়ে',\n",
              " 'উঠেছিল',\n",
              " 'তাতে',\n",
              " 'ধরিত্রীকে',\n",
              " 'দিলে',\n",
              " 'ক্লান্ত',\n",
              " 'করে',\n",
              " '।',\n",
              " 'প্রমাণ',\n",
              " 'হল',\n",
              " 'আতিশয্যের',\n",
              " 'পরাভব',\n",
              " 'অনিবার্য',\n",
              " '।',\n",
              " 'পরীক্ষায়',\n",
              " 'এটাও',\n",
              " 'স্থির',\n",
              " 'হয়ে',\n",
              " 'গেল',\n",
              " 'যে',\n",
              " ',',\n",
              " 'প্রশ্রয়ের',\n",
              " 'পরিমাণ',\n",
              " 'যত',\n",
              " 'বেশি',\n",
              " 'হয়',\n",
              " 'দুর্বলতার',\n",
              " 'বোঝাও',\n",
              " 'তত',\n",
              " 'দুর্বহ',\n",
              " 'হয়ে',\n",
              " 'ওঠে',\n",
              " '।',\n",
              " 'নূতন',\n",
              " 'পর্বে',\n",
              " 'প্রকৃতি',\n",
              " 'যথাসম্ভব',\n",
              " 'মানুষের',\n",
              " 'বরাদ্দ',\n",
              " 'কম',\n",
              " 'করে',\n",
              " 'দিয়ে',\n",
              " 'নিজে',\n",
              " 'রইল',\n",
              " 'নেপথ্যে',\n",
              " '।',\n",
              " 'মানুষকে',\n",
              " 'দেখতে',\n",
              " 'হল',\n",
              " 'খুব',\n",
              " 'ছোটো',\n",
              " ',',\n",
              " 'কিন্তু',\n",
              " 'সেটা',\n",
              " 'একটা',\n",
              " 'কৌশল',\n",
              " 'মাত্র',\n",
              " '।',\n",
              " 'এবারকার',\n",
              " 'জীবযাত্রার',\n",
              " 'পালায়',\n",
              " 'বিপুলতাকে',\n",
              " 'করা',\n",
              " 'হল',\n",
              " 'বহুলতায়',\n",
              " 'পরিণত',\n",
              " '।',\n",
              " 'মহাকায়',\n",
              " 'জন্তু',\n",
              " 'ছিল',\n",
              " 'প্রকাণ্ড',\n",
              " 'একলা',\n",
              " ',',\n",
              " 'মানুষ',\n",
              " 'হল',\n",
              " 'দূরপ্রসারিত',\n",
              " 'অনেক',\n",
              " '।']"
            ]
          },
          "metadata": {},
          "execution_count": 22
        }
      ]
    },
    {
      "cell_type": "code",
      "source": [
        "bnlp_word_tokens2"
      ],
      "metadata": {
        "colab": {
          "base_uri": "https://localhost:8080/"
        },
        "id": "Ir1MgEp6GuLu",
        "outputId": "b74faec0-8deb-4c68-bfd7-2985b998cafc"
      },
      "execution_count": 23,
      "outputs": [
        {
          "output_type": "execute_result",
          "data": {
            "text/plain": [
              "['চিত্ত',\n",
              " 'যেথা',\n",
              " 'ভয়শূন্য',\n",
              " ',',\n",
              " 'উচ্চ',\n",
              " 'যেথা',\n",
              " 'শির',\n",
              " ',',\n",
              " 'জ্ঞান',\n",
              " 'যেথা',\n",
              " 'মুক্ত',\n",
              " ',',\n",
              " 'যেথা',\n",
              " 'গৃহের',\n",
              " 'প্রাচীর',\n",
              " 'আপন',\n",
              " 'প্রাঙ্গণতলে',\n",
              " 'দিবসশর্বরী',\n",
              " 'বসুধারে',\n",
              " 'রাখে',\n",
              " 'নাই',\n",
              " 'খণ্ড',\n",
              " 'ক্ষুদ্র',\n",
              " 'করি',\n",
              " ',',\n",
              " 'যেথা',\n",
              " 'বাক্য',\n",
              " 'হৃদয়ের',\n",
              " 'উৎসমুখ',\n",
              " 'হতে',\n",
              " 'উচ্ছ্বসিয়া',\n",
              " 'উঠে',\n",
              " ',',\n",
              " 'যেথা',\n",
              " 'নির্বারিত',\n",
              " 'স্রোতে',\n",
              " 'দেশের',\n",
              " 'হ্রদয়',\n",
              " 'বুদ্ধির',\n",
              " 'সূত্রে',\n",
              " 'শত',\n",
              " 'শাখা',\n",
              " 'শত',\n",
              " 'স্রোতে',\n",
              " 'সেঁচিয়া',\n",
              " 'উঠে',\n",
              " ',',\n",
              " 'যেথা',\n",
              " 'কর্মযজ্ঞে',\n",
              " 'বসন্তের',\n",
              " 'হাওয়ায়',\n",
              " 'অনুপ্রাণিত',\n",
              " 'হয়ে',\n",
              " 'অজানা',\n",
              " 'পথে',\n",
              " 'চলবারে',\n",
              " 'জনে',\n",
              " ',',\n",
              " 'যেথা',\n",
              " 'চিন্তা',\n",
              " 'তোমার',\n",
              " 'আচারপন্থাকে',\n",
              " 'বুদ্ধির',\n",
              " 'তীক্ষ্ণ',\n",
              " 'তলওয়ারে',\n",
              " 'প্রতি',\n",
              " 'দিন',\n",
              " 'আঘাত',\n",
              " 'করে',\n",
              " ',',\n",
              " 'যেথা',\n",
              " 'তুমি',\n",
              " 'বিশ্ববিধাতা',\n",
              " 'প্রবুদ্ধ',\n",
              " 'উদার',\n",
              " 'সৃষ্টি',\n",
              " 'করে',\n",
              " 'থাকো',\n",
              " 'সর্বত্র',\n",
              " 'সেই',\n",
              " 'স্বর্গে',\n",
              " 'উঠিতে',\n",
              " 'যাক',\n",
              " 'আমার',\n",
              " 'দেশ',\n",
              " '।']"
            ]
          },
          "metadata": {},
          "execution_count": 23
        }
      ]
    },
    {
      "cell_type": "code",
      "source": [
        "bnlp_word_tokens1 = [word for word in bnlp_word_tokens1 if (word != \",\" and word != \"।\")]\n",
        "bnlp_word_tokens2 = [word for word in bnlp_word_tokens2 if (word != \",\" and word != \"।\")]"
      ],
      "metadata": {
        "id": "rCDi-G6TGxsL"
      },
      "execution_count": 24,
      "outputs": []
    },
    {
      "cell_type": "code",
      "source": [
        "bnlp_word_tokens1"
      ],
      "metadata": {
        "id": "DlY0bkOcHQap",
        "colab": {
          "base_uri": "https://localhost:8080/"
        },
        "outputId": "826f065e-db60-4044-e526-cf7c6ff4e911"
      },
      "execution_count": 26,
      "outputs": [
        {
          "output_type": "execute_result",
          "data": {
            "text/plain": [
              "['জীবের',\n",
              " 'মধ্যে',\n",
              " 'সবচেয়ে',\n",
              " 'সম্পূর্ণতা',\n",
              " 'মানুষের',\n",
              " 'কিন্তু',\n",
              " 'সবচেয়ে',\n",
              " 'অসম্পূর্ণ',\n",
              " 'হয়ে',\n",
              " 'সে',\n",
              " 'জন্মগ্রহণ',\n",
              " 'করে',\n",
              " 'বাঘ',\n",
              " 'ভালুক',\n",
              " 'তার',\n",
              " 'জীবনযাত্রার',\n",
              " 'পনেরো-',\n",
              " 'আনা',\n",
              " 'মূলধন',\n",
              " 'নিয়ে',\n",
              " 'আসে',\n",
              " 'প্রকৃতির',\n",
              " 'মালখানা',\n",
              " 'থেকে',\n",
              " 'জীবরঙ্গভূমিতে',\n",
              " 'মানুষ',\n",
              " 'এসে',\n",
              " 'দেখা',\n",
              " 'দেয়',\n",
              " 'দুই',\n",
              " 'শূন্য',\n",
              " 'হাতে',\n",
              " 'মুঠো',\n",
              " 'বেঁধে',\n",
              " 'মানুষ',\n",
              " 'আসবার',\n",
              " 'পূর্বেই',\n",
              " 'জীবসৃষ্টিযজ্ঞে',\n",
              " 'প্রকৃতির',\n",
              " 'ভূরিব্যয়ের',\n",
              " 'পালা',\n",
              " 'শেষ',\n",
              " 'হয়ে',\n",
              " 'এসেছে',\n",
              " 'বিপুল',\n",
              " 'মাংস',\n",
              " 'কঠিন',\n",
              " 'বর্ম',\n",
              " 'প্রকাণ্ড',\n",
              " 'লেজ',\n",
              " 'নিয়ে',\n",
              " 'জলে',\n",
              " 'স্থলে',\n",
              " 'পৃথুল',\n",
              " 'দেহের',\n",
              " 'যে',\n",
              " 'অমিতাচার',\n",
              " 'প্রবল',\n",
              " 'হয়ে',\n",
              " 'উঠেছিল',\n",
              " 'তাতে',\n",
              " 'ধরিত্রীকে',\n",
              " 'দিলে',\n",
              " 'ক্লান্ত',\n",
              " 'করে',\n",
              " 'প্রমাণ',\n",
              " 'হল',\n",
              " 'আতিশয্যের',\n",
              " 'পরাভব',\n",
              " 'অনিবার্য',\n",
              " 'পরীক্ষায়',\n",
              " 'এটাও',\n",
              " 'স্থির',\n",
              " 'হয়ে',\n",
              " 'গেল',\n",
              " 'যে',\n",
              " 'প্রশ্রয়ের',\n",
              " 'পরিমাণ',\n",
              " 'যত',\n",
              " 'বেশি',\n",
              " 'হয়',\n",
              " 'দুর্বলতার',\n",
              " 'বোঝাও',\n",
              " 'তত',\n",
              " 'দুর্বহ',\n",
              " 'হয়ে',\n",
              " 'ওঠে',\n",
              " 'নূতন',\n",
              " 'পর্বে',\n",
              " 'প্রকৃতি',\n",
              " 'যথাসম্ভব',\n",
              " 'মানুষের',\n",
              " 'বরাদ্দ',\n",
              " 'কম',\n",
              " 'করে',\n",
              " 'দিয়ে',\n",
              " 'নিজে',\n",
              " 'রইল',\n",
              " 'নেপথ্যে',\n",
              " 'মানুষকে',\n",
              " 'দেখতে',\n",
              " 'হল',\n",
              " 'খুব',\n",
              " 'ছোটো',\n",
              " 'কিন্তু',\n",
              " 'সেটা',\n",
              " 'একটা',\n",
              " 'কৌশল',\n",
              " 'মাত্র',\n",
              " 'এবারকার',\n",
              " 'জীবযাত্রার',\n",
              " 'পালায়',\n",
              " 'বিপুলতাকে',\n",
              " 'করা',\n",
              " 'হল',\n",
              " 'বহুলতায়',\n",
              " 'পরিণত',\n",
              " 'মহাকায়',\n",
              " 'জন্তু',\n",
              " 'ছিল',\n",
              " 'প্রকাণ্ড',\n",
              " 'একলা',\n",
              " 'মানুষ',\n",
              " 'হল',\n",
              " 'দূরপ্রসারিত',\n",
              " 'অনেক']"
            ]
          },
          "metadata": {},
          "execution_count": 26
        }
      ]
    },
    {
      "cell_type": "code",
      "source": [
        "bnlp_word_tokens2"
      ],
      "metadata": {
        "colab": {
          "base_uri": "https://localhost:8080/"
        },
        "id": "eA55MsqJHVOB",
        "outputId": "4a2358f5-33cd-4ad7-d2ac-5506c2cb743e"
      },
      "execution_count": 27,
      "outputs": [
        {
          "output_type": "execute_result",
          "data": {
            "text/plain": [
              "['চিত্ত',\n",
              " 'যেথা',\n",
              " 'ভয়শূন্য',\n",
              " 'উচ্চ',\n",
              " 'যেথা',\n",
              " 'শির',\n",
              " 'জ্ঞান',\n",
              " 'যেথা',\n",
              " 'মুক্ত',\n",
              " 'যেথা',\n",
              " 'গৃহের',\n",
              " 'প্রাচীর',\n",
              " 'আপন',\n",
              " 'প্রাঙ্গণতলে',\n",
              " 'দিবসশর্বরী',\n",
              " 'বসুধারে',\n",
              " 'রাখে',\n",
              " 'নাই',\n",
              " 'খণ্ড',\n",
              " 'ক্ষুদ্র',\n",
              " 'করি',\n",
              " 'যেথা',\n",
              " 'বাক্য',\n",
              " 'হৃদয়ের',\n",
              " 'উৎসমুখ',\n",
              " 'হতে',\n",
              " 'উচ্ছ্বসিয়া',\n",
              " 'উঠে',\n",
              " 'যেথা',\n",
              " 'নির্বারিত',\n",
              " 'স্রোতে',\n",
              " 'দেশের',\n",
              " 'হ্রদয়',\n",
              " 'বুদ্ধির',\n",
              " 'সূত্রে',\n",
              " 'শত',\n",
              " 'শাখা',\n",
              " 'শত',\n",
              " 'স্রোতে',\n",
              " 'সেঁচিয়া',\n",
              " 'উঠে',\n",
              " 'যেথা',\n",
              " 'কর্মযজ্ঞে',\n",
              " 'বসন্তের',\n",
              " 'হাওয়ায়',\n",
              " 'অনুপ্রাণিত',\n",
              " 'হয়ে',\n",
              " 'অজানা',\n",
              " 'পথে',\n",
              " 'চলবারে',\n",
              " 'জনে',\n",
              " 'যেথা',\n",
              " 'চিন্তা',\n",
              " 'তোমার',\n",
              " 'আচারপন্থাকে',\n",
              " 'বুদ্ধির',\n",
              " 'তীক্ষ্ণ',\n",
              " 'তলওয়ারে',\n",
              " 'প্রতি',\n",
              " 'দিন',\n",
              " 'আঘাত',\n",
              " 'করে',\n",
              " 'যেথা',\n",
              " 'তুমি',\n",
              " 'বিশ্ববিধাতা',\n",
              " 'প্রবুদ্ধ',\n",
              " 'উদার',\n",
              " 'সৃষ্টি',\n",
              " 'করে',\n",
              " 'থাকো',\n",
              " 'সর্বত্র',\n",
              " 'সেই',\n",
              " 'স্বর্গে',\n",
              " 'উঠিতে',\n",
              " 'যাক',\n",
              " 'আমার',\n",
              " 'দেশ']"
            ]
          },
          "metadata": {},
          "execution_count": 27
        }
      ]
    },
    {
      "cell_type": "code",
      "source": [
        "lemmatized_result1 = light_pipeline.annotate(bnlp_word_tokens1)\n",
        "lemmatized_result2 = light_pipeline.annotate(bnlp_word_tokens2)"
      ],
      "metadata": {
        "id": "MY_cjS4eH_4T"
      },
      "execution_count": 28,
      "outputs": []
    },
    {
      "cell_type": "code",
      "source": [
        "lemmatized_result1"
      ],
      "metadata": {
        "colab": {
          "base_uri": "https://localhost:8080/"
        },
        "id": "dSMmz2ohIlHL",
        "outputId": "2399b659-725c-452f-e82a-a318aa4202b2"
      },
      "execution_count": 29,
      "outputs": [
        {
          "output_type": "execute_result",
          "data": {
            "text/plain": [
              "[{'document': ['জীবের'], 'token': ['জীবের'], 'lemma': ['জীব']},\n",
              " {'document': ['মধ্যে'], 'token': ['মধ্যে'], 'lemma': ['মধ্যে']},\n",
              " {'document': ['সবচেয়ে'], 'token': ['সবচেয়ে'], 'lemma': ['সবচেয়ে']},\n",
              " {'document': ['সম্পূর্ণতা'],\n",
              "  'token': ['সম্পূর্ণতা'],\n",
              "  'lemma': ['সম্পূর্ণতা']},\n",
              " {'document': ['মানুষের'], 'token': ['মানুষের'], 'lemma': ['মানুষ']},\n",
              " {'document': ['কিন্তু'], 'token': ['কিন্তু'], 'lemma': ['কিন্তু']},\n",
              " {'document': ['সবচেয়ে'], 'token': ['সবচেয়ে'], 'lemma': ['সবচেয়ে']},\n",
              " {'document': ['অসম্পূর্ণ'], 'token': ['অসম্পূর্ণ'], 'lemma': ['অসম্পূর্ণ']},\n",
              " {'document': ['হয়ে'], 'token': ['হয়ে'], 'lemma': ['হয়ে']},\n",
              " {'document': ['সে'], 'token': ['সে'], 'lemma': ['সে']},\n",
              " {'document': ['জন্মগ্রহণ'], 'token': ['জন্মগ্রহণ'], 'lemma': ['জন্মগ্রহণ']},\n",
              " {'document': ['করে'], 'token': ['করে'], 'lemma': ['করা']},\n",
              " {'document': ['বাঘ'], 'token': ['বাঘ'], 'lemma': ['বাঘ']},\n",
              " {'document': ['ভালুক'], 'token': ['ভালুক'], 'lemma': ['ভালুক']},\n",
              " {'document': ['তার'], 'token': ['তার'], 'lemma': ['তিনি']},\n",
              " {'document': ['জীবনযাত্রার'],\n",
              "  'token': ['জীবনযাত্রার'],\n",
              "  'lemma': ['জীবনযাত্রা']},\n",
              " {'document': ['পনেরো-'], 'token': ['পনেরো', '-'], 'lemma': ['পনেরো', '-']},\n",
              " {'document': ['আনা'], 'token': ['আনা'], 'lemma': ['আনা']},\n",
              " {'document': ['মূলধন'], 'token': ['মূলধন'], 'lemma': ['মূলধন']},\n",
              " {'document': ['নিয়ে'], 'token': ['নিয়ে'], 'lemma': ['নিয়ে']},\n",
              " {'document': ['আসে'], 'token': ['আসে'], 'lemma': ['আসা']},\n",
              " {'document': ['প্রকৃতির'], 'token': ['প্রকৃতির'], 'lemma': ['প্রকৃত']},\n",
              " {'document': ['মালখানা'], 'token': ['মালখানা'], 'lemma': ['মালখানা']},\n",
              " {'document': ['থেকে'], 'token': ['থেকে'], 'lemma': ['থেকে']},\n",
              " {'document': ['জীবরঙ্গভূমিতে'],\n",
              "  'token': ['জীবরঙ্গভূমিতে'],\n",
              "  'lemma': ['জীবরঙ্গভূমিতে']},\n",
              " {'document': ['মানুষ'], 'token': ['মানুষ'], 'lemma': ['মানুষ']},\n",
              " {'document': ['এসে'], 'token': ['এসে'], 'lemma': ['আসা']},\n",
              " {'document': ['দেখা'], 'token': ['দেখা'], 'lemma': ['দেখা']},\n",
              " {'document': ['দেয়'], 'token': ['দেয়'], 'lemma': ['দেয়']},\n",
              " {'document': ['দুই'], 'token': ['দুই'], 'lemma': ['দুই']},\n",
              " {'document': ['শূন্য'], 'token': ['শূন্য'], 'lemma': ['শূন্য']},\n",
              " {'document': ['হাতে'], 'token': ['হাতে'], 'lemma': ['হাত']},\n",
              " {'document': ['মুঠো'], 'token': ['মুঠো'], 'lemma': ['মুঠো']},\n",
              " {'document': ['বেঁধে'], 'token': ['বেঁধে'], 'lemma': ['বাঁধা']},\n",
              " {'document': ['মানুষ'], 'token': ['মানুষ'], 'lemma': ['মানুষ']},\n",
              " {'document': ['আসবার'], 'token': ['আসবার'], 'lemma': ['আসবার']},\n",
              " {'document': ['পূর্বেই'], 'token': ['পূর্বেই'], 'lemma': ['পূর্ববল']},\n",
              " {'document': ['জীবসৃষ্টিযজ্ঞে'],\n",
              "  'token': ['জীবসৃষ্টিযজ্ঞে'],\n",
              "  'lemma': ['জীবসৃষ্টিযজ্ঞে']},\n",
              " {'document': ['প্রকৃতির'], 'token': ['প্রকৃতির'], 'lemma': ['প্রকৃত']},\n",
              " {'document': ['ভূরিব্যয়ের'],\n",
              "  'token': ['ভূরিব্যয়ের'],\n",
              "  'lemma': ['ভূরিব্যয়ের']},\n",
              " {'document': ['পালা'], 'token': ['পালা'], 'lemma': ['পালা']},\n",
              " {'document': ['শেষ'], 'token': ['শেষ'], 'lemma': ['শেষ']},\n",
              " {'document': ['হয়ে'], 'token': ['হয়ে'], 'lemma': ['হয়ে']},\n",
              " {'document': ['এসেছে'], 'token': ['এসেছে'], 'lemma': ['আসা']},\n",
              " {'document': ['বিপুল'], 'token': ['বিপুল'], 'lemma': ['বিপুল']},\n",
              " {'document': ['মাংস'], 'token': ['মাংস'], 'lemma': ['মাংস']},\n",
              " {'document': ['কঠিন'], 'token': ['কঠিন'], 'lemma': ['কঠিন']},\n",
              " {'document': ['বর্ম'], 'token': ['বর্ম'], 'lemma': ['বর্ম']},\n",
              " {'document': ['প্রকাণ্ড'], 'token': ['প্রকাণ্ড'], 'lemma': ['প্রকাণ্ড']},\n",
              " {'document': ['লেজ'], 'token': ['লেজ'], 'lemma': ['লেজ']},\n",
              " {'document': ['নিয়ে'], 'token': ['নিয়ে'], 'lemma': ['নিয়ে']},\n",
              " {'document': ['জলে'], 'token': ['জলে'], 'lemma': ['জল']},\n",
              " {'document': ['স্থলে'], 'token': ['স্থলে'], 'lemma': ['স্থলে']},\n",
              " {'document': ['পৃথুল'], 'token': ['পৃথুল'], 'lemma': ['পৃথুল']},\n",
              " {'document': ['দেহের'], 'token': ['দেহের'], 'lemma': ['দেহের']},\n",
              " {'document': ['যে'], 'token': ['যে'], 'lemma': ['যে']},\n",
              " {'document': ['অমিতাচার'], 'token': ['অমিতাচার'], 'lemma': ['অমিতাচার']},\n",
              " {'document': ['প্রবল'], 'token': ['প্রবল'], 'lemma': ['প্রবল']},\n",
              " {'document': ['হয়ে'], 'token': ['হয়ে'], 'lemma': ['হয়ে']},\n",
              " {'document': ['উঠেছিল'], 'token': ['উঠেছিল'], 'lemma': ['ওঠা']},\n",
              " {'document': ['তাতে'], 'token': ['তাতে'], 'lemma': ['তা']},\n",
              " {'document': ['ধরিত্রীকে'], 'token': ['ধরিত্রীকে'], 'lemma': ['ধরিত্রীকে']},\n",
              " {'document': ['দিলে'], 'token': ['দিলে'], 'lemma': ['দেওয়া']},\n",
              " {'document': ['ক্লান্ত'], 'token': ['ক্লান্ত'], 'lemma': ['ক্লান্ত']},\n",
              " {'document': ['করে'], 'token': ['করে'], 'lemma': ['করা']},\n",
              " {'document': ['প্রমাণ'], 'token': ['প্রমাণ'], 'lemma': ['প্রমাণ']},\n",
              " {'document': ['হল'], 'token': ['হল'], 'lemma': ['হল']},\n",
              " {'document': ['আতিশয্যের'], 'token': ['আতিশয্যের'], 'lemma': ['আতিশয্যের']},\n",
              " {'document': ['পরাভব'], 'token': ['পরাভব'], 'lemma': ['পরাভব']},\n",
              " {'document': ['অনিবার্য'], 'token': ['অনিবার্য'], 'lemma': ['অনিবার্য']},\n",
              " {'document': ['পরীক্ষায়'], 'token': ['পরীক্ষায়'], 'lemma': ['পরীক্ষায়']},\n",
              " {'document': ['এটাও'], 'token': ['এটাও'], 'lemma': ['এটাও']},\n",
              " {'document': ['স্থির'], 'token': ['স্থির'], 'lemma': ['স্থির']},\n",
              " {'document': ['হয়ে'], 'token': ['হয়ে'], 'lemma': ['হয়ে']},\n",
              " {'document': ['গেল'], 'token': ['গেল'], 'lemma': ['গেল']},\n",
              " {'document': ['যে'], 'token': ['যে'], 'lemma': ['যে']},\n",
              " {'document': ['প্রশ্রয়ের'],\n",
              "  'token': ['প্রশ্রয়ের'],\n",
              "  'lemma': ['প্রশ্রয়ের']},\n",
              " {'document': ['পরিমাণ'], 'token': ['পরিমাণ'], 'lemma': ['পরিমাণ']},\n",
              " {'document': ['যত'], 'token': ['যত'], 'lemma': ['যত']},\n",
              " {'document': ['বেশি'], 'token': ['বেশি'], 'lemma': ['বেশি']},\n",
              " {'document': ['হয়'], 'token': ['হয়'], 'lemma': ['হয়']},\n",
              " {'document': ['দুর্বলতার'], 'token': ['দুর্বলতার'], 'lemma': ['দুর্বলতার']},\n",
              " {'document': ['বোঝাও'], 'token': ['বোঝাও'], 'lemma': ['বোঝাও']},\n",
              " {'document': ['তত'], 'token': ['তত'], 'lemma': ['তত']},\n",
              " {'document': ['দুর্বহ'], 'token': ['দুর্বহ'], 'lemma': ['দুর্বহ']},\n",
              " {'document': ['হয়ে'], 'token': ['হয়ে'], 'lemma': ['হয়ে']},\n",
              " {'document': ['ওঠে'], 'token': ['ওঠে'], 'lemma': ['ওঠা']},\n",
              " {'document': ['নূতন'], 'token': ['নূতন'], 'lemma': ['নূতন']},\n",
              " {'document': ['পর্বে'], 'token': ['পর্বে'], 'lemma': ['পর্ব']},\n",
              " {'document': ['প্রকৃতি'], 'token': ['প্রকৃতি'], 'lemma': ['প্রকৃত']},\n",
              " {'document': ['যথাসম্ভব'], 'token': ['যথাসম্ভব'], 'lemma': ['যথাসম্ভব']},\n",
              " {'document': ['মানুষের'], 'token': ['মানুষের'], 'lemma': ['মানুষ']},\n",
              " {'document': ['বরাদ্দ'], 'token': ['বরাদ্দ'], 'lemma': ['বরাদ্দ']},\n",
              " {'document': ['কম'], 'token': ['কম'], 'lemma': ['কম']},\n",
              " {'document': ['করে'], 'token': ['করে'], 'lemma': ['করা']},\n",
              " {'document': ['দিয়ে'], 'token': ['দিয়ে'], 'lemma': ['দিয়ে']},\n",
              " {'document': ['নিজে'], 'token': ['নিজে'], 'lemma': ['নিজ']},\n",
              " {'document': ['রইল'], 'token': ['রইল'], 'lemma': ['রওয়া']},\n",
              " {'document': ['নেপথ্যে'], 'token': ['নেপথ্যে'], 'lemma': ['নেপথ্যে']},\n",
              " {'document': ['মানুষকে'], 'token': ['মানুষকে'], 'lemma': ['মানুষ']},\n",
              " {'document': ['দেখতে'], 'token': ['দেখতে'], 'lemma': ['দেখা']},\n",
              " {'document': ['হল'], 'token': ['হল'], 'lemma': ['হল']},\n",
              " {'document': ['খুব'], 'token': ['খুব'], 'lemma': ['খুব']},\n",
              " {'document': ['ছোটো'], 'token': ['ছোটো'], 'lemma': ['ছোটো']},\n",
              " {'document': ['কিন্তু'], 'token': ['কিন্তু'], 'lemma': ['কিন্তু']},\n",
              " {'document': ['সেটা'], 'token': ['সেটা'], 'lemma': ['সে']},\n",
              " {'document': ['একটা'], 'token': ['একটা'], 'lemma': ['এক']},\n",
              " {'document': ['কৌশল'], 'token': ['কৌশল'], 'lemma': ['কৌশল']},\n",
              " {'document': ['মাত্র'], 'token': ['মাত্র'], 'lemma': ['মাত্র']},\n",
              " {'document': ['এবারকার'], 'token': ['এবারকার'], 'lemma': ['এবারকার']},\n",
              " {'document': ['জীবযাত্রার'],\n",
              "  'token': ['জীবযাত্রার'],\n",
              "  'lemma': ['জীবযাত্রার']},\n",
              " {'document': ['পালায়'], 'token': ['পালায়'], 'lemma': ['পালায়']},\n",
              " {'document': ['বিপুলতাকে'], 'token': ['বিপুলতাকে'], 'lemma': ['বিপুলতাকে']},\n",
              " {'document': ['করা'], 'token': ['করা'], 'lemma': ['করা']},\n",
              " {'document': ['হল'], 'token': ['হল'], 'lemma': ['হল']},\n",
              " {'document': ['বহুলতায়'], 'token': ['বহুলতায়'], 'lemma': ['বহুলতায়']},\n",
              " {'document': ['পরিণত'], 'token': ['পরিণত'], 'lemma': ['পরিণত']},\n",
              " {'document': ['মহাকায়'], 'token': ['মহাকায়'], 'lemma': ['মহাকায়']},\n",
              " {'document': ['জন্তু'], 'token': ['জন্তু'], 'lemma': ['জন্তু']},\n",
              " {'document': ['ছিল'], 'token': ['ছিল'], 'lemma': ['থাকা']},\n",
              " {'document': ['প্রকাণ্ড'], 'token': ['প্রকাণ্ড'], 'lemma': ['প্রকাণ্ড']},\n",
              " {'document': ['একলা'], 'token': ['একলা'], 'lemma': ['এক']},\n",
              " {'document': ['মানুষ'], 'token': ['মানুষ'], 'lemma': ['মানুষ']},\n",
              " {'document': ['হল'], 'token': ['হল'], 'lemma': ['হল']},\n",
              " {'document': ['দূরপ্রসারিত'],\n",
              "  'token': ['দূরপ্রসারিত'],\n",
              "  'lemma': ['দূরপ্রসারিত']},\n",
              " {'document': ['অনেক'], 'token': ['অনেক'], 'lemma': ['অনেক']}]"
            ]
          },
          "metadata": {},
          "execution_count": 29
        }
      ]
    },
    {
      "cell_type": "code",
      "source": [
        "lemmatized_result2"
      ],
      "metadata": {
        "colab": {
          "base_uri": "https://localhost:8080/"
        },
        "id": "cN78Mk4II2Fj",
        "outputId": "90191b32-bc98-4b44-988c-a3fdee9e84bd"
      },
      "execution_count": 30,
      "outputs": [
        {
          "output_type": "execute_result",
          "data": {
            "text/plain": [
              "[{'document': ['চিত্ত'], 'token': ['চিত্ত'], 'lemma': ['চিত্ত']},\n",
              " {'document': ['যেথা'], 'token': ['যেথা'], 'lemma': ['যেথা']},\n",
              " {'document': ['ভয়শূন্য'], 'token': ['ভয়শূন্য'], 'lemma': ['ভয়শূন্য']},\n",
              " {'document': ['উচ্চ'], 'token': ['উচ্চ'], 'lemma': ['উচ্চ']},\n",
              " {'document': ['যেথা'], 'token': ['যেথা'], 'lemma': ['যেথা']},\n",
              " {'document': ['শির'], 'token': ['শির'], 'lemma': ['শির']},\n",
              " {'document': ['জ্ঞান'], 'token': ['জ্ঞান'], 'lemma': ['জ্ঞান']},\n",
              " {'document': ['যেথা'], 'token': ['যেথা'], 'lemma': ['যেথা']},\n",
              " {'document': ['মুক্ত'], 'token': ['মুক্ত'], 'lemma': ['মুক্ত']},\n",
              " {'document': ['যেথা'], 'token': ['যেথা'], 'lemma': ['যেথা']},\n",
              " {'document': ['গৃহের'], 'token': ['গৃহের'], 'lemma': ['গৃহ']},\n",
              " {'document': ['প্রাচীর'], 'token': ['প্রাচীর'], 'lemma': ['প্রাচীর']},\n",
              " {'document': ['আপন'], 'token': ['আপন'], 'lemma': ['আপন']},\n",
              " {'document': ['প্রাঙ্গণতলে'],\n",
              "  'token': ['প্রাঙ্গণতলে'],\n",
              "  'lemma': ['প্রাঙ্গণতলে']},\n",
              " {'document': ['দিবসশর্বরী'],\n",
              "  'token': ['দিবসশর্বরী'],\n",
              "  'lemma': ['দিবসশর্বরী']},\n",
              " {'document': ['বসুধারে'], 'token': ['বসুধারে'], 'lemma': ['বসুধারে']},\n",
              " {'document': ['রাখে'], 'token': ['রাখে'], 'lemma': ['রাখা']},\n",
              " {'document': ['নাই'], 'token': ['নাই'], 'lemma': ['না']},\n",
              " {'document': ['খণ্ড'], 'token': ['খণ্ড'], 'lemma': ['খণ্ড']},\n",
              " {'document': ['ক্ষুদ্র'], 'token': ['ক্ষুদ্র'], 'lemma': ['ক্ষুদ্র']},\n",
              " {'document': ['করি'], 'token': ['করি'], 'lemma': ['করা']},\n",
              " {'document': ['যেথা'], 'token': ['যেথা'], 'lemma': ['যেথা']},\n",
              " {'document': ['বাক্য'], 'token': ['বাক্য'], 'lemma': ['বাক্য']},\n",
              " {'document': ['হৃদয়ের'], 'token': ['হৃদয়ের'], 'lemma': ['হৃদয়ের']},\n",
              " {'document': ['উৎসমুখ'], 'token': ['উৎসমুখ'], 'lemma': ['উৎসমুখ']},\n",
              " {'document': ['হতে'], 'token': ['হতে'], 'lemma': ['হতে']},\n",
              " {'document': ['উচ্ছ্বসিয়া'],\n",
              "  'token': ['উচ্ছ্বসিয়া'],\n",
              "  'lemma': ['উচ্ছ্বসিয়া']},\n",
              " {'document': ['উঠে'], 'token': ['উঠে'], 'lemma': ['ওঠা']},\n",
              " {'document': ['যেথা'], 'token': ['যেথা'], 'lemma': ['যেথা']},\n",
              " {'document': ['নির্বারিত'], 'token': ['নির্বারিত'], 'lemma': ['নির্বারিত']},\n",
              " {'document': ['স্রোতে'], 'token': ['স্রোতে'], 'lemma': ['স্রোত']},\n",
              " {'document': ['দেশের'], 'token': ['দেশের'], 'lemma': ['দেশ']},\n",
              " {'document': ['হ্রদয়'], 'token': ['হ্রদয়'], 'lemma': ['হ্রদয়']},\n",
              " {'document': ['বুদ্ধির'], 'token': ['বুদ্ধির'], 'lemma': ['বুদ্ধি']},\n",
              " {'document': ['সূত্রে'], 'token': ['সূত্রে'], 'lemma': ['সূত্র']},\n",
              " {'document': ['শত'], 'token': ['শত'], 'lemma': ['শত']},\n",
              " {'document': ['শাখা'], 'token': ['শাখা'], 'lemma': ['শাখা']},\n",
              " {'document': ['শত'], 'token': ['শত'], 'lemma': ['শত']},\n",
              " {'document': ['স্রোতে'], 'token': ['স্রোতে'], 'lemma': ['স্রোত']},\n",
              " {'document': ['সেঁচিয়া'], 'token': ['সেঁচিয়া'], 'lemma': ['সেঁচিয়া']},\n",
              " {'document': ['উঠে'], 'token': ['উঠে'], 'lemma': ['ওঠা']},\n",
              " {'document': ['যেথা'], 'token': ['যেথা'], 'lemma': ['যেথা']},\n",
              " {'document': ['কর্মযজ্ঞে'], 'token': ['কর্মযজ্ঞে'], 'lemma': ['কর্মযজ্ঞে']},\n",
              " {'document': ['বসন্তের'], 'token': ['বসন্তের'], 'lemma': ['বসন্ত']},\n",
              " {'document': ['হাওয়ায়'], 'token': ['হাওয়ায়'], 'lemma': ['হাওয়ায়']},\n",
              " {'document': ['অনুপ্রাণিত'],\n",
              "  'token': ['অনুপ্রাণিত'],\n",
              "  'lemma': ['অনুপ্রাণিত']},\n",
              " {'document': ['হয়ে'], 'token': ['হয়ে'], 'lemma': ['হয়ে']},\n",
              " {'document': ['অজানা'], 'token': ['অজানা'], 'lemma': ['অজানা']},\n",
              " {'document': ['পথে'], 'token': ['পথে'], 'lemma': ['পথ']},\n",
              " {'document': ['চলবারে'], 'token': ['চলবারে'], 'lemma': ['চলবারে']},\n",
              " {'document': ['জনে'], 'token': ['জনে'], 'lemma': ['জনে']},\n",
              " {'document': ['যেথা'], 'token': ['যেথা'], 'lemma': ['যেথা']},\n",
              " {'document': ['চিন্তা'], 'token': ['চিন্তা'], 'lemma': ['চিন্তা']},\n",
              " {'document': ['তোমার'], 'token': ['তোমার'], 'lemma': ['তুমি']},\n",
              " {'document': ['আচারপন্থাকে'],\n",
              "  'token': ['আচারপন্থাকে'],\n",
              "  'lemma': ['আচারপন্থাকে']},\n",
              " {'document': ['বুদ্ধির'], 'token': ['বুদ্ধির'], 'lemma': ['বুদ্ধি']},\n",
              " {'document': ['তীক্ষ্ণ'], 'token': ['তীক্ষ্ণ'], 'lemma': ['তীক্ষ্ণ']},\n",
              " {'document': ['তলওয়ারে'], 'token': ['তলওয়ারে'], 'lemma': ['তলওয়ারে']},\n",
              " {'document': ['প্রতি'], 'token': ['প্রতি'], 'lemma': ['প্রতি']},\n",
              " {'document': ['দিন'], 'token': ['দিন'], 'lemma': ['দেওয়া']},\n",
              " {'document': ['আঘাত'], 'token': ['আঘাত'], 'lemma': ['আঘাত']},\n",
              " {'document': ['করে'], 'token': ['করে'], 'lemma': ['করা']},\n",
              " {'document': ['যেথা'], 'token': ['যেথা'], 'lemma': ['যেথা']},\n",
              " {'document': ['তুমি'], 'token': ['তুমি'], 'lemma': ['তুমি']},\n",
              " {'document': ['বিশ্ববিধাতা'],\n",
              "  'token': ['বিশ্ববিধাতা'],\n",
              "  'lemma': ['বিশ্ববিধাতা']},\n",
              " {'document': ['প্রবুদ্ধ'], 'token': ['প্রবুদ্ধ'], 'lemma': ['প্রবুদ্ধ']},\n",
              " {'document': ['উদার'], 'token': ['উদার'], 'lemma': ['উদার']},\n",
              " {'document': ['সৃষ্টি'], 'token': ['সৃষ্টি'], 'lemma': ['সৃষ্টি']},\n",
              " {'document': ['করে'], 'token': ['করে'], 'lemma': ['করা']},\n",
              " {'document': ['থাকো'], 'token': ['থাকো'], 'lemma': ['থাকো']},\n",
              " {'document': ['সর্বত্র'], 'token': ['সর্বত্র'], 'lemma': ['সর্বত্র']},\n",
              " {'document': ['সেই'], 'token': ['সেই'], 'lemma': ['সেই']},\n",
              " {'document': ['স্বর্গে'], 'token': ['স্বর্গে'], 'lemma': ['স্বর্গ']},\n",
              " {'document': ['উঠিতে'], 'token': ['উঠিতে'], 'lemma': ['ওঠা']},\n",
              " {'document': ['যাক'], 'token': ['যাক'], 'lemma': ['যাওয়া']},\n",
              " {'document': ['আমার'], 'token': ['আমার'], 'lemma': ['আমি']},\n",
              " {'document': ['দেশ'], 'token': ['দেশ'], 'lemma': ['দেশ']}]"
            ]
          },
          "metadata": {},
          "execution_count": 30
        }
      ]
    },
    {
      "cell_type": "code",
      "source": [
        "for dict in lemmatized_result1:\n",
        "  print(dict[\"lemma\"])"
      ],
      "metadata": {
        "colab": {
          "base_uri": "https://localhost:8080/"
        },
        "id": "39VN1xxoI60X",
        "outputId": "32cf6d8d-d16d-4e38-921a-1c96d4757541"
      },
      "execution_count": 31,
      "outputs": [
        {
          "output_type": "stream",
          "name": "stdout",
          "text": [
            "['জীব']\n",
            "['মধ্যে']\n",
            "['সবচেয়ে']\n",
            "['সম্পূর্ণতা']\n",
            "['মানুষ']\n",
            "['কিন্তু']\n",
            "['সবচেয়ে']\n",
            "['অসম্পূর্ণ']\n",
            "['হয়ে']\n",
            "['সে']\n",
            "['জন্মগ্রহণ']\n",
            "['করা']\n",
            "['বাঘ']\n",
            "['ভালুক']\n",
            "['তিনি']\n",
            "['জীবনযাত্রা']\n",
            "['পনেরো', '-']\n",
            "['আনা']\n",
            "['মূলধন']\n",
            "['নিয়ে']\n",
            "['আসা']\n",
            "['প্রকৃত']\n",
            "['মালখানা']\n",
            "['থেকে']\n",
            "['জীবরঙ্গভূমিতে']\n",
            "['মানুষ']\n",
            "['আসা']\n",
            "['দেখা']\n",
            "['দেয়']\n",
            "['দুই']\n",
            "['শূন্য']\n",
            "['হাত']\n",
            "['মুঠো']\n",
            "['বাঁধা']\n",
            "['মানুষ']\n",
            "['আসবার']\n",
            "['পূর্ববল']\n",
            "['জীবসৃষ্টিযজ্ঞে']\n",
            "['প্রকৃত']\n",
            "['ভূরিব্যয়ের']\n",
            "['পালা']\n",
            "['শেষ']\n",
            "['হয়ে']\n",
            "['আসা']\n",
            "['বিপুল']\n",
            "['মাংস']\n",
            "['কঠিন']\n",
            "['বর্ম']\n",
            "['প্রকাণ্ড']\n",
            "['লেজ']\n",
            "['নিয়ে']\n",
            "['জল']\n",
            "['স্থলে']\n",
            "['পৃথুল']\n",
            "['দেহের']\n",
            "['যে']\n",
            "['অমিতাচার']\n",
            "['প্রবল']\n",
            "['হয়ে']\n",
            "['ওঠা']\n",
            "['তা']\n",
            "['ধরিত্রীকে']\n",
            "['দেওয়া']\n",
            "['ক্লান্ত']\n",
            "['করা']\n",
            "['প্রমাণ']\n",
            "['হল']\n",
            "['আতিশয্যের']\n",
            "['পরাভব']\n",
            "['অনিবার্য']\n",
            "['পরীক্ষায়']\n",
            "['এটাও']\n",
            "['স্থির']\n",
            "['হয়ে']\n",
            "['গেল']\n",
            "['যে']\n",
            "['প্রশ্রয়ের']\n",
            "['পরিমাণ']\n",
            "['যত']\n",
            "['বেশি']\n",
            "['হয়']\n",
            "['দুর্বলতার']\n",
            "['বোঝাও']\n",
            "['তত']\n",
            "['দুর্বহ']\n",
            "['হয়ে']\n",
            "['ওঠা']\n",
            "['নূতন']\n",
            "['পর্ব']\n",
            "['প্রকৃত']\n",
            "['যথাসম্ভব']\n",
            "['মানুষ']\n",
            "['বরাদ্দ']\n",
            "['কম']\n",
            "['করা']\n",
            "['দিয়ে']\n",
            "['নিজ']\n",
            "['রওয়া']\n",
            "['নেপথ্যে']\n",
            "['মানুষ']\n",
            "['দেখা']\n",
            "['হল']\n",
            "['খুব']\n",
            "['ছোটো']\n",
            "['কিন্তু']\n",
            "['সে']\n",
            "['এক']\n",
            "['কৌশল']\n",
            "['মাত্র']\n",
            "['এবারকার']\n",
            "['জীবযাত্রার']\n",
            "['পালায়']\n",
            "['বিপুলতাকে']\n",
            "['করা']\n",
            "['হল']\n",
            "['বহুলতায়']\n",
            "['পরিণত']\n",
            "['মহাকায়']\n",
            "['জন্তু']\n",
            "['থাকা']\n",
            "['প্রকাণ্ড']\n",
            "['এক']\n",
            "['মানুষ']\n",
            "['হল']\n",
            "['দূরপ্রসারিত']\n",
            "['অনেক']\n"
          ]
        }
      ]
    },
    {
      "cell_type": "code",
      "source": [
        "for dict in lemmatized_result2:\n",
        "  print(dict[\"lemma\"])"
      ],
      "metadata": {
        "colab": {
          "base_uri": "https://localhost:8080/"
        },
        "id": "qAcn4fSlJGY7",
        "outputId": "379abe99-4eba-42a9-89c3-00fb62be0d6b"
      },
      "execution_count": 33,
      "outputs": [
        {
          "output_type": "stream",
          "name": "stdout",
          "text": [
            "['চিত্ত']\n",
            "['যেথা']\n",
            "['ভয়শূন্য']\n",
            "['উচ্চ']\n",
            "['যেথা']\n",
            "['শির']\n",
            "['জ্ঞান']\n",
            "['যেথা']\n",
            "['মুক্ত']\n",
            "['যেথা']\n",
            "['গৃহ']\n",
            "['প্রাচীর']\n",
            "['আপন']\n",
            "['প্রাঙ্গণতলে']\n",
            "['দিবসশর্বরী']\n",
            "['বসুধারে']\n",
            "['রাখা']\n",
            "['না']\n",
            "['খণ্ড']\n",
            "['ক্ষুদ্র']\n",
            "['করা']\n",
            "['যেথা']\n",
            "['বাক্য']\n",
            "['হৃদয়ের']\n",
            "['উৎসমুখ']\n",
            "['হতে']\n",
            "['উচ্ছ্বসিয়া']\n",
            "['ওঠা']\n",
            "['যেথা']\n",
            "['নির্বারিত']\n",
            "['স্রোত']\n",
            "['দেশ']\n",
            "['হ্রদয়']\n",
            "['বুদ্ধি']\n",
            "['সূত্র']\n",
            "['শত']\n",
            "['শাখা']\n",
            "['শত']\n",
            "['স্রোত']\n",
            "['সেঁচিয়া']\n",
            "['ওঠা']\n",
            "['যেথা']\n",
            "['কর্মযজ্ঞে']\n",
            "['বসন্ত']\n",
            "['হাওয়ায়']\n",
            "['অনুপ্রাণিত']\n",
            "['হয়ে']\n",
            "['অজানা']\n",
            "['পথ']\n",
            "['চলবারে']\n",
            "['জনে']\n",
            "['যেথা']\n",
            "['চিন্তা']\n",
            "['তুমি']\n",
            "['আচারপন্থাকে']\n",
            "['বুদ্ধি']\n",
            "['তীক্ষ্ণ']\n",
            "['তলওয়ারে']\n",
            "['প্রতি']\n",
            "['দেওয়া']\n",
            "['আঘাত']\n",
            "['করা']\n",
            "['যেথা']\n",
            "['তুমি']\n",
            "['বিশ্ববিধাতা']\n",
            "['প্রবুদ্ধ']\n",
            "['উদার']\n",
            "['সৃষ্টি']\n",
            "['করা']\n",
            "['থাকো']\n",
            "['সর্বত্র']\n",
            "['সেই']\n",
            "['স্বর্গ']\n",
            "['ওঠা']\n",
            "['যাওয়া']\n",
            "['আমি']\n",
            "['দেশ']\n"
          ]
        }
      ]
    }
  ]
}