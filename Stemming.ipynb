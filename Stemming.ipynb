{
  "nbformat": 4,
  "nbformat_minor": 0,
  "metadata": {
    "colab": {
      "provenance": [],
      "authorship_tag": "ABX9TyMtkm1qKZ6uN1WRkOIlIfBn",
      "include_colab_link": true
    },
    "kernelspec": {
      "name": "python3",
      "display_name": "Python 3"
    },
    "language_info": {
      "name": "python"
    }
  },
  "cells": [
    {
      "cell_type": "markdown",
      "metadata": {
        "id": "view-in-github",
        "colab_type": "text"
      },
      "source": [
        "<a href=\"https://colab.research.google.com/github/arunabha-mandal-1/bnlp-basics/blob/main/Stemming.ipynb\" target=\"_parent\"><img src=\"https://colab.research.google.com/assets/colab-badge.svg\" alt=\"Open In Colab\"/></a>"
      ]
    },
    {
      "cell_type": "markdown",
      "source": [
        "Stemming is a process that stems or removes last few characters from a word, often leading to incorrect meanings and spelling. Lemmatization considers the context and converts the word to its meaningful base form, which is called Lemma."
      ],
      "metadata": {
        "id": "VJQtK1P4AzBE"
      }
    },
    {
      "cell_type": "code",
      "source": [
        "!pip install bnlp_toolkit"
      ],
      "metadata": {
        "colab": {
          "base_uri": "https://localhost:8080/"
        },
        "id": "Uue1MP4xC8CI",
        "outputId": "26aa847b-3101-4beb-c4d2-693a1f685432"
      },
      "execution_count": 1,
      "outputs": [
        {
          "output_type": "stream",
          "name": "stdout",
          "text": [
            "Requirement already satisfied: bnlp_toolkit in /usr/local/lib/python3.10/dist-packages (4.0.1)\n",
            "Requirement already satisfied: sentencepiece==0.2.0 in /usr/local/lib/python3.10/dist-packages (from bnlp_toolkit) (0.2.0)\n",
            "Requirement already satisfied: gensim==4.3.2 in /usr/local/lib/python3.10/dist-packages (from bnlp_toolkit) (4.3.2)\n",
            "Requirement already satisfied: nltk==3.8.1 in /usr/local/lib/python3.10/dist-packages (from bnlp_toolkit) (3.8.1)\n",
            "Requirement already satisfied: numpy in /usr/local/lib/python3.10/dist-packages (from bnlp_toolkit) (1.25.2)\n",
            "Requirement already satisfied: scipy==1.10.1 in /usr/local/lib/python3.10/dist-packages (from bnlp_toolkit) (1.10.1)\n",
            "Requirement already satisfied: sklearn-crfsuite==0.3.6 in /usr/local/lib/python3.10/dist-packages (from bnlp_toolkit) (0.3.6)\n",
            "Requirement already satisfied: tqdm==4.66.3 in /usr/local/lib/python3.10/dist-packages (from bnlp_toolkit) (4.66.3)\n",
            "Requirement already satisfied: ftfy==6.2.0 in /usr/local/lib/python3.10/dist-packages (from bnlp_toolkit) (6.2.0)\n",
            "Requirement already satisfied: emoji==1.7.0 in /usr/local/lib/python3.10/dist-packages (from bnlp_toolkit) (1.7.0)\n",
            "Requirement already satisfied: requests in /usr/local/lib/python3.10/dist-packages (from bnlp_toolkit) (2.31.0)\n",
            "Requirement already satisfied: wcwidth<0.3.0,>=0.2.12 in /usr/local/lib/python3.10/dist-packages (from ftfy==6.2.0->bnlp_toolkit) (0.2.13)\n",
            "Requirement already satisfied: smart-open>=1.8.1 in /usr/local/lib/python3.10/dist-packages (from gensim==4.3.2->bnlp_toolkit) (6.4.0)\n",
            "Requirement already satisfied: click in /usr/local/lib/python3.10/dist-packages (from nltk==3.8.1->bnlp_toolkit) (8.1.7)\n",
            "Requirement already satisfied: joblib in /usr/local/lib/python3.10/dist-packages (from nltk==3.8.1->bnlp_toolkit) (1.4.2)\n",
            "Requirement already satisfied: regex>=2021.8.3 in /usr/local/lib/python3.10/dist-packages (from nltk==3.8.1->bnlp_toolkit) (2023.12.25)\n",
            "Requirement already satisfied: python-crfsuite>=0.8.3 in /usr/local/lib/python3.10/dist-packages (from sklearn-crfsuite==0.3.6->bnlp_toolkit) (0.9.10)\n",
            "Requirement already satisfied: six in /usr/local/lib/python3.10/dist-packages (from sklearn-crfsuite==0.3.6->bnlp_toolkit) (1.16.0)\n",
            "Requirement already satisfied: tabulate in /usr/local/lib/python3.10/dist-packages (from sklearn-crfsuite==0.3.6->bnlp_toolkit) (0.9.0)\n",
            "Requirement already satisfied: charset-normalizer<4,>=2 in /usr/local/lib/python3.10/dist-packages (from requests->bnlp_toolkit) (3.3.2)\n",
            "Requirement already satisfied: idna<4,>=2.5 in /usr/local/lib/python3.10/dist-packages (from requests->bnlp_toolkit) (3.7)\n",
            "Requirement already satisfied: urllib3<3,>=1.21.1 in /usr/local/lib/python3.10/dist-packages (from requests->bnlp_toolkit) (2.0.7)\n",
            "Requirement already satisfied: certifi>=2017.4.17 in /usr/local/lib/python3.10/dist-packages (from requests->bnlp_toolkit) (2024.2.2)\n"
          ]
        }
      ]
    },
    {
      "cell_type": "code",
      "source": [
        "from nltk.stem import PorterStemmer"
      ],
      "metadata": {
        "id": "7DMYMlYfBDNH"
      },
      "execution_count": 2,
      "outputs": []
    },
    {
      "cell_type": "code",
      "source": [
        "poem = \"\"\"চিত্ত যেথা ভয়শূন্য, উচ্চ যেথা শির,\n",
        "জ্ঞান যেথা মুক্ত, যেথা গৃহের প্রাচীর আপন প্রাঙ্গণতলে দিবসশর্বরী বসুধারে রাখে নাই খণ্ড ক্ষুদ্র করি,\n",
        "যেথা বাক্য হৃদয়ের উৎসমুখ হতে উচ্ছ্বসিয়া উঠে,\n",
        "যেথা নির্বারিত স্রোতে দেশের হ্রদয়\n",
        "বুদ্ধির সূত্রে শত শাখা শত স্রোতে সেঁচিয়া উঠে,\n",
        "যেথা কর্মযজ্ঞে বসন্তের হাওয়ায় অনুপ্রাণিত হয়ে অজানা পথে চলবারে জনে,\n",
        "যেথা চিন্তা তোমার আচারপন্থাকে বুদ্ধির তীক্ষ্ণ তলওয়ারে প্রতি দিন আঘাত করে,\n",
        "যেথা তুমি বিশ্ববিধাতা প্রবুদ্ধ উদার সৃষ্টি করে থাকো\n",
        "সর্বত্র সেই স্বর্গে উঠিতে যাক আমার দেশ।\"\"\""
      ],
      "metadata": {
        "id": "TqBaK_z3BZxS"
      },
      "execution_count": 3,
      "outputs": []
    },
    {
      "cell_type": "code",
      "source": [
        "stemmer1 = PorterStemmer()"
      ],
      "metadata": {
        "id": "0oo_w4LlBO-W"
      },
      "execution_count": 4,
      "outputs": []
    },
    {
      "cell_type": "code",
      "source": [
        "mytext = \"জীবের মধ্যে সবচেয়ে সম্পূর্ণতা মানুষের। কিন্তু সবচেয়ে অসম্পূর্ণ হয়ে সে জন্মগ্রহণ করে। বাঘ ভালুক তার জীবনযাত্রার পনেরো- আনা মূলধন নিয়ে আসে প্রকৃতির মালখানা থেকে। জীবরঙ্গভূমিতে মানুষ এসে দেখা দেয় দুই শূন্য হাতে মুঠো বেঁধে।\""
      ],
      "metadata": {
        "id": "dvW1bWt9BkWv"
      },
      "execution_count": 7,
      "outputs": []
    },
    {
      "cell_type": "code",
      "source": [
        "from bnlp import NLTKTokenizer\n",
        "bnltk = NLTKTokenizer()"
      ],
      "metadata": {
        "id": "ze86D21iB9JG"
      },
      "execution_count": 6,
      "outputs": []
    },
    {
      "cell_type": "code",
      "source": [
        "words = bnltk.word_tokenize(mytext)"
      ],
      "metadata": {
        "id": "E_UKlPyuDEG4"
      },
      "execution_count": 8,
      "outputs": []
    },
    {
      "cell_type": "code",
      "source": [
        "words"
      ],
      "metadata": {
        "colab": {
          "base_uri": "https://localhost:8080/"
        },
        "id": "wY7atQzzDOa0",
        "outputId": "bbbb0c8b-6c65-45af-e4de-5e25ea8bcf50"
      },
      "execution_count": 9,
      "outputs": [
        {
          "output_type": "execute_result",
          "data": {
            "text/plain": [
              "['জীবের',\n",
              " 'মধ্যে',\n",
              " 'সবচেয়ে',\n",
              " 'সম্পূর্ণতা',\n",
              " 'মানুষের',\n",
              " '।',\n",
              " 'কিন্তু',\n",
              " 'সবচেয়ে',\n",
              " 'অসম্পূর্ণ',\n",
              " 'হয়ে',\n",
              " 'সে',\n",
              " 'জন্মগ্রহণ',\n",
              " 'করে',\n",
              " '।',\n",
              " 'বাঘ',\n",
              " 'ভালুক',\n",
              " 'তার',\n",
              " 'জীবনযাত্রার',\n",
              " 'পনেরো-',\n",
              " 'আনা',\n",
              " 'মূলধন',\n",
              " 'নিয়ে',\n",
              " 'আসে',\n",
              " 'প্রকৃতির',\n",
              " 'মালখানা',\n",
              " 'থেকে',\n",
              " '।',\n",
              " 'জীবরঙ্গভূমিতে',\n",
              " 'মানুষ',\n",
              " 'এসে',\n",
              " 'দেখা',\n",
              " 'দেয়',\n",
              " 'দুই',\n",
              " 'শূন্য',\n",
              " 'হাতে',\n",
              " 'মুঠো',\n",
              " 'বেঁধে',\n",
              " '।']"
            ]
          },
          "metadata": {},
          "execution_count": 9
        }
      ]
    },
    {
      "cell_type": "code",
      "source": [
        "words = [word for word in words if (word != '।' and word != ',')]"
      ],
      "metadata": {
        "id": "YGXYgm0EDQbg"
      },
      "execution_count": 10,
      "outputs": []
    },
    {
      "cell_type": "code",
      "source": [
        "print(words)"
      ],
      "metadata": {
        "colab": {
          "base_uri": "https://localhost:8080/"
        },
        "id": "9-EvRLzcDizu",
        "outputId": "42ed0bdd-fa6d-42aa-9238-def9be93a627"
      },
      "execution_count": 12,
      "outputs": [
        {
          "output_type": "stream",
          "name": "stdout",
          "text": [
            "['জীবের', 'মধ্যে', 'সবচেয়ে', 'সম্পূর্ণতা', 'মানুষের', 'কিন্তু', 'সবচেয়ে', 'অসম্পূর্ণ', 'হয়ে', 'সে', 'জন্মগ্রহণ', 'করে', 'বাঘ', 'ভালুক', 'তার', 'জীবনযাত্রার', 'পনেরো-', 'আনা', 'মূলধন', 'নিয়ে', 'আসে', 'প্রকৃতির', 'মালখানা', 'থেকে', 'জীবরঙ্গভূমিতে', 'মানুষ', 'এসে', 'দেখা', 'দেয়', 'দুই', 'শূন্য', 'হাতে', 'মুঠো', 'বেঁধে']\n"
          ]
        }
      ]
    },
    {
      "cell_type": "code",
      "source": [
        "type(words)"
      ],
      "metadata": {
        "colab": {
          "base_uri": "https://localhost:8080/"
        },
        "id": "O7VS1XcODphX",
        "outputId": "2a34cae1-82b8-4901-f93c-92f005588fe1"
      },
      "execution_count": 14,
      "outputs": [
        {
          "output_type": "execute_result",
          "data": {
            "text/plain": [
              "list"
            ]
          },
          "metadata": {},
          "execution_count": 14
        }
      ]
    },
    {
      "cell_type": "code",
      "source": [
        "stemmer1.stem('মানুষের')"
      ],
      "metadata": {
        "colab": {
          "base_uri": "https://localhost:8080/",
          "height": 36
        },
        "id": "OcGZsRHUEBNG",
        "outputId": "51a2d9f9-ab4e-4482-9e19-c016dcc9a162"
      },
      "execution_count": 16,
      "outputs": [
        {
          "output_type": "execute_result",
          "data": {
            "text/plain": [
              "'মানুষের'"
            ],
            "application/vnd.google.colaboratory.intrinsic+json": {
              "type": "string"
            }
          },
          "metadata": {},
          "execution_count": 16
        }
      ]
    },
    {
      "cell_type": "code",
      "source": [
        "# Is not working properly\n",
        "for word in words:\n",
        "  print(word + \": \" + stemmer1.stem(word))"
      ],
      "metadata": {
        "colab": {
          "base_uri": "https://localhost:8080/"
        },
        "id": "kLCSsfHbEKcr",
        "outputId": "43363bfe-4982-49be-fe41-ee7ba5dbfc47"
      },
      "execution_count": 17,
      "outputs": [
        {
          "output_type": "stream",
          "name": "stdout",
          "text": [
            "জীবের: জীবের\n",
            "মধ্যে: মধ্যে\n",
            "সবচেয়ে: সবচেয়ে\n",
            "সম্পূর্ণতা: সম্পূর্ণতা\n",
            "মানুষের: মানুষের\n",
            "কিন্তু: কিন্তু\n",
            "সবচেয়ে: সবচেয়ে\n",
            "অসম্পূর্ণ: অসম্পূর্ণ\n",
            "হয়ে: হয়ে\n",
            "সে: সে\n",
            "জন্মগ্রহণ: জন্মগ্রহণ\n",
            "করে: করে\n",
            "বাঘ: বাঘ\n",
            "ভালুক: ভালুক\n",
            "তার: তার\n",
            "জীবনযাত্রার: জীবনযাত্রার\n",
            "পনেরো-: পনেরো-\n",
            "আনা: আনা\n",
            "মূলধন: মূলধন\n",
            "নিয়ে: নিয়ে\n",
            "আসে: আসে\n",
            "প্রকৃতির: প্রকৃতির\n",
            "মালখানা: মালখানা\n",
            "থেকে: থেকে\n",
            "জীবরঙ্গভূমিতে: জীবরঙ্গভূমিতে\n",
            "মানুষ: মানুষ\n",
            "এসে: এসে\n",
            "দেখা: দেখা\n",
            "দেয়: দেয়\n",
            "দুই: দুই\n",
            "শূন্য: শূন্য\n",
            "হাতে: হাতে\n",
            "মুঠো: মুঠো\n",
            "বেঁধে: বেঁধে\n"
          ]
        }
      ]
    },
    {
      "cell_type": "code",
      "source": [
        "# PorterStemmer failed"
      ],
      "metadata": {
        "id": "DmkyY57jEeSv"
      },
      "execution_count": null,
      "outputs": []
    },
    {
      "cell_type": "code",
      "source": [
        "import nltk"
      ],
      "metadata": {
        "id": "BMghSRsxFRjg"
      },
      "execution_count": 19,
      "outputs": []
    },
    {
      "cell_type": "code",
      "source": [
        "nltk.__version__"
      ],
      "metadata": {
        "colab": {
          "base_uri": "https://localhost:8080/",
          "height": 36
        },
        "id": "r3CF33OmEhPJ",
        "outputId": "f33c826b-57d8-4acc-8390-0b5ee4e515e9"
      },
      "execution_count": 21,
      "outputs": [
        {
          "output_type": "execute_result",
          "data": {
            "text/plain": [
              "'3.8.1'"
            ],
            "application/vnd.google.colaboratory.intrinsic+json": {
              "type": "string"
            }
          },
          "metadata": {},
          "execution_count": 21
        }
      ]
    },
    {
      "cell_type": "code",
      "source": [
        "# from nltk.stem import RegexpStemmer\n",
        "# But in this case, we have to define our own Regex"
      ],
      "metadata": {
        "id": "YXfkOLD4GaVu"
      },
      "execution_count": null,
      "outputs": []
    },
    {
      "cell_type": "code",
      "source": [
        "# Snowball Stemmer\n",
        "from nltk.stem import SnowballStemmer"
      ],
      "metadata": {
        "id": "JQBl34m5Gg_j"
      },
      "execution_count": 22,
      "outputs": []
    },
    {
      "cell_type": "code",
      "source": [
        "stemmer2 = SnowballStemmer('bengali')"
      ],
      "metadata": {
        "colab": {
          "base_uri": "https://localhost:8080/",
          "height": 272
        },
        "id": "idZnG6QiGqm4",
        "outputId": "dee44eac-bed2-4d5d-b349-9155182b7b12"
      },
      "execution_count": 25,
      "outputs": [
        {
          "output_type": "error",
          "ename": "ValueError",
          "evalue": "The language 'bengali' is not supported.",
          "traceback": [
            "\u001b[0;31m---------------------------------------------------------------------------\u001b[0m",
            "\u001b[0;31mValueError\u001b[0m                                Traceback (most recent call last)",
            "\u001b[0;32m<ipython-input-25-4b2a107e6085>\u001b[0m in \u001b[0;36m<cell line: 1>\u001b[0;34m()\u001b[0m\n\u001b[0;32m----> 1\u001b[0;31m \u001b[0mstemmer2\u001b[0m \u001b[0;34m=\u001b[0m \u001b[0mSnowballStemmer\u001b[0m\u001b[0;34m(\u001b[0m\u001b[0;34m'bengali'\u001b[0m\u001b[0;34m)\u001b[0m\u001b[0;34m\u001b[0m\u001b[0;34m\u001b[0m\u001b[0m\n\u001b[0m",
            "\u001b[0;32m/usr/local/lib/python3.10/dist-packages/nltk/stem/snowball.py\u001b[0m in \u001b[0;36m__init__\u001b[0;34m(self, language, ignore_stopwords)\u001b[0m\n\u001b[1;32m    104\u001b[0m     \u001b[0;32mdef\u001b[0m \u001b[0m__init__\u001b[0m\u001b[0;34m(\u001b[0m\u001b[0mself\u001b[0m\u001b[0;34m,\u001b[0m \u001b[0mlanguage\u001b[0m\u001b[0;34m,\u001b[0m \u001b[0mignore_stopwords\u001b[0m\u001b[0;34m=\u001b[0m\u001b[0;32mFalse\u001b[0m\u001b[0;34m)\u001b[0m\u001b[0;34m:\u001b[0m\u001b[0;34m\u001b[0m\u001b[0;34m\u001b[0m\u001b[0m\n\u001b[1;32m    105\u001b[0m         \u001b[0;32mif\u001b[0m \u001b[0mlanguage\u001b[0m \u001b[0;32mnot\u001b[0m \u001b[0;32min\u001b[0m \u001b[0mself\u001b[0m\u001b[0;34m.\u001b[0m\u001b[0mlanguages\u001b[0m\u001b[0;34m:\u001b[0m\u001b[0;34m\u001b[0m\u001b[0;34m\u001b[0m\u001b[0m\n\u001b[0;32m--> 106\u001b[0;31m             \u001b[0;32mraise\u001b[0m \u001b[0mValueError\u001b[0m\u001b[0;34m(\u001b[0m\u001b[0;34mf\"The language '{language}' is not supported.\"\u001b[0m\u001b[0;34m)\u001b[0m\u001b[0;34m\u001b[0m\u001b[0;34m\u001b[0m\u001b[0m\n\u001b[0m\u001b[1;32m    107\u001b[0m         \u001b[0mstemmerclass\u001b[0m \u001b[0;34m=\u001b[0m \u001b[0mglobals\u001b[0m\u001b[0;34m(\u001b[0m\u001b[0;34m)\u001b[0m\u001b[0;34m[\u001b[0m\u001b[0mlanguage\u001b[0m\u001b[0;34m.\u001b[0m\u001b[0mcapitalize\u001b[0m\u001b[0;34m(\u001b[0m\u001b[0;34m)\u001b[0m \u001b[0;34m+\u001b[0m \u001b[0;34m\"Stemmer\"\u001b[0m\u001b[0;34m]\u001b[0m\u001b[0;34m\u001b[0m\u001b[0;34m\u001b[0m\u001b[0m\n\u001b[1;32m    108\u001b[0m         \u001b[0mself\u001b[0m\u001b[0;34m.\u001b[0m\u001b[0mstemmer\u001b[0m \u001b[0;34m=\u001b[0m \u001b[0mstemmerclass\u001b[0m\u001b[0;34m(\u001b[0m\u001b[0mignore_stopwords\u001b[0m\u001b[0;34m)\u001b[0m\u001b[0;34m\u001b[0m\u001b[0;34m\u001b[0m\u001b[0m\n",
            "\u001b[0;31mValueError\u001b[0m: The language 'bengali' is not supported."
          ]
        }
      ]
    },
    {
      "cell_type": "code",
      "source": [
        "# SnowballStemmer does not support Bengali!!"
      ],
      "metadata": {
        "id": "9fXA3mR8GzTm"
      },
      "execution_count": null,
      "outputs": []
    },
    {
      "cell_type": "code",
      "source": [
        "# Now let's try BanglaKit Bengali Stemmer"
      ],
      "metadata": {
        "id": "D6LIHMJRG4MK"
      },
      "execution_count": null,
      "outputs": []
    },
    {
      "cell_type": "markdown",
      "source": [
        "# BanglaKit Bengali Stemmer"
      ],
      "metadata": {
        "id": "L2TdIs4uHEF8"
      }
    },
    {
      "cell_type": "code",
      "source": [
        "!pip install bangla-stemmer"
      ],
      "metadata": {
        "colab": {
          "base_uri": "https://localhost:8080/"
        },
        "id": "tFdbal_GHHcU",
        "outputId": "75364d1a-957c-43f3-8153-cef3f8b96260"
      },
      "execution_count": 26,
      "outputs": [
        {
          "output_type": "stream",
          "name": "stdout",
          "text": [
            "Collecting bangla-stemmer\n",
            "  Downloading bangla_stemmer-1.0-py3-none-any.whl (9.1 kB)\n",
            "Installing collected packages: bangla-stemmer\n",
            "Successfully installed bangla-stemmer-1.0\n"
          ]
        }
      ]
    },
    {
      "cell_type": "code",
      "source": [
        "from bangla_stemmer.stemmer import stemmer"
      ],
      "metadata": {
        "id": "0MAtCtJaHSS_"
      },
      "execution_count": 28,
      "outputs": []
    },
    {
      "cell_type": "code",
      "source": [
        "bstmr = stemmer.BanglaStemmer()"
      ],
      "metadata": {
        "id": "ua3vVFjNHgMC"
      },
      "execution_count": 29,
      "outputs": []
    },
    {
      "cell_type": "code",
      "source": [
        "for word in words:\n",
        "  print(word + \": \" + bstmr.stem(word))"
      ],
      "metadata": {
        "colab": {
          "base_uri": "https://localhost:8080/"
        },
        "id": "PLz2bCpSHpeD",
        "outputId": "bc3195ae-e1a8-41b3-ee2b-a7e5bed0b486"
      },
      "execution_count": 30,
      "outputs": [
        {
          "output_type": "stream",
          "name": "stdout",
          "text": [
            "applied fourth rules..\n",
            "জীবের: জীব\n",
            "মধ্যে: মধ্যে\n",
            "সবচেয়ে: সবচেয়ে\n",
            "সম্পূর্ণতা: সম্পূর্ণতা\n",
            "applied fourth rules..\n",
            "মানুষের: মানুষ\n",
            "কিন্তু: কিন্তু\n",
            "সবচেয়ে: সবচেয়ে\n",
            "অসম্পূর্ণ: অসম্পূর্ণ\n",
            "হয়ে: হয়ে\n",
            "সে: সে\n",
            "জন্মগ্রহণ: জন্মগ্রহণ\n",
            "করে: করে\n",
            "বাঘ: বাঘ\n",
            "ভালুক: ভালুক\n",
            "applied fourth rules..\n",
            "তার: তার\n",
            "applied first rules..\n",
            "applied fourth rules..\n",
            "জীবনযাত্রার: জীবনযাত্র\n",
            "applied fourth rules..\n",
            "পনেরো-: পনেরো-\n",
            "আনা: আনা\n",
            "মূলধন: মূলধন\n",
            "নিয়ে: নিয়ে\n",
            "আসে: আসে\n",
            "প্রকৃতির: প্রকৃতির\n",
            "মালখানা: মালখানা\n",
            "applied first rules..\n",
            "থেকে: থেক\n",
            "applied first rules..\n",
            "জীবরঙ্গভূমিতে: জীবরঙ্গভূমি\n",
            "মানুষ: মানুষ\n",
            "এসে: এসে\n",
            "দেখা: দেখা\n",
            "দেয়: দেয়\n",
            "applied first rules..\n",
            "দুই: দুই\n",
            "শূন্য: শূন্য\n",
            "applied first rules..\n",
            "হাতে: হাত\n",
            "মুঠো: মুঠো\n",
            "বেঁধে: বেঁধে\n"
          ]
        }
      ]
    },
    {
      "cell_type": "code",
      "source": [
        "a = bstmr.stem('জীবের')"
      ],
      "metadata": {
        "colab": {
          "base_uri": "https://localhost:8080/"
        },
        "id": "b13CmG2yH-rf",
        "outputId": "4db48322-0ffa-425c-e2b1-783d9e423bdc"
      },
      "execution_count": 32,
      "outputs": [
        {
          "output_type": "stream",
          "name": "stdout",
          "text": [
            "applied fourth rules..\n"
          ]
        }
      ]
    },
    {
      "cell_type": "code",
      "source": [
        "a"
      ],
      "metadata": {
        "colab": {
          "base_uri": "https://localhost:8080/",
          "height": 36
        },
        "id": "pMkEo700JkuO",
        "outputId": "c9548829-fde1-4837-89b0-696378130936"
      },
      "execution_count": 33,
      "outputs": [
        {
          "output_type": "execute_result",
          "data": {
            "text/plain": [
              "'জীব'"
            ],
            "application/vnd.google.colaboratory.intrinsic+json": {
              "type": "string"
            }
          },
          "metadata": {},
          "execution_count": 33
        }
      ]
    },
    {
      "cell_type": "code",
      "source": [
        "# It is working fine!!"
      ],
      "metadata": {
        "id": "PGO7SBEuJm1s"
      },
      "execution_count": null,
      "outputs": []
    },
    {
      "cell_type": "code",
      "source": [
        "poem_sentence_tokens = bnltk.sentence_tokenize(poem)"
      ],
      "metadata": {
        "id": "OL69OscbJyq_"
      },
      "execution_count": 34,
      "outputs": []
    },
    {
      "cell_type": "code",
      "source": [
        "poem_sentence_tokens # Well it won't work !! We have seen this before :)"
      ],
      "metadata": {
        "colab": {
          "base_uri": "https://localhost:8080/"
        },
        "id": "UX967H8-KDi7",
        "outputId": "05a9ea77-9bfd-4aa8-e1c1-a1cfd75aa8f0"
      },
      "execution_count": 35,
      "outputs": [
        {
          "output_type": "execute_result",
          "data": {
            "text/plain": [
              "['চিত্ত যেথা ভয়শূন্য, উচ্চ যেথা শির,\\nজ্ঞান যেথা মুক্ত, যেথা গৃহের প্রাচীর আপন প্রাঙ্গণতলে দিবসশর্বরী বসুধারে রাখে নাই খণ্ড ক্ষুদ্র করি,\\nযেথা বাক্য হৃদয়ের উৎসমুখ হতে উচ্ছ্বসিয়া উঠে,\\nযেথা নির্বারিত স্রোতে দেশের হ্রদয়\\nবুদ্ধির সূত্রে শত শাখা শত স্রোতে সেঁচিয়া উঠে,\\nযেথা কর্মযজ্ঞে বসন্তের হাওয়ায় অনুপ্রাণিত হয়ে অজানা পথে চলবারে জনে,\\nযেথা চিন্তা তোমার আচারপন্থাকে বুদ্ধির তীক্ষ্ণ তলওয়ারে প্রতি দিন আঘাত করে,\\nযেথা তুমি বিশ্ববিধাতা প্রবুদ্ধ উদার সৃষ্টি করে থাকো\\nসর্বত্র সেই স্বর্গে উঠিতে যাক আমার দেশ।']"
            ]
          },
          "metadata": {},
          "execution_count": 35
        }
      ]
    },
    {
      "cell_type": "code",
      "source": [
        "poem_word_tokens = bnltk.word_tokenize(poem)"
      ],
      "metadata": {
        "id": "KwWvUib1KP8d"
      },
      "execution_count": 36,
      "outputs": []
    },
    {
      "cell_type": "code",
      "source": [
        "poem_word_tokens"
      ],
      "metadata": {
        "colab": {
          "base_uri": "https://localhost:8080/"
        },
        "id": "AhTu7JaQKWOQ",
        "outputId": "582c6ce0-606f-4208-8ded-dcc470762564"
      },
      "execution_count": 38,
      "outputs": [
        {
          "output_type": "execute_result",
          "data": {
            "text/plain": [
              "['চিত্ত',\n",
              " 'যেথা',\n",
              " 'ভয়শূন্য',\n",
              " ',',\n",
              " 'উচ্চ',\n",
              " 'যেথা',\n",
              " 'শির',\n",
              " ',',\n",
              " 'জ্ঞান',\n",
              " 'যেথা',\n",
              " 'মুক্ত',\n",
              " ',',\n",
              " 'যেথা',\n",
              " 'গৃহের',\n",
              " 'প্রাচীর',\n",
              " 'আপন',\n",
              " 'প্রাঙ্গণতলে',\n",
              " 'দিবসশর্বরী',\n",
              " 'বসুধারে',\n",
              " 'রাখে',\n",
              " 'নাই',\n",
              " 'খণ্ড',\n",
              " 'ক্ষুদ্র',\n",
              " 'করি',\n",
              " ',',\n",
              " 'যেথা',\n",
              " 'বাক্য',\n",
              " 'হৃদয়ের',\n",
              " 'উৎসমুখ',\n",
              " 'হতে',\n",
              " 'উচ্ছ্বসিয়া',\n",
              " 'উঠে',\n",
              " ',',\n",
              " 'যেথা',\n",
              " 'নির্বারিত',\n",
              " 'স্রোতে',\n",
              " 'দেশের',\n",
              " 'হ্রদয়',\n",
              " 'বুদ্ধির',\n",
              " 'সূত্রে',\n",
              " 'শত',\n",
              " 'শাখা',\n",
              " 'শত',\n",
              " 'স্রোতে',\n",
              " 'সেঁচিয়া',\n",
              " 'উঠে',\n",
              " ',',\n",
              " 'যেথা',\n",
              " 'কর্মযজ্ঞে',\n",
              " 'বসন্তের',\n",
              " 'হাওয়ায়',\n",
              " 'অনুপ্রাণিত',\n",
              " 'হয়ে',\n",
              " 'অজানা',\n",
              " 'পথে',\n",
              " 'চলবারে',\n",
              " 'জনে',\n",
              " ',',\n",
              " 'যেথা',\n",
              " 'চিন্তা',\n",
              " 'তোমার',\n",
              " 'আচারপন্থাকে',\n",
              " 'বুদ্ধির',\n",
              " 'তীক্ষ্ণ',\n",
              " 'তলওয়ারে',\n",
              " 'প্রতি',\n",
              " 'দিন',\n",
              " 'আঘাত',\n",
              " 'করে',\n",
              " ',',\n",
              " 'যেথা',\n",
              " 'তুমি',\n",
              " 'বিশ্ববিধাতা',\n",
              " 'প্রবুদ্ধ',\n",
              " 'উদার',\n",
              " 'সৃষ্টি',\n",
              " 'করে',\n",
              " 'থাকো',\n",
              " 'সর্বত্র',\n",
              " 'সেই',\n",
              " 'স্বর্গে',\n",
              " 'উঠিতে',\n",
              " 'যাক',\n",
              " 'আমার',\n",
              " 'দেশ',\n",
              " '।']"
            ]
          },
          "metadata": {},
          "execution_count": 38
        }
      ]
    },
    {
      "cell_type": "code",
      "source": [
        "poem_word_tokens = [word for word in poem_word_tokens if (word != ',' and word != '।')]"
      ],
      "metadata": {
        "id": "O56tT5qzKlV2"
      },
      "execution_count": 39,
      "outputs": []
    },
    {
      "cell_type": "code",
      "source": [
        "poem_word_tokens"
      ],
      "metadata": {
        "colab": {
          "base_uri": "https://localhost:8080/"
        },
        "id": "_0RgfnBNK8M7",
        "outputId": "2af51644-159a-491d-8cc0-42f1e05696ff"
      },
      "execution_count": 40,
      "outputs": [
        {
          "output_type": "execute_result",
          "data": {
            "text/plain": [
              "['চিত্ত',\n",
              " 'যেথা',\n",
              " 'ভয়শূন্য',\n",
              " 'উচ্চ',\n",
              " 'যেথা',\n",
              " 'শির',\n",
              " 'জ্ঞান',\n",
              " 'যেথা',\n",
              " 'মুক্ত',\n",
              " 'যেথা',\n",
              " 'গৃহের',\n",
              " 'প্রাচীর',\n",
              " 'আপন',\n",
              " 'প্রাঙ্গণতলে',\n",
              " 'দিবসশর্বরী',\n",
              " 'বসুধারে',\n",
              " 'রাখে',\n",
              " 'নাই',\n",
              " 'খণ্ড',\n",
              " 'ক্ষুদ্র',\n",
              " 'করি',\n",
              " 'যেথা',\n",
              " 'বাক্য',\n",
              " 'হৃদয়ের',\n",
              " 'উৎসমুখ',\n",
              " 'হতে',\n",
              " 'উচ্ছ্বসিয়া',\n",
              " 'উঠে',\n",
              " 'যেথা',\n",
              " 'নির্বারিত',\n",
              " 'স্রোতে',\n",
              " 'দেশের',\n",
              " 'হ্রদয়',\n",
              " 'বুদ্ধির',\n",
              " 'সূত্রে',\n",
              " 'শত',\n",
              " 'শাখা',\n",
              " 'শত',\n",
              " 'স্রোতে',\n",
              " 'সেঁচিয়া',\n",
              " 'উঠে',\n",
              " 'যেথা',\n",
              " 'কর্মযজ্ঞে',\n",
              " 'বসন্তের',\n",
              " 'হাওয়ায়',\n",
              " 'অনুপ্রাণিত',\n",
              " 'হয়ে',\n",
              " 'অজানা',\n",
              " 'পথে',\n",
              " 'চলবারে',\n",
              " 'জনে',\n",
              " 'যেথা',\n",
              " 'চিন্তা',\n",
              " 'তোমার',\n",
              " 'আচারপন্থাকে',\n",
              " 'বুদ্ধির',\n",
              " 'তীক্ষ্ণ',\n",
              " 'তলওয়ারে',\n",
              " 'প্রতি',\n",
              " 'দিন',\n",
              " 'আঘাত',\n",
              " 'করে',\n",
              " 'যেথা',\n",
              " 'তুমি',\n",
              " 'বিশ্ববিধাতা',\n",
              " 'প্রবুদ্ধ',\n",
              " 'উদার',\n",
              " 'সৃষ্টি',\n",
              " 'করে',\n",
              " 'থাকো',\n",
              " 'সর্বত্র',\n",
              " 'সেই',\n",
              " 'স্বর্গে',\n",
              " 'উঠিতে',\n",
              " 'যাক',\n",
              " 'আমার',\n",
              " 'দেশ']"
            ]
          },
          "metadata": {},
          "execution_count": 40
        }
      ]
    },
    {
      "cell_type": "code",
      "source": [
        "for word in poem_word_tokens:\n",
        "  print(word + \": \" + bstmr.stem(word))"
      ],
      "metadata": {
        "colab": {
          "base_uri": "https://localhost:8080/"
        },
        "id": "0ymKT_DIK_lw",
        "outputId": "8bf0241c-f3bd-454c-cbd4-633b3f37cf0d"
      },
      "execution_count": 41,
      "outputs": [
        {
          "output_type": "stream",
          "name": "stdout",
          "text": [
            "চিত্ত: চিত্ত\n",
            "যেথা: যেথা\n",
            "ভয়শূন্য: ভয়শূন্য\n",
            "উচ্চ: উচ্চ\n",
            "যেথা: যেথা\n",
            "শির: শির\n",
            "জ্ঞান: জ্ঞান\n",
            "যেথা: যেথা\n",
            "মুক্ত: মুক্ত\n",
            "যেথা: যেথা\n",
            "applied fourth rules..\n",
            "গৃহের: গৃহ\n",
            "applied first rules..\n",
            "প্রাচীর: প্রাচীর\n",
            "আপন: আপন\n",
            "applied first rules..\n",
            "প্রাঙ্গণতলে: প্রাঙ্গণতলে\n",
            "দিবসশর্বরী: দিবসশর্বরী\n",
            "applied fourth rules..\n",
            "বসুধারে: বসুধারে\n",
            "applied first rules..\n",
            "রাখে: রাখে\n",
            "applied first rules..\n",
            "নাই: নাই\n",
            "খণ্ড: খণ্ড\n",
            "ক্ষুদ্র: ক্ষুদ্র\n",
            "করি: করি\n",
            "যেথা: যেথা\n",
            "বাক্য: বাক্য\n",
            "applied fourth rules..\n",
            "হৃদয়ের: হৃদয়\n",
            "উৎসমুখ: উৎসমুখ\n",
            "applied first rules..\n",
            "হতে: হত\n",
            "applied second rules..\n",
            "উচ্ছ্বসিয়া: উচ্ছ্বসিয়া\n",
            "উঠে: উঠে\n",
            "যেথা: যেথা\n",
            "applied fourth rules..\n",
            "নির্বারিত: নির্বারিত\n",
            "applied first rules..\n",
            "স্রোতে: স্রো\n",
            "applied fourth rules..\n",
            "দেশের: দেশের\n",
            "হ্রদয়: হ্রদয়\n",
            "বুদ্ধির: বুদ্ধির\n",
            "সূত্রে: সূত্রে\n",
            "শত: শত\n",
            "শাখা: শাখা\n",
            "শত: শত\n",
            "applied first rules..\n",
            "স্রোতে: স্রো\n",
            "সেঁচিয়া: সেঁচিয়া\n",
            "উঠে: উঠে\n",
            "যেথা: যেথা\n",
            "কর্মযজ্ঞে: কর্মযজ্ঞে\n",
            "applied first rules..\n",
            "applied fourth rules..\n",
            "বসন্তের: বসন্ত\n",
            "applied first rules..\n",
            "হাওয়ায়: হাওয়ায়\n",
            "applied first rules..\n",
            "অনুপ্রাণিত: অনুপ্রাণিত\n",
            "হয়ে: হয়ে\n",
            "অজানা: অজানা\n",
            "পথে: পথে\n",
            "applied fourth rules..\n",
            "চলবারে: চলবারে\n",
            "জনে: জনে\n",
            "যেথা: যেথা\n",
            "চিন্তা: চিন্তা\n",
            "applied first rules..\n",
            "applied fourth rules..\n",
            "তোমার: তোম\n",
            "applied first rules..\n",
            "applied fourth rules..\n",
            "আচারপন্থাকে: আচারপন্থা\n",
            "বুদ্ধির: বুদ্ধির\n",
            "তীক্ষ্ণ: তীক্ষ্ণ\n",
            "applied first rules..\n",
            "applied fourth rules..\n",
            "তলওয়ারে: তলওয়ারে\n",
            "প্রতি: প্রতি\n",
            "দিন: দিন\n",
            "আঘাত: আঘাত\n",
            "করে: করে\n",
            "যেথা: যেথা\n",
            "তুমি: তুমি\n",
            "বিশ্ববিধাতা: বিশ্ববিধাতা\n",
            "applied fourth rules..\n",
            "প্রবুদ্ধ: প্রবুদ্ধ\n",
            "applied fourth rules..\n",
            "উদার: উদ\n",
            "applied fourth rules..\n",
            "সৃষ্টি: সৃষ্\n",
            "করে: করে\n",
            "থাকো: থাকো\n",
            "সর্বত্র: সর্বত্র\n",
            "applied first rules..\n",
            "সেই: সেই\n",
            "স্বর্গে: স্বর্গে\n",
            "applied first rules..\n",
            "উঠিতে: উঠি\n",
            "যাক: যাক\n",
            "applied fourth rules..\n",
            "আমার: আম\n",
            "দেশ: দেশ\n"
          ]
        }
      ]
    }
  ]
}