{
  "nbformat": 4,
  "nbformat_minor": 0,
  "metadata": {
    "colab": {
      "provenance": [],
      "authorship_tag": "ABX9TyMuOWKY3f1cXmV5tvd3w1Az"
    },
    "kernelspec": {
      "name": "python3",
      "display_name": "Python 3"
    },
    "language_info": {
      "name": "python"
    },
    "widgets": {
      "application/vnd.jupyter.widget-state+json": {
        "9e5b9bb0cb5b464989b78ead9cbacd09": {
          "model_module": "@jupyter-widgets/controls",
          "model_name": "HBoxModel",
          "model_module_version": "1.5.0",
          "state": {
            "_dom_classes": [],
            "_model_module": "@jupyter-widgets/controls",
            "_model_module_version": "1.5.0",
            "_model_name": "HBoxModel",
            "_view_count": null,
            "_view_module": "@jupyter-widgets/controls",
            "_view_module_version": "1.5.0",
            "_view_name": "HBoxView",
            "box_style": "",
            "children": [
              "IPY_MODEL_7bf5d7df19534fec974de43eb4af9371",
              "IPY_MODEL_8f66279d506c4d8e84d8b0d6c73aab46",
              "IPY_MODEL_d7dae48ebb0a4212a9d2fe58349a9740"
            ],
            "layout": "IPY_MODEL_33a00363386d45568358b35b12f7d61b"
          }
        },
        "7bf5d7df19534fec974de43eb4af9371": {
          "model_module": "@jupyter-widgets/controls",
          "model_name": "HTMLModel",
          "model_module_version": "1.5.0",
          "state": {
            "_dom_classes": [],
            "_model_module": "@jupyter-widgets/controls",
            "_model_module_version": "1.5.0",
            "_model_name": "HTMLModel",
            "_view_count": null,
            "_view_module": "@jupyter-widgets/controls",
            "_view_module_version": "1.5.0",
            "_view_name": "HTMLView",
            "description": "",
            "description_tooltip": null,
            "layout": "IPY_MODEL_edf5c05cf4eb430899508769a8296384",
            "placeholder": "​",
            "style": "IPY_MODEL_582b5b3102174e1eb738d6f086e2a4eb",
            "value": "Downloading bn_ner.pkl: 100%"
          }
        },
        "8f66279d506c4d8e84d8b0d6c73aab46": {
          "model_module": "@jupyter-widgets/controls",
          "model_name": "FloatProgressModel",
          "model_module_version": "1.5.0",
          "state": {
            "_dom_classes": [],
            "_model_module": "@jupyter-widgets/controls",
            "_model_module_version": "1.5.0",
            "_model_name": "FloatProgressModel",
            "_view_count": null,
            "_view_module": "@jupyter-widgets/controls",
            "_view_module_version": "1.5.0",
            "_view_name": "ProgressView",
            "bar_style": "success",
            "description": "",
            "description_tooltip": null,
            "layout": "IPY_MODEL_abbc4eb76eba4ae793cd09079ccd0b70",
            "max": 26024594,
            "min": 0,
            "orientation": "horizontal",
            "style": "IPY_MODEL_4df9675058f241a4ae7c7d56e796de5c",
            "value": 26024594
          }
        },
        "d7dae48ebb0a4212a9d2fe58349a9740": {
          "model_module": "@jupyter-widgets/controls",
          "model_name": "HTMLModel",
          "model_module_version": "1.5.0",
          "state": {
            "_dom_classes": [],
            "_model_module": "@jupyter-widgets/controls",
            "_model_module_version": "1.5.0",
            "_model_name": "HTMLModel",
            "_view_count": null,
            "_view_module": "@jupyter-widgets/controls",
            "_view_module_version": "1.5.0",
            "_view_name": "HTMLView",
            "description": "",
            "description_tooltip": null,
            "layout": "IPY_MODEL_86c2d63d03644669a3c28fd724100d47",
            "placeholder": "​",
            "style": "IPY_MODEL_8f112ff33fd342e69e4a82eb6c0eb533",
            "value": " 24.8M/24.8M [00:00&lt;00:00, 52.6MB/s]"
          }
        },
        "33a00363386d45568358b35b12f7d61b": {
          "model_module": "@jupyter-widgets/base",
          "model_name": "LayoutModel",
          "model_module_version": "1.2.0",
          "state": {
            "_model_module": "@jupyter-widgets/base",
            "_model_module_version": "1.2.0",
            "_model_name": "LayoutModel",
            "_view_count": null,
            "_view_module": "@jupyter-widgets/base",
            "_view_module_version": "1.2.0",
            "_view_name": "LayoutView",
            "align_content": null,
            "align_items": null,
            "align_self": null,
            "border": null,
            "bottom": null,
            "display": null,
            "flex": null,
            "flex_flow": null,
            "grid_area": null,
            "grid_auto_columns": null,
            "grid_auto_flow": null,
            "grid_auto_rows": null,
            "grid_column": null,
            "grid_gap": null,
            "grid_row": null,
            "grid_template_areas": null,
            "grid_template_columns": null,
            "grid_template_rows": null,
            "height": null,
            "justify_content": null,
            "justify_items": null,
            "left": null,
            "margin": null,
            "max_height": null,
            "max_width": null,
            "min_height": null,
            "min_width": null,
            "object_fit": null,
            "object_position": null,
            "order": null,
            "overflow": null,
            "overflow_x": null,
            "overflow_y": null,
            "padding": null,
            "right": null,
            "top": null,
            "visibility": null,
            "width": null
          }
        },
        "edf5c05cf4eb430899508769a8296384": {
          "model_module": "@jupyter-widgets/base",
          "model_name": "LayoutModel",
          "model_module_version": "1.2.0",
          "state": {
            "_model_module": "@jupyter-widgets/base",
            "_model_module_version": "1.2.0",
            "_model_name": "LayoutModel",
            "_view_count": null,
            "_view_module": "@jupyter-widgets/base",
            "_view_module_version": "1.2.0",
            "_view_name": "LayoutView",
            "align_content": null,
            "align_items": null,
            "align_self": null,
            "border": null,
            "bottom": null,
            "display": null,
            "flex": null,
            "flex_flow": null,
            "grid_area": null,
            "grid_auto_columns": null,
            "grid_auto_flow": null,
            "grid_auto_rows": null,
            "grid_column": null,
            "grid_gap": null,
            "grid_row": null,
            "grid_template_areas": null,
            "grid_template_columns": null,
            "grid_template_rows": null,
            "height": null,
            "justify_content": null,
            "justify_items": null,
            "left": null,
            "margin": null,
            "max_height": null,
            "max_width": null,
            "min_height": null,
            "min_width": null,
            "object_fit": null,
            "object_position": null,
            "order": null,
            "overflow": null,
            "overflow_x": null,
            "overflow_y": null,
            "padding": null,
            "right": null,
            "top": null,
            "visibility": null,
            "width": null
          }
        },
        "582b5b3102174e1eb738d6f086e2a4eb": {
          "model_module": "@jupyter-widgets/controls",
          "model_name": "DescriptionStyleModel",
          "model_module_version": "1.5.0",
          "state": {
            "_model_module": "@jupyter-widgets/controls",
            "_model_module_version": "1.5.0",
            "_model_name": "DescriptionStyleModel",
            "_view_count": null,
            "_view_module": "@jupyter-widgets/base",
            "_view_module_version": "1.2.0",
            "_view_name": "StyleView",
            "description_width": ""
          }
        },
        "abbc4eb76eba4ae793cd09079ccd0b70": {
          "model_module": "@jupyter-widgets/base",
          "model_name": "LayoutModel",
          "model_module_version": "1.2.0",
          "state": {
            "_model_module": "@jupyter-widgets/base",
            "_model_module_version": "1.2.0",
            "_model_name": "LayoutModel",
            "_view_count": null,
            "_view_module": "@jupyter-widgets/base",
            "_view_module_version": "1.2.0",
            "_view_name": "LayoutView",
            "align_content": null,
            "align_items": null,
            "align_self": null,
            "border": null,
            "bottom": null,
            "display": null,
            "flex": null,
            "flex_flow": null,
            "grid_area": null,
            "grid_auto_columns": null,
            "grid_auto_flow": null,
            "grid_auto_rows": null,
            "grid_column": null,
            "grid_gap": null,
            "grid_row": null,
            "grid_template_areas": null,
            "grid_template_columns": null,
            "grid_template_rows": null,
            "height": null,
            "justify_content": null,
            "justify_items": null,
            "left": null,
            "margin": null,
            "max_height": null,
            "max_width": null,
            "min_height": null,
            "min_width": null,
            "object_fit": null,
            "object_position": null,
            "order": null,
            "overflow": null,
            "overflow_x": null,
            "overflow_y": null,
            "padding": null,
            "right": null,
            "top": null,
            "visibility": null,
            "width": null
          }
        },
        "4df9675058f241a4ae7c7d56e796de5c": {
          "model_module": "@jupyter-widgets/controls",
          "model_name": "ProgressStyleModel",
          "model_module_version": "1.5.0",
          "state": {
            "_model_module": "@jupyter-widgets/controls",
            "_model_module_version": "1.5.0",
            "_model_name": "ProgressStyleModel",
            "_view_count": null,
            "_view_module": "@jupyter-widgets/base",
            "_view_module_version": "1.2.0",
            "_view_name": "StyleView",
            "bar_color": null,
            "description_width": ""
          }
        },
        "86c2d63d03644669a3c28fd724100d47": {
          "model_module": "@jupyter-widgets/base",
          "model_name": "LayoutModel",
          "model_module_version": "1.2.0",
          "state": {
            "_model_module": "@jupyter-widgets/base",
            "_model_module_version": "1.2.0",
            "_model_name": "LayoutModel",
            "_view_count": null,
            "_view_module": "@jupyter-widgets/base",
            "_view_module_version": "1.2.0",
            "_view_name": "LayoutView",
            "align_content": null,
            "align_items": null,
            "align_self": null,
            "border": null,
            "bottom": null,
            "display": null,
            "flex": null,
            "flex_flow": null,
            "grid_area": null,
            "grid_auto_columns": null,
            "grid_auto_flow": null,
            "grid_auto_rows": null,
            "grid_column": null,
            "grid_gap": null,
            "grid_row": null,
            "grid_template_areas": null,
            "grid_template_columns": null,
            "grid_template_rows": null,
            "height": null,
            "justify_content": null,
            "justify_items": null,
            "left": null,
            "margin": null,
            "max_height": null,
            "max_width": null,
            "min_height": null,
            "min_width": null,
            "object_fit": null,
            "object_position": null,
            "order": null,
            "overflow": null,
            "overflow_x": null,
            "overflow_y": null,
            "padding": null,
            "right": null,
            "top": null,
            "visibility": null,
            "width": null
          }
        },
        "8f112ff33fd342e69e4a82eb6c0eb533": {
          "model_module": "@jupyter-widgets/controls",
          "model_name": "DescriptionStyleModel",
          "model_module_version": "1.5.0",
          "state": {
            "_model_module": "@jupyter-widgets/controls",
            "_model_module_version": "1.5.0",
            "_model_name": "DescriptionStyleModel",
            "_view_count": null,
            "_view_module": "@jupyter-widgets/base",
            "_view_module_version": "1.2.0",
            "_view_name": "StyleView",
            "description_width": ""
          }
        }
      }
    }
  },
  "cells": [
    {
      "cell_type": "code",
      "execution_count": 1,
      "metadata": {
        "colab": {
          "base_uri": "https://localhost:8080/"
        },
        "collapsed": true,
        "id": "p71r3YyYPFnE",
        "outputId": "0dd38d1e-3cca-4f6e-98e7-bbfccf052827"
      },
      "outputs": [
        {
          "output_type": "stream",
          "name": "stdout",
          "text": [
            "Collecting bnlp_toolkit\n",
            "  Downloading bnlp_toolkit-4.0.3-py3-none-any.whl.metadata (3.3 kB)\n",
            "Requirement already satisfied: sentencepiece==0.2.0 in /usr/local/lib/python3.10/dist-packages (from bnlp_toolkit) (0.2.0)\n",
            "Collecting gensim==4.3.2 (from bnlp_toolkit)\n",
            "  Downloading gensim-4.3.2-cp310-cp310-manylinux_2_17_x86_64.manylinux2014_x86_64.whl.metadata (8.4 kB)\n",
            "Requirement already satisfied: nltk in /usr/local/lib/python3.10/dist-packages (from bnlp_toolkit) (3.8.1)\n",
            "Requirement already satisfied: numpy in /usr/local/lib/python3.10/dist-packages (from bnlp_toolkit) (1.26.4)\n",
            "Collecting scipy==1.10.1 (from bnlp_toolkit)\n",
            "  Downloading scipy-1.10.1-cp310-cp310-manylinux_2_17_x86_64.manylinux2014_x86_64.whl.metadata (58 kB)\n",
            "\u001b[2K     \u001b[90m━━━━━━━━━━━━━━━━━━━━━━━━━━━━━━━━━━━━━━━━\u001b[0m \u001b[32m58.9/58.9 kB\u001b[0m \u001b[31m1.2 MB/s\u001b[0m eta \u001b[36m0:00:00\u001b[0m\n",
            "\u001b[?25hCollecting sklearn-crfsuite==0.3.6 (from bnlp_toolkit)\n",
            "  Downloading sklearn_crfsuite-0.3.6-py2.py3-none-any.whl.metadata (3.8 kB)\n",
            "Collecting tqdm==4.66.3 (from bnlp_toolkit)\n",
            "  Downloading tqdm-4.66.3-py3-none-any.whl.metadata (57 kB)\n",
            "\u001b[2K     \u001b[90m━━━━━━━━━━━━━━━━━━━━━━━━━━━━━━━━━━━━━━━━\u001b[0m \u001b[32m57.6/57.6 kB\u001b[0m \u001b[31m2.8 MB/s\u001b[0m eta \u001b[36m0:00:00\u001b[0m\n",
            "\u001b[?25hCollecting ftfy==6.2.0 (from bnlp_toolkit)\n",
            "  Downloading ftfy-6.2.0-py3-none-any.whl.metadata (7.3 kB)\n",
            "Collecting emoji==1.7.0 (from bnlp_toolkit)\n",
            "  Downloading emoji-1.7.0.tar.gz (175 kB)\n",
            "\u001b[2K     \u001b[90m━━━━━━━━━━━━━━━━━━━━━━━━━━━━━━━━━━━━━━━━\u001b[0m \u001b[32m175.4/175.4 kB\u001b[0m \u001b[31m6.8 MB/s\u001b[0m eta \u001b[36m0:00:00\u001b[0m\n",
            "\u001b[?25h  Preparing metadata (setup.py) ... \u001b[?25l\u001b[?25hdone\n",
            "Requirement already satisfied: requests in /usr/local/lib/python3.10/dist-packages (from bnlp_toolkit) (2.32.3)\n",
            "Requirement already satisfied: wcwidth<0.3.0,>=0.2.12 in /usr/local/lib/python3.10/dist-packages (from ftfy==6.2.0->bnlp_toolkit) (0.2.13)\n",
            "Requirement already satisfied: smart-open>=1.8.1 in /usr/local/lib/python3.10/dist-packages (from gensim==4.3.2->bnlp_toolkit) (7.0.4)\n",
            "Collecting python-crfsuite>=0.8.3 (from sklearn-crfsuite==0.3.6->bnlp_toolkit)\n",
            "  Downloading python_crfsuite-0.9.11-cp310-cp310-manylinux_2_17_x86_64.manylinux2014_x86_64.whl.metadata (4.3 kB)\n",
            "Requirement already satisfied: six in /usr/local/lib/python3.10/dist-packages (from sklearn-crfsuite==0.3.6->bnlp_toolkit) (1.16.0)\n",
            "Requirement already satisfied: tabulate in /usr/local/lib/python3.10/dist-packages (from sklearn-crfsuite==0.3.6->bnlp_toolkit) (0.9.0)\n",
            "Requirement already satisfied: click in /usr/local/lib/python3.10/dist-packages (from nltk->bnlp_toolkit) (8.1.7)\n",
            "Requirement already satisfied: joblib in /usr/local/lib/python3.10/dist-packages (from nltk->bnlp_toolkit) (1.4.2)\n",
            "Requirement already satisfied: regex>=2021.8.3 in /usr/local/lib/python3.10/dist-packages (from nltk->bnlp_toolkit) (2024.9.11)\n",
            "Requirement already satisfied: charset-normalizer<4,>=2 in /usr/local/lib/python3.10/dist-packages (from requests->bnlp_toolkit) (3.3.2)\n",
            "Requirement already satisfied: idna<4,>=2.5 in /usr/local/lib/python3.10/dist-packages (from requests->bnlp_toolkit) (3.10)\n",
            "Requirement already satisfied: urllib3<3,>=1.21.1 in /usr/local/lib/python3.10/dist-packages (from requests->bnlp_toolkit) (2.2.3)\n",
            "Requirement already satisfied: certifi>=2017.4.17 in /usr/local/lib/python3.10/dist-packages (from requests->bnlp_toolkit) (2024.8.30)\n",
            "Requirement already satisfied: wrapt in /usr/local/lib/python3.10/dist-packages (from smart-open>=1.8.1->gensim==4.3.2->bnlp_toolkit) (1.16.0)\n",
            "Downloading bnlp_toolkit-4.0.3-py3-none-any.whl (22 kB)\n",
            "Downloading ftfy-6.2.0-py3-none-any.whl (54 kB)\n",
            "\u001b[2K   \u001b[90m━━━━━━━━━━━━━━━━━━━━━━━━━━━━━━━━━━━━━━━━\u001b[0m \u001b[32m54.4/54.4 kB\u001b[0m \u001b[31m4.3 MB/s\u001b[0m eta \u001b[36m0:00:00\u001b[0m\n",
            "\u001b[?25hDownloading gensim-4.3.2-cp310-cp310-manylinux_2_17_x86_64.manylinux2014_x86_64.whl (26.5 MB)\n",
            "\u001b[2K   \u001b[90m━━━━━━━━━━━━━━━━━━━━━━━━━━━━━━━━━━━━━━━━\u001b[0m \u001b[32m26.5/26.5 MB\u001b[0m \u001b[31m24.5 MB/s\u001b[0m eta \u001b[36m0:00:00\u001b[0m\n",
            "\u001b[?25hDownloading scipy-1.10.1-cp310-cp310-manylinux_2_17_x86_64.manylinux2014_x86_64.whl (34.4 MB)\n",
            "\u001b[2K   \u001b[90m━━━━━━━━━━━━━━━━━━━━━━━━━━━━━━━━━━━━━━━━\u001b[0m \u001b[32m34.4/34.4 MB\u001b[0m \u001b[31m11.2 MB/s\u001b[0m eta \u001b[36m0:00:00\u001b[0m\n",
            "\u001b[?25hDownloading sklearn_crfsuite-0.3.6-py2.py3-none-any.whl (12 kB)\n",
            "Downloading tqdm-4.66.3-py3-none-any.whl (78 kB)\n",
            "\u001b[2K   \u001b[90m━━━━━━━━━━━━━━━━━━━━━━━━━━━━━━━━━━━━━━━━\u001b[0m \u001b[32m78.4/78.4 kB\u001b[0m \u001b[31m5.5 MB/s\u001b[0m eta \u001b[36m0:00:00\u001b[0m\n",
            "\u001b[?25hDownloading python_crfsuite-0.9.11-cp310-cp310-manylinux_2_17_x86_64.manylinux2014_x86_64.whl (1.2 MB)\n",
            "\u001b[2K   \u001b[90m━━━━━━━━━━━━━━━━━━━━━━━━━━━━━━━━━━━━━━━━\u001b[0m \u001b[32m1.2/1.2 MB\u001b[0m \u001b[31m32.9 MB/s\u001b[0m eta \u001b[36m0:00:00\u001b[0m\n",
            "\u001b[?25hBuilding wheels for collected packages: emoji\n",
            "  Building wheel for emoji (setup.py) ... \u001b[?25l\u001b[?25hdone\n",
            "  Created wheel for emoji: filename=emoji-1.7.0-py3-none-any.whl size=171031 sha256=a525c334ce54b133e922887f1fc10f34c5a9d7f8b2ce163ab0b589029cf42008\n",
            "  Stored in directory: /root/.cache/pip/wheels/31/8a/8c/315c9e5d7773f74b33d5ed33f075b49c6eaeb7cedbb86e2cf8\n",
            "Successfully built emoji\n",
            "Installing collected packages: emoji, tqdm, scipy, python-crfsuite, ftfy, sklearn-crfsuite, gensim, bnlp_toolkit\n",
            "  Attempting uninstall: tqdm\n",
            "    Found existing installation: tqdm 4.66.5\n",
            "    Uninstalling tqdm-4.66.5:\n",
            "      Successfully uninstalled tqdm-4.66.5\n",
            "  Attempting uninstall: scipy\n",
            "    Found existing installation: scipy 1.13.1\n",
            "    Uninstalling scipy-1.13.1:\n",
            "      Successfully uninstalled scipy-1.13.1\n",
            "  Attempting uninstall: gensim\n",
            "    Found existing installation: gensim 4.3.3\n",
            "    Uninstalling gensim-4.3.3:\n",
            "      Successfully uninstalled gensim-4.3.3\n",
            "Successfully installed bnlp_toolkit-4.0.3 emoji-1.7.0 ftfy-6.2.0 gensim-4.3.2 python-crfsuite-0.9.11 scipy-1.10.1 sklearn-crfsuite-0.3.6 tqdm-4.66.3\n",
            "Collecting striprtf\n",
            "  Downloading striprtf-0.0.26-py3-none-any.whl.metadata (2.1 kB)\n",
            "Downloading striprtf-0.0.26-py3-none-any.whl (6.9 kB)\n",
            "Installing collected packages: striprtf\n",
            "Successfully installed striprtf-0.0.26\n"
          ]
        }
      ],
      "source": [
        "!pip install bnlp_toolkit\n",
        "!pip install striprtf"
      ]
    },
    {
      "cell_type": "code",
      "source": [
        "from bnlp import BengaliNER\n",
        "from bnlp import NLTKTokenizer\n",
        "from bnlp import CleanText\n",
        "\n",
        "import pandas as pd\n",
        "\n",
        "from striprtf.striprtf import rtf_to_text\n",
        "import os"
      ],
      "metadata": {
        "colab": {
          "base_uri": "https://localhost:8080/"
        },
        "collapsed": true,
        "id": "_cqmAMbIPl2X",
        "outputId": "6922d124-359d-4f58-f607-efac58d3b7ed"
      },
      "execution_count": 2,
      "outputs": [
        {
          "output_type": "stream",
          "name": "stdout",
          "text": [
            "punkt not found. downloading...\n"
          ]
        },
        {
          "output_type": "stream",
          "name": "stderr",
          "text": [
            "[nltk_data] Downloading package punkt_tab to /root/nltk_data...\n",
            "[nltk_data]   Unzipping tokenizers/punkt_tab.zip.\n"
          ]
        }
      ]
    },
    {
      "cell_type": "code",
      "source": [
        "import nltk\n",
        "nltk.download('punkt')"
      ],
      "metadata": {
        "colab": {
          "base_uri": "https://localhost:8080/"
        },
        "collapsed": true,
        "id": "YPvHnQfhQCRh",
        "outputId": "9b53c489-ee7e-4bc4-bb83-a84340c90a64"
      },
      "execution_count": 3,
      "outputs": [
        {
          "output_type": "stream",
          "name": "stderr",
          "text": [
            "[nltk_data] Downloading package punkt to /root/nltk_data...\n",
            "[nltk_data]   Unzipping tokenizers/punkt.zip.\n"
          ]
        },
        {
          "output_type": "execute_result",
          "data": {
            "text/plain": [
              "True"
            ]
          },
          "metadata": {},
          "execution_count": 3
        }
      ]
    },
    {
      "cell_type": "code",
      "source": [
        "from google.colab import drive\n",
        "drive.mount('/content/drive')"
      ],
      "metadata": {
        "colab": {
          "base_uri": "https://localhost:8080/"
        },
        "id": "zakE4jjOQHKh",
        "outputId": "c2b1a6e7-1199-4ddd-a2d9-f1f09dcb22c5"
      },
      "execution_count": 4,
      "outputs": [
        {
          "output_type": "stream",
          "name": "stdout",
          "text": [
            "Mounted at /content/drive\n"
          ]
        }
      ]
    },
    {
      "cell_type": "code",
      "source": [
        "bner = BengaliNER()\n",
        "tookenizer = NLTKTokenizer()\n",
        "clean = CleanText()"
      ],
      "metadata": {
        "colab": {
          "base_uri": "https://localhost:8080/",
          "height": 49,
          "referenced_widgets": [
            "9e5b9bb0cb5b464989b78ead9cbacd09",
            "7bf5d7df19534fec974de43eb4af9371",
            "8f66279d506c4d8e84d8b0d6c73aab46",
            "d7dae48ebb0a4212a9d2fe58349a9740",
            "33a00363386d45568358b35b12f7d61b",
            "edf5c05cf4eb430899508769a8296384",
            "582b5b3102174e1eb738d6f086e2a4eb",
            "abbc4eb76eba4ae793cd09079ccd0b70",
            "4df9675058f241a4ae7c7d56e796de5c",
            "86c2d63d03644669a3c28fd724100d47",
            "8f112ff33fd342e69e4a82eb6c0eb533"
          ]
        },
        "collapsed": true,
        "id": "7Blv75sFQk-X",
        "outputId": "f818718a-fef7-4c05-d2c5-6ec715e3ea14"
      },
      "execution_count": 5,
      "outputs": [
        {
          "output_type": "display_data",
          "data": {
            "text/plain": [
              "Downloading bn_ner.pkl:   0%|          | 0/26024594 [00:00<?, ?it/s]"
            ],
            "application/vnd.jupyter.widget-view+json": {
              "version_major": 2,
              "version_minor": 0,
              "model_id": "9e5b9bb0cb5b464989b78ead9cbacd09"
            }
          },
          "metadata": {}
        }
      ]
    },
    {
      "cell_type": "code",
      "source": [
        "file_path = '/content/drive/MyDrive/final-year-project/stories/নতুন পুতুল.rtf'\n",
        "with open(file_path, 'r') as f:\n",
        "  rtf_content = f.read()\n",
        "text = rtf_to_text(rtf_content)\n",
        "# print(text)"
      ],
      "metadata": {
        "id": "lMHGeFFkRF4O"
      },
      "execution_count": 391,
      "outputs": []
    },
    {
      "cell_type": "code",
      "source": [
        "sentences = tookenizer.sentence_tokenize(text)\n",
        "sentences[:4]"
      ],
      "metadata": {
        "colab": {
          "base_uri": "https://localhost:8080/"
        },
        "id": "Xk6Y4X71SaJN",
        "outputId": "97aebe47-4fe4-4de6-ae18-e85f01feb5e7"
      },
      "execution_count": 392,
      "outputs": [
        {
          "output_type": "execute_result",
          "data": {
            "text/plain": [
              "['নতুন পুতুল (notun putul)\\n\\nএই গুণী কেবল পুতুল তৈরি করত; সে পুতুল রাজবাড়ির মেয়েদের খেলার জন্যে।',\n",
              " 'বছরে বছরে রাজবাড়ির আঙিনায় পুতুলের মেলা বসে।',\n",
              " 'সেই মেলায় সকল কারিগরই এই গুণীকে প্রধান মান দিয়ে এসেছে।',\n",
              " 'যখন তার বয়স হল প্রায় চার কুড়ি, এমনসময় মেলায় এক নতুন কারিগর এল।']"
            ]
          },
          "metadata": {},
          "execution_count": 392
        }
      ]
    },
    {
      "cell_type": "code",
      "source": [
        "nerlist = []\n",
        "for sectence in sentences:\n",
        "  nerlist.append(bner.tag(sectence))"
      ],
      "metadata": {
        "id": "2BogxTV6TJVR"
      },
      "execution_count": 393,
      "outputs": []
    },
    {
      "cell_type": "code",
      "source": [
        "nerlist[:2]"
      ],
      "metadata": {
        "colab": {
          "base_uri": "https://localhost:8080/"
        },
        "collapsed": true,
        "id": "xTOI8v2vTRZ-",
        "outputId": "0a179ad5-1fe1-4e80-88a6-ec748bfff286"
      },
      "execution_count": 394,
      "outputs": [
        {
          "output_type": "execute_result",
          "data": {
            "text/plain": [
              "[[('নতুন', 'O'),\n",
              "  ('পুতুল', 'O'),\n",
              "  ('notun', 'O'),\n",
              "  ('putul', 'O'),\n",
              "  ('এই', 'O'),\n",
              "  ('গুণী', 'O'),\n",
              "  ('কেবল', 'O'),\n",
              "  ('পুতুল', 'S-PER'),\n",
              "  ('তৈরি', 'O'),\n",
              "  ('করত', 'O'),\n",
              "  ('সে', 'O'),\n",
              "  ('পুতুল', 'O'),\n",
              "  ('রাজবাড়ির', 'O'),\n",
              "  ('মেয়েদের', 'S-PER'),\n",
              "  ('খেলার', 'O'),\n",
              "  ('জন্যে', 'O')],\n",
              " [('বছরে', 'O'),\n",
              "  ('বছরে', 'O'),\n",
              "  ('রাজবাড়ির', 'O'),\n",
              "  ('আঙিনায়', 'O'),\n",
              "  ('পুতুলের', 'O'),\n",
              "  ('মেলা', 'O'),\n",
              "  ('বসে', 'O')]]"
            ]
          },
          "metadata": {},
          "execution_count": 394
        }
      ]
    },
    {
      "cell_type": "code",
      "source": [
        "count1 = 0\n",
        "for sen in nerlist:\n",
        "  for word in sen:\n",
        "    count1 = count1 + 1\n",
        "print(count1)"
      ],
      "metadata": {
        "colab": {
          "base_uri": "https://localhost:8080/"
        },
        "id": "Yf8_V9OiUCS-",
        "outputId": "acb5a64d-8ca0-43c0-b83e-43112f46c7ae"
      },
      "execution_count": 395,
      "outputs": [
        {
          "output_type": "stream",
          "name": "stdout",
          "text": [
            "746\n"
          ]
        }
      ]
    },
    {
      "cell_type": "code",
      "source": [
        "df = pd.read_excel(\"/content/drive/MyDrive/final-year-project/stories-excel-file/updated_tags/notun_putul.xlsx\")"
      ],
      "metadata": {
        "id": "fXAiX9COUfnE"
      },
      "execution_count": 396,
      "outputs": []
    },
    {
      "cell_type": "code",
      "source": [
        "df.columns = [\"word\", \"tag\"]\n",
        "df.head()"
      ],
      "metadata": {
        "colab": {
          "base_uri": "https://localhost:8080/",
          "height": 206
        },
        "id": "hMUBb-2eUkyo",
        "outputId": "489b4e23-8222-467c-f551-f6aca475b012"
      },
      "execution_count": 397,
      "outputs": [
        {
          "output_type": "execute_result",
          "data": {
            "text/plain": [
              "    word tag\n",
              "0   নতুন   O\n",
              "1  পুতুল   O\n",
              "2  notun   O\n",
              "3  putul   O\n",
              "4     এই   O"
            ],
            "text/html": [
              "\n",
              "  <div id=\"df-01571bc8-acdf-4a66-b511-dc5108ec0c35\" class=\"colab-df-container\">\n",
              "    <div>\n",
              "<style scoped>\n",
              "    .dataframe tbody tr th:only-of-type {\n",
              "        vertical-align: middle;\n",
              "    }\n",
              "\n",
              "    .dataframe tbody tr th {\n",
              "        vertical-align: top;\n",
              "    }\n",
              "\n",
              "    .dataframe thead th {\n",
              "        text-align: right;\n",
              "    }\n",
              "</style>\n",
              "<table border=\"1\" class=\"dataframe\">\n",
              "  <thead>\n",
              "    <tr style=\"text-align: right;\">\n",
              "      <th></th>\n",
              "      <th>word</th>\n",
              "      <th>tag</th>\n",
              "    </tr>\n",
              "  </thead>\n",
              "  <tbody>\n",
              "    <tr>\n",
              "      <th>0</th>\n",
              "      <td>নতুন</td>\n",
              "      <td>O</td>\n",
              "    </tr>\n",
              "    <tr>\n",
              "      <th>1</th>\n",
              "      <td>পুতুল</td>\n",
              "      <td>O</td>\n",
              "    </tr>\n",
              "    <tr>\n",
              "      <th>2</th>\n",
              "      <td>notun</td>\n",
              "      <td>O</td>\n",
              "    </tr>\n",
              "    <tr>\n",
              "      <th>3</th>\n",
              "      <td>putul</td>\n",
              "      <td>O</td>\n",
              "    </tr>\n",
              "    <tr>\n",
              "      <th>4</th>\n",
              "      <td>এই</td>\n",
              "      <td>O</td>\n",
              "    </tr>\n",
              "  </tbody>\n",
              "</table>\n",
              "</div>\n",
              "    <div class=\"colab-df-buttons\">\n",
              "\n",
              "  <div class=\"colab-df-container\">\n",
              "    <button class=\"colab-df-convert\" onclick=\"convertToInteractive('df-01571bc8-acdf-4a66-b511-dc5108ec0c35')\"\n",
              "            title=\"Convert this dataframe to an interactive table.\"\n",
              "            style=\"display:none;\">\n",
              "\n",
              "  <svg xmlns=\"http://www.w3.org/2000/svg\" height=\"24px\" viewBox=\"0 -960 960 960\">\n",
              "    <path d=\"M120-120v-720h720v720H120Zm60-500h600v-160H180v160Zm220 220h160v-160H400v160Zm0 220h160v-160H400v160ZM180-400h160v-160H180v160Zm440 0h160v-160H620v160ZM180-180h160v-160H180v160Zm440 0h160v-160H620v160Z\"/>\n",
              "  </svg>\n",
              "    </button>\n",
              "\n",
              "  <style>\n",
              "    .colab-df-container {\n",
              "      display:flex;\n",
              "      gap: 12px;\n",
              "    }\n",
              "\n",
              "    .colab-df-convert {\n",
              "      background-color: #E8F0FE;\n",
              "      border: none;\n",
              "      border-radius: 50%;\n",
              "      cursor: pointer;\n",
              "      display: none;\n",
              "      fill: #1967D2;\n",
              "      height: 32px;\n",
              "      padding: 0 0 0 0;\n",
              "      width: 32px;\n",
              "    }\n",
              "\n",
              "    .colab-df-convert:hover {\n",
              "      background-color: #E2EBFA;\n",
              "      box-shadow: 0px 1px 2px rgba(60, 64, 67, 0.3), 0px 1px 3px 1px rgba(60, 64, 67, 0.15);\n",
              "      fill: #174EA6;\n",
              "    }\n",
              "\n",
              "    .colab-df-buttons div {\n",
              "      margin-bottom: 4px;\n",
              "    }\n",
              "\n",
              "    [theme=dark] .colab-df-convert {\n",
              "      background-color: #3B4455;\n",
              "      fill: #D2E3FC;\n",
              "    }\n",
              "\n",
              "    [theme=dark] .colab-df-convert:hover {\n",
              "      background-color: #434B5C;\n",
              "      box-shadow: 0px 1px 3px 1px rgba(0, 0, 0, 0.15);\n",
              "      filter: drop-shadow(0px 1px 2px rgba(0, 0, 0, 0.3));\n",
              "      fill: #FFFFFF;\n",
              "    }\n",
              "  </style>\n",
              "\n",
              "    <script>\n",
              "      const buttonEl =\n",
              "        document.querySelector('#df-01571bc8-acdf-4a66-b511-dc5108ec0c35 button.colab-df-convert');\n",
              "      buttonEl.style.display =\n",
              "        google.colab.kernel.accessAllowed ? 'block' : 'none';\n",
              "\n",
              "      async function convertToInteractive(key) {\n",
              "        const element = document.querySelector('#df-01571bc8-acdf-4a66-b511-dc5108ec0c35');\n",
              "        const dataTable =\n",
              "          await google.colab.kernel.invokeFunction('convertToInteractive',\n",
              "                                                    [key], {});\n",
              "        if (!dataTable) return;\n",
              "\n",
              "        const docLinkHtml = 'Like what you see? Visit the ' +\n",
              "          '<a target=\"_blank\" href=https://colab.research.google.com/notebooks/data_table.ipynb>data table notebook</a>'\n",
              "          + ' to learn more about interactive tables.';\n",
              "        element.innerHTML = '';\n",
              "        dataTable['output_type'] = 'display_data';\n",
              "        await google.colab.output.renderOutput(dataTable, element);\n",
              "        const docLink = document.createElement('div');\n",
              "        docLink.innerHTML = docLinkHtml;\n",
              "        element.appendChild(docLink);\n",
              "      }\n",
              "    </script>\n",
              "  </div>\n",
              "\n",
              "\n",
              "<div id=\"df-8b58dada-8940-4b60-8d33-2013a30cd18f\">\n",
              "  <button class=\"colab-df-quickchart\" onclick=\"quickchart('df-8b58dada-8940-4b60-8d33-2013a30cd18f')\"\n",
              "            title=\"Suggest charts\"\n",
              "            style=\"display:none;\">\n",
              "\n",
              "<svg xmlns=\"http://www.w3.org/2000/svg\" height=\"24px\"viewBox=\"0 0 24 24\"\n",
              "     width=\"24px\">\n",
              "    <g>\n",
              "        <path d=\"M19 3H5c-1.1 0-2 .9-2 2v14c0 1.1.9 2 2 2h14c1.1 0 2-.9 2-2V5c0-1.1-.9-2-2-2zM9 17H7v-7h2v7zm4 0h-2V7h2v10zm4 0h-2v-4h2v4z\"/>\n",
              "    </g>\n",
              "</svg>\n",
              "  </button>\n",
              "\n",
              "<style>\n",
              "  .colab-df-quickchart {\n",
              "      --bg-color: #E8F0FE;\n",
              "      --fill-color: #1967D2;\n",
              "      --hover-bg-color: #E2EBFA;\n",
              "      --hover-fill-color: #174EA6;\n",
              "      --disabled-fill-color: #AAA;\n",
              "      --disabled-bg-color: #DDD;\n",
              "  }\n",
              "\n",
              "  [theme=dark] .colab-df-quickchart {\n",
              "      --bg-color: #3B4455;\n",
              "      --fill-color: #D2E3FC;\n",
              "      --hover-bg-color: #434B5C;\n",
              "      --hover-fill-color: #FFFFFF;\n",
              "      --disabled-bg-color: #3B4455;\n",
              "      --disabled-fill-color: #666;\n",
              "  }\n",
              "\n",
              "  .colab-df-quickchart {\n",
              "    background-color: var(--bg-color);\n",
              "    border: none;\n",
              "    border-radius: 50%;\n",
              "    cursor: pointer;\n",
              "    display: none;\n",
              "    fill: var(--fill-color);\n",
              "    height: 32px;\n",
              "    padding: 0;\n",
              "    width: 32px;\n",
              "  }\n",
              "\n",
              "  .colab-df-quickchart:hover {\n",
              "    background-color: var(--hover-bg-color);\n",
              "    box-shadow: 0 1px 2px rgba(60, 64, 67, 0.3), 0 1px 3px 1px rgba(60, 64, 67, 0.15);\n",
              "    fill: var(--button-hover-fill-color);\n",
              "  }\n",
              "\n",
              "  .colab-df-quickchart-complete:disabled,\n",
              "  .colab-df-quickchart-complete:disabled:hover {\n",
              "    background-color: var(--disabled-bg-color);\n",
              "    fill: var(--disabled-fill-color);\n",
              "    box-shadow: none;\n",
              "  }\n",
              "\n",
              "  .colab-df-spinner {\n",
              "    border: 2px solid var(--fill-color);\n",
              "    border-color: transparent;\n",
              "    border-bottom-color: var(--fill-color);\n",
              "    animation:\n",
              "      spin 1s steps(1) infinite;\n",
              "  }\n",
              "\n",
              "  @keyframes spin {\n",
              "    0% {\n",
              "      border-color: transparent;\n",
              "      border-bottom-color: var(--fill-color);\n",
              "      border-left-color: var(--fill-color);\n",
              "    }\n",
              "    20% {\n",
              "      border-color: transparent;\n",
              "      border-left-color: var(--fill-color);\n",
              "      border-top-color: var(--fill-color);\n",
              "    }\n",
              "    30% {\n",
              "      border-color: transparent;\n",
              "      border-left-color: var(--fill-color);\n",
              "      border-top-color: var(--fill-color);\n",
              "      border-right-color: var(--fill-color);\n",
              "    }\n",
              "    40% {\n",
              "      border-color: transparent;\n",
              "      border-right-color: var(--fill-color);\n",
              "      border-top-color: var(--fill-color);\n",
              "    }\n",
              "    60% {\n",
              "      border-color: transparent;\n",
              "      border-right-color: var(--fill-color);\n",
              "    }\n",
              "    80% {\n",
              "      border-color: transparent;\n",
              "      border-right-color: var(--fill-color);\n",
              "      border-bottom-color: var(--fill-color);\n",
              "    }\n",
              "    90% {\n",
              "      border-color: transparent;\n",
              "      border-bottom-color: var(--fill-color);\n",
              "    }\n",
              "  }\n",
              "</style>\n",
              "\n",
              "  <script>\n",
              "    async function quickchart(key) {\n",
              "      const quickchartButtonEl =\n",
              "        document.querySelector('#' + key + ' button');\n",
              "      quickchartButtonEl.disabled = true;  // To prevent multiple clicks.\n",
              "      quickchartButtonEl.classList.add('colab-df-spinner');\n",
              "      try {\n",
              "        const charts = await google.colab.kernel.invokeFunction(\n",
              "            'suggestCharts', [key], {});\n",
              "      } catch (error) {\n",
              "        console.error('Error during call to suggestCharts:', error);\n",
              "      }\n",
              "      quickchartButtonEl.classList.remove('colab-df-spinner');\n",
              "      quickchartButtonEl.classList.add('colab-df-quickchart-complete');\n",
              "    }\n",
              "    (() => {\n",
              "      let quickchartButtonEl =\n",
              "        document.querySelector('#df-8b58dada-8940-4b60-8d33-2013a30cd18f button');\n",
              "      quickchartButtonEl.style.display =\n",
              "        google.colab.kernel.accessAllowed ? 'block' : 'none';\n",
              "    })();\n",
              "  </script>\n",
              "</div>\n",
              "\n",
              "    </div>\n",
              "  </div>\n"
            ],
            "application/vnd.google.colaboratory.intrinsic+json": {
              "type": "dataframe",
              "variable_name": "df",
              "summary": "{\n  \"name\": \"df\",\n  \"rows\": 746,\n  \"fields\": [\n    {\n      \"column\": \"word\",\n      \"properties\": {\n        \"dtype\": \"string\",\n        \"num_unique_values\": 379,\n        \"samples\": [\n          \"\\u09a6\\u09bf\\u09a8\",\n          \"\\u09a8\\u09c7\\u09dc\\u09c7\",\n          \"\\u0997\\u09be\\u0981\\u09a5\\u09be\"\n        ],\n        \"semantic_type\": \"\",\n        \"description\": \"\"\n      }\n    },\n    {\n      \"column\": \"tag\",\n      \"properties\": {\n        \"dtype\": \"category\",\n        \"num_unique_values\": 4,\n        \"samples\": [\n          \"S-PER\",\n          \"E-PER\",\n          \"O\"\n        ],\n        \"semantic_type\": \"\",\n        \"description\": \"\"\n      }\n    }\n  ]\n}"
            }
          },
          "metadata": {},
          "execution_count": 397
        }
      ]
    },
    {
      "cell_type": "code",
      "source": [
        "len(df['word'].to_list())"
      ],
      "metadata": {
        "colab": {
          "base_uri": "https://localhost:8080/"
        },
        "id": "rvegDnQOUt6_",
        "outputId": "1060c261-ec89-4e40-b8b8-1ab844ed6a84"
      },
      "execution_count": 398,
      "outputs": [
        {
          "output_type": "execute_result",
          "data": {
            "text/plain": [
              "746"
            ]
          },
          "metadata": {},
          "execution_count": 398
        }
      ]
    },
    {
      "cell_type": "code",
      "source": [
        "nertupleslist = [tuple(row) for index, row in df.iterrows()]\n",
        "print(nertupleslist)"
      ],
      "metadata": {
        "colab": {
          "base_uri": "https://localhost:8080/"
        },
        "id": "A4dNNHFgVpvh",
        "outputId": "c2b5b4d4-d353-4be1-f8ec-cd448bb3d01a"
      },
      "execution_count": 399,
      "outputs": [
        {
          "output_type": "stream",
          "name": "stdout",
          "text": [
            "[('নতুন', 'O'), ('পুতুল', 'O'), ('notun', 'O'), ('putul', 'O'), ('এই', 'O'), ('গুণী', 'O'), ('কেবল', 'O'), ('পুতুল', 'S-PER'), ('তৈরি', 'O'), ('করত', 'O'), ('সে', 'O'), ('পুতুল', 'S-PER'), ('রাজবাড়ির', 'O'), ('মেয়েদের', 'S-PER'), ('খেলার', 'O'), ('জন্যে', 'O'), ('বছরে', 'O'), ('বছরে', 'O'), ('রাজবাড়ির', 'O'), ('আঙিনায়', 'O'), ('পুতুলের', 'S-PER'), ('মেলা', 'O'), ('বসে', 'O'), ('সেই', 'O'), ('মেলায়', 'O'), ('সকল', 'O'), ('কারিগরই', 'S-PER'), ('এই', 'O'), ('গুণীকে', 'O'), ('প্রধান', 'O'), ('মান', 'O'), ('দিয়ে', 'O'), ('এসেছে', 'O'), ('যখন', 'O'), ('তার', 'S-PER'), ('বয়স', 'O'), ('হল', 'O'), ('প্রায়', 'O'), ('চার', 'O'), ('কুড়ি', 'O'), ('এমনসময়', 'O'), ('মেলায়', 'O'), ('এক', 'O'), ('নতুন', 'O'), ('কারিগর', 'S-PER'), ('এল', 'O'), ('তার', 'O'), ('নাম', 'O'), ('কিষণলাল', 'S-PER'), ('বয়স', 'O'), ('তার', 'O'), ('নবীন', 'O'), ('নতুন', 'O'), ('তার', 'O'), ('কায়দা', 'O'), ('যে', 'O'), ('পুতুল', 'S-PER'), ('সে', 'O'), ('গড়ে', 'O'), ('তার', 'O'), ('কিছু', 'O'), ('গড়ে', 'O'), ('কিছু', 'O'), ('গড়ে', 'O'), ('না', 'O'), ('কিছু', 'O'), ('রঙ', 'O'), ('দেয়', 'O'), ('কিছু', 'O'), ('বাকি', 'O'), ('রাখে', 'O'), ('মনে', 'O'), ('হয়', 'O'), ('পুতুলগুলো', 'O'), ('যেন', 'O'), ('ফুরোয়', 'O'), ('নি', 'O'), ('যেন', 'O'), ('কোনোকালে', 'O'), ('ফুরিয়ে', 'O'), ('যাবে', 'O'), ('না', 'O'), ('নবীনের', 'O'), ('দল', 'O'), ('বললে', 'O'), ('লোকটা', 'O'), ('সাহস', 'O'), ('দেখিয়েছে', 'O'), ('প্রবীণের', 'O'), ('দল', 'O'), ('বললে', 'O'), ('একে', 'O'), ('বলে', 'O'), ('সাহস', 'O'), ('এ', 'O'), ('তো', 'O'), ('স্পর্ধা', 'O'), ('কিন্তু', 'O'), ('নতুন', 'O'), ('কালের', 'O'), ('নতুন', 'O'), ('দাবি', 'O'), ('এ', 'O'), ('কালের', 'O'), ('রাজকন্যারা', 'S-PER'), ('বলে', 'O'), ('আমাদের', 'S-PER'), ('এই', 'O'), ('পুতুল', 'S-PER'), ('চাই', 'O'), ('সাবেক', 'O'), ('কালের', 'O'), ('অনুচরেরা', 'O'), ('বলে', 'O'), ('আরে', 'O'), ('ছিঃ', 'O'), ('শুনে', 'O'), ('তাদের', 'S-PER'), ('জেদ', 'O'), ('বেড়ে', 'O'), ('যায়', 'O'), ('বুড়োর', 'S-PER'), ('দোকানে', 'O'), ('এবার', 'O'), ('ভিড়', 'O'), ('নেই', 'O'), ('তার', 'O'), ('ঝাঁকাভরা', 'O'), ('পুতুল', 'S-PER'), ('যেন', 'O'), ('খেয়ার', 'O'), ('অপেক্ষায়', 'O'), ('ঘাটের', 'O'), ('লোকের', 'O'), ('মতো', 'O'), ('ও', 'O'), ('পারের', 'O'), ('দিকে', 'O'), ('তাকিয়ে', 'O'), ('বসে', 'O'), ('রইল', 'O'), ('এক', 'O'), ('বছর', 'O'), ('যায়', 'O'), ('দু', 'O'), ('বছর', 'O'), ('যায়', 'O'), ('বুড়োর', 'S-PER'), ('নাম', 'O'), ('সবাই', 'O'), ('ভুলেই', 'O'), ('গেল', 'O'), ('কিষণলাল', 'S-PER'), ('হল', 'O'), ('রাজবাড়ির', 'O'), ('পুতুলহাটের', 'O'), ('সর্দার', 'O'), ('বুড়োর', 'S-PER'), ('মন', 'O'), ('ভাঙল', 'O'), ('বুড়োর', 'S-PER'), ('দিনও', 'O'), ('চলে', 'O'), ('না', 'O'), ('শেষকালে', 'O'), ('তার', 'S-PER'), ('মেয়ে', 'S-PER'), ('এসে', 'O'), ('তাকে', 'S-PER'), ('বললে', 'O'), ('তুমি', 'S-PER'), ('আমার', 'S-PER'), ('বাড়িতে', 'O'), ('এসো', 'O'), ('জামাই', 'O'), ('বললে', 'O'), ('খাও', 'O'), ('দাও', 'O'), ('আরাম', 'O'), ('করো', 'O'), ('আর', 'O'), ('সবজির', 'O'), ('খেত', 'O'), ('থেকে', 'O'), ('গোরু', 'O'), ('বাছুর', 'O'), ('খেদিয়ে', 'O'), ('রাখো', 'O'), ('বুড়োর', 'B-PER'), ('মেয়ে', 'E-PER'), ('থাকে', 'O'), ('অষ্টপ্রহর', 'O'), ('ঘরকরনার', 'O'), ('কাজে', 'O'), ('তার', 'S-PER'), ('জামাই', 'O'), ('গড়ে', 'O'), ('মাটির', 'O'), ('প্রদীপ', 'O'), ('আর', 'O'), ('নৌকো', 'O'), ('বোঝাই', 'O'), ('করে', 'O'), ('শহরে', 'O'), ('নিয়ে', 'O'), ('যায়', 'O'), ('নতুন', 'O'), ('কাল', 'O'), ('এসেছে', 'O'), ('সে', 'O'), ('কথা', 'O'), ('বুড়ো', 'S-PER'), ('বোঝে', 'O'), ('না', 'O'), ('তেমনিই', 'O'), ('সে', 'O'), ('বোঝে', 'O'), ('না', 'O'), ('যে', 'O'), ('তার', 'O'), ('নাৎনির', 'O'), ('বয়স', 'O'), ('হয়েছে', 'O'), ('ষোলো', 'O'), ('যেখানে', 'O'), ('গাছতলায়', 'O'), ('ব', 'O'), ('সে', 'O'), ('বুড়ো', 'S-PER'), ('খেত', 'O'), ('আগলায়', 'O'), ('আর', 'O'), ('ক্ষণে', 'O'), ('ক্ষণে', 'O'), ('ঘুমে', 'O'), ('ঢুলে', 'O'), ('পড়ে', 'O'), ('সেখানে', 'O'), ('নাৎনি', 'O'), ('গিয়ে', 'O'), ('তার', 'S-PER'), ('গলা', 'O'), ('জড়িয়ে', 'O'), ('ধরে', 'O'), ('বুড়োর', 'S-PER'), ('বুকের', 'O'), ('হাড়গুলো', 'O'), ('পর্যন্ত', 'O'), ('খুশি', 'O'), ('হয়ে', 'O'), ('ওঠে', 'O'), ('সে', 'O'), ('বলে', 'O'), ('কী', 'O'), ('দাদি', 'O'), ('কী', 'O'), ('চাই', 'O'), ('নাৎনি', 'O'), ('বলে', 'O'), ('আমাকে', 'S-PER'), ('পুতুল', 'S-PER'), ('গড়িয়ে', 'O'), ('দাও', 'O'), ('আমি', 'S-PER'), ('খেলব', 'O'), ('বুড়ো', 'S-PER'), ('বলে', 'O'), ('আরে', 'O'), ('ভাই', 'S-PER'), ('আমার', 'S-PER'), ('পুতুল', 'S-PER'), ('তোর', 'S-PER'), ('পছন্দ', 'O'), ('হবে', 'O'), ('কেন', 'O'), ('নাৎনি', 'O'), ('বলে', 'O'), ('তোমার', 'S-PER'), ('চেয়ে', 'O'), ('ভালো', 'O'), ('পুতুল', 'S-PER'), ('কে', 'O'), ('গড়ে', 'O'), ('শুনি', 'O'), ('বুড়ো', 'S-PER'), ('বলে', 'O'), ('কেন', 'O'), ('কিষণলাল', 'S-PER'), ('নাৎনি', 'O'), ('বলে', 'O'), ('ইস্\\u200c', 'O'), ('কিষণলালের', 'O'), ('সাধ্যি', 'O'), ('দুজনের', 'O'), ('এই', 'O'), ('কথা', 'O'), ('কাটাকাটি', 'O'), ('কতবার', 'O'), ('হয়েছে', 'O'), ('বারে', 'O'), ('বারে', 'O'), ('একই', 'O'), ('কথা', 'O'), ('তার', 'O'), ('পরে', 'O'), ('বুড়ো', 'S-PER'), ('তার', 'O'), ('ঝুলি', 'O'), ('থেকে', 'O'), ('মালমশলা', 'O'), ('বের', 'O'), ('করে', 'O'), ('চোখে', 'O'), ('মস্ত', 'O'), ('গোল', 'O'), ('চশমাটা', 'O'), ('আঁটে', 'O'), ('নাৎনিকে', 'O'), ('বলে', 'O'), ('কিন্তু', 'O'), ('দাদি', 'O'), ('ভুট্টা', 'O'), ('যে', 'O'), ('কাকে', 'O'), ('খেয়ে', 'O'), ('যাবে', 'O'), ('নাৎনি', 'O'), ('বলে', 'O'), ('দাদা', 'S-PER'), ('আমি', 'S-PER'), ('কাক', 'O'), ('তাড়াব', 'O'), ('বেলা', 'O'), ('বয়ে', 'O'), ('যায়', 'O'), ('দূরে', 'O'), ('ইঁদারা', 'O'), ('থেকে', 'O'), ('বলদে', 'O'), ('জল', 'O'), ('টানে', 'O'), ('তার', 'O'), ('শব্দ', 'O'), ('আসে', 'O'), ('নাৎনি', 'O'), ('কাক', 'O'), ('তাড়ায়', 'O'), ('বুড়ো', 'S-PER'), ('বসে', 'O'), ('বসে', 'O'), ('পুতুল', 'O'), ('গড়ে', 'O'), ('বুড়োর', 'S-PER'), ('সকলের', 'O'), ('চেয়ে', 'O'), ('ভয়', 'O'), ('তার', 'S-PER'), ('মেয়েকে', 'S-PER'), ('সেই', 'O'), ('গিন্নির', 'O'), ('শাসন', 'O'), ('বড়ো', 'O'), ('কড়া', 'O'), ('তার', 'O'), ('সংসারে', 'O'), ('সবাই', 'O'), ('থাকে', 'O'), ('সাবধানে', 'O'), ('বুড়ো', 'S-PER'), ('আজ', 'O'), ('একমনে', 'O'), ('পুতুল', 'O'), ('গড়তে', 'O'), ('বসেছে', 'O'), ('হুঁশ', 'O'), ('হল', 'O'), ('না', 'O'), ('পিছন', 'O'), ('থেকে', 'O'), ('তার', 'S-PER'), ('মেয়ে', 'S-PER'), ('ঘন', 'O'), ('ঘন', 'O'), ('হাত', 'O'), ('দুলিয়ে', 'O'), ('আসছে', 'O'), ('কাছে', 'O'), ('এসে', 'O'), ('যখন', 'O'), ('সে', 'O'), ('ডাক', 'O'), ('দিলে', 'O'), ('তখন', 'O'), ('চশমাটা', 'O'), ('চোখ', 'O'), ('থেকে', 'O'), ('খুলে', 'O'), ('নিয়ে', 'O'), ('অবোধ', 'O'), ('ছেলের', 'S-PER'), ('মতো', 'O'), ('তাকিয়ে', 'O'), ('রইল', 'O'), ('মেয়ে', 'S-PER'), ('বললে', 'O'), ('দুধ', 'O'), ('দোওয়া', 'O'), ('পড়ে', 'O'), ('থাক্\\u200c', 'O'), ('আর', 'O'), ('তুমি', 'S-PER'), ('সুভদ্রাকে', 'S-PER'), ('নিয়ে', 'O'), ('বেলা', 'O'), ('বইয়ে', 'O'), ('দাও', 'O'), ('অত', 'O'), ('বড়ো', 'O'), ('মেয়ে', 'S-PER'), ('ওর', 'S-PER'), ('কি', 'O'), ('পুতুলখেলার', 'S-PER'), ('বয়স', 'O'), ('বুড়ো', 'S-PER'), ('তাড়াতাড়ি', 'O'), ('বলে', 'O'), ('উঠল', 'O'), ('সুভদ্রা', 'S-PER'), ('খেলবে', 'O'), ('কেন', 'O'), ('এ', 'O'), ('পুতুল', 'O'), ('রাজবাড়িতে', 'O'), ('বেচব', 'O'), ('আমার', 'S-PER'), ('দাদির', 'S-PER'), ('যেদিন', 'O'), ('বর', 'O'), ('আসবে', 'O'), ('সেদিন', 'O'), ('তো', 'O'), ('ওর', 'O'), ('গলায়', 'O'), ('মোহরের', 'O'), ('মালা', 'O'), ('পরাতে', 'O'), ('হবে', 'O'), ('আমি', 'S-PER'), ('তাই', 'O'), ('টাকা', 'O'), ('জমাতে', 'O'), ('চাই', 'O'), ('মেয়ে', 'S-PER'), ('বিরক্ত', 'O'), ('হয়ে', 'O'), ('বললে', 'O'), ('রাজবাড়িতে', 'O'), ('এ', 'O'), ('পুতুল', 'O'), ('কিনবে', 'O'), ('কে', 'O'), ('বুড়োর', 'S-PER'), ('মাথা', 'O'), ('হেঁট', 'O'), ('হয়ে', 'O'), ('গেল', 'O'), ('চুপ', 'O'), ('করে', 'O'), ('বসে', 'O'), ('রইল', 'O'), ('সুভদ্রা', 'S-PER'), ('মাথা', 'O'), ('নেড়ে', 'O'), ('বললে', 'O'), ('দাদার', 'S-PER'), ('পুতুল', 'S-PER'), ('রাজবাড়িতে', 'O'), ('কেমন', 'O'), ('না', 'O'), ('কেনে', 'O'), ('দেখব', 'O'), ('দু', 'O'), ('দিন', 'O'), ('পরে', 'O'), ('সুভদ্রা', 'S-PER'), ('এক', 'O'), ('কাহন', 'O'), ('সোনা', 'O'), ('এনে', 'O'), ('মাকে', 'S-PER'), ('বললে', 'O'), ('এই', 'O'), ('নাও', 'O'), ('আমার', 'S-PER'), ('দাদার', 'S-PER'), ('পুতুলের', 'S-PER'), ('দাম', 'O'), ('মা', 'S-PER'), ('বললে', 'O'), ('কোথায়', 'O'), ('পেলি', 'O'), ('মেয়ে', 'S-PER'), ('বললে', 'O'), ('রাজপুরীতে', 'O'), ('গিয়ে', 'O'), ('বেচে', 'O'), ('এসেছি', 'O'), ('বুড়ো', 'S-PER'), ('হাসতে', 'O'), ('হাসতে', 'O'), ('বললে', 'O'), ('দাদি', 'O'), ('তবু', 'O'), ('তো', 'O'), ('তোর', 'S-PER'), ('দাদা', 'S-PER'), ('এখন', 'O'), ('চোখে', 'O'), ('ভালো', 'O'), ('দেখে', 'O'), ('না', 'O'), ('তার', 'S-PER'), ('হাত', 'O'), ('কেঁপে', 'O'), ('যায়', 'O'), ('মা', 'S-PER'), ('খুশি', 'O'), ('হয়ে', 'O'), ('বললে', 'O'), ('এমন', 'O'), ('ষোলোটা', 'O'), ('মোহর', 'O'), ('হলেই', 'O'), ('তো', 'O'), ('সুভদ্রার', 'S-PER'), ('গলার', 'O'), ('হার', 'O'), ('হবে', 'O'), ('বুড়ো', 'S-PER'), ('বললে', 'O'), ('তার', 'S-PER'), ('আর', 'O'), ('ভাবনা', 'O'), ('কী', 'O'), ('সুভদ্রা', 'S-PER'), ('বুড়োর', 'S-PER'), ('গলা', 'O'), ('জড়িয়ে', 'O'), ('ধরে', 'O'), ('বললে', 'O'), ('দাদাভাই', 'S-PER'), ('আমার', 'S-PER'), ('বরের', 'O'), ('জন্যে', 'O'), ('তো', 'O'), ('ভাবনা', 'O'), ('নেই', 'O'), ('বুড়ো', 'S-PER'), ('হাসতে', 'O'), ('লাগল', 'O'), ('আর', 'O'), ('চোখ', 'O'), ('থেকে', 'O'), ('এক', 'O'), ('ফোঁটা', 'O'), ('জল', 'O'), ('মুছে', 'O'), ('ফেললে', 'O'), ('বুড়োর', 'S-PER'), ('যৌবন', 'O'), ('যেন', 'O'), ('ফিরে', 'O'), ('এল', 'O'), ('সে', 'O'), ('গাছের', 'O'), ('তলায়', 'O'), ('বসে', 'O'), ('পুতুল', 'O'), ('গড়ে', 'O'), ('আর', 'O'), ('সুভদ্রা', 'S-PER'), ('কাক', 'O'), ('তাড়ায়', 'O'), ('আর', 'O'), ('দূরে', 'O'), ('ইঁদারায়', 'O'), ('বলদে', 'O'), ('ক্যাঁ', 'O'), ('কোঁ', 'O'), ('করে', 'O'), ('জল', 'O'), ('টানে', 'O'), ('একে', 'O'), ('একে', 'O'), ('ষোলোটা', 'O'), ('মোহর', 'O'), ('গাঁথা', 'O'), ('হল', 'O'), ('হার', 'O'), ('পূর্ণ', 'O'), ('হয়ে', 'O'), ('উঠল', 'O'), ('মা', 'O'), ('বললে', 'O'), ('এখন', 'O'), ('বর', 'O'), ('এলেই', 'O'), ('হয়', 'O'), ('সুভদ্রা', 'S-PER'), ('বুড়োর', 'S-PER'), ('কানে', 'O'), ('কানে', 'O'), ('বললে', 'O'), ('দাদাভাই', 'S-PER'), ('বর', 'S-PER'), ('ঠিক', 'O'), ('আছে', 'O'), ('দাদা', 'S-PER'), ('বললে', 'O'), ('বল্\\u200c', 'O'), ('তো', 'O'), ('দাদি', 'S-PER'), ('কোথায়', 'O'), ('পেলি', 'O'), ('বর', 'O'), ('সুভদ্রা', 'S-PER'), ('বললে', 'O'), ('যেদিন', 'O'), ('রাজপুরীতে', 'O'), ('গেলেম', 'O'), ('দ্বারী', 'O'), ('বললে', 'O'), ('কী', 'O'), ('চাও', 'O'), ('আমি', 'S-PER'), ('বললেম', 'O'), ('রাজকন্যাদের', 'S-PER'), ('কাছে', 'O'), ('পুতুল', 'S-PER'), ('বেচতে', 'O'), ('চাই', 'O'), ('সে', 'O'), ('বললে', 'O'), ('এ', 'O'), ('পুতুল', 'O'), ('এখনকার', 'O'), ('দিনে', 'O'), ('চলবে', 'O'), ('না', 'O'), ('ব', 'O'), ('লে', 'O'), ('আমাকে', 'S-PER'), ('ফিরিয়ে', 'O'), ('দিলে', 'O'), ('একজন', 'O'), ('মানুষ', 'S-PER'), ('আমার', 'S-PER'), ('কান্না', 'O'), ('দেখে', 'O'), ('বললে', 'O'), ('দাও', 'O'), ('তো', 'O'), ('ঐ', 'O'), ('পুতুলের', 'S-PER'), ('একটু', 'O'), ('সাজ', 'O'), ('ফিরিয়ে', 'O'), ('দিই', 'O'), ('বিক্রি', 'O'), ('হয়ে', 'O'), ('যাবে', 'O'), ('সেই', 'O'), ('মানুষটিকে', 'O'), ('তুমি', 'S-PER'), ('যদি', 'O'), ('পছন্দ', 'O'), ('কর', 'O'), ('দাদা', 'S-PER'), ('তা', 'O'), ('হলে', 'O'), ('আমি', 'S-PER'), ('তার', 'S-PER'), ('গলায়', 'O'), ('মালা', 'O'), ('দিই', 'O'), ('বুড়ো', 'S-PER'), ('জিজ্ঞাসা', 'O'), ('করলে', 'O'), ('সে', 'O'), ('আছে', 'O'), ('কোথায়', 'O'), ('নাৎনি', 'O'), ('বললে', 'O'), ('ঐ', 'O'), ('যে', 'O'), ('বাইরে', 'O'), ('পিয়ালগাছের', 'O'), ('তলায়', 'O'), ('বর', 'O'), ('এল', 'O'), ('ঘরের', 'O'), ('মধ্যে', 'O'), ('বুড়ো', 'S-PER'), ('বললে', 'O'), ('এ', 'O'), ('যে', 'O'), ('কিষণলাল', 'O'), ('কিষণলাল', 'O'), ('বুড়োর', 'S-PER'), ('পায়ের', 'O'), ('ধুলো', 'O'), ('নিয়ে', 'O'), ('বললে', 'O'), ('হাঁ', 'O'), ('আমি', 'S-PER'), ('কিষণলাল', 'B-PER'), ('বুড়ো', 'E-PER'), ('তাকে', 'S-PER'), ('বুকে', 'O'), ('চেপে', 'O'), ('ধরে', 'O'), ('বললে', 'O'), ('ভাই', 'S-PER'), ('একদিন', 'O'), ('তুমি', 'S-PER'), ('কেড়ে', 'O'), ('নিয়েছিলে', 'O'), ('আমার', 'S-PER'), ('হাতের', 'O'), ('পুতুলকে', 'S-PER'), ('আজ', 'O'), ('নিলে', 'O'), ('আমার', 'S-PER'), ('প্রাণের', 'O'), ('পুতুলটিকে', 'O'), ('নাৎনি', 'O'), ('বুড়োর', 'S-PER'), ('গলা', 'O'), ('ধরে', 'O'), ('তার', 'S-PER'), ('কানে', 'O'), ('কানে', 'O'), ('বললে', 'O'), ('দাদা', 'S-PER'), ('তোমাকে', 'S-PER'), ('সুদ্ধ', 'O')]\n"
          ]
        }
      ]
    },
    {
      "cell_type": "code",
      "source": [
        "import csv\n",
        "import json\n",
        "import pickle"
      ],
      "metadata": {
        "id": "pokW96I1WM_x"
      },
      "execution_count": 400,
      "outputs": []
    },
    {
      "cell_type": "code",
      "source": [
        "with open(\"demo.pkl\", \"wb\") as file:\n",
        "    pickle.dump(nerlist, file)"
      ],
      "metadata": {
        "id": "lau6zLwkVx8Y"
      },
      "execution_count": 401,
      "outputs": []
    },
    {
      "cell_type": "code",
      "source": [
        "with open(\"demo.pkl\", \"rb\") as file:\n",
        "    my_list = pickle.load(file)\n",
        "\n",
        "print(my_list)"
      ],
      "metadata": {
        "colab": {
          "base_uri": "https://localhost:8080/"
        },
        "id": "WlkuwIXVW7dv",
        "outputId": "a08cc90a-1b99-479f-cda1-979dc13b9335"
      },
      "execution_count": 402,
      "outputs": [
        {
          "output_type": "stream",
          "name": "stdout",
          "text": [
            "[[('নতুন', 'O'), ('পুতুল', 'O'), ('notun', 'O'), ('putul', 'O'), ('এই', 'O'), ('গুণী', 'O'), ('কেবল', 'O'), ('পুতুল', 'S-PER'), ('তৈরি', 'O'), ('করত', 'O'), ('সে', 'O'), ('পুতুল', 'O'), ('রাজবাড়ির', 'O'), ('মেয়েদের', 'S-PER'), ('খেলার', 'O'), ('জন্যে', 'O')], [('বছরে', 'O'), ('বছরে', 'O'), ('রাজবাড়ির', 'O'), ('আঙিনায়', 'O'), ('পুতুলের', 'O'), ('মেলা', 'O'), ('বসে', 'O')], [('সেই', 'O'), ('মেলায়', 'O'), ('সকল', 'O'), ('কারিগরই', 'O'), ('এই', 'O'), ('গুণীকে', 'O'), ('প্রধান', 'O'), ('মান', 'O'), ('দিয়ে', 'O'), ('এসেছে', 'O')], [('যখন', 'O'), ('তার', 'S-PER'), ('বয়স', 'O'), ('হল', 'O'), ('প্রায়', 'O'), ('চার', 'O'), ('কুড়ি', 'O'), ('এমনসময়', 'O'), ('মেলায়', 'O'), ('এক', 'O'), ('নতুন', 'O'), ('কারিগর', 'O'), ('এল', 'O')], [('তার', 'S-PER'), ('নাম', 'O'), ('কিষণলাল', 'O'), ('বয়স', 'O'), ('তার', 'O'), ('নবীন', 'O'), ('নতুন', 'O'), ('তার', 'O'), ('কায়দা', 'O')], [('যে', 'O'), ('পুতুল', 'S-PER'), ('সে', 'O'), ('গড়ে', 'O'), ('তার', 'O'), ('কিছু', 'O'), ('গড়ে', 'O'), ('কিছু', 'O'), ('গড়ে', 'O'), ('না', 'O'), ('কিছু', 'O'), ('রঙ', 'O'), ('দেয়', 'O'), ('কিছু', 'O'), ('বাকি', 'O'), ('রাখে', 'O')], [('মনে', 'O'), ('হয়', 'O'), ('পুতুলগুলো', 'O'), ('যেন', 'O'), ('ফুরোয়', 'O'), ('নি', 'O'), ('যেন', 'O'), ('কোনোকালে', 'O'), ('ফুরিয়ে', 'O'), ('যাবে', 'O'), ('না', 'O')], [('নবীনের', 'O'), ('দল', 'O'), ('বললে', 'O'), ('লোকটা', 'O'), ('সাহস', 'O'), ('দেখিয়েছে', 'O')], [('প্রবীণের', 'O'), ('দল', 'O'), ('বললে', 'O'), ('একে', 'O'), ('বলে', 'O'), ('সাহস', 'O')], [('এ', 'O'), ('তো', 'O'), ('স্পর্ধা', 'O')], [('কিন্তু', 'O'), ('নতুন', 'O'), ('কালের', 'O'), ('নতুন', 'O'), ('দাবি', 'O')], [('এ', 'O'), ('কালের', 'O'), ('রাজকন্যারা', 'S-PER'), ('বলে', 'O'), ('আমাদের', 'S-PER'), ('এই', 'O'), ('পুতুল', 'O'), ('চাই', 'O')], [('সাবেক', 'O'), ('কালের', 'O'), ('অনুচরেরা', 'O'), ('বলে', 'O'), ('আরে', 'O'), ('ছিঃ', 'O')], [('শুনে', 'O'), ('তাদের', 'S-PER'), ('জেদ', 'O'), ('বেড়ে', 'O'), ('যায়', 'O')], [('বুড়োর', 'O'), ('দোকানে', 'O'), ('এবার', 'O'), ('ভিড়', 'O'), ('নেই', 'O')], [('তার', 'S-PER'), ('ঝাঁকাভরা', 'O'), ('পুতুল', 'O'), ('যেন', 'O'), ('খেয়ার', 'O'), ('অপেক্ষায়', 'O'), ('ঘাটের', 'O'), ('লোকের', 'O'), ('মতো', 'O'), ('ও', 'O'), ('পারের', 'O'), ('দিকে', 'O'), ('তাকিয়ে', 'O'), ('বসে', 'O'), ('রইল', 'O')], [('এক', 'O'), ('বছর', 'O'), ('যায়', 'O'), ('দু', 'O'), ('বছর', 'O'), ('যায়', 'O'), ('বুড়োর', 'O'), ('নাম', 'O'), ('সবাই', 'O'), ('ভুলেই', 'O'), ('গেল', 'O')], [('কিষণলাল', 'O'), ('হল', 'O'), ('রাজবাড়ির', 'O'), ('পুতুলহাটের', 'O'), ('সর্দার', 'O')], [('বুড়োর', 'O'), ('মন', 'O'), ('ভাঙল', 'O'), ('বুড়োর', 'O'), ('দিনও', 'O'), ('চলে', 'O'), ('না', 'O')], [('শেষকালে', 'O'), ('তার', 'S-PER'), ('মেয়ে', 'S-PER'), ('এসে', 'O'), ('তাকে', 'S-PER'), ('বললে', 'O'), ('তুমি', 'S-PER'), ('আমার', 'S-PER'), ('বাড়িতে', 'O'), ('এসো', 'O')], [('জামাই', 'O'), ('বললে', 'O'), ('খাও', 'O'), ('দাও', 'O'), ('আরাম', 'O'), ('করো', 'O'), ('আর', 'O'), ('সবজির', 'O'), ('খেত', 'O'), ('থেকে', 'O'), ('গোরু', 'O'), ('বাছুর', 'O'), ('খেদিয়ে', 'O'), ('রাখো', 'O')], [('বুড়োর', 'O'), ('মেয়ে', 'O'), ('থাকে', 'O'), ('অষ্টপ্রহর', 'O'), ('ঘরকরনার', 'O'), ('কাজে', 'O')], [('তার', 'S-PER'), ('জামাই', 'O'), ('গড়ে', 'O'), ('মাটির', 'O'), ('প্রদীপ', 'O'), ('আর', 'O'), ('নৌকো', 'S-OBJ'), ('বোঝাই', 'O'), ('করে', 'O'), ('শহরে', 'O'), ('নিয়ে', 'O'), ('যায়', 'O')], [('নতুন', 'O'), ('কাল', 'O'), ('এসেছে', 'O'), ('সে', 'O'), ('কথা', 'O'), ('বুড়ো', 'O'), ('বোঝে', 'O'), ('না', 'O'), ('তেমনিই', 'O'), ('সে', 'O'), ('বোঝে', 'O'), ('না', 'O'), ('যে', 'O'), ('তার', 'O'), ('নাৎনির', 'O'), ('বয়স', 'O'), ('হয়েছে', 'O'), ('ষোলো', 'O')], [('যেখানে', 'O'), ('গাছতলায়', 'O'), ('ব', 'O'), ('সে', 'O'), ('বুড়ো', 'O'), ('খেত', 'O'), ('আগলায়', 'O'), ('আর', 'O'), ('ক্ষণে', 'O'), ('ক্ষণে', 'O'), ('ঘুমে', 'O'), ('ঢুলে', 'O'), ('পড়ে', 'O'), ('সেখানে', 'O'), ('নাৎনি', 'O'), ('গিয়ে', 'O'), ('তার', 'S-PER'), ('গলা', 'O'), ('জড়িয়ে', 'O'), ('ধরে', 'O'), ('বুড়োর', 'O'), ('বুকের', 'O'), ('হাড়গুলো', 'O'), ('পর্যন্ত', 'O'), ('খুশি', 'O'), ('হয়ে', 'O'), ('ওঠে', 'O')], [('সে', 'O'), ('বলে', 'O'), ('কী', 'O'), ('দাদি', 'O'), ('কী', 'O'), ('চাই', 'O')], [('নাৎনি', 'O'), ('বলে', 'O'), ('আমাকে', 'S-PER'), ('পুতুল', 'S-PER'), ('গড়িয়ে', 'O'), ('দাও', 'O'), ('আমি', 'S-PER'), ('খেলব', 'O')], [('বুড়ো', 'O'), ('বলে', 'O'), ('আরে', 'O'), ('ভাই', 'S-PER'), ('আমার', 'S-PER'), ('পুতুল', 'S-PER'), ('তোর', 'S-PER'), ('পছন্দ', 'O'), ('হবে', 'O'), ('কেন', 'O')], [('নাৎনি', 'O'), ('বলে', 'O'), ('তোমার', 'S-PER'), ('চেয়ে', 'O'), ('ভালো', 'O'), ('পুতুল', 'S-PER'), ('কে', 'O'), ('গড়ে', 'O'), ('শুনি', 'O')], [('বুড়ো', 'O'), ('বলে', 'O'), ('কেন', 'O'), ('কিষণলাল', 'S-PER')], [('নাৎনি', 'O'), ('বলে', 'O'), ('ইস্\\u200c', 'O')], [('কিষণলালের', 'O'), ('সাধ্যি', 'O')], [('দুজনের', 'O'), ('এই', 'O'), ('কথা', 'O'), ('কাটাকাটি', 'O'), ('কতবার', 'O'), ('হয়েছে', 'O')], [('বারে', 'O'), ('বারে', 'O'), ('একই', 'O'), ('কথা', 'O')], [('তার', 'S-PER'), ('পরে', 'O'), ('বুড়ো', 'O'), ('তার', 'O'), ('ঝুলি', 'O'), ('থেকে', 'O'), ('মালমশলা', 'O'), ('বের', 'O'), ('করে', 'O'), ('চোখে', 'O'), ('মস্ত', 'O'), ('গোল', 'O'), ('চশমাটা', 'O'), ('আঁটে', 'O')], [('নাৎনিকে', 'O'), ('বলে', 'O'), ('কিন্তু', 'O'), ('দাদি', 'O'), ('ভুট্টা', 'O'), ('যে', 'O'), ('কাকে', 'O'), ('খেয়ে', 'O'), ('যাবে', 'O')], [('নাৎনি', 'O'), ('বলে', 'O'), ('দাদা', 'S-PER'), ('আমি', 'S-PER'), ('কাক', 'O'), ('তাড়াব', 'O')], [('বেলা', 'O'), ('বয়ে', 'O'), ('যায়', 'O'), ('দূরে', 'O'), ('ইঁদারা', 'O'), ('থেকে', 'O'), ('বলদে', 'O'), ('জল', 'O'), ('টানে', 'O'), ('তার', 'O'), ('শব্দ', 'O'), ('আসে', 'O'), ('নাৎনি', 'O'), ('কাক', 'O'), ('তাড়ায়', 'O'), ('বুড়ো', 'O'), ('বসে', 'O'), ('বসে', 'O'), ('পুতুল', 'O'), ('গড়ে', 'O')], [('বুড়োর', 'O'), ('সকলের', 'O'), ('চেয়ে', 'O'), ('ভয়', 'O'), ('তার', 'S-PER'), ('মেয়েকে', 'S-PER')], [('সেই', 'O'), ('গিন্নির', 'O'), ('শাসন', 'O'), ('বড়ো', 'O'), ('কড়া', 'O'), ('তার', 'O'), ('সংসারে', 'O'), ('সবাই', 'O'), ('থাকে', 'O'), ('সাবধানে', 'O')], [('বুড়ো', 'O'), ('আজ', 'O'), ('একমনে', 'O'), ('পুতুল', 'O'), ('গড়তে', 'O'), ('বসেছে', 'O'), ('হুঁশ', 'O'), ('হল', 'O'), ('না', 'O'), ('পিছন', 'O'), ('থেকে', 'O'), ('তার', 'S-PER'), ('মেয়ে', 'S-PER'), ('ঘন', 'O'), ('ঘন', 'O'), ('হাত', 'O'), ('দুলিয়ে', 'O'), ('আসছে', 'O')], [('কাছে', 'O'), ('এসে', 'O'), ('যখন', 'O'), ('সে', 'O'), ('ডাক', 'O'), ('দিলে', 'O'), ('তখন', 'O'), ('চশমাটা', 'O'), ('চোখ', 'O'), ('থেকে', 'O'), ('খুলে', 'O'), ('নিয়ে', 'O'), ('অবোধ', 'O'), ('ছেলের', 'S-PER'), ('মতো', 'O'), ('তাকিয়ে', 'O'), ('রইল', 'O')], [('মেয়ে', 'S-PER'), ('বললে', 'O'), ('দুধ', 'O'), ('দোওয়া', 'O'), ('পড়ে', 'O'), ('থাক্\\u200c', 'O'), ('আর', 'O'), ('তুমি', 'S-PER'), ('সুভদ্রাকে', 'O'), ('নিয়ে', 'O'), ('বেলা', 'O'), ('বইয়ে', 'O'), ('দাও', 'O')], [('অত', 'O'), ('বড়ো', 'O'), ('মেয়ে', 'S-PER'), ('ওর', 'S-PER'), ('কি', 'O'), ('পুতুলখেলার', 'S-PER'), ('বয়স', 'O')], [('বুড়ো', 'O'), ('তাড়াতাড়ি', 'O'), ('বলে', 'O'), ('উঠল', 'O'), ('সুভদ্রা', 'O'), ('খেলবে', 'O'), ('কেন', 'O')], [('এ', 'O'), ('পুতুল', 'O'), ('রাজবাড়িতে', 'O'), ('বেচব', 'O')], [('আমার', 'S-PER'), ('দাদির', 'S-PER'), ('যেদিন', 'O'), ('বর', 'O'), ('আসবে', 'O'), ('সেদিন', 'O'), ('তো', 'O'), ('ওর', 'O'), ('গলায়', 'O'), ('মোহরের', 'O'), ('মালা', 'O'), ('পরাতে', 'O'), ('হবে', 'O')], [('আমি', 'S-PER'), ('তাই', 'O'), ('টাকা', 'S-OBJ'), ('জমাতে', 'O'), ('চাই', 'O')], [('মেয়ে', 'S-PER'), ('বিরক্ত', 'O'), ('হয়ে', 'O'), ('বললে', 'O'), ('রাজবাড়িতে', 'O'), ('এ', 'O'), ('পুতুল', 'O'), ('কিনবে', 'O'), ('কে', 'O')], [('বুড়োর', 'O'), ('মাথা', 'O'), ('হেঁট', 'O'), ('হয়ে', 'O'), ('গেল', 'O')], [('চুপ', 'O'), ('করে', 'O'), ('বসে', 'O'), ('রইল', 'O')], [('সুভদ্রা', 'O'), ('মাথা', 'O'), ('নেড়ে', 'O'), ('বললে', 'O'), ('দাদার', 'S-PER'), ('পুতুল', 'S-PER'), ('রাজবাড়িতে', 'O'), ('কেমন', 'O'), ('না', 'O'), ('কেনে', 'O'), ('দেখব', 'O')], [('দু', 'O'), ('দিন', 'O'), ('পরে', 'O'), ('সুভদ্রা', 'O'), ('এক', 'O'), ('কাহন', 'O'), ('সোনা', 'O'), ('এনে', 'O'), ('মাকে', 'S-PER'), ('বললে', 'O'), ('এই', 'O'), ('নাও', 'O'), ('আমার', 'S-PER'), ('দাদার', 'S-PER'), ('পুতুলের', 'S-PER'), ('দাম', 'O')], [('মা', 'S-PER'), ('বললে', 'O'), ('কোথায়', 'O'), ('পেলি', 'O')], [('মেয়ে', 'S-PER'), ('বললে', 'O'), ('রাজপুরীতে', 'O'), ('গিয়ে', 'O'), ('বেচে', 'O'), ('এসেছি', 'O')], [('বুড়ো', 'O'), ('হাসতে', 'O'), ('হাসতে', 'O'), ('বললে', 'O'), ('দাদি', 'O'), ('তবু', 'O'), ('তো', 'O'), ('তোর', 'S-PER'), ('দাদা', 'S-PER'), ('এখন', 'O'), ('চোখে', 'O'), ('ভালো', 'O'), ('দেখে', 'O'), ('না', 'O'), ('তার', 'S-PER'), ('হাত', 'O'), ('কেঁপে', 'O'), ('যায়', 'O')], [('মা', 'S-PER'), ('খুশি', 'O'), ('হয়ে', 'O'), ('বললে', 'O'), ('এমন', 'O'), ('ষোলোটা', 'O'), ('মোহর', 'O'), ('হলেই', 'O'), ('তো', 'O'), ('সুভদ্রার', 'O'), ('গলার', 'O'), ('হার', 'O'), ('হবে', 'O')], [('বুড়ো', 'O'), ('বললে', 'O'), ('তার', 'S-PER'), ('আর', 'O'), ('ভাবনা', 'O'), ('কী', 'O')], [('সুভদ্রা', 'O'), ('বুড়োর', 'O'), ('গলা', 'O'), ('জড়িয়ে', 'O'), ('ধরে', 'O'), ('বললে', 'O'), ('দাদাভাই', 'S-PER'), ('আমার', 'S-PER'), ('বরের', 'O'), ('জন্যে', 'O'), ('তো', 'O'), ('ভাবনা', 'O'), ('নেই', 'O')], [('বুড়ো', 'O'), ('হাসতে', 'O'), ('লাগল', 'O'), ('আর', 'O'), ('চোখ', 'O'), ('থেকে', 'O'), ('এক', 'O'), ('ফোঁটা', 'O'), ('জল', 'O'), ('মুছে', 'O'), ('ফেললে', 'O')], [('বুড়োর', 'O'), ('যৌবন', 'O'), ('যেন', 'O'), ('ফিরে', 'O'), ('এল', 'O')], [('সে', 'O'), ('গাছের', 'O'), ('তলায়', 'O'), ('বসে', 'O'), ('পুতুল', 'O'), ('গড়ে', 'O'), ('আর', 'O'), ('সুভদ্রা', 'O'), ('কাক', 'O'), ('তাড়ায়', 'O'), ('আর', 'O'), ('দূরে', 'O'), ('ইঁদারায়', 'O'), ('বলদে', 'O'), ('ক্যাঁ', 'O'), ('কোঁ', 'O'), ('করে', 'O'), ('জল', 'O'), ('টানে', 'O')], [('একে', 'O'), ('একে', 'O'), ('ষোলোটা', 'O'), ('মোহর', 'O'), ('গাঁথা', 'O'), ('হল', 'O'), ('হার', 'O'), ('পূর্ণ', 'O'), ('হয়ে', 'O'), ('উঠল', 'O')], [('মা', 'S-PER'), ('বললে', 'O'), ('এখন', 'O'), ('বর', 'O'), ('এলেই', 'O'), ('হয়', 'O')], [('সুভদ্রা', 'O'), ('বুড়োর', 'O'), ('কানে', 'O'), ('কানে', 'O'), ('বললে', 'O'), ('দাদাভাই', 'S-PER'), ('বর', 'S-PER'), ('ঠিক', 'O'), ('আছে', 'O')], [('দাদা', 'S-PER'), ('বললে', 'O'), ('বল্\\u200c', 'O'), ('তো', 'O'), ('দাদি', 'S-PER'), ('কোথায়', 'O'), ('পেলি', 'O'), ('বর', 'O')], [('সুভদ্রা', 'O'), ('বললে', 'O'), ('যেদিন', 'O'), ('রাজপুরীতে', 'O'), ('গেলেম', 'O'), ('দ্বারী', 'O'), ('বললে', 'O'), ('কী', 'O'), ('চাও', 'O')], [('আমি', 'S-PER'), ('বললেম', 'O'), ('রাজকন্যাদের', 'S-PER'), ('কাছে', 'O'), ('পুতুল', 'S-PER'), ('বেচতে', 'O'), ('চাই', 'O')], [('সে', 'O'), ('বললে', 'O'), ('এ', 'O'), ('পুতুল', 'O'), ('এখনকার', 'O'), ('দিনে', 'O'), ('চলবে', 'O'), ('না', 'O')], [('ব', 'O'), ('লে', 'O'), ('আমাকে', 'S-PER'), ('ফিরিয়ে', 'O'), ('দিলে', 'O')], [('একজন', 'O'), ('মানুষ', 'S-PER'), ('আমার', 'S-PER'), ('কান্না', 'O'), ('দেখে', 'O'), ('বললে', 'O'), ('দাও', 'O'), ('তো', 'O'), ('ঐ', 'O'), ('পুতুলের', 'S-PER'), ('একটু', 'O'), ('সাজ', 'O'), ('ফিরিয়ে', 'O'), ('দিই', 'O'), ('বিক্রি', 'O'), ('হয়ে', 'O'), ('যাবে', 'O')], [('সেই', 'O'), ('মানুষটিকে', 'O'), ('তুমি', 'S-PER'), ('যদি', 'O'), ('পছন্দ', 'O'), ('কর', 'O'), ('দাদা', 'S-PER'), ('তা', 'O'), ('হলে', 'O'), ('আমি', 'S-PER'), ('তার', 'S-PER'), ('গলায়', 'O'), ('মালা', 'O'), ('দিই', 'O')], [('বুড়ো', 'O'), ('জিজ্ঞাসা', 'O'), ('করলে', 'O'), ('সে', 'O'), ('আছে', 'O'), ('কোথায়', 'O')], [('নাৎনি', 'O'), ('বললে', 'O'), ('ঐ', 'O'), ('যে', 'O'), ('বাইরে', 'O'), ('পিয়ালগাছের', 'O'), ('তলায়', 'O')], [('বর', 'O'), ('এল', 'O'), ('ঘরের', 'O'), ('মধ্যে', 'O'), ('বুড়ো', 'O'), ('বললে', 'O'), ('এ', 'O'), ('যে', 'O'), ('কিষণলাল', 'O')], [('কিষণলাল', 'O'), ('বুড়োর', 'O'), ('পায়ের', 'O'), ('ধুলো', 'O'), ('নিয়ে', 'O'), ('বললে', 'O'), ('হাঁ', 'O'), ('আমি', 'S-PER'), ('কিষণলাল', 'O')], [('বুড়ো', 'O'), ('তাকে', 'O'), ('বুকে', 'O'), ('চেপে', 'O'), ('ধরে', 'O'), ('বললে', 'O'), ('ভাই', 'S-PER'), ('একদিন', 'O'), ('তুমি', 'S-PER'), ('কেড়ে', 'O'), ('নিয়েছিলে', 'O'), ('আমার', 'S-PER'), ('হাতের', 'O'), ('পুতুলকে', 'S-PER'), ('আজ', 'O'), ('নিলে', 'O'), ('আমার', 'S-PER'), ('প্রাণের', 'O'), ('পুতুলটিকে', 'S-PER')], [('নাৎনি', 'O'), ('বুড়োর', 'O'), ('গলা', 'O'), ('ধরে', 'O'), ('তার', 'S-PER'), ('কানে', 'O'), ('কানে', 'O'), ('বললে', 'O'), ('দাদা', 'S-PER'), ('তোমাকে', 'S-PER'), ('সুদ্ধ', 'O')]]\n"
          ]
        }
      ]
    },
    {
      "cell_type": "code",
      "source": [
        "count2 = 0\n",
        "for list in nerlist:\n",
        "  for i in range(len(list)):\n",
        "    if list[i] == nertupleslist[count2]:\n",
        "      count2 = count2 + 1\n",
        "    else:\n",
        "      list[i] = nertupleslist[count2]\n",
        "      count2 = count2 + 1\n",
        "print(count2)"
      ],
      "metadata": {
        "colab": {
          "base_uri": "https://localhost:8080/"
        },
        "id": "HA5bs5xoX0bt",
        "outputId": "82fa4ae3-c5ab-443f-f1aa-2fc221568e49"
      },
      "execution_count": 403,
      "outputs": [
        {
          "output_type": "stream",
          "name": "stdout",
          "text": [
            "746\n"
          ]
        }
      ]
    },
    {
      "cell_type": "code",
      "source": [
        "# nerlist\n",
        "flag = 1\n",
        "count3 = 0\n",
        "for list in nerlist:\n",
        "  for i in range(len(list)):\n",
        "    if list[i] != nertupleslist[count3]:\n",
        "      flag = 0\n",
        "      count3 = count3 + 1\n",
        "      break\n",
        "    else:\n",
        "      count3 = count3 + 1\n",
        "\n",
        "print(flag)\n",
        "print(count3)"
      ],
      "metadata": {
        "colab": {
          "base_uri": "https://localhost:8080/"
        },
        "id": "tHjzKEIQYjbI",
        "outputId": "f40c0264-6deb-414a-acd5-393ff57a3355"
      },
      "execution_count": 404,
      "outputs": [
        {
          "output_type": "stream",
          "name": "stdout",
          "text": [
            "1\n",
            "746\n"
          ]
        }
      ]
    },
    {
      "cell_type": "code",
      "source": [
        "folder_path = '/content/drive/MyDrive/final-year-project/stories-pkl-file/'\n",
        "filename = 'notun_putul.pkl'\n",
        "file_path = folder_path + filename\n",
        "\n",
        "with open(file_path, 'wb') as file:\n",
        "  pickle.dump(nerlist, file)\n",
        "\n",
        "print(f\"PKL file has been saved to: {file_path}\")"
      ],
      "metadata": {
        "colab": {
          "base_uri": "https://localhost:8080/"
        },
        "id": "ZWYIIyqHYp3I",
        "outputId": "e48332b8-f1cb-4bf9-a004-9536017c0182"
      },
      "execution_count": 405,
      "outputs": [
        {
          "output_type": "stream",
          "name": "stdout",
          "text": [
            "PKL file has been saved to: /content/drive/MyDrive/final-year-project/stories-pkl-file/notun_putul.pkl\n"
          ]
        }
      ]
    },
    {
      "cell_type": "code",
      "source": [
        "with open(\"/content/drive/MyDrive/final-year-project/stories-pkl-file/notun_putul.pkl\", \"rb\") as file:\n",
        "    my_list = pickle.load(file)\n",
        "\n",
        "my_list[:2]"
      ],
      "metadata": {
        "colab": {
          "base_uri": "https://localhost:8080/"
        },
        "id": "Cct0i3OlaOCv",
        "outputId": "e3aa3d5b-8aa8-43ac-f6bd-f74d7218c488"
      },
      "execution_count": 406,
      "outputs": [
        {
          "output_type": "execute_result",
          "data": {
            "text/plain": [
              "[[('নতুন', 'O'),\n",
              "  ('পুতুল', 'O'),\n",
              "  ('notun', 'O'),\n",
              "  ('putul', 'O'),\n",
              "  ('এই', 'O'),\n",
              "  ('গুণী', 'O'),\n",
              "  ('কেবল', 'O'),\n",
              "  ('পুতুল', 'S-PER'),\n",
              "  ('তৈরি', 'O'),\n",
              "  ('করত', 'O'),\n",
              "  ('সে', 'O'),\n",
              "  ('পুতুল', 'S-PER'),\n",
              "  ('রাজবাড়ির', 'O'),\n",
              "  ('মেয়েদের', 'S-PER'),\n",
              "  ('খেলার', 'O'),\n",
              "  ('জন্যে', 'O')],\n",
              " [('বছরে', 'O'),\n",
              "  ('বছরে', 'O'),\n",
              "  ('রাজবাড়ির', 'O'),\n",
              "  ('আঙিনায়', 'O'),\n",
              "  ('পুতুলের', 'S-PER'),\n",
              "  ('মেলা', 'O'),\n",
              "  ('বসে', 'O')]]"
            ]
          },
          "metadata": {},
          "execution_count": 406
        }
      ]
    },
    {
      "cell_type": "code",
      "source": [
        "if flag == 1:\n",
        "  print(\"evrything's ok\")\n",
        "else:\n",
        "  print(\"something's wrong\")"
      ],
      "metadata": {
        "colab": {
          "base_uri": "https://localhost:8080/"
        },
        "id": "Dmul66dNdcFW",
        "outputId": "ea2eb796-08cf-470d-9fde-ba25f63efb02"
      },
      "execution_count": 407,
      "outputs": [
        {
          "output_type": "stream",
          "name": "stdout",
          "text": [
            "evrything's ok\n"
          ]
        }
      ]
    },
    {
      "cell_type": "code",
      "source": [
        "if count1 == count2:\n",
        "  if count2 == count3:\n",
        "    print(\"okkkk\")\n",
        "  else:\n",
        "    print(\"wrongggg\")\n",
        "else:\n",
        "  print(\"wrongggg\")"
      ],
      "metadata": {
        "colab": {
          "base_uri": "https://localhost:8080/"
        },
        "id": "FGPxJoFpdnyp",
        "outputId": "0d096f02-8b41-434b-fc13-8c074d76c6ed"
      },
      "execution_count": 408,
      "outputs": [
        {
          "output_type": "stream",
          "name": "stdout",
          "text": [
            "okkkk\n"
          ]
        }
      ]
    },
    {
      "cell_type": "code",
      "source": [
        "drive.flush_and_unmount()"
      ],
      "metadata": {
        "colab": {
          "base_uri": "https://localhost:8080/",
          "height": 146
        },
        "id": "crUFhdtTmS16",
        "outputId": "16853554-860f-4eb1-8698-78f7d0e0a31a"
      },
      "execution_count": 1,
      "outputs": [
        {
          "output_type": "error",
          "ename": "NameError",
          "evalue": "name 'drive' is not defined",
          "traceback": [
            "\u001b[0;31m---------------------------------------------------------------------------\u001b[0m",
            "\u001b[0;31mNameError\u001b[0m                                 Traceback (most recent call last)",
            "\u001b[0;32m<ipython-input-1-7e7fc67cc157>\u001b[0m in \u001b[0;36m<cell line: 1>\u001b[0;34m()\u001b[0m\n\u001b[0;32m----> 1\u001b[0;31m \u001b[0mdrive\u001b[0m\u001b[0;34m.\u001b[0m\u001b[0mflush_and_unmount\u001b[0m\u001b[0;34m(\u001b[0m\u001b[0;34m)\u001b[0m\u001b[0;34m\u001b[0m\u001b[0;34m\u001b[0m\u001b[0m\n\u001b[0m",
            "\u001b[0;31mNameError\u001b[0m: name 'drive' is not defined"
          ]
        }
      ]
    }
  ]
}