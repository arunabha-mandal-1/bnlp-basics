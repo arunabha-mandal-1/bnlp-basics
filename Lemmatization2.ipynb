{
  "nbformat": 4,
  "nbformat_minor": 0,
  "metadata": {
    "colab": {
      "provenance": [],
      "authorship_tag": "ABX9TyPeW4qcVMEnGcj7dXuTrA7g",
      "include_colab_link": true
    },
    "kernelspec": {
      "name": "python3",
      "display_name": "Python 3"
    },
    "language_info": {
      "name": "python"
    }
  },
  "cells": [
    {
      "cell_type": "markdown",
      "metadata": {
        "id": "view-in-github",
        "colab_type": "text"
      },
      "source": [
        "<a href=\"https://colab.research.google.com/github/arunabha-mandal-1/bnlp-basics/blob/main/Lemmatization2.ipynb\" target=\"_parent\"><img src=\"https://colab.research.google.com/assets/colab-badge.svg\" alt=\"Open In Colab\"/></a>"
      ]
    },
    {
      "cell_type": "markdown",
      "source": [
        "# Lemmatization in Bengali Natural Language Processing"
      ],
      "metadata": {
        "id": "eK0Tcl8_Nbo3"
      }
    },
    {
      "cell_type": "code",
      "source": [
        "text1 = \"\"\"জীবের মধ্যে সবচেয়ে সম্পূর্ণতা মানুষের। কিন্তু সবচেয়ে অসম্পূর্ণ হয়ে সে জন্মগ্রহণ করে। বাঘ ভালুক তার জীবনযাত্রার পনেরো- আনা মূলধন নিয়ে আসে প্রকৃতির মালখানা থেকে। জীবরঙ্গভূমিতে মানুষ এসে দেখা দেয় দুই শূন্য হাতে মুঠো বেঁধে।\n",
        "   মানুষ আসবার পূর্বেই জীবসৃষ্টিযজ্ঞে প্রকৃতির ভূরিব্যয়ের পালা শেষ হয়ে এসেছে। বিপুল মাংস, কঠিন বর্ম, প্রকাণ্ড লেজ নিয়ে জলে স্থলে পৃথুল দেহের যে অমিতাচার প্রবল হয়ে উঠেছিল তাতে ধরিত্রীকে দিলে ক্লান্ত করে। প্রমাণ হল আতিশয্যের পরাভব অনিবার্য। পরীক্ষায় এটাও স্থির হয়ে গেল যে, প্রশ্রয়ের পরিমাণ যত বেশি হয় দুর্বলতার বোঝাও তত দুর্বহ হয়ে ওঠে। নূতন পর্বে প্রকৃতি যথাসম্ভব মানুষের বরাদ্দ কম করে দিয়ে নিজে রইল নেপথ্যে।\n",
        "   মানুষকে দেখতে হল খুব ছোটো, কিন্তু সেটা একটা কৌশল মাত্র। এবারকার জীবযাত্রার পালায় বিপুলতাকে করা হল বহুলতায় পরিণত। মহাকায় জন্তু ছিল প্রকাণ্ড একলা, মানুষ হল দূরপ্রসারিত অনেক।\"\"\""
      ],
      "metadata": {
        "id": "0UNoVAJfN266"
      },
      "execution_count": 1,
      "outputs": []
    },
    {
      "cell_type": "code",
      "source": [
        "text2 = \"\"\"চিত্ত যেথা ভয়শূন্য, উচ্চ যেথা শির,\n",
        "জ্ঞান যেথা মুক্ত, যেথা গৃহের প্রাচীর আপন প্রাঙ্গণতলে দিবসশর্বরী বসুধারে রাখে নাই খণ্ড ক্ষুদ্র করি,\n",
        "যেথা বাক্য হৃদয়ের উৎসমুখ হতে উচ্ছ্বসিয়া উঠে,\n",
        "যেথা নির্বারিত স্রোতে দেশের হ্রদয়\n",
        "বুদ্ধির সূত্রে শত শাখা শত স্রোতে সেঁচিয়া উঠে,\n",
        "যেথা কর্মযজ্ঞে বসন্তের হাওয়ায় অনুপ্রাণিত হয়ে অজানা পথে চলবারে জনে,\n",
        "যেথা চিন্তা তোমার আচারপন্থাকে বুদ্ধির তীক্ষ্ণ তলওয়ারে প্রতি দিন আঘাত করে,\n",
        "যেথা তুমি বিশ্ববিধাতা প্রবুদ্ধ উদার সৃষ্টি করে থাকো\n",
        "সর্বত্র সেই স্বর্গে উঠিতে যাক আমার দেশ।\"\"\""
      ],
      "metadata": {
        "id": "5vj3zebxN-jr"
      },
      "execution_count": 2,
      "outputs": []
    },
    {
      "cell_type": "markdown",
      "source": [
        "## 1. Using BNLP and Spark NLP"
      ],
      "metadata": {
        "id": "GURGbo0yNsEA"
      }
    },
    {
      "cell_type": "code",
      "source": [
        "!pip install bnlp_toolkit"
      ],
      "metadata": {
        "colab": {
          "base_uri": "https://localhost:8080/"
        },
        "id": "wwokeCJrNz0r",
        "outputId": "23ac0a70-d18b-439e-869e-58a215af08a9"
      },
      "execution_count": 3,
      "outputs": [
        {
          "output_type": "stream",
          "name": "stdout",
          "text": [
            "Requirement already satisfied: bnlp_toolkit in /usr/local/lib/python3.10/dist-packages (4.0.1)\n",
            "Requirement already satisfied: sentencepiece==0.2.0 in /usr/local/lib/python3.10/dist-packages (from bnlp_toolkit) (0.2.0)\n",
            "Requirement already satisfied: gensim==4.3.2 in /usr/local/lib/python3.10/dist-packages (from bnlp_toolkit) (4.3.2)\n",
            "Requirement already satisfied: nltk==3.8.1 in /usr/local/lib/python3.10/dist-packages (from bnlp_toolkit) (3.8.1)\n",
            "Requirement already satisfied: numpy in /usr/local/lib/python3.10/dist-packages (from bnlp_toolkit) (1.25.2)\n",
            "Requirement already satisfied: scipy==1.10.1 in /usr/local/lib/python3.10/dist-packages (from bnlp_toolkit) (1.10.1)\n",
            "Requirement already satisfied: sklearn-crfsuite==0.3.6 in /usr/local/lib/python3.10/dist-packages (from bnlp_toolkit) (0.3.6)\n",
            "Requirement already satisfied: tqdm==4.66.3 in /usr/local/lib/python3.10/dist-packages (from bnlp_toolkit) (4.66.3)\n",
            "Requirement already satisfied: ftfy==6.2.0 in /usr/local/lib/python3.10/dist-packages (from bnlp_toolkit) (6.2.0)\n",
            "Requirement already satisfied: emoji==1.7.0 in /usr/local/lib/python3.10/dist-packages (from bnlp_toolkit) (1.7.0)\n",
            "Requirement already satisfied: requests in /usr/local/lib/python3.10/dist-packages (from bnlp_toolkit) (2.31.0)\n",
            "Requirement already satisfied: wcwidth<0.3.0,>=0.2.12 in /usr/local/lib/python3.10/dist-packages (from ftfy==6.2.0->bnlp_toolkit) (0.2.13)\n",
            "Requirement already satisfied: smart-open>=1.8.1 in /usr/local/lib/python3.10/dist-packages (from gensim==4.3.2->bnlp_toolkit) (6.4.0)\n",
            "Requirement already satisfied: click in /usr/local/lib/python3.10/dist-packages (from nltk==3.8.1->bnlp_toolkit) (8.1.7)\n",
            "Requirement already satisfied: joblib in /usr/local/lib/python3.10/dist-packages (from nltk==3.8.1->bnlp_toolkit) (1.4.2)\n",
            "Requirement already satisfied: regex>=2021.8.3 in /usr/local/lib/python3.10/dist-packages (from nltk==3.8.1->bnlp_toolkit) (2023.12.25)\n",
            "Requirement already satisfied: python-crfsuite>=0.8.3 in /usr/local/lib/python3.10/dist-packages (from sklearn-crfsuite==0.3.6->bnlp_toolkit) (0.9.10)\n",
            "Requirement already satisfied: six in /usr/local/lib/python3.10/dist-packages (from sklearn-crfsuite==0.3.6->bnlp_toolkit) (1.16.0)\n",
            "Requirement already satisfied: tabulate in /usr/local/lib/python3.10/dist-packages (from sklearn-crfsuite==0.3.6->bnlp_toolkit) (0.9.0)\n",
            "Requirement already satisfied: charset-normalizer<4,>=2 in /usr/local/lib/python3.10/dist-packages (from requests->bnlp_toolkit) (3.3.2)\n",
            "Requirement already satisfied: idna<4,>=2.5 in /usr/local/lib/python3.10/dist-packages (from requests->bnlp_toolkit) (3.7)\n",
            "Requirement already satisfied: urllib3<3,>=1.21.1 in /usr/local/lib/python3.10/dist-packages (from requests->bnlp_toolkit) (2.0.7)\n",
            "Requirement already satisfied: certifi>=2017.4.17 in /usr/local/lib/python3.10/dist-packages (from requests->bnlp_toolkit) (2024.2.2)\n"
          ]
        }
      ]
    },
    {
      "cell_type": "code",
      "source": [
        "from bnlp import NLTKTokenizer\n",
        "bnltk = NLTKTokenizer()"
      ],
      "metadata": {
        "id": "fbWFfejHoQDI"
      },
      "execution_count": 4,
      "outputs": []
    },
    {
      "cell_type": "code",
      "source": [
        "word_tokens1 = [word for word in bnltk.word_tokenize(text1) if (word != \"।\" and word != \",\")]\n",
        "word_tokens2 = [word for word in bnltk.word_tokenize(text2) if (word != \"।\" and word != \",\")]"
      ],
      "metadata": {
        "id": "WD5RnNfzoosS"
      },
      "execution_count": 5,
      "outputs": []
    },
    {
      "cell_type": "code",
      "source": [
        "print(word_tokens1)"
      ],
      "metadata": {
        "colab": {
          "base_uri": "https://localhost:8080/"
        },
        "id": "jG2T0GwFpNFw",
        "outputId": "3e110186-7c50-4de4-d43b-e18bf7fd45ed"
      },
      "execution_count": 6,
      "outputs": [
        {
          "output_type": "stream",
          "name": "stdout",
          "text": [
            "['জীবের', 'মধ্যে', 'সবচেয়ে', 'সম্পূর্ণতা', 'মানুষের', 'কিন্তু', 'সবচেয়ে', 'অসম্পূর্ণ', 'হয়ে', 'সে', 'জন্মগ্রহণ', 'করে', 'বাঘ', 'ভালুক', 'তার', 'জীবনযাত্রার', 'পনেরো-', 'আনা', 'মূলধন', 'নিয়ে', 'আসে', 'প্রকৃতির', 'মালখানা', 'থেকে', 'জীবরঙ্গভূমিতে', 'মানুষ', 'এসে', 'দেখা', 'দেয়', 'দুই', 'শূন্য', 'হাতে', 'মুঠো', 'বেঁধে', 'মানুষ', 'আসবার', 'পূর্বেই', 'জীবসৃষ্টিযজ্ঞে', 'প্রকৃতির', 'ভূরিব্যয়ের', 'পালা', 'শেষ', 'হয়ে', 'এসেছে', 'বিপুল', 'মাংস', 'কঠিন', 'বর্ম', 'প্রকাণ্ড', 'লেজ', 'নিয়ে', 'জলে', 'স্থলে', 'পৃথুল', 'দেহের', 'যে', 'অমিতাচার', 'প্রবল', 'হয়ে', 'উঠেছিল', 'তাতে', 'ধরিত্রীকে', 'দিলে', 'ক্লান্ত', 'করে', 'প্রমাণ', 'হল', 'আতিশয্যের', 'পরাভব', 'অনিবার্য', 'পরীক্ষায়', 'এটাও', 'স্থির', 'হয়ে', 'গেল', 'যে', 'প্রশ্রয়ের', 'পরিমাণ', 'যত', 'বেশি', 'হয়', 'দুর্বলতার', 'বোঝাও', 'তত', 'দুর্বহ', 'হয়ে', 'ওঠে', 'নূতন', 'পর্বে', 'প্রকৃতি', 'যথাসম্ভব', 'মানুষের', 'বরাদ্দ', 'কম', 'করে', 'দিয়ে', 'নিজে', 'রইল', 'নেপথ্যে', 'মানুষকে', 'দেখতে', 'হল', 'খুব', 'ছোটো', 'কিন্তু', 'সেটা', 'একটা', 'কৌশল', 'মাত্র', 'এবারকার', 'জীবযাত্রার', 'পালায়', 'বিপুলতাকে', 'করা', 'হল', 'বহুলতায়', 'পরিণত', 'মহাকায়', 'জন্তু', 'ছিল', 'প্রকাণ্ড', 'একলা', 'মানুষ', 'হল', 'দূরপ্রসারিত', 'অনেক']\n"
          ]
        }
      ]
    },
    {
      "cell_type": "code",
      "source": [
        "print(word_tokens2)"
      ],
      "metadata": {
        "colab": {
          "base_uri": "https://localhost:8080/"
        },
        "id": "OdbN0h4mpRxA",
        "outputId": "af9f000f-f5e2-460e-8de3-7217c2974259"
      },
      "execution_count": 7,
      "outputs": [
        {
          "output_type": "stream",
          "name": "stdout",
          "text": [
            "['চিত্ত', 'যেথা', 'ভয়শূন্য', 'উচ্চ', 'যেথা', 'শির', 'জ্ঞান', 'যেথা', 'মুক্ত', 'যেথা', 'গৃহের', 'প্রাচীর', 'আপন', 'প্রাঙ্গণতলে', 'দিবসশর্বরী', 'বসুধারে', 'রাখে', 'নাই', 'খণ্ড', 'ক্ষুদ্র', 'করি', 'যেথা', 'বাক্য', 'হৃদয়ের', 'উৎসমুখ', 'হতে', 'উচ্ছ্বসিয়া', 'উঠে', 'যেথা', 'নির্বারিত', 'স্রোতে', 'দেশের', 'হ্রদয়', 'বুদ্ধির', 'সূত্রে', 'শত', 'শাখা', 'শত', 'স্রোতে', 'সেঁচিয়া', 'উঠে', 'যেথা', 'কর্মযজ্ঞে', 'বসন্তের', 'হাওয়ায়', 'অনুপ্রাণিত', 'হয়ে', 'অজানা', 'পথে', 'চলবারে', 'জনে', 'যেথা', 'চিন্তা', 'তোমার', 'আচারপন্থাকে', 'বুদ্ধির', 'তীক্ষ্ণ', 'তলওয়ারে', 'প্রতি', 'দিন', 'আঘাত', 'করে', 'যেথা', 'তুমি', 'বিশ্ববিধাতা', 'প্রবুদ্ধ', 'উদার', 'সৃষ্টি', 'করে', 'থাকো', 'সর্বত্র', 'সেই', 'স্বর্গে', 'উঠিতে', 'যাক', 'আমার', 'দেশ']\n"
          ]
        }
      ]
    },
    {
      "cell_type": "code",
      "source": [
        "!pip install -q pyspark==3.3.0 spark-nlp==4.2.8"
      ],
      "metadata": {
        "id": "gHyKVnWNpWwd"
      },
      "execution_count": 8,
      "outputs": []
    },
    {
      "cell_type": "code",
      "source": [
        "import json\n",
        "import pandas as pd\n",
        "import numpy as np\n",
        "\n",
        "import sparknlp\n",
        "import pyspark.sql.functions as F\n",
        "\n",
        "from pyspark.ml import Pipeline\n",
        "from pyspark.sql import SparkSession\n",
        "from sparknlp.annotator import *\n",
        "from sparknlp.base import *\n",
        "from sparknlp.pretrained import PretrainedPipeline\n",
        "from pyspark.sql.types import StringType, IntegerType"
      ],
      "metadata": {
        "id": "1JuJ8TLwtePn"
      },
      "execution_count": 9,
      "outputs": []
    },
    {
      "cell_type": "code",
      "source": [
        "spark = sparknlp.start()"
      ],
      "metadata": {
        "id": "v1Xt-u-9yxM5"
      },
      "execution_count": 10,
      "outputs": []
    },
    {
      "cell_type": "code",
      "source": [
        "document_assembler = DocumentAssembler() \\\n",
        ".setInputCol(\"text\") \\\n",
        ".setOutputCol(\"document\")\n",
        "\n",
        "tokenizer = Tokenizer()\\\n",
        ".setInputCols([\"document\"]) \\\n",
        ".setOutputCol(\"token\")\n",
        "\n",
        "lemmatizer = LemmatizerModel.pretrained(\"lemma\", \"bn\") \\\n",
        ".setInputCols([\"token\"]) \\\n",
        ".setOutputCol(\"lemma\")\n",
        "\n",
        "nlp_pipeline = Pipeline(stages=[document_assembler, tokenizer, lemmatizer])\n",
        "light_pipeline = LightPipeline(nlp_pipeline.fit(spark.createDataFrame([[\"\"]]).toDF(\"text\")))"
      ],
      "metadata": {
        "colab": {
          "base_uri": "https://localhost:8080/"
        },
        "id": "oQZtERLay1Jg",
        "outputId": "edc675b5-7f9f-42fc-e0a4-e189210e9ab5"
      },
      "execution_count": 11,
      "outputs": [
        {
          "output_type": "stream",
          "name": "stdout",
          "text": [
            "lemma download started this may take some time.\n",
            "Approximate size to download 90.6 KB\n",
            "[OK!]\n"
          ]
        }
      ]
    },
    {
      "cell_type": "code",
      "source": [
        "lemmas1 = light_pipeline.annotate(word_tokens1)\n",
        "lemmas2 = light_pipeline.annotate(word_tokens2)"
      ],
      "metadata": {
        "id": "_aLJOO5Ry1Q7"
      },
      "execution_count": 24,
      "outputs": []
    },
    {
      "cell_type": "code",
      "source": [
        "text1_lemmas = [dict[\"lemma\"][0] for dict in lemmas1]"
      ],
      "metadata": {
        "id": "fHzQzLzEy1en"
      },
      "execution_count": 29,
      "outputs": []
    },
    {
      "cell_type": "code",
      "source": [
        "print(text1_lemmas)"
      ],
      "metadata": {
        "colab": {
          "base_uri": "https://localhost:8080/"
        },
        "id": "aG_GQBKg2BSc",
        "outputId": "983844c4-cbd2-4238-e60b-455d99ddab5f"
      },
      "execution_count": 30,
      "outputs": [
        {
          "output_type": "stream",
          "name": "stdout",
          "text": [
            "['জীব', 'মধ্যে', 'সবচেয়ে', 'সম্পূর্ণতা', 'মানুষ', 'কিন্তু', 'সবচেয়ে', 'অসম্পূর্ণ', 'হয়ে', 'সে', 'জন্মগ্রহণ', 'করা', 'বাঘ', 'ভালুক', 'তিনি', 'জীবনযাত্রা', 'পনেরো', 'আনা', 'মূলধন', 'নিয়ে', 'আসা', 'প্রকৃত', 'মালখানা', 'থেকে', 'জীবরঙ্গভূমিতে', 'মানুষ', 'আসা', 'দেখা', 'দেয়', 'দুই', 'শূন্য', 'হাত', 'মুঠো', 'বাঁধা', 'মানুষ', 'আসবার', 'পূর্ববল', 'জীবসৃষ্টিযজ্ঞে', 'প্রকৃত', 'ভূরিব্যয়ের', 'পালা', 'শেষ', 'হয়ে', 'আসা', 'বিপুল', 'মাংস', 'কঠিন', 'বর্ম', 'প্রকাণ্ড', 'লেজ', 'নিয়ে', 'জল', 'স্থলে', 'পৃথুল', 'দেহের', 'যে', 'অমিতাচার', 'প্রবল', 'হয়ে', 'ওঠা', 'তা', 'ধরিত্রীকে', 'দেওয়া', 'ক্লান্ত', 'করা', 'প্রমাণ', 'হল', 'আতিশয্যের', 'পরাভব', 'অনিবার্য', 'পরীক্ষায়', 'এটাও', 'স্থির', 'হয়ে', 'গেল', 'যে', 'প্রশ্রয়ের', 'পরিমাণ', 'যত', 'বেশি', 'হয়', 'দুর্বলতার', 'বোঝাও', 'তত', 'দুর্বহ', 'হয়ে', 'ওঠা', 'নূতন', 'পর্ব', 'প্রকৃত', 'যথাসম্ভব', 'মানুষ', 'বরাদ্দ', 'কম', 'করা', 'দিয়ে', 'নিজ', 'রওয়া', 'নেপথ্যে', 'মানুষ', 'দেখা', 'হল', 'খুব', 'ছোটো', 'কিন্তু', 'সে', 'এক', 'কৌশল', 'মাত্র', 'এবারকার', 'জীবযাত্রার', 'পালায়', 'বিপুলতাকে', 'করা', 'হল', 'বহুলতায়', 'পরিণত', 'মহাকায়', 'জন্তু', 'থাকা', 'প্রকাণ্ড', 'এক', 'মানুষ', 'হল', 'দূরপ্রসারিত', 'অনেক']\n"
          ]
        }
      ]
    },
    {
      "cell_type": "code",
      "source": [
        "text2_lemmas = [dict[\"lemma\"][0] for dict in lemmas2]"
      ],
      "metadata": {
        "id": "-XN5yiZl2ypK"
      },
      "execution_count": 31,
      "outputs": []
    },
    {
      "cell_type": "code",
      "source": [
        "print(text2_lemmas)"
      ],
      "metadata": {
        "colab": {
          "base_uri": "https://localhost:8080/"
        },
        "id": "GBAVo4VM25Zr",
        "outputId": "8a37adb6-e8b8-42ee-c510-5c6fc09133d3"
      },
      "execution_count": 32,
      "outputs": [
        {
          "output_type": "stream",
          "name": "stdout",
          "text": [
            "['চিত্ত', 'যেথা', 'ভয়শূন্য', 'উচ্চ', 'যেথা', 'শির', 'জ্ঞান', 'যেথা', 'মুক্ত', 'যেথা', 'গৃহ', 'প্রাচীর', 'আপন', 'প্রাঙ্গণতলে', 'দিবসশর্বরী', 'বসুধারে', 'রাখা', 'না', 'খণ্ড', 'ক্ষুদ্র', 'করা', 'যেথা', 'বাক্য', 'হৃদয়ের', 'উৎসমুখ', 'হতে', 'উচ্ছ্বসিয়া', 'ওঠা', 'যেথা', 'নির্বারিত', 'স্রোত', 'দেশ', 'হ্রদয়', 'বুদ্ধি', 'সূত্র', 'শত', 'শাখা', 'শত', 'স্রোত', 'সেঁচিয়া', 'ওঠা', 'যেথা', 'কর্মযজ্ঞে', 'বসন্ত', 'হাওয়ায়', 'অনুপ্রাণিত', 'হয়ে', 'অজানা', 'পথ', 'চলবারে', 'জনে', 'যেথা', 'চিন্তা', 'তুমি', 'আচারপন্থাকে', 'বুদ্ধি', 'তীক্ষ্ণ', 'তলওয়ারে', 'প্রতি', 'দেওয়া', 'আঘাত', 'করা', 'যেথা', 'তুমি', 'বিশ্ববিধাতা', 'প্রবুদ্ধ', 'উদার', 'সৃষ্টি', 'করা', 'থাকো', 'সর্বত্র', 'সেই', 'স্বর্গ', 'ওঠা', 'যাওয়া', 'আমি', 'দেশ']\n"
          ]
        }
      ]
    },
    {
      "cell_type": "code",
      "source": [
        "for i in range(len(word_tokens1)):\n",
        "  print(word_tokens1[i] + \": \" + text1_lemmas[i])"
      ],
      "metadata": {
        "colab": {
          "base_uri": "https://localhost:8080/"
        },
        "id": "JotIMZXt2_Pr",
        "outputId": "d5d7da57-75fa-4393-c9f7-ba6913ff343f"
      },
      "execution_count": 33,
      "outputs": [
        {
          "output_type": "stream",
          "name": "stdout",
          "text": [
            "জীবের: জীব\n",
            "মধ্যে: মধ্যে\n",
            "সবচেয়ে: সবচেয়ে\n",
            "সম্পূর্ণতা: সম্পূর্ণতা\n",
            "মানুষের: মানুষ\n",
            "কিন্তু: কিন্তু\n",
            "সবচেয়ে: সবচেয়ে\n",
            "অসম্পূর্ণ: অসম্পূর্ণ\n",
            "হয়ে: হয়ে\n",
            "সে: সে\n",
            "জন্মগ্রহণ: জন্মগ্রহণ\n",
            "করে: করা\n",
            "বাঘ: বাঘ\n",
            "ভালুক: ভালুক\n",
            "তার: তিনি\n",
            "জীবনযাত্রার: জীবনযাত্রা\n",
            "পনেরো-: পনেরো\n",
            "আনা: আনা\n",
            "মূলধন: মূলধন\n",
            "নিয়ে: নিয়ে\n",
            "আসে: আসা\n",
            "প্রকৃতির: প্রকৃত\n",
            "মালখানা: মালখানা\n",
            "থেকে: থেকে\n",
            "জীবরঙ্গভূমিতে: জীবরঙ্গভূমিতে\n",
            "মানুষ: মানুষ\n",
            "এসে: আসা\n",
            "দেখা: দেখা\n",
            "দেয়: দেয়\n",
            "দুই: দুই\n",
            "শূন্য: শূন্য\n",
            "হাতে: হাত\n",
            "মুঠো: মুঠো\n",
            "বেঁধে: বাঁধা\n",
            "মানুষ: মানুষ\n",
            "আসবার: আসবার\n",
            "পূর্বেই: পূর্ববল\n",
            "জীবসৃষ্টিযজ্ঞে: জীবসৃষ্টিযজ্ঞে\n",
            "প্রকৃতির: প্রকৃত\n",
            "ভূরিব্যয়ের: ভূরিব্যয়ের\n",
            "পালা: পালা\n",
            "শেষ: শেষ\n",
            "হয়ে: হয়ে\n",
            "এসেছে: আসা\n",
            "বিপুল: বিপুল\n",
            "মাংস: মাংস\n",
            "কঠিন: কঠিন\n",
            "বর্ম: বর্ম\n",
            "প্রকাণ্ড: প্রকাণ্ড\n",
            "লেজ: লেজ\n",
            "নিয়ে: নিয়ে\n",
            "জলে: জল\n",
            "স্থলে: স্থলে\n",
            "পৃথুল: পৃথুল\n",
            "দেহের: দেহের\n",
            "যে: যে\n",
            "অমিতাচার: অমিতাচার\n",
            "প্রবল: প্রবল\n",
            "হয়ে: হয়ে\n",
            "উঠেছিল: ওঠা\n",
            "তাতে: তা\n",
            "ধরিত্রীকে: ধরিত্রীকে\n",
            "দিলে: দেওয়া\n",
            "ক্লান্ত: ক্লান্ত\n",
            "করে: করা\n",
            "প্রমাণ: প্রমাণ\n",
            "হল: হল\n",
            "আতিশয্যের: আতিশয্যের\n",
            "পরাভব: পরাভব\n",
            "অনিবার্য: অনিবার্য\n",
            "পরীক্ষায়: পরীক্ষায়\n",
            "এটাও: এটাও\n",
            "স্থির: স্থির\n",
            "হয়ে: হয়ে\n",
            "গেল: গেল\n",
            "যে: যে\n",
            "প্রশ্রয়ের: প্রশ্রয়ের\n",
            "পরিমাণ: পরিমাণ\n",
            "যত: যত\n",
            "বেশি: বেশি\n",
            "হয়: হয়\n",
            "দুর্বলতার: দুর্বলতার\n",
            "বোঝাও: বোঝাও\n",
            "তত: তত\n",
            "দুর্বহ: দুর্বহ\n",
            "হয়ে: হয়ে\n",
            "ওঠে: ওঠা\n",
            "নূতন: নূতন\n",
            "পর্বে: পর্ব\n",
            "প্রকৃতি: প্রকৃত\n",
            "যথাসম্ভব: যথাসম্ভব\n",
            "মানুষের: মানুষ\n",
            "বরাদ্দ: বরাদ্দ\n",
            "কম: কম\n",
            "করে: করা\n",
            "দিয়ে: দিয়ে\n",
            "নিজে: নিজ\n",
            "রইল: রওয়া\n",
            "নেপথ্যে: নেপথ্যে\n",
            "মানুষকে: মানুষ\n",
            "দেখতে: দেখা\n",
            "হল: হল\n",
            "খুব: খুব\n",
            "ছোটো: ছোটো\n",
            "কিন্তু: কিন্তু\n",
            "সেটা: সে\n",
            "একটা: এক\n",
            "কৌশল: কৌশল\n",
            "মাত্র: মাত্র\n",
            "এবারকার: এবারকার\n",
            "জীবযাত্রার: জীবযাত্রার\n",
            "পালায়: পালায়\n",
            "বিপুলতাকে: বিপুলতাকে\n",
            "করা: করা\n",
            "হল: হল\n",
            "বহুলতায়: বহুলতায়\n",
            "পরিণত: পরিণত\n",
            "মহাকায়: মহাকায়\n",
            "জন্তু: জন্তু\n",
            "ছিল: থাকা\n",
            "প্রকাণ্ড: প্রকাণ্ড\n",
            "একলা: এক\n",
            "মানুষ: মানুষ\n",
            "হল: হল\n",
            "দূরপ্রসারিত: দূরপ্রসারিত\n",
            "অনেক: অনেক\n"
          ]
        }
      ]
    },
    {
      "cell_type": "code",
      "source": [
        "len(word_tokens2)"
      ],
      "metadata": {
        "colab": {
          "base_uri": "https://localhost:8080/"
        },
        "id": "mQ3y5WwS3NkV",
        "outputId": "4b199cd1-f0a7-42b7-8403-d1082c89c699"
      },
      "execution_count": 35,
      "outputs": [
        {
          "output_type": "execute_result",
          "data": {
            "text/plain": [
              "77"
            ]
          },
          "metadata": {},
          "execution_count": 35
        }
      ]
    },
    {
      "cell_type": "code",
      "source": [
        "len(text2_lemmas)"
      ],
      "metadata": {
        "colab": {
          "base_uri": "https://localhost:8080/"
        },
        "id": "phu6euGp3iKB",
        "outputId": "cf232fb6-efe6-4da2-a1da-2cb8e49734d5"
      },
      "execution_count": 36,
      "outputs": [
        {
          "output_type": "execute_result",
          "data": {
            "text/plain": [
              "77"
            ]
          },
          "metadata": {},
          "execution_count": 36
        }
      ]
    },
    {
      "cell_type": "code",
      "source": [
        "for i in range(len(word_tokens2)):\n",
        "  print(word_tokens2[i] + \": \" + text2_lemmas[i])"
      ],
      "metadata": {
        "colab": {
          "base_uri": "https://localhost:8080/"
        },
        "id": "1J0SSVzk3l1b",
        "outputId": "f3c77710-2f48-4745-f479-de4bf752c95d"
      },
      "execution_count": 37,
      "outputs": [
        {
          "output_type": "stream",
          "name": "stdout",
          "text": [
            "চিত্ত: চিত্ত\n",
            "যেথা: যেথা\n",
            "ভয়শূন্য: ভয়শূন্য\n",
            "উচ্চ: উচ্চ\n",
            "যেথা: যেথা\n",
            "শির: শির\n",
            "জ্ঞান: জ্ঞান\n",
            "যেথা: যেথা\n",
            "মুক্ত: মুক্ত\n",
            "যেথা: যেথা\n",
            "গৃহের: গৃহ\n",
            "প্রাচীর: প্রাচীর\n",
            "আপন: আপন\n",
            "প্রাঙ্গণতলে: প্রাঙ্গণতলে\n",
            "দিবসশর্বরী: দিবসশর্বরী\n",
            "বসুধারে: বসুধারে\n",
            "রাখে: রাখা\n",
            "নাই: না\n",
            "খণ্ড: খণ্ড\n",
            "ক্ষুদ্র: ক্ষুদ্র\n",
            "করি: করা\n",
            "যেথা: যেথা\n",
            "বাক্য: বাক্য\n",
            "হৃদয়ের: হৃদয়ের\n",
            "উৎসমুখ: উৎসমুখ\n",
            "হতে: হতে\n",
            "উচ্ছ্বসিয়া: উচ্ছ্বসিয়া\n",
            "উঠে: ওঠা\n",
            "যেথা: যেথা\n",
            "নির্বারিত: নির্বারিত\n",
            "স্রোতে: স্রোত\n",
            "দেশের: দেশ\n",
            "হ্রদয়: হ্রদয়\n",
            "বুদ্ধির: বুদ্ধি\n",
            "সূত্রে: সূত্র\n",
            "শত: শত\n",
            "শাখা: শাখা\n",
            "শত: শত\n",
            "স্রোতে: স্রোত\n",
            "সেঁচিয়া: সেঁচিয়া\n",
            "উঠে: ওঠা\n",
            "যেথা: যেথা\n",
            "কর্মযজ্ঞে: কর্মযজ্ঞে\n",
            "বসন্তের: বসন্ত\n",
            "হাওয়ায়: হাওয়ায়\n",
            "অনুপ্রাণিত: অনুপ্রাণিত\n",
            "হয়ে: হয়ে\n",
            "অজানা: অজানা\n",
            "পথে: পথ\n",
            "চলবারে: চলবারে\n",
            "জনে: জনে\n",
            "যেথা: যেথা\n",
            "চিন্তা: চিন্তা\n",
            "তোমার: তুমি\n",
            "আচারপন্থাকে: আচারপন্থাকে\n",
            "বুদ্ধির: বুদ্ধি\n",
            "তীক্ষ্ণ: তীক্ষ্ণ\n",
            "তলওয়ারে: তলওয়ারে\n",
            "প্রতি: প্রতি\n",
            "দিন: দেওয়া\n",
            "আঘাত: আঘাত\n",
            "করে: করা\n",
            "যেথা: যেথা\n",
            "তুমি: তুমি\n",
            "বিশ্ববিধাতা: বিশ্ববিধাতা\n",
            "প্রবুদ্ধ: প্রবুদ্ধ\n",
            "উদার: উদার\n",
            "সৃষ্টি: সৃষ্টি\n",
            "করে: করা\n",
            "থাকো: থাকো\n",
            "সর্বত্র: সর্বত্র\n",
            "সেই: সেই\n",
            "স্বর্গে: স্বর্গ\n",
            "উঠিতে: ওঠা\n",
            "যাক: যাওয়া\n",
            "আমার: আমি\n",
            "দেশ: দেশ\n"
          ]
        }
      ]
    },
    {
      "cell_type": "markdown",
      "source": [
        "# 2. Using lemmatizer by banglakit"
      ],
      "metadata": {
        "id": "5eASVxV-5tSi"
      }
    },
    {
      "cell_type": "code",
      "source": [
        "!pip install git+https://github.com/banglakit/lemmatizer.git#egg=banglakit-lemmatizer"
      ],
      "metadata": {
        "colab": {
          "base_uri": "https://localhost:8080/"
        },
        "id": "_V5XujcT5z1O",
        "outputId": "48b0af38-b959-49de-ec49-dd85497181a4"
      },
      "execution_count": 38,
      "outputs": [
        {
          "output_type": "stream",
          "name": "stdout",
          "text": [
            "Collecting banglakit-lemmatizer\n",
            "  Cloning https://github.com/banglakit/lemmatizer.git to /tmp/pip-install-udhv7yp3/banglakit-lemmatizer_ab5d72f63476459fa875fcda64bfca61\n",
            "  Running command git clone --filter=blob:none --quiet https://github.com/banglakit/lemmatizer.git /tmp/pip-install-udhv7yp3/banglakit-lemmatizer_ab5d72f63476459fa875fcda64bfca61\n",
            "  Resolved https://github.com/banglakit/lemmatizer.git to commit f94d8f8dfe06fac70fa151a46069888acffe8870\n",
            "  Preparing metadata (setup.py) ... \u001b[?25l\u001b[?25hdone\n",
            "Building wheels for collected packages: banglakit-lemmatizer\n",
            "  Building wheel for banglakit-lemmatizer (setup.py) ... \u001b[?25l\u001b[?25hdone\n",
            "  Created wheel for banglakit-lemmatizer: filename=banglakit_lemmatizer-0.0.1-py3-none-any.whl size=117699 sha256=69bd56706f3b5ac247866a4731bb81cb5d5d9e453acf49425c4cf3177dfefeed\n",
            "  Stored in directory: /tmp/pip-ephem-wheel-cache-qbq9a_0e/wheels/a8/7c/4d/469b65c3a833f0620db622cb84ef76e2b0519d5efb677b93e7\n",
            "Successfully built banglakit-lemmatizer\n",
            "Installing collected packages: banglakit-lemmatizer\n",
            "Successfully installed banglakit-lemmatizer-0.0.1\n"
          ]
        }
      ]
    },
    {
      "cell_type": "code",
      "source": [
        "from banglakit import lemmatizer as lem\n",
        "from banglakit.lemmatizer import BengaliLemmatizer\n",
        "\n",
        "\n",
        "lemmatizer = BengaliLemmatizer()\n",
        "\n",
        "lemmatizer.lemmatize('বাংলাদেশের', pos=lem.POS_PROPN)\n",
        "# বাংলাদেশ\n",
        "\n",
        "lemmatizer.lemmatize('বাংলাদেশের', pos='proper_noun')\n",
        "# বাংলাদেশ"
      ],
      "metadata": {
        "colab": {
          "base_uri": "https://localhost:8080/",
          "height": 36
        },
        "id": "ifp1vWpj6EPB",
        "outputId": "b1289303-7fe3-4e54-9365-36721302f719"
      },
      "execution_count": 40,
      "outputs": [
        {
          "output_type": "execute_result",
          "data": {
            "text/plain": [
              "'বাংলাদেশের'"
            ],
            "application/vnd.google.colaboratory.intrinsic+json": {
              "type": "string"
            }
          },
          "metadata": {},
          "execution_count": 40
        }
      ]
    },
    {
      "cell_type": "code",
      "source": [
        "for word in word_tokens1:\n",
        "  print(word + \": \" + lemmatizer.lemmatize(word))\n",
        "  # Not so good result"
      ],
      "metadata": {
        "colab": {
          "base_uri": "https://localhost:8080/"
        },
        "id": "k_LyRZqs6ePf",
        "outputId": "33206654-99aa-46b9-af15-d9a49752aa9d"
      },
      "execution_count": 42,
      "outputs": [
        {
          "output_type": "stream",
          "name": "stdout",
          "text": [
            "জীবের: জীবের\n",
            "মধ্যে: মধ্যে\n",
            "সবচেয়ে: সবচেয়ে\n",
            "সম্পূর্ণতা: সম্পূর্ণতা\n",
            "মানুষের: মানুষের\n",
            "কিন্তু: কিন্তু\n",
            "সবচেয়ে: সবচেয়ে\n",
            "অসম্পূর্ণ: অসম্পূর্ণ\n",
            "হয়ে: হয়ে\n",
            "সে: -PRON-\n",
            "জন্মগ্রহণ: জন্মগ্রহণ\n",
            "করে: কর\n",
            "বাঘ: বাঘ\n",
            "ভালুক: ভালুক\n",
            "তার: -PRON-\n",
            "জীবনযাত্রার: জীবনযাত্রার\n",
            "পনেরো-: পনেরো-\n",
            "আনা: আনা\n",
            "মূলধন: মূলধন\n",
            "নিয়ে: নিয়ে\n",
            "আসে: আসে\n",
            "প্রকৃতির: প্রকৃতির\n",
            "মালখানা: মালখানা\n",
            "থেকে: থেকে\n",
            "জীবরঙ্গভূমিতে: জীবরঙ্গভূমিতে\n",
            "মানুষ: মানুষ\n",
            "এসে: এসে\n",
            "দেখা: দেখ\n",
            "দেয়: দেয়\n",
            "দুই: দুই\n",
            "শূন্য: শূন্য\n",
            "হাতে: হাতে\n",
            "মুঠো: মুঠো\n",
            "বেঁধে: বেঁধে\n",
            "মানুষ: মানুষ\n",
            "আসবার: আসবার\n",
            "পূর্বেই: পূর্বেই\n",
            "জীবসৃষ্টিযজ্ঞে: জীবসৃষ্টিযজ্ঞে\n",
            "প্রকৃতির: প্রকৃতির\n",
            "ভূরিব্যয়ের: ভূরিব্যয়ের\n",
            "পালা: পালা\n",
            "শেষ: শেষ\n",
            "হয়ে: হয়ে\n",
            "এসেছে: এসেছে\n",
            "বিপুল: বিপুল\n",
            "মাংস: মাংস\n",
            "কঠিন: কঠিন\n",
            "বর্ম: বর্ম\n",
            "প্রকাণ্ড: প্রকাণ্ড\n",
            "লেজ: লেজ\n",
            "নিয়ে: নিয়ে\n",
            "জলে: জলে\n",
            "স্থলে: স্থলে\n",
            "পৃথুল: পৃথুল\n",
            "দেহের: দেহের\n",
            "যে: -PRON-\n",
            "অমিতাচার: অমিতাচার\n",
            "প্রবল: প্রবল\n",
            "হয়ে: হয়ে\n",
            "উঠেছিল: উঠ\n",
            "তাতে: তাতে\n",
            "ধরিত্রীকে: ধরিত্রীকে\n",
            "দিলে: দিলে\n",
            "ক্লান্ত: ক্লান্ত\n",
            "করে: কর\n",
            "প্রমাণ: প্রমাণ\n",
            "হল: হল\n",
            "আতিশয্যের: আতিশয্যের\n",
            "পরাভব: পরাভব\n",
            "অনিবার্য: অনিবার্য\n",
            "পরীক্ষায়: পরীক্ষায়\n",
            "এটাও: এটাও\n",
            "স্থির: স্থির\n",
            "হয়ে: হয়ে\n",
            "গেল: যাওয়া\n",
            "যে: -PRON-\n",
            "প্রশ্রয়ের: প্রশ্রয়ের\n",
            "পরিমাণ: পরিমাণ\n",
            "যত: যত\n",
            "বেশি: বেশি\n",
            "হয়: হয়\n",
            "দুর্বলতার: দুর্বলতার\n",
            "বোঝাও: বোঝাও\n",
            "তত: তত\n",
            "দুর্বহ: দুর্বহ\n",
            "হয়ে: হয়ে\n",
            "ওঠে: ওঠে\n",
            "নূতন: নূতন\n",
            "পর্বে: পর্বে\n",
            "প্রকৃতি: প্রকৃতি\n",
            "যথাসম্ভব: যথাসম্ভব\n",
            "মানুষের: মানুষের\n",
            "বরাদ্দ: বরাদ্দ\n",
            "কম: কম\n",
            "করে: কর\n",
            "দিয়ে: দিয়ে\n",
            "নিজে: নিজে\n",
            "রইল: রইল\n",
            "নেপথ্যে: নেপথ্যে\n",
            "মানুষকে: মানুষকে\n",
            "দেখতে: দেখ\n",
            "হল: হল\n",
            "খুব: খুব\n",
            "ছোটো: ছোটো\n",
            "কিন্তু: কিন্তু\n",
            "সেটা: সেটা\n",
            "একটা: একটা\n",
            "কৌশল: কৌশল\n",
            "মাত্র: মাত্র\n",
            "এবারকার: এবারকার\n",
            "জীবযাত্রার: জীবযাত্রার\n",
            "পালায়: পালায়\n",
            "বিপুলতাকে: বিপুলতাকে\n",
            "করা: কর\n",
            "হল: হল\n",
            "বহুলতায়: বহুলতায়\n",
            "পরিণত: পরিণত\n",
            "মহাকায়: মহাকায়\n",
            "জন্তু: জন্তু\n",
            "ছিল: ছিল\n",
            "প্রকাণ্ড: প্রকাণ্ড\n",
            "একলা: একলা\n",
            "মানুষ: মানুষ\n",
            "হল: হল\n",
            "দূরপ্রসারিত: দূরপ্রসারিত\n",
            "অনেক: অনেক\n"
          ]
        }
      ]
    },
    {
      "cell_type": "code",
      "source": [
        "for word in word_tokens2:\n",
        "  print(word + \": \" + lemmatizer.lemmatize(word))\n",
        "  # Still not so good result"
      ],
      "metadata": {
        "colab": {
          "base_uri": "https://localhost:8080/"
        },
        "id": "QZiVbOah7XAG",
        "outputId": "788ed24d-0556-4b8c-b412-8ab702443fcf"
      },
      "execution_count": 44,
      "outputs": [
        {
          "output_type": "stream",
          "name": "stdout",
          "text": [
            "চিত্ত: চিত্ত\n",
            "যেথা: যেথা\n",
            "ভয়শূন্য: ভয়শূন্য\n",
            "উচ্চ: উচ্চ\n",
            "যেথা: যেথা\n",
            "শির: শির\n",
            "জ্ঞান: জ্ঞান\n",
            "যেথা: যেথা\n",
            "মুক্ত: মুক্ত\n",
            "যেথা: যেথা\n",
            "গৃহের: গৃহের\n",
            "প্রাচীর: প্রাচীর\n",
            "আপন: -PRON-\n",
            "প্রাঙ্গণতলে: প্রাঙ্গণতলে\n",
            "দিবসশর্বরী: দিবসশর্বরী\n",
            "বসুধারে: বসুধারে\n",
            "রাখে: রাখ\n",
            "নাই: নাই\n",
            "খণ্ড: খণ্ড\n",
            "ক্ষুদ্র: ক্ষুদ্র\n",
            "করি: কর\n",
            "যেথা: যেথা\n",
            "বাক্য: বাক্য\n",
            "হৃদয়ের: হৃদয়ের\n",
            "উৎসমুখ: উৎসমুখ\n",
            "হতে: হতে\n",
            "উচ্ছ্বসিয়া: উচ্ছ্বসিয়া\n",
            "উঠে: উঠ\n",
            "যেথা: যেথা\n",
            "নির্বারিত: নির্বারিত\n",
            "স্রোতে: স্রোতে\n",
            "দেশের: দেশের\n",
            "হ্রদয়: হ্রদয়\n",
            "বুদ্ধির: বুদ্ধির\n",
            "সূত্রে: সূত্রে\n",
            "শত: শত\n",
            "শাখা: শাখা\n",
            "শত: শত\n",
            "স্রোতে: স্রোতে\n",
            "সেঁচিয়া: সেঁচিয়া\n",
            "উঠে: উঠ\n",
            "যেথা: যেথা\n",
            "কর্মযজ্ঞে: কর্মযজ্ঞে\n",
            "বসন্তের: বসন্তের\n",
            "হাওয়ায়: হাওয়ায়\n",
            "অনুপ্রাণিত: অনুপ্রাণিত\n",
            "হয়ে: হয়ে\n",
            "অজানা: অজানা\n",
            "পথে: পথে\n",
            "চলবারে: চলবারে\n",
            "জনে: জনে\n",
            "যেথা: যেথা\n",
            "চিন্তা: চিন্তা\n",
            "তোমার: -PRON-\n",
            "আচারপন্থাকে: আচারপন্থাকে\n",
            "বুদ্ধির: বুদ্ধির\n",
            "তীক্ষ্ণ: তীক্ষ্ণ\n",
            "তলওয়ারে: তলওয়ারে\n",
            "প্রতি: প্রতি\n",
            "দিন: দিন\n",
            "আঘাত: আঘাত\n",
            "করে: কর\n",
            "যেথা: যেথা\n",
            "তুমি: -PRON-\n",
            "বিশ্ববিধাতা: বিশ্ববিধাতা\n",
            "প্রবুদ্ধ: প্রবুদ্ধ\n",
            "উদার: উদার\n",
            "সৃষ্টি: সৃষ্টি\n",
            "করে: কর\n",
            "থাকো: থাকো\n",
            "সর্বত্র: সর্বত্র\n",
            "সেই: সেই\n",
            "স্বর্গে: স্বর্গে\n",
            "উঠিতে: উঠিতে\n",
            "যাক: যাক\n",
            "আমার: -PRON-\n",
            "দেশ: দেশ\n"
          ]
        }
      ]
    },
    {
      "cell_type": "markdown",
      "source": [
        "# 3. Using BnLemma"
      ],
      "metadata": {
        "id": "aFDRcOEJ79oI"
      }
    },
    {
      "cell_type": "code",
      "source": [
        "!pip install BnLemma"
      ],
      "metadata": {
        "colab": {
          "base_uri": "https://localhost:8080/"
        },
        "id": "tM_ylKtv8CIS",
        "outputId": "cb51f366-84ca-4699-9916-9b90ef82c813"
      },
      "execution_count": 45,
      "outputs": [
        {
          "output_type": "stream",
          "name": "stdout",
          "text": [
            "Collecting BnLemma\n",
            "  Downloading BnLemma-2.1-py3-none-any.whl (57 kB)\n",
            "\u001b[?25l     \u001b[90m━━━━━━━━━━━━━━━━━━━━━━━━━━━━━━━━━━━━━━━━\u001b[0m \u001b[32m0.0/57.6 kB\u001b[0m \u001b[31m?\u001b[0m eta \u001b[36m-:--:--\u001b[0m\r\u001b[2K     \u001b[90m━━━━━━━━━━━━━━━━━━━━━━━━━━━━━━━━━━━━━━━━\u001b[0m \u001b[32m57.6/57.6 kB\u001b[0m \u001b[31m2.3 MB/s\u001b[0m eta \u001b[36m0:00:00\u001b[0m\n",
            "\u001b[?25hInstalling collected packages: BnLemma\n",
            "Successfully installed BnLemma-2.1\n"
          ]
        }
      ]
    },
    {
      "cell_type": "code",
      "source": [
        "import BnLemma as lm\n",
        "bl = lm.Lemmatizer()"
      ],
      "metadata": {
        "id": "D_YgR1QN8KSj"
      },
      "execution_count": 46,
      "outputs": []
    },
    {
      "cell_type": "code",
      "source": [
        "s = \"মানুষের জীবনটা পাচ্ছেন তাই কাজে লাগানো দরকার আমাদেরকে\"\n",
        "sl = bl.lemma(s)\n",
        "print(sl)"
      ],
      "metadata": {
        "colab": {
          "base_uri": "https://localhost:8080/"
        },
        "id": "XgQA-hv78KfZ",
        "outputId": "4c504d5b-0b17-419b-e397-475b6acc3752"
      },
      "execution_count": 48,
      "outputs": [
        {
          "output_type": "stream",
          "name": "stdout",
          "text": [
            "মানুষ জীবন পাওয়া তাই কাজ লাগা দরকার আমাদের\n"
          ]
        }
      ]
    },
    {
      "cell_type": "code",
      "source": [
        "type(sl)"
      ],
      "metadata": {
        "colab": {
          "base_uri": "https://localhost:8080/"
        },
        "id": "myfo8wQv8Kpe",
        "outputId": "5e6a259f-3810-4c0a-c541-67de2f126732"
      },
      "execution_count": 49,
      "outputs": [
        {
          "output_type": "execute_result",
          "data": {
            "text/plain": [
              "str"
            ]
          },
          "metadata": {},
          "execution_count": 49
        }
      ]
    },
    {
      "cell_type": "code",
      "source": [
        "for word in word_tokens1:\n",
        "  print(word + \": \" + bl.lemma(word))"
      ],
      "metadata": {
        "colab": {
          "base_uri": "https://localhost:8080/"
        },
        "id": "00IBePf68tc3",
        "outputId": "d602acf6-2e69-4e9a-a6d9-25bd45978cdd"
      },
      "execution_count": 50,
      "outputs": [
        {
          "output_type": "stream",
          "name": "stdout",
          "text": [
            "জীবের: জীব\n",
            "মধ্যে: মধ্যে\n",
            "সবচেয়ে: সবচেয়ে\n",
            "সম্পূর্ণতা: সম্পূর্ণ\n",
            "মানুষের: মানুষ\n",
            "কিন্তু: কিন্তু\n",
            "সবচেয়ে: সবচেয়ে\n",
            "অসম্পূর্ণ: সম্পূর্ণ\n",
            "হয়ে: হ\n",
            "সে: সে\n",
            "জন্মগ্রহণ: জন্মগ্রহন\n",
            "করে: করা\n",
            "বাঘ: বাঘ\n",
            "ভালুক: ভাল\n",
            "তার: তার\n",
            "জীবনযাত্রার: যাত্রা\n",
            "পনেরো-: পনেরো\n",
            "আনা: আনা\n",
            "মূলধন: মূলধন\n",
            "নিয়ে: নিয়ে\n",
            "আসে: আসা\n",
            "প্রকৃতির: প্রকৃতি\n",
            "মালখানা: খানা\n",
            "থেকে: থেকে\n",
            "জীবরঙ্গভূমিতে: জীবরঙ্গভূমি\n",
            "মানুষ: মানুষ\n",
            "এসে: আসা\n",
            "দেখা: দেখা\n",
            "দেয়: দেওয়া\n",
            "দুই: দুই\n",
            "শূন্য: শূন্য\n",
            "হাতে: হাত\n",
            "মুঠো: মুঠো\n",
            "বেঁধে: বেঁধে\n",
            "মানুষ: মানুষ\n",
            "আসবার: সবার\n",
            "পূর্বেই: পূর্ব\n",
            "জীবসৃষ্টিযজ্ঞে: জীবসৃষ্টিযজ্ঞে\n",
            "প্রকৃতির: প্রকৃতি\n",
            "ভূরিব্যয়ের: ভূ\n",
            "পালা: পালা\n",
            "শেষ: শেষ\n",
            "হয়ে: হ\n",
            "এসেছে: আসা\n",
            "বিপুল: বিপুল\n",
            "মাংস: মাংস\n",
            "কঠিন: কঠিন\n",
            "বর্ম: বর্গ\n",
            "প্রকাণ্ড: প্রকাণ্ড\n",
            "লেজ: লেজ\n",
            "নিয়ে: নিয়ে\n",
            "জলে: জল\n",
            "স্থলে: স্থল\n",
            "পৃথুল: পৃথুল\n",
            "দেহের: দেহ\n",
            "যে: যে\n",
            "অমিতাচার: অমিতাচা\n",
            "প্রবল: প্রবল\n",
            "হয়ে: হ\n",
            "উঠেছিল: উঠেছিল\n",
            "তাতে: তাত\n",
            "ধরিত্রীকে: ধরিত্রী\n",
            "দিলে: দিল\n",
            "ক্লান্ত: ক্লান্ত\n",
            "করে: করা\n",
            "প্রমাণ: প্রমাণ\n",
            "হল: হওয়া\n",
            "আতিশয্যের: আতিশয্যে\n",
            "পরাভব: পরা\n",
            "অনিবার্য: অনিন্দ্য\n",
            "পরীক্ষায়: পরীক্ষা\n",
            "এটাও: এটি\n",
            "স্থির: স্থির\n",
            "হয়ে: হ\n",
            "গেল: গেল\n",
            "যে: যে\n",
            "প্রশ্রয়ের: প্রশ্রয়ের\n",
            "পরিমাণ: পরিমাণ\n",
            "যত: যত\n",
            "বেশি: বেশি\n",
            "হয়: হ\n",
            "দুর্বলতার: দুর্বল\n",
            "বোঝাও: বোঝা\n",
            "তত: তত\n",
            "দুর্বহ: দুর্বল\n",
            "হয়ে: হ\n",
            "ওঠে: ওঠ\n",
            "নূতন: নূতন\n",
            "পর্বে: পর্ব\n",
            "প্রকৃতি: প্রকৃতি\n",
            "যথাসম্ভব: যথাসম্ভব\n",
            "মানুষের: মানুষ\n",
            "বরাদ্দ: বরাদ্দ\n",
            "কম: কম\n",
            "করে: করা\n",
            "দিয়ে: দেওয়া\n",
            "নিজে: নিজ\n",
            "রইল: রইল\n",
            "নেপথ্যে: নেপথ্য\n",
            "মানুষকে: মানুষ\n",
            "দেখতে: দেখা\n",
            "হল: হওয়া\n",
            "খুব: খুব\n",
            "ছোটো: ছোট\n",
            "কিন্তু: কিন্তু\n",
            "সেটা: সেট\n",
            "একটা: একটি\n",
            "কৌশল: কৌশল\n",
            "মাত্র: মাত্র\n",
            "এবারকার: এবার\n",
            "জীবযাত্রার: যাত্রা\n",
            "পালায়: পালা\n",
            "বিপুলতাকে: বিপুল\n",
            "করা: করা\n",
            "হল: হওয়া\n",
            "বহুলতায়: বহু\n",
            "পরিণত: পরিণত\n",
            "মহাকায়: মহাকাব্য\n",
            "জন্তু: জন্তু\n",
            "ছিল: থাকা\n",
            "প্রকাণ্ড: প্রকাণ্ড\n",
            "একলা: একলা\n",
            "মানুষ: মানুষ\n",
            "হল: হওয়া\n",
            "দূরপ্রসারিত: প্রসার\n",
            "অনেক: অনেক\n"
          ]
        }
      ]
    },
    {
      "cell_type": "code",
      "source": [
        "for word in word_tokens2:\n",
        "  print(word + \": \" + bl.lemma(word))"
      ],
      "metadata": {
        "colab": {
          "base_uri": "https://localhost:8080/"
        },
        "id": "syCIBUCG9Bxo",
        "outputId": "8f54042c-087d-42fb-fc94-c7615ce97edd"
      },
      "execution_count": 51,
      "outputs": [
        {
          "output_type": "stream",
          "name": "stdout",
          "text": [
            "চিত্ত: চিত্ত\n",
            "যেথা: যে\n",
            "ভয়শূন্য: শূন্য\n",
            "উচ্চ: উচ্চ\n",
            "যেথা: যে\n",
            "শির: শির\n",
            "জ্ঞান: জ্ঞান\n",
            "যেথা: যে\n",
            "মুক্ত: মুক্ত\n",
            "যেথা: যে\n",
            "গৃহের: গৃহে\n",
            "প্রাচীর: প্রাচীর\n",
            "আপন: আপন\n",
            "প্রাঙ্গণতলে: প্রাঙ্গণ\n",
            "দিবসশর্বরী: শর্বরী\n",
            "বসুধারে: সুধা\n",
            "রাখে: রাখা\n",
            "নাই: নাই\n",
            "খণ্ড: খণ্ড\n",
            "ক্ষুদ্র: ক্ষুদ্র\n",
            "করি: করা\n",
            "যেথা: যে\n",
            "বাক্য: বাক্য\n",
            "হৃদয়ের: হৃদয়ে\n",
            "উৎসমুখ: মুখ\n",
            "হতে: হওয়া\n",
            "উচ্ছ্বসিয়া: উচ্ছ্বসিয়া\n",
            "উঠে: উঠে\n",
            "যেথা: যে\n",
            "নির্বারিত: নির্বাক\n",
            "স্রোতে: স্রোত\n",
            "দেশের: দেশ\n",
            "হ্রদয়: হ্রদ\n",
            "বুদ্ধির: বুদ্ধি\n",
            "সূত্রে: সূত্র\n",
            "শত: শত\n",
            "শাখা: শাখা\n",
            "শত: শত\n",
            "স্রোতে: স্রোত\n",
            "সেঁচিয়া: সেঁকা\n",
            "উঠে: উঠে\n",
            "যেথা: যে\n",
            "কর্মযজ্ঞে: কর্ম\n",
            "বসন্তের: বসন্ত\n",
            "হাওয়ায়: হাওড়\n",
            "অনুপ্রাণিত: প্রাণি\n",
            "হয়ে: হ\n",
            "অজানা: জানা\n",
            "পথে: পথ\n",
            "চলবারে: বার\n",
            "জনে: জন\n",
            "যেথা: যে\n",
            "চিন্তা: চিন্তা\n",
            "তোমার: আপনার\n",
            "আচারপন্থাকে: আচারপন্থা\n",
            "বুদ্ধির: বুদ্ধি\n",
            "তীক্ষ্ণ: তীক্ষ্ণ\n",
            "তলওয়ারে: তল\n",
            "প্রতি: প্রতি\n",
            "দিন: দিন\n",
            "আঘাত: আঘাত\n",
            "করে: করা\n",
            "যেথা: যে\n",
            "তুমি: আপনি\n",
            "বিশ্ববিধাতা: বিশ্বব্যাপী\n",
            "প্রবুদ্ধ: বুদ্ধ\n",
            "উদার: উদার\n",
            "সৃষ্টি: সৃষ্টি\n",
            "করে: করা\n",
            "থাকো: থাকা\n",
            "সর্বত্র: সর্বত্র\n",
            "সেই: সেই\n",
            "স্বর্গে: স্বর্গ\n",
            "উঠিতে: উঠিতে\n",
            "যাক: যা\n",
            "আমার: আমার\n",
            "দেশ: দেশ\n"
          ]
        }
      ]
    },
    {
      "cell_type": "code",
      "source": [
        "# BnLemma works better than others"
      ],
      "metadata": {
        "id": "HjUcduNF9V4i"
      },
      "execution_count": null,
      "outputs": []
    }
  ]
}