{
  "nbformat": 4,
  "nbformat_minor": 0,
  "metadata": {
    "colab": {
      "provenance": []
    },
    "kernelspec": {
      "name": "python3",
      "display_name": "Python 3"
    },
    "language_info": {
      "name": "python"
    },
    "widgets": {
      "application/vnd.jupyter.widget-state+json": {
        "5de4311c0dbd429f99b8ac4055275f65": {
          "model_module": "@jupyter-widgets/controls",
          "model_name": "HBoxModel",
          "model_module_version": "1.5.0",
          "state": {
            "_dom_classes": [],
            "_model_module": "@jupyter-widgets/controls",
            "_model_module_version": "1.5.0",
            "_model_name": "HBoxModel",
            "_view_count": null,
            "_view_module": "@jupyter-widgets/controls",
            "_view_module_version": "1.5.0",
            "_view_name": "HBoxView",
            "box_style": "",
            "children": [
              "IPY_MODEL_d84718e9a32c42cbb97b269d846e719c",
              "IPY_MODEL_887f28442cea4046801b4af09047f674",
              "IPY_MODEL_c7990fe8349a4c8080321b802fe95fb2"
            ],
            "layout": "IPY_MODEL_38abed7fc3d84b3ea79363f1076ec199"
          }
        },
        "d84718e9a32c42cbb97b269d846e719c": {
          "model_module": "@jupyter-widgets/controls",
          "model_name": "HTMLModel",
          "model_module_version": "1.5.0",
          "state": {
            "_dom_classes": [],
            "_model_module": "@jupyter-widgets/controls",
            "_model_module_version": "1.5.0",
            "_model_name": "HTMLModel",
            "_view_count": null,
            "_view_module": "@jupyter-widgets/controls",
            "_view_module_version": "1.5.0",
            "_view_name": "HTMLView",
            "description": "",
            "description_tooltip": null,
            "layout": "IPY_MODEL_1967ca297a3649db834432deb008825a",
            "placeholder": "​",
            "style": "IPY_MODEL_6b3ce5255f484c5195b8ca5645850924",
            "value": "Downloading bn_spm.model: 100%"
          }
        },
        "887f28442cea4046801b4af09047f674": {
          "model_module": "@jupyter-widgets/controls",
          "model_name": "FloatProgressModel",
          "model_module_version": "1.5.0",
          "state": {
            "_dom_classes": [],
            "_model_module": "@jupyter-widgets/controls",
            "_model_module_version": "1.5.0",
            "_model_name": "FloatProgressModel",
            "_view_count": null,
            "_view_module": "@jupyter-widgets/controls",
            "_view_module_version": "1.5.0",
            "_view_name": "ProgressView",
            "bar_style": "success",
            "description": "",
            "description_tooltip": null,
            "layout": "IPY_MODEL_6ff346354955425caab6db98317d2518",
            "max": 1703793,
            "min": 0,
            "orientation": "horizontal",
            "style": "IPY_MODEL_44c87f43960a4c16908942f1d4a8f37c",
            "value": 1703793
          }
        },
        "c7990fe8349a4c8080321b802fe95fb2": {
          "model_module": "@jupyter-widgets/controls",
          "model_name": "HTMLModel",
          "model_module_version": "1.5.0",
          "state": {
            "_dom_classes": [],
            "_model_module": "@jupyter-widgets/controls",
            "_model_module_version": "1.5.0",
            "_model_name": "HTMLModel",
            "_view_count": null,
            "_view_module": "@jupyter-widgets/controls",
            "_view_module_version": "1.5.0",
            "_view_name": "HTMLView",
            "description": "",
            "description_tooltip": null,
            "layout": "IPY_MODEL_7ab3015a03744f8393d7aac73511e62b",
            "placeholder": "​",
            "style": "IPY_MODEL_6efee9f15dac430b8c2f7528ddc56f57",
            "value": " 1.62M/1.62M [00:00&lt;00:00, 14.6MB/s]"
          }
        },
        "38abed7fc3d84b3ea79363f1076ec199": {
          "model_module": "@jupyter-widgets/base",
          "model_name": "LayoutModel",
          "model_module_version": "1.2.0",
          "state": {
            "_model_module": "@jupyter-widgets/base",
            "_model_module_version": "1.2.0",
            "_model_name": "LayoutModel",
            "_view_count": null,
            "_view_module": "@jupyter-widgets/base",
            "_view_module_version": "1.2.0",
            "_view_name": "LayoutView",
            "align_content": null,
            "align_items": null,
            "align_self": null,
            "border": null,
            "bottom": null,
            "display": null,
            "flex": null,
            "flex_flow": null,
            "grid_area": null,
            "grid_auto_columns": null,
            "grid_auto_flow": null,
            "grid_auto_rows": null,
            "grid_column": null,
            "grid_gap": null,
            "grid_row": null,
            "grid_template_areas": null,
            "grid_template_columns": null,
            "grid_template_rows": null,
            "height": null,
            "justify_content": null,
            "justify_items": null,
            "left": null,
            "margin": null,
            "max_height": null,
            "max_width": null,
            "min_height": null,
            "min_width": null,
            "object_fit": null,
            "object_position": null,
            "order": null,
            "overflow": null,
            "overflow_x": null,
            "overflow_y": null,
            "padding": null,
            "right": null,
            "top": null,
            "visibility": null,
            "width": null
          }
        },
        "1967ca297a3649db834432deb008825a": {
          "model_module": "@jupyter-widgets/base",
          "model_name": "LayoutModel",
          "model_module_version": "1.2.0",
          "state": {
            "_model_module": "@jupyter-widgets/base",
            "_model_module_version": "1.2.0",
            "_model_name": "LayoutModel",
            "_view_count": null,
            "_view_module": "@jupyter-widgets/base",
            "_view_module_version": "1.2.0",
            "_view_name": "LayoutView",
            "align_content": null,
            "align_items": null,
            "align_self": null,
            "border": null,
            "bottom": null,
            "display": null,
            "flex": null,
            "flex_flow": null,
            "grid_area": null,
            "grid_auto_columns": null,
            "grid_auto_flow": null,
            "grid_auto_rows": null,
            "grid_column": null,
            "grid_gap": null,
            "grid_row": null,
            "grid_template_areas": null,
            "grid_template_columns": null,
            "grid_template_rows": null,
            "height": null,
            "justify_content": null,
            "justify_items": null,
            "left": null,
            "margin": null,
            "max_height": null,
            "max_width": null,
            "min_height": null,
            "min_width": null,
            "object_fit": null,
            "object_position": null,
            "order": null,
            "overflow": null,
            "overflow_x": null,
            "overflow_y": null,
            "padding": null,
            "right": null,
            "top": null,
            "visibility": null,
            "width": null
          }
        },
        "6b3ce5255f484c5195b8ca5645850924": {
          "model_module": "@jupyter-widgets/controls",
          "model_name": "DescriptionStyleModel",
          "model_module_version": "1.5.0",
          "state": {
            "_model_module": "@jupyter-widgets/controls",
            "_model_module_version": "1.5.0",
            "_model_name": "DescriptionStyleModel",
            "_view_count": null,
            "_view_module": "@jupyter-widgets/base",
            "_view_module_version": "1.2.0",
            "_view_name": "StyleView",
            "description_width": ""
          }
        },
        "6ff346354955425caab6db98317d2518": {
          "model_module": "@jupyter-widgets/base",
          "model_name": "LayoutModel",
          "model_module_version": "1.2.0",
          "state": {
            "_model_module": "@jupyter-widgets/base",
            "_model_module_version": "1.2.0",
            "_model_name": "LayoutModel",
            "_view_count": null,
            "_view_module": "@jupyter-widgets/base",
            "_view_module_version": "1.2.0",
            "_view_name": "LayoutView",
            "align_content": null,
            "align_items": null,
            "align_self": null,
            "border": null,
            "bottom": null,
            "display": null,
            "flex": null,
            "flex_flow": null,
            "grid_area": null,
            "grid_auto_columns": null,
            "grid_auto_flow": null,
            "grid_auto_rows": null,
            "grid_column": null,
            "grid_gap": null,
            "grid_row": null,
            "grid_template_areas": null,
            "grid_template_columns": null,
            "grid_template_rows": null,
            "height": null,
            "justify_content": null,
            "justify_items": null,
            "left": null,
            "margin": null,
            "max_height": null,
            "max_width": null,
            "min_height": null,
            "min_width": null,
            "object_fit": null,
            "object_position": null,
            "order": null,
            "overflow": null,
            "overflow_x": null,
            "overflow_y": null,
            "padding": null,
            "right": null,
            "top": null,
            "visibility": null,
            "width": null
          }
        },
        "44c87f43960a4c16908942f1d4a8f37c": {
          "model_module": "@jupyter-widgets/controls",
          "model_name": "ProgressStyleModel",
          "model_module_version": "1.5.0",
          "state": {
            "_model_module": "@jupyter-widgets/controls",
            "_model_module_version": "1.5.0",
            "_model_name": "ProgressStyleModel",
            "_view_count": null,
            "_view_module": "@jupyter-widgets/base",
            "_view_module_version": "1.2.0",
            "_view_name": "StyleView",
            "bar_color": null,
            "description_width": ""
          }
        },
        "7ab3015a03744f8393d7aac73511e62b": {
          "model_module": "@jupyter-widgets/base",
          "model_name": "LayoutModel",
          "model_module_version": "1.2.0",
          "state": {
            "_model_module": "@jupyter-widgets/base",
            "_model_module_version": "1.2.0",
            "_model_name": "LayoutModel",
            "_view_count": null,
            "_view_module": "@jupyter-widgets/base",
            "_view_module_version": "1.2.0",
            "_view_name": "LayoutView",
            "align_content": null,
            "align_items": null,
            "align_self": null,
            "border": null,
            "bottom": null,
            "display": null,
            "flex": null,
            "flex_flow": null,
            "grid_area": null,
            "grid_auto_columns": null,
            "grid_auto_flow": null,
            "grid_auto_rows": null,
            "grid_column": null,
            "grid_gap": null,
            "grid_row": null,
            "grid_template_areas": null,
            "grid_template_columns": null,
            "grid_template_rows": null,
            "height": null,
            "justify_content": null,
            "justify_items": null,
            "left": null,
            "margin": null,
            "max_height": null,
            "max_width": null,
            "min_height": null,
            "min_width": null,
            "object_fit": null,
            "object_position": null,
            "order": null,
            "overflow": null,
            "overflow_x": null,
            "overflow_y": null,
            "padding": null,
            "right": null,
            "top": null,
            "visibility": null,
            "width": null
          }
        },
        "6efee9f15dac430b8c2f7528ddc56f57": {
          "model_module": "@jupyter-widgets/controls",
          "model_name": "DescriptionStyleModel",
          "model_module_version": "1.5.0",
          "state": {
            "_model_module": "@jupyter-widgets/controls",
            "_model_module_version": "1.5.0",
            "_model_name": "DescriptionStyleModel",
            "_view_count": null,
            "_view_module": "@jupyter-widgets/base",
            "_view_module_version": "1.2.0",
            "_view_name": "StyleView",
            "description_width": ""
          }
        }
      }
    }
  },
  "cells": [
    {
      "cell_type": "code",
      "execution_count": 1,
      "metadata": {
        "colab": {
          "base_uri": "https://localhost:8080/"
        },
        "id": "HmmFtTPYfRAO",
        "outputId": "5760faf4-b4e8-46ae-feb8-edf8ef52a1c5"
      },
      "outputs": [
        {
          "output_type": "stream",
          "name": "stdout",
          "text": [
            "Collecting bnlp_toolkit\n",
            "  Downloading bnlp_toolkit-4.0.1-py3-none-any.whl (22 kB)\n",
            "Collecting sentencepiece==0.2.0 (from bnlp_toolkit)\n",
            "  Downloading sentencepiece-0.2.0-cp310-cp310-manylinux_2_17_x86_64.manylinux2014_x86_64.whl (1.3 MB)\n",
            "\u001b[2K     \u001b[90m━━━━━━━━━━━━━━━━━━━━━━━━━━━━━━━━━━━━━━━━\u001b[0m \u001b[32m1.3/1.3 MB\u001b[0m \u001b[31m7.4 MB/s\u001b[0m eta \u001b[36m0:00:00\u001b[0m\n",
            "\u001b[?25hRequirement already satisfied: gensim==4.3.2 in /usr/local/lib/python3.10/dist-packages (from bnlp_toolkit) (4.3.2)\n",
            "Requirement already satisfied: nltk==3.8.1 in /usr/local/lib/python3.10/dist-packages (from bnlp_toolkit) (3.8.1)\n",
            "Requirement already satisfied: numpy in /usr/local/lib/python3.10/dist-packages (from bnlp_toolkit) (1.25.2)\n",
            "Collecting scipy==1.10.1 (from bnlp_toolkit)\n",
            "  Downloading scipy-1.10.1-cp310-cp310-manylinux_2_17_x86_64.manylinux2014_x86_64.whl (34.4 MB)\n",
            "\u001b[2K     \u001b[90m━━━━━━━━━━━━━━━━━━━━━━━━━━━━━━━━━━━━━━━━\u001b[0m \u001b[32m34.4/34.4 MB\u001b[0m \u001b[31m28.8 MB/s\u001b[0m eta \u001b[36m0:00:00\u001b[0m\n",
            "\u001b[?25hCollecting sklearn-crfsuite==0.3.6 (from bnlp_toolkit)\n",
            "  Downloading sklearn_crfsuite-0.3.6-py2.py3-none-any.whl (12 kB)\n",
            "Collecting tqdm==4.66.3 (from bnlp_toolkit)\n",
            "  Downloading tqdm-4.66.3-py3-none-any.whl (78 kB)\n",
            "\u001b[2K     \u001b[90m━━━━━━━━━━━━━━━━━━━━━━━━━━━━━━━━━━━━━━━━\u001b[0m \u001b[32m78.4/78.4 kB\u001b[0m \u001b[31m6.3 MB/s\u001b[0m eta \u001b[36m0:00:00\u001b[0m\n",
            "\u001b[?25hCollecting ftfy==6.2.0 (from bnlp_toolkit)\n",
            "  Downloading ftfy-6.2.0-py3-none-any.whl (54 kB)\n",
            "\u001b[2K     \u001b[90m━━━━━━━━━━━━━━━━━━━━━━━━━━━━━━━━━━━━━━━━\u001b[0m \u001b[32m54.4/54.4 kB\u001b[0m \u001b[31m4.3 MB/s\u001b[0m eta \u001b[36m0:00:00\u001b[0m\n",
            "\u001b[?25hCollecting emoji==1.7.0 (from bnlp_toolkit)\n",
            "  Downloading emoji-1.7.0.tar.gz (175 kB)\n",
            "\u001b[2K     \u001b[90m━━━━━━━━━━━━━━━━━━━━━━━━━━━━━━━━━━━━━━━━\u001b[0m \u001b[32m175.4/175.4 kB\u001b[0m \u001b[31m13.6 MB/s\u001b[0m eta \u001b[36m0:00:00\u001b[0m\n",
            "\u001b[?25h  Preparing metadata (setup.py) ... \u001b[?25l\u001b[?25hdone\n",
            "Requirement already satisfied: requests in /usr/local/lib/python3.10/dist-packages (from bnlp_toolkit) (2.31.0)\n",
            "Requirement already satisfied: wcwidth<0.3.0,>=0.2.12 in /usr/local/lib/python3.10/dist-packages (from ftfy==6.2.0->bnlp_toolkit) (0.2.13)\n",
            "Requirement already satisfied: smart-open>=1.8.1 in /usr/local/lib/python3.10/dist-packages (from gensim==4.3.2->bnlp_toolkit) (6.4.0)\n",
            "Requirement already satisfied: click in /usr/local/lib/python3.10/dist-packages (from nltk==3.8.1->bnlp_toolkit) (8.1.7)\n",
            "Requirement already satisfied: joblib in /usr/local/lib/python3.10/dist-packages (from nltk==3.8.1->bnlp_toolkit) (1.4.2)\n",
            "Requirement already satisfied: regex>=2021.8.3 in /usr/local/lib/python3.10/dist-packages (from nltk==3.8.1->bnlp_toolkit) (2023.12.25)\n",
            "Collecting python-crfsuite>=0.8.3 (from sklearn-crfsuite==0.3.6->bnlp_toolkit)\n",
            "  Downloading python_crfsuite-0.9.10-cp310-cp310-manylinux_2_17_x86_64.manylinux2014_x86_64.whl (1.1 MB)\n",
            "\u001b[2K     \u001b[90m━━━━━━━━━━━━━━━━━━━━━━━━━━━━━━━━━━━━━━━━\u001b[0m \u001b[32m1.1/1.1 MB\u001b[0m \u001b[31m52.0 MB/s\u001b[0m eta \u001b[36m0:00:00\u001b[0m\n",
            "\u001b[?25hRequirement already satisfied: six in /usr/local/lib/python3.10/dist-packages (from sklearn-crfsuite==0.3.6->bnlp_toolkit) (1.16.0)\n",
            "Requirement already satisfied: tabulate in /usr/local/lib/python3.10/dist-packages (from sklearn-crfsuite==0.3.6->bnlp_toolkit) (0.9.0)\n",
            "Requirement already satisfied: charset-normalizer<4,>=2 in /usr/local/lib/python3.10/dist-packages (from requests->bnlp_toolkit) (3.3.2)\n",
            "Requirement already satisfied: idna<4,>=2.5 in /usr/local/lib/python3.10/dist-packages (from requests->bnlp_toolkit) (3.7)\n",
            "Requirement already satisfied: urllib3<3,>=1.21.1 in /usr/local/lib/python3.10/dist-packages (from requests->bnlp_toolkit) (2.0.7)\n",
            "Requirement already satisfied: certifi>=2017.4.17 in /usr/local/lib/python3.10/dist-packages (from requests->bnlp_toolkit) (2024.2.2)\n",
            "Building wheels for collected packages: emoji\n",
            "  Building wheel for emoji (setup.py) ... \u001b[?25l\u001b[?25hdone\n",
            "  Created wheel for emoji: filename=emoji-1.7.0-py3-none-any.whl size=171034 sha256=004a6f64e378819952be37e8109c5fa572b87eac90b3fd4355c4ef2f334c3e29\n",
            "  Stored in directory: /root/.cache/pip/wheels/31/8a/8c/315c9e5d7773f74b33d5ed33f075b49c6eaeb7cedbb86e2cf8\n",
            "Successfully built emoji\n",
            "Installing collected packages: sentencepiece, python-crfsuite, emoji, tqdm, scipy, ftfy, sklearn-crfsuite, bnlp_toolkit\n",
            "  Attempting uninstall: sentencepiece\n",
            "    Found existing installation: sentencepiece 0.1.99\n",
            "    Uninstalling sentencepiece-0.1.99:\n",
            "      Successfully uninstalled sentencepiece-0.1.99\n",
            "  Attempting uninstall: tqdm\n",
            "    Found existing installation: tqdm 4.66.4\n",
            "    Uninstalling tqdm-4.66.4:\n",
            "      Successfully uninstalled tqdm-4.66.4\n",
            "  Attempting uninstall: scipy\n",
            "    Found existing installation: scipy 1.11.4\n",
            "    Uninstalling scipy-1.11.4:\n",
            "      Successfully uninstalled scipy-1.11.4\n",
            "Successfully installed bnlp_toolkit-4.0.1 emoji-1.7.0 ftfy-6.2.0 python-crfsuite-0.9.10 scipy-1.10.1 sentencepiece-0.2.0 sklearn-crfsuite-0.3.6 tqdm-4.66.3\n"
          ]
        }
      ],
      "source": [
        "!pip install bnlp_toolkit"
      ]
    },
    {
      "cell_type": "code",
      "source": [
        "text = \"\"\"চিত্ত যেথা ভয়শূন্য, উচ্চ যেথা শির,\n",
        "জ্ঞান যেথা মুক্ত, যেথা গৃহের প্রাচীর আপন প্রাঙ্গণতলে দিবসশর্বরী বসুধারে রাখে নাই খণ্ড ক্ষুদ্র করি,\n",
        "যেথা বাক্য হৃদয়ের উৎসমুখ হতে উচ্ছ্বসিয়া উঠে,\n",
        "যেথা নির্বারিত স্রোতে দেশের হ্রদয়\n",
        "বুদ্ধির সূত্রে শত শাখা শত স্রোতে সেঁচিয়া উঠে,\n",
        "যেথা কর্মযজ্ঞে বসন্তের হাওয়ায় অনুপ্রাণিত হয়ে অজানা পথে চলবারে জনে,\n",
        "যেথা চিন্তা তোমার আচারপন্থাকে বুদ্ধির তীক্ষ্ণ তলওয়ারে প্রতি দিন আঘাত করে,\n",
        "যেথা তুমি বিশ্ববিধাতা প্রবুদ্ধ উদার সৃষ্টি করে থাকো\n",
        "সর্বত্র সেই স্বর্গে উঠিতে যাক আমার দেশ।\"\"\""
      ],
      "metadata": {
        "id": "JOG9Hc7GgjPW"
      },
      "execution_count": 2,
      "outputs": []
    },
    {
      "cell_type": "code",
      "source": [
        "from bnlp import NLTKTokenizer\n",
        "bnltk = NLTKTokenizer()"
      ],
      "metadata": {
        "id": "IDoN9bVHg2Cf"
      },
      "execution_count": 3,
      "outputs": []
    },
    {
      "cell_type": "code",
      "source": [
        "word_tokens = bnltk.word_tokenize(text)\n",
        "sentence_tokens = bnltk.sentence_tokenize(text)"
      ],
      "metadata": {
        "id": "GdB0YtHrhjIb"
      },
      "execution_count": 5,
      "outputs": []
    },
    {
      "cell_type": "code",
      "source": [
        "word_tokens"
      ],
      "metadata": {
        "colab": {
          "base_uri": "https://localhost:8080/"
        },
        "id": "Hiz1zga9hu3T",
        "outputId": "8f3ae0aa-9c2b-48d1-a2e0-13e68e98c072"
      },
      "execution_count": 10,
      "outputs": [
        {
          "output_type": "execute_result",
          "data": {
            "text/plain": [
              "['চিত্ত',\n",
              " 'যেথা',\n",
              " 'ভয়শূন্য',\n",
              " ',',\n",
              " 'উচ্চ',\n",
              " 'যেথা',\n",
              " 'শির',\n",
              " ',',\n",
              " 'জ্ঞান',\n",
              " 'যেথা',\n",
              " 'মুক্ত',\n",
              " ',',\n",
              " 'যেথা',\n",
              " 'গৃহের',\n",
              " 'প্রাচীর',\n",
              " 'আপন',\n",
              " 'প্রাঙ্গণতলে',\n",
              " 'দিবসশর্বরী',\n",
              " 'বসুধারে',\n",
              " 'রাখে',\n",
              " 'নাই',\n",
              " 'খণ্ড',\n",
              " 'ক্ষুদ্র',\n",
              " 'করি',\n",
              " ',',\n",
              " 'যেথা',\n",
              " 'বাক্য',\n",
              " 'হৃদয়ের',\n",
              " 'উৎসমুখ',\n",
              " 'হতে',\n",
              " 'উচ্ছ্বসিয়া',\n",
              " 'উঠে',\n",
              " ',',\n",
              " 'যেথা',\n",
              " 'নির্বারিত',\n",
              " 'স্রোতে',\n",
              " 'দেশের',\n",
              " 'হ্রদয়',\n",
              " 'বুদ্ধির',\n",
              " 'সূত্রে',\n",
              " 'শত',\n",
              " 'শাখা',\n",
              " 'শত',\n",
              " 'স্রোতে',\n",
              " 'সেঁচিয়া',\n",
              " 'উঠে',\n",
              " ',',\n",
              " 'যেথা',\n",
              " 'কর্মযজ্ঞে',\n",
              " 'বসন্তের',\n",
              " 'হাওয়ায়',\n",
              " 'অনুপ্রাণিত',\n",
              " 'হয়ে',\n",
              " 'অজানা',\n",
              " 'পথে',\n",
              " 'চলবারে',\n",
              " 'জনে',\n",
              " ',',\n",
              " 'যেথা',\n",
              " 'চিন্তা',\n",
              " 'তোমার',\n",
              " 'আচারপন্থাকে',\n",
              " 'বুদ্ধির',\n",
              " 'তীক্ষ্ণ',\n",
              " 'তলওয়ারে',\n",
              " 'প্রতি',\n",
              " 'দিন',\n",
              " 'আঘাত',\n",
              " 'করে',\n",
              " ',',\n",
              " 'যেথা',\n",
              " 'তুমি',\n",
              " 'বিশ্ববিধাতা',\n",
              " 'প্রবুদ্ধ',\n",
              " 'উদার',\n",
              " 'সৃষ্টি',\n",
              " 'করে',\n",
              " 'থাকো',\n",
              " 'সর্বত্র',\n",
              " 'সেই',\n",
              " 'স্বর্গে',\n",
              " 'উঠিতে',\n",
              " 'যাক',\n",
              " 'আমার',\n",
              " 'দেশ',\n",
              " '।']"
            ]
          },
          "metadata": {},
          "execution_count": 10
        }
      ]
    },
    {
      "cell_type": "code",
      "source": [
        "len(sentence_tokens) # Treating whole poem as a line, need to fix this"
      ],
      "metadata": {
        "colab": {
          "base_uri": "https://localhost:8080/"
        },
        "id": "AH8O6y4widjx",
        "outputId": "d547da2c-8542-49f4-a275-bbe4ad2f6af1"
      },
      "execution_count": 18,
      "outputs": [
        {
          "output_type": "execute_result",
          "data": {
            "text/plain": [
              "1"
            ]
          },
          "metadata": {},
          "execution_count": 18
        }
      ]
    },
    {
      "cell_type": "code",
      "source": [
        "type(text)"
      ],
      "metadata": {
        "colab": {
          "base_uri": "https://localhost:8080/"
        },
        "id": "4-sSGLaMjikB",
        "outputId": "96e1522a-512c-41de-a1e6-5afc77df0e0f"
      },
      "execution_count": 19,
      "outputs": [
        {
          "output_type": "execute_result",
          "data": {
            "text/plain": [
              "str"
            ]
          },
          "metadata": {},
          "execution_count": 19
        }
      ]
    },
    {
      "cell_type": "code",
      "source": [
        "len(text)"
      ],
      "metadata": {
        "colab": {
          "base_uri": "https://localhost:8080/"
        },
        "id": "S9T_dxdVkHP2",
        "outputId": "67c11e5a-3262-4445-f807-3410d668ec2f"
      },
      "execution_count": 20,
      "outputs": [
        {
          "output_type": "execute_result",
          "data": {
            "text/plain": [
              "500"
            ]
          },
          "metadata": {},
          "execution_count": 20
        }
      ]
    },
    {
      "cell_type": "code",
      "source": [
        "import re\n",
        "sentence_tokens2 = re.split('\\n|,\\n', text)"
      ],
      "metadata": {
        "id": "-hMwwevzkJu2"
      },
      "execution_count": 47,
      "outputs": []
    },
    {
      "cell_type": "code",
      "source": [
        "sentence_tokens2"
      ],
      "metadata": {
        "colab": {
          "base_uri": "https://localhost:8080/"
        },
        "id": "QK0ib7pJlhNh",
        "outputId": "c81b6664-18d5-4e27-cd69-3a24efcaea3d"
      },
      "execution_count": 49,
      "outputs": [
        {
          "output_type": "execute_result",
          "data": {
            "text/plain": [
              "['চিত্ত যেথা ভয়শূন্য, উচ্চ যেথা শির',\n",
              " 'জ্ঞান যেথা মুক্ত, যেথা গৃহের প্রাচীর আপন প্রাঙ্গণতলে দিবসশর্বরী বসুধারে রাখে নাই খণ্ড ক্ষুদ্র করি',\n",
              " 'যেথা বাক্য হৃদয়ের উৎসমুখ হতে উচ্ছ্বসিয়া উঠে',\n",
              " 'যেথা নির্বারিত স্রোতে দেশের হ্রদয়',\n",
              " 'বুদ্ধির সূত্রে শত শাখা শত স্রোতে সেঁচিয়া উঠে',\n",
              " 'যেথা কর্মযজ্ঞে বসন্তের হাওয়ায় অনুপ্রাণিত হয়ে অজানা পথে চলবারে জনে',\n",
              " 'যেথা চিন্তা তোমার আচারপন্থাকে বুদ্ধির তীক্ষ্ণ তলওয়ারে প্রতি দিন আঘাত করে',\n",
              " 'যেথা তুমি বিশ্ববিধাতা প্রবুদ্ধ উদার সৃষ্টি করে থাকো',\n",
              " 'সর্বত্র সেই স্বর্গে উঠিতে যাক আমার দেশ।']"
            ]
          },
          "metadata": {},
          "execution_count": 49
        }
      ]
    },
    {
      "cell_type": "code",
      "source": [
        "len(sentence_tokens2) # It worked"
      ],
      "metadata": {
        "colab": {
          "base_uri": "https://localhost:8080/"
        },
        "id": "zXaVYHzNoYei",
        "outputId": "dad817f5-8782-47b1-f887-facae8c5a397"
      },
      "execution_count": 50,
      "outputs": [
        {
          "output_type": "execute_result",
          "data": {
            "text/plain": [
              "9"
            ]
          },
          "metadata": {},
          "execution_count": 50
        }
      ]
    },
    {
      "cell_type": "markdown",
      "source": [
        "# WELL, try some other stuff"
      ],
      "metadata": {
        "id": "YjOGrWHno7-g"
      }
    },
    {
      "cell_type": "code",
      "source": [
        "# Using basic tokenizer\n",
        "from bnlp import BasicTokenizer\n",
        "tokenizer = BasicTokenizer()"
      ],
      "metadata": {
        "id": "ReEfXqYdpA77"
      },
      "execution_count": 51,
      "outputs": []
    },
    {
      "cell_type": "code",
      "source": [
        "tokens = tokenizer(text)"
      ],
      "metadata": {
        "id": "6yed_ewo3oUq"
      },
      "execution_count": 53,
      "outputs": []
    },
    {
      "cell_type": "code",
      "source": [
        "tokens"
      ],
      "metadata": {
        "colab": {
          "base_uri": "https://localhost:8080/"
        },
        "id": "pe5oLdnJ30Tj",
        "outputId": "73663e99-e7b5-41aa-c449-6f11e1e03a6b"
      },
      "execution_count": 54,
      "outputs": [
        {
          "output_type": "execute_result",
          "data": {
            "text/plain": [
              "['চিত্ত',\n",
              " 'যেথা',\n",
              " 'ভয়শূন্য',\n",
              " ',',\n",
              " 'উচ্চ',\n",
              " 'যেথা',\n",
              " 'শির',\n",
              " ',',\n",
              " 'জ্ঞান',\n",
              " 'যেথা',\n",
              " 'মুক্ত',\n",
              " ',',\n",
              " 'যেথা',\n",
              " 'গৃহের',\n",
              " 'প্রাচীর',\n",
              " 'আপন',\n",
              " 'প্রাঙ্গণতলে',\n",
              " 'দিবসশর্বরী',\n",
              " 'বসুধারে',\n",
              " 'রাখে',\n",
              " 'নাই',\n",
              " 'খণ্ড',\n",
              " 'ক্ষুদ্র',\n",
              " 'করি',\n",
              " ',',\n",
              " 'যেথা',\n",
              " 'বাক্য',\n",
              " 'হৃদয়ের',\n",
              " 'উৎসমুখ',\n",
              " 'হতে',\n",
              " 'উচ্ছ্বসিয়া',\n",
              " 'উঠে',\n",
              " ',',\n",
              " 'যেথা',\n",
              " 'নির্বারিত',\n",
              " 'স্রোতে',\n",
              " 'দেশের',\n",
              " 'হ্রদয়',\n",
              " 'বুদ্ধির',\n",
              " 'সূত্রে',\n",
              " 'শত',\n",
              " 'শাখা',\n",
              " 'শত',\n",
              " 'স্রোতে',\n",
              " 'সেঁচিয়া',\n",
              " 'উঠে',\n",
              " ',',\n",
              " 'যেথা',\n",
              " 'কর্মযজ্ঞে',\n",
              " 'বসন্তের',\n",
              " 'হাওয়ায়',\n",
              " 'অনুপ্রাণিত',\n",
              " 'হয়ে',\n",
              " 'অজানা',\n",
              " 'পথে',\n",
              " 'চলবারে',\n",
              " 'জনে',\n",
              " ',',\n",
              " 'যেথা',\n",
              " 'চিন্তা',\n",
              " 'তোমার',\n",
              " 'আচারপন্থাকে',\n",
              " 'বুদ্ধির',\n",
              " 'তীক্ষ্ণ',\n",
              " 'তলওয়ারে',\n",
              " 'প্রতি',\n",
              " 'দিন',\n",
              " 'আঘাত',\n",
              " 'করে',\n",
              " ',',\n",
              " 'যেথা',\n",
              " 'তুমি',\n",
              " 'বিশ্ববিধাতা',\n",
              " 'প্রবুদ্ধ',\n",
              " 'উদার',\n",
              " 'সৃষ্টি',\n",
              " 'করে',\n",
              " 'থাকো',\n",
              " 'সর্বত্র',\n",
              " 'সেই',\n",
              " 'স্বর্গে',\n",
              " 'উঠিতে',\n",
              " 'যাক',\n",
              " 'আমার',\n",
              " 'দেশ',\n",
              " '।']"
            ]
          },
          "metadata": {},
          "execution_count": 54
        }
      ]
    },
    {
      "cell_type": "code",
      "source": [
        "# Go one step further\n",
        "tokens = [token for token in tokens if (token != ',' and token != '।')]"
      ],
      "metadata": {
        "id": "DnL93b5X380d"
      },
      "execution_count": 58,
      "outputs": []
    },
    {
      "cell_type": "code",
      "source": [
        "tokens"
      ],
      "metadata": {
        "colab": {
          "base_uri": "https://localhost:8080/"
        },
        "id": "PcpiP1-c4POC",
        "outputId": "d26b922e-0146-4bc8-c4c4-f3261db9739d"
      },
      "execution_count": 59,
      "outputs": [
        {
          "output_type": "execute_result",
          "data": {
            "text/plain": [
              "['চিত্ত',\n",
              " 'যেথা',\n",
              " 'ভয়শূন্য',\n",
              " 'উচ্চ',\n",
              " 'যেথা',\n",
              " 'শির',\n",
              " 'জ্ঞান',\n",
              " 'যেথা',\n",
              " 'মুক্ত',\n",
              " 'যেথা',\n",
              " 'গৃহের',\n",
              " 'প্রাচীর',\n",
              " 'আপন',\n",
              " 'প্রাঙ্গণতলে',\n",
              " 'দিবসশর্বরী',\n",
              " 'বসুধারে',\n",
              " 'রাখে',\n",
              " 'নাই',\n",
              " 'খণ্ড',\n",
              " 'ক্ষুদ্র',\n",
              " 'করি',\n",
              " 'যেথা',\n",
              " 'বাক্য',\n",
              " 'হৃদয়ের',\n",
              " 'উৎসমুখ',\n",
              " 'হতে',\n",
              " 'উচ্ছ্বসিয়া',\n",
              " 'উঠে',\n",
              " 'যেথা',\n",
              " 'নির্বারিত',\n",
              " 'স্রোতে',\n",
              " 'দেশের',\n",
              " 'হ্রদয়',\n",
              " 'বুদ্ধির',\n",
              " 'সূত্রে',\n",
              " 'শত',\n",
              " 'শাখা',\n",
              " 'শত',\n",
              " 'স্রোতে',\n",
              " 'সেঁচিয়া',\n",
              " 'উঠে',\n",
              " 'যেথা',\n",
              " 'কর্মযজ্ঞে',\n",
              " 'বসন্তের',\n",
              " 'হাওয়ায়',\n",
              " 'অনুপ্রাণিত',\n",
              " 'হয়ে',\n",
              " 'অজানা',\n",
              " 'পথে',\n",
              " 'চলবারে',\n",
              " 'জনে',\n",
              " 'যেথা',\n",
              " 'চিন্তা',\n",
              " 'তোমার',\n",
              " 'আচারপন্থাকে',\n",
              " 'বুদ্ধির',\n",
              " 'তীক্ষ্ণ',\n",
              " 'তলওয়ারে',\n",
              " 'প্রতি',\n",
              " 'দিন',\n",
              " 'আঘাত',\n",
              " 'করে',\n",
              " 'যেথা',\n",
              " 'তুমি',\n",
              " 'বিশ্ববিধাতা',\n",
              " 'প্রবুদ্ধ',\n",
              " 'উদার',\n",
              " 'সৃষ্টি',\n",
              " 'করে',\n",
              " 'থাকো',\n",
              " 'সর্বত্র',\n",
              " 'সেই',\n",
              " 'স্বর্গে',\n",
              " 'উঠিতে',\n",
              " 'যাক',\n",
              " 'আমার',\n",
              " 'দেশ']"
            ]
          },
          "metadata": {},
          "execution_count": 59
        }
      ]
    },
    {
      "cell_type": "code",
      "source": [
        "# Using Bengali SentencePiece Tokenization\n",
        "from bnlp import SentencepieceTokenizer\n",
        "bsp = SentencepieceTokenizer()"
      ],
      "metadata": {
        "colab": {
          "base_uri": "https://localhost:8080/",
          "height": 49,
          "referenced_widgets": [
            "5de4311c0dbd429f99b8ac4055275f65",
            "d84718e9a32c42cbb97b269d846e719c",
            "887f28442cea4046801b4af09047f674",
            "c7990fe8349a4c8080321b802fe95fb2",
            "38abed7fc3d84b3ea79363f1076ec199",
            "1967ca297a3649db834432deb008825a",
            "6b3ce5255f484c5195b8ca5645850924",
            "6ff346354955425caab6db98317d2518",
            "44c87f43960a4c16908942f1d4a8f37c",
            "7ab3015a03744f8393d7aac73511e62b",
            "6efee9f15dac430b8c2f7528ddc56f57"
          ]
        },
        "id": "cUwuAZw54Yym",
        "outputId": "6f634075-8ccf-4c89-a682-d63cc160ef8e"
      },
      "execution_count": 60,
      "outputs": [
        {
          "output_type": "display_data",
          "data": {
            "text/plain": [
              "Downloading bn_spm.model:   0%|          | 0/1703793 [00:00<?, ?it/s]"
            ],
            "application/vnd.jupyter.widget-view+json": {
              "version_major": 2,
              "version_minor": 0,
              "model_id": "5de4311c0dbd429f99b8ac4055275f65"
            }
          },
          "metadata": {}
        }
      ]
    },
    {
      "cell_type": "code",
      "source": [
        "tokens2 = bsp.tokenize(text)\n",
        "tokens2 # Not so good result"
      ],
      "metadata": {
        "colab": {
          "base_uri": "https://localhost:8080/"
        },
        "id": "kphGqPrg4yVw",
        "outputId": "bc896fc2-3669-4a5c-b840-f6187d9b5e75"
      },
      "execution_count": 63,
      "outputs": [
        {
          "output_type": "execute_result",
          "data": {
            "text/plain": [
              "['▁চিত্ত',\n",
              " '▁যে',\n",
              " 'থা',\n",
              " '▁ভয়',\n",
              " 'শূন্য',\n",
              " ',',\n",
              " '▁উচ্চ',\n",
              " '▁যে',\n",
              " 'থা',\n",
              " '▁শির',\n",
              " ',',\n",
              " '▁জ্ঞান',\n",
              " '▁যে',\n",
              " 'থা',\n",
              " '▁মুক্ত',\n",
              " ',',\n",
              " '▁যে',\n",
              " 'থা',\n",
              " '▁গৃহ',\n",
              " 'ের',\n",
              " '▁প্রাচীর',\n",
              " '▁আপন',\n",
              " '▁প্রাঙ্গণ',\n",
              " 'তলে',\n",
              " '▁দিবস',\n",
              " 'শ',\n",
              " 'র্ব',\n",
              " 'রী',\n",
              " '▁বসু',\n",
              " 'ধারে',\n",
              " '▁রাখে',\n",
              " '▁নাই',\n",
              " '▁খণ্ড',\n",
              " '▁ক্ষুদ্র',\n",
              " '▁করি',\n",
              " ',',\n",
              " '▁যে',\n",
              " 'থা',\n",
              " '▁বাক্য',\n",
              " '▁হৃদয়',\n",
              " 'ের',\n",
              " '▁উৎস',\n",
              " 'মুখ',\n",
              " '▁হতে',\n",
              " '▁উচ্ছ',\n",
              " '্ব',\n",
              " 'সিয়া',\n",
              " '▁উঠে',\n",
              " ',',\n",
              " '▁যে',\n",
              " 'থা',\n",
              " '▁নির্বা',\n",
              " 'র',\n",
              " 'িত',\n",
              " '▁স্রোতে',\n",
              " '▁দেশের',\n",
              " '▁হ্রদ',\n",
              " 'য়',\n",
              " '▁বুদ্ধির',\n",
              " '▁সূত্রে',\n",
              " '▁শত',\n",
              " '▁শাখা',\n",
              " '▁শত',\n",
              " '▁স্রোতে',\n",
              " '▁সে',\n",
              " 'ঁচ',\n",
              " 'িয়া',\n",
              " '▁উঠে',\n",
              " ',',\n",
              " '▁যে',\n",
              " 'থা',\n",
              " '▁কর্ম',\n",
              " 'যজ্ঞ',\n",
              " 'ে',\n",
              " '▁বসন্তের',\n",
              " '▁হাওয়ায়',\n",
              " '▁অনুপ্রাণিত',\n",
              " '▁হয়ে',\n",
              " '▁অজানা',\n",
              " '▁পথে',\n",
              " '▁চল',\n",
              " 'বারে',\n",
              " '▁জন',\n",
              " 'ে',\n",
              " ',',\n",
              " '▁যে',\n",
              " 'থা',\n",
              " '▁চিন্তা',\n",
              " '▁তোমার',\n",
              " '▁আচার',\n",
              " 'পন্থা',\n",
              " 'কে',\n",
              " '▁বুদ্ধির',\n",
              " '▁তীক্ষ্ণ',\n",
              " '▁তল',\n",
              " 'ওয়ার',\n",
              " 'ে',\n",
              " '▁প্রতি',\n",
              " '▁দিন',\n",
              " '▁আঘাত',\n",
              " '▁করে',\n",
              " ',',\n",
              " '▁যে',\n",
              " 'থা',\n",
              " '▁তুমি',\n",
              " '▁বিশ্ব',\n",
              " 'বিধাতা',\n",
              " '▁প্র',\n",
              " 'বুদ্ধ',\n",
              " '▁উদার',\n",
              " '▁সৃষ্টি',\n",
              " '▁করে',\n",
              " '▁থাক',\n",
              " 'ো',\n",
              " '▁সর্বত্র',\n",
              " '▁সেই',\n",
              " '▁স্বর্গে',\n",
              " '▁উঠ',\n",
              " 'িতে',\n",
              " '▁যাক',\n",
              " '▁আমার',\n",
              " '▁দেশ',\n",
              " '।']"
            ]
          },
          "metadata": {},
          "execution_count": 62
        },
        {
          "output_type": "execute_result",
          "data": {
            "text/plain": [
              "['▁চিত্ত',\n",
              " '▁যে',\n",
              " 'থা',\n",
              " '▁ভয়',\n",
              " 'শূন্য',\n",
              " ',',\n",
              " '▁উচ্চ',\n",
              " '▁যে',\n",
              " 'থা',\n",
              " '▁শির',\n",
              " ',',\n",
              " '▁জ্ঞান',\n",
              " '▁যে',\n",
              " 'থা',\n",
              " '▁মুক্ত',\n",
              " ',',\n",
              " '▁যে',\n",
              " 'থা',\n",
              " '▁গৃহ',\n",
              " 'ের',\n",
              " '▁প্রাচীর',\n",
              " '▁আপন',\n",
              " '▁প্রাঙ্গণ',\n",
              " 'তলে',\n",
              " '▁দিবস',\n",
              " 'শ',\n",
              " 'র্ব',\n",
              " 'রী',\n",
              " '▁বসু',\n",
              " 'ধারে',\n",
              " '▁রাখে',\n",
              " '▁নাই',\n",
              " '▁খণ্ড',\n",
              " '▁ক্ষুদ্র',\n",
              " '▁করি',\n",
              " ',',\n",
              " '▁যে',\n",
              " 'থা',\n",
              " '▁বাক্য',\n",
              " '▁হৃদয়',\n",
              " 'ের',\n",
              " '▁উৎস',\n",
              " 'মুখ',\n",
              " '▁হতে',\n",
              " '▁উচ্ছ',\n",
              " '্ব',\n",
              " 'সিয়া',\n",
              " '▁উঠে',\n",
              " ',',\n",
              " '▁যে',\n",
              " 'থা',\n",
              " '▁নির্বা',\n",
              " 'র',\n",
              " 'িত',\n",
              " '▁স্রোতে',\n",
              " '▁দেশের',\n",
              " '▁হ্রদ',\n",
              " 'য়',\n",
              " '▁বুদ্ধির',\n",
              " '▁সূত্রে',\n",
              " '▁শত',\n",
              " '▁শাখা',\n",
              " '▁শত',\n",
              " '▁স্রোতে',\n",
              " '▁সে',\n",
              " 'ঁচ',\n",
              " 'িয়া',\n",
              " '▁উঠে',\n",
              " ',',\n",
              " '▁যে',\n",
              " 'থা',\n",
              " '▁কর্ম',\n",
              " 'যজ্ঞ',\n",
              " 'ে',\n",
              " '▁বসন্তের',\n",
              " '▁হাওয়ায়',\n",
              " '▁অনুপ্রাণিত',\n",
              " '▁হয়ে',\n",
              " '▁অজানা',\n",
              " '▁পথে',\n",
              " '▁চল',\n",
              " 'বারে',\n",
              " '▁জন',\n",
              " 'ে',\n",
              " ',',\n",
              " '▁যে',\n",
              " 'থা',\n",
              " '▁চিন্তা',\n",
              " '▁তোমার',\n",
              " '▁আচার',\n",
              " 'পন্থা',\n",
              " 'কে',\n",
              " '▁বুদ্ধির',\n",
              " '▁তীক্ষ্ণ',\n",
              " '▁তল',\n",
              " 'ওয়ার',\n",
              " 'ে',\n",
              " '▁প্রতি',\n",
              " '▁দিন',\n",
              " '▁আঘাত',\n",
              " '▁করে',\n",
              " ',',\n",
              " '▁যে',\n",
              " 'থা',\n",
              " '▁তুমি',\n",
              " '▁বিশ্ব',\n",
              " 'বিধাতা',\n",
              " '▁প্র',\n",
              " 'বুদ্ধ',\n",
              " '▁উদার',\n",
              " '▁সৃষ্টি',\n",
              " '▁করে',\n",
              " '▁থাক',\n",
              " 'ো',\n",
              " '▁সর্বত্র',\n",
              " '▁সেই',\n",
              " '▁স্বর্গে',\n",
              " '▁উঠ',\n",
              " 'িতে',\n",
              " '▁যাক',\n",
              " '▁আমার',\n",
              " '▁দেশ',\n",
              " '।']"
            ]
          },
          "metadata": {},
          "execution_count": 63
        }
      ]
    },
    {
      "cell_type": "code",
      "source": [
        "text2id = bsp.text2id(text)\n",
        "text2id"
      ],
      "metadata": {
        "colab": {
          "base_uri": "https://localhost:8080/"
        },
        "id": "qQBgo8585QuS",
        "outputId": "5e73667d-9b6f-4ae2-dda4-e41f41d5a3a5"
      },
      "execution_count": 66,
      "outputs": [
        {
          "output_type": "execute_result",
          "data": {
            "text/plain": [
              "[11501,\n",
              " 45,\n",
              " 4121,\n",
              " 3086,\n",
              " 12302,\n",
              " 4,\n",
              " 271,\n",
              " 45,\n",
              " 4121,\n",
              " 10710,\n",
              " 4,\n",
              " 1177,\n",
              " 45,\n",
              " 4121,\n",
              " 1126,\n",
              " 4,\n",
              " 45,\n",
              " 4121,\n",
              " 4664,\n",
              " 5,\n",
              " 3851,\n",
              " 8392,\n",
              " 32768,\n",
              " 17050,\n",
              " 1679,\n",
              " 470,\n",
              " 8958,\n",
              " 2114,\n",
              " 1764,\n",
              " 27457,\n",
              " 1083,\n",
              " 3467,\n",
              " 3495,\n",
              " 1487,\n",
              " 2610,\n",
              " 4,\n",
              " 45,\n",
              " 4121,\n",
              " 4216,\n",
              " 5805,\n",
              " 5,\n",
              " 978,\n",
              " 5133,\n",
              " 93,\n",
              " 21993,\n",
              " 3653,\n",
              " 4406,\n",
              " 984,\n",
              " 4,\n",
              " 45,\n",
              " 4121,\n",
              " 25672,\n",
              " 8,\n",
              " 419,\n",
              " 26761,\n",
              " 281,\n",
              " 2452,\n",
              " 67,\n",
              " 30732,\n",
              " 4502,\n",
              " 2404,\n",
              " 913,\n",
              " 2404,\n",
              " 26761,\n",
              " 124,\n",
              " 10779,\n",
              " 522,\n",
              " 984,\n",
              " 4,\n",
              " 45,\n",
              " 4121,\n",
              " 1750,\n",
              " 20958,\n",
              " 24,\n",
              " 20420,\n",
              " 38254,\n",
              " 3628,\n",
              " 44,\n",
              " 3127,\n",
              " 1229,\n",
              " 7525,\n",
              " 16840,\n",
              " 79,\n",
              " 24,\n",
              " 4,\n",
              " 45,\n",
              " 4121,\n",
              " 2110,\n",
              " 4889,\n",
              " 4062,\n",
              " 23444,\n",
              " 26,\n",
              " 30732,\n",
              " 10174,\n",
              " 6254,\n",
              " 3740,\n",
              " 24,\n",
              " 170,\n",
              " 310,\n",
              " 1356,\n",
              " 12,\n",
              " 4,\n",
              " 45,\n",
              " 4121,\n",
              " 4008,\n",
              " 478,\n",
              " 37647,\n",
              " 1000,\n",
              " 12900,\n",
              " 8331,\n",
              " 381,\n",
              " 12,\n",
              " 12466,\n",
              " 286,\n",
              " 4354,\n",
              " 160,\n",
              " 12397,\n",
              " 25165,\n",
              " 4011,\n",
              " 13175,\n",
              " 1132,\n",
              " 479,\n",
              " 3]"
            ]
          },
          "metadata": {},
          "execution_count": 66
        }
      ]
    },
    {
      "cell_type": "code",
      "source": [
        "id2text = bsp.id2text(text2id)\n",
        "id2text # Good result"
      ],
      "metadata": {
        "colab": {
          "base_uri": "https://localhost:8080/",
          "height": 72
        },
        "id": "EIIWts4q5RxG",
        "outputId": "754b2fb1-bbbc-43f7-add4-b161058ffed4"
      },
      "execution_count": 68,
      "outputs": [
        {
          "output_type": "execute_result",
          "data": {
            "text/plain": [
              "'চিত্ত যেথা ভয়শূন্য, উচ্চ যেথা শির, জ্ঞান যেথা মুক্ত, যেথা গৃহের প্রাচীর আপন প্রাঙ্গণতলে দিবসশর্বরী বসুধারে রাখে নাই খণ্ড ক্ষুদ্র করি, যেথা বাক্য হৃদয়ের উৎসমুখ হতে উচ্ছ্বসিয়া উঠে, যেথা নির্বারিত স্রোতে দেশের হ্রদয় বুদ্ধির সূত্রে শত শাখা শত স্রোতে সেঁচিয়া উঠে, যেথা কর্মযজ্ঞে বসন্তের হাওয়ায় অনুপ্রাণিত হয়ে অজানা পথে চলবারে জনে, যেথা চিন্তা তোমার আচারপন্থাকে বুদ্ধির তীক্ষ্ণ তলওয়ারে প্রতি দিন আঘাত করে, যেথা তুমি বিশ্ববিধাতা প্রবুদ্ধ উদার সৃষ্টি করে থাকো সর্বত্র সেই স্বর্গে উঠিতে যাক আমার দেশ।'"
            ],
            "application/vnd.google.colaboratory.intrinsic+json": {
              "type": "string"
            }
          },
          "metadata": {},
          "execution_count": 68
        }
      ]
    },
    {
      "cell_type": "code",
      "source": [
        "# Using SentencepieceTokenizer we can tokenize using own model\n",
        "# Refer BNLP github"
      ],
      "metadata": {
        "id": "tZzA9B455BYU"
      },
      "execution_count": null,
      "outputs": []
    }
  ]
}