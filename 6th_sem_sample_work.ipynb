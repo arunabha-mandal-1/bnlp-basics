{
  "nbformat": 4,
  "nbformat_minor": 0,
  "metadata": {
    "colab": {
      "provenance": [],
      "authorship_tag": "ABX9TyNv08bpP5GYKnxnvPI7uqf8",
      "include_colab_link": true
    },
    "kernelspec": {
      "name": "python3",
      "display_name": "Python 3"
    },
    "language_info": {
      "name": "python"
    }
  },
  "cells": [
    {
      "cell_type": "markdown",
      "metadata": {
        "id": "view-in-github",
        "colab_type": "text"
      },
      "source": [
        "<a href=\"https://colab.research.google.com/github/arunabha-mandal-1/bnlp-basics/blob/main/6th_sem_sample_work.ipynb\" target=\"_parent\"><img src=\"https://colab.research.google.com/assets/colab-badge.svg\" alt=\"Open In Colab\"/></a>"
      ]
    },
    {
      "cell_type": "markdown",
      "source": [
        "# \"Sesher Ratri\" few lines preprocessing"
      ],
      "metadata": {
        "id": "-IP2tHw9KbM1"
      }
    },
    {
      "cell_type": "code",
      "source": [
        "!pip install bnlp_toolkit"
      ],
      "metadata": {
        "colab": {
          "base_uri": "https://localhost:8080/"
        },
        "id": "9vaasnqfLg3w",
        "outputId": "20ba17d3-90bc-4745-ba5a-41f7e38f37bb"
      },
      "execution_count": 2,
      "outputs": [
        {
          "output_type": "stream",
          "name": "stdout",
          "text": [
            "Requirement already satisfied: bnlp_toolkit in /usr/local/lib/python3.10/dist-packages (4.0.1)\n",
            "Requirement already satisfied: sentencepiece==0.2.0 in /usr/local/lib/python3.10/dist-packages (from bnlp_toolkit) (0.2.0)\n",
            "Requirement already satisfied: gensim==4.3.2 in /usr/local/lib/python3.10/dist-packages (from bnlp_toolkit) (4.3.2)\n",
            "Requirement already satisfied: nltk==3.8.1 in /usr/local/lib/python3.10/dist-packages (from bnlp_toolkit) (3.8.1)\n",
            "Requirement already satisfied: numpy in /usr/local/lib/python3.10/dist-packages (from bnlp_toolkit) (1.26.4)\n",
            "Requirement already satisfied: scipy==1.10.1 in /usr/local/lib/python3.10/dist-packages (from bnlp_toolkit) (1.10.1)\n",
            "Requirement already satisfied: sklearn-crfsuite==0.3.6 in /usr/local/lib/python3.10/dist-packages (from bnlp_toolkit) (0.3.6)\n",
            "Requirement already satisfied: tqdm==4.66.3 in /usr/local/lib/python3.10/dist-packages (from bnlp_toolkit) (4.66.3)\n",
            "Requirement already satisfied: ftfy==6.2.0 in /usr/local/lib/python3.10/dist-packages (from bnlp_toolkit) (6.2.0)\n",
            "Requirement already satisfied: emoji==1.7.0 in /usr/local/lib/python3.10/dist-packages (from bnlp_toolkit) (1.7.0)\n",
            "Requirement already satisfied: requests in /usr/local/lib/python3.10/dist-packages (from bnlp_toolkit) (2.31.0)\n",
            "Requirement already satisfied: wcwidth<0.3.0,>=0.2.12 in /usr/local/lib/python3.10/dist-packages (from ftfy==6.2.0->bnlp_toolkit) (0.2.13)\n",
            "Requirement already satisfied: smart-open>=1.8.1 in /usr/local/lib/python3.10/dist-packages (from gensim==4.3.2->bnlp_toolkit) (7.0.4)\n",
            "Requirement already satisfied: click in /usr/local/lib/python3.10/dist-packages (from nltk==3.8.1->bnlp_toolkit) (8.1.7)\n",
            "Requirement already satisfied: joblib in /usr/local/lib/python3.10/dist-packages (from nltk==3.8.1->bnlp_toolkit) (1.4.2)\n",
            "Requirement already satisfied: regex>=2021.8.3 in /usr/local/lib/python3.10/dist-packages (from nltk==3.8.1->bnlp_toolkit) (2024.5.15)\n",
            "Requirement already satisfied: python-crfsuite>=0.8.3 in /usr/local/lib/python3.10/dist-packages (from sklearn-crfsuite==0.3.6->bnlp_toolkit) (0.9.10)\n",
            "Requirement already satisfied: six in /usr/local/lib/python3.10/dist-packages (from sklearn-crfsuite==0.3.6->bnlp_toolkit) (1.16.0)\n",
            "Requirement already satisfied: tabulate in /usr/local/lib/python3.10/dist-packages (from sklearn-crfsuite==0.3.6->bnlp_toolkit) (0.9.0)\n",
            "Requirement already satisfied: charset-normalizer<4,>=2 in /usr/local/lib/python3.10/dist-packages (from requests->bnlp_toolkit) (3.3.2)\n",
            "Requirement already satisfied: idna<4,>=2.5 in /usr/local/lib/python3.10/dist-packages (from requests->bnlp_toolkit) (3.7)\n",
            "Requirement already satisfied: urllib3<3,>=1.21.1 in /usr/local/lib/python3.10/dist-packages (from requests->bnlp_toolkit) (2.0.7)\n",
            "Requirement already satisfied: certifi>=2017.4.17 in /usr/local/lib/python3.10/dist-packages (from requests->bnlp_toolkit) (2024.7.4)\n",
            "Requirement already satisfied: wrapt in /usr/local/lib/python3.10/dist-packages (from smart-open>=1.8.1->gensim==4.3.2->bnlp_toolkit) (1.14.1)\n"
          ]
        }
      ]
    },
    {
      "cell_type": "code",
      "source": [
        "story = \"\"\"“মাসি ! ”\n",
        "\n",
        "“ঘুমোও, যতীন, রাত হল যে ।”\n",
        "\n",
        "“হোক-না রাত,আমার দিন তো বেশি নেই । আমি বলছিলুম,মণিকে তার বাপের বাড়ি— ভুলে যাচ্ছি,ওর বাপ এখন কোথায়—”\n",
        "\n",
        "“সীতারামপুরে ।”\n",
        "\n",
        "“হাঁ সীতারামপুরে । সেইখানে মণিকে পাঠিয়ে দাও, আরো কতদিন ও রোগীর সেবা করবে । ওর শরীর তো তেমন শক্ত নয় ।”\n",
        "\n",
        "“শোনো একবার ! এই অবস্থায় তোমাকে ফেলে বউ বাপের বাড়ি যেতে চাইবেই বা কেন ।”\n",
        "\n",
        "“ডাক্তারেরা কী বলেছে সে কথা কি সে—”\n",
        "\n",
        "“তা সে নাই জানল— চোখে তো দেখতে পাচ্ছে । সেদিন বাপের বাড়ি যাবার কথা যেমন একটু ইশারায় বলা অমনি বউ কেঁদে অস্থির ।”\n",
        "\n",
        "মাসির এই কথাটার মধ্যে সত্যের কিছু অপলাপ ছিল, সে কথা বলা আবশ্যক । মণির সঙ্গে সেদিন তাঁর এই প্রসঙ্গে যে আলাপ হইয়াছিল সেটা নিম্নলিখিত-মতো ।\n",
        "\n",
        "“বউ,তোমার বাপের বাড়ি থেকে কিছু খবর এসেছে বুঝি ? তোমার জাঠততো ভাই অনাথকে দেখলুম যেন ।\n",
        "\n",
        "হাঁ, মা ব’লে পাঠিয়েছেন, আসছে শুক্রবারে আমার ছোটো বোনের অন্নপ্রাশন । তাই ভাবছি—”\n",
        "\n",
        "“বেশ তো বাছা, একগাছি সোনার হার পাঠিয়ে দাও, তোমার মা খুশি হবেন।”\n",
        "\n",
        "“ভাবছি, আমি যাব। আমার ছোটো বোনকে তো দেখিনি, দেখতে ইচ্ছে করে।”\"\"\""
      ],
      "metadata": {
        "id": "cinK7VnrL8BB"
      },
      "execution_count": 3,
      "outputs": []
    },
    {
      "cell_type": "markdown",
      "source": [
        "#Tokenization"
      ],
      "metadata": {
        "id": "fOm5bireMFgy"
      }
    },
    {
      "cell_type": "code",
      "source": [
        "from bnlp import NLTKTokenizer\n",
        "bnltk = NLTKTokenizer()"
      ],
      "metadata": {
        "id": "8NnjvUB1MbDs"
      },
      "execution_count": 5,
      "outputs": []
    },
    {
      "cell_type": "code",
      "source": [
        "import re\n",
        "sentence_tokens = re.split('\\n|,\\n', story)\n",
        "\n",
        "# remove empty sentences\n",
        "sentence_tokens = [sen for sen in sentence_tokens if sen != '']\n",
        "\n",
        "# remove quotations\n",
        "sentence_tokens = [sen.replace('“', '')for sen in sentence_tokens]\n",
        "sentence_tokens = [sen.replace('”', '')for sen in sentence_tokens]"
      ],
      "metadata": {
        "id": "P4KLpERdMsN8"
      },
      "execution_count": 25,
      "outputs": []
    },
    {
      "cell_type": "code",
      "source": [
        "# Tokenize sentences further\n",
        "sentence_tokens_further = []\n",
        "for sen in sentence_tokens:\n",
        "  temp_tokens = bnltk.sentence_tokenize(sen)\n",
        "  for token in temp_tokens:\n",
        "    sentence_tokens_further.append(token)"
      ],
      "metadata": {
        "id": "MOk5Ba_IPxqq"
      },
      "execution_count": 29,
      "outputs": []
    },
    {
      "cell_type": "code",
      "source": [
        "sentence_tokens"
      ],
      "metadata": {
        "colab": {
          "base_uri": "https://localhost:8080/"
        },
        "id": "s1_le13wQcpU",
        "outputId": "8a1e2d0b-b382-4380-a67c-ca464d8448c6"
      },
      "execution_count": 30,
      "outputs": [
        {
          "output_type": "execute_result",
          "data": {
            "text/plain": [
              "['মাসি ! ',\n",
              " 'ঘুমোও, যতীন, রাত হল যে ।',\n",
              " 'হোক-না রাত,আমার দিন তো বেশি নেই । আমি বলছিলুম,মণিকে তার বাপের বাড়ি— ভুলে যাচ্ছি,ওর বাপ এখন কোথায়—',\n",
              " 'সীতারামপুরে ।',\n",
              " 'হাঁ সীতারামপুরে । সেইখানে মণিকে পাঠিয়ে দাও, আরো কতদিন ও রোগীর সেবা করবে । ওর শরীর তো তেমন শক্ত নয় ।',\n",
              " 'শোনো একবার ! এই অবস্থায় তোমাকে ফেলে বউ বাপের বাড়ি যেতে চাইবেই বা কেন ।',\n",
              " 'ডাক্তারেরা কী বলেছে সে কথা কি সে—',\n",
              " 'তা সে নাই জানল— চোখে তো দেখতে পাচ্ছে । সেদিন বাপের বাড়ি যাবার কথা যেমন একটু ইশারায় বলা অমনি বউ কেঁদে অস্থির ।',\n",
              " 'মাসির এই কথাটার মধ্যে সত্যের কিছু অপলাপ ছিল, সে কথা বলা আবশ্যক । মণির সঙ্গে সেদিন তাঁর এই প্রসঙ্গে যে আলাপ হইয়াছিল সেটা নিম্নলিখিত-মতো ।',\n",
              " 'বউ,তোমার বাপের বাড়ি থেকে কিছু খবর এসেছে বুঝি ? তোমার জাঠততো ভাই অনাথকে দেখলুম যেন ।',\n",
              " 'হাঁ, মা ব’লে পাঠিয়েছেন, আসছে শুক্রবারে আমার ছোটো বোনের অন্নপ্রাশন । তাই ভাবছি—',\n",
              " 'বেশ তো বাছা, একগাছি সোনার হার পাঠিয়ে দাও, তোমার মা খুশি হবেন।',\n",
              " 'ভাবছি, আমি যাব। আমার ছোটো বোনকে তো দেখিনি, দেখতে ইচ্ছে করে।']"
            ]
          },
          "metadata": {},
          "execution_count": 30
        }
      ]
    },
    {
      "cell_type": "code",
      "source": [
        "sentence_tokens_further"
      ],
      "metadata": {
        "colab": {
          "base_uri": "https://localhost:8080/"
        },
        "id": "aEwTHJ7fM0vw",
        "outputId": "f1779530-9ec0-47b9-eab4-e3930aa159cf"
      },
      "execution_count": 31,
      "outputs": [
        {
          "output_type": "execute_result",
          "data": {
            "text/plain": [
              "['মাসি !',\n",
              " 'ঘুমোও, যতীন, রাত হল যে ।',\n",
              " 'হোক-না রাত,আমার দিন তো বেশি নেই ।',\n",
              " 'আমি বলছিলুম,মণিকে তার বাপের বাড়ি— ভুলে যাচ্ছি,ওর বাপ এখন কোথায়—',\n",
              " 'সীতারামপুরে ।',\n",
              " 'হাঁ সীতারামপুরে ।',\n",
              " 'সেইখানে মণিকে পাঠিয়ে দাও, আরো কতদিন ও রোগীর সেবা করবে ।',\n",
              " 'ওর শরীর তো তেমন শক্ত নয় ।',\n",
              " 'শোনো একবার !',\n",
              " 'এই অবস্থায় তোমাকে ফেলে বউ বাপের বাড়ি যেতে চাইবেই বা কেন ।',\n",
              " 'ডাক্তারেরা কী বলেছে সে কথা কি সে—',\n",
              " 'তা সে নাই জানল— চোখে তো দেখতে পাচ্ছে ।',\n",
              " 'সেদিন বাপের বাড়ি যাবার কথা যেমন একটু ইশারায় বলা অমনি বউ কেঁদে অস্থির ।',\n",
              " 'মাসির এই কথাটার মধ্যে সত্যের কিছু অপলাপ ছিল, সে কথা বলা আবশ্যক ।',\n",
              " 'মণির সঙ্গে সেদিন তাঁর এই প্রসঙ্গে যে আলাপ হইয়াছিল সেটা নিম্নলিখিত-মতো ।',\n",
              " 'বউ,তোমার বাপের বাড়ি থেকে কিছু খবর এসেছে বুঝি ?',\n",
              " 'তোমার জাঠততো ভাই অনাথকে দেখলুম যেন ।',\n",
              " 'হাঁ, মা ব’লে পাঠিয়েছেন, আসছে শুক্রবারে আমার ছোটো বোনের অন্নপ্রাশন ।',\n",
              " 'তাই ভাবছি—',\n",
              " 'বেশ তো বাছা, একগাছি সোনার হার পাঠিয়ে দাও, তোমার মা খুশি হবেন।',\n",
              " 'ভাবছি, আমি যাব।',\n",
              " 'আমার ছোটো বোনকে তো দেখিনি, দেখতে ইচ্ছে করে।']"
            ]
          },
          "metadata": {},
          "execution_count": 31
        }
      ]
    },
    {
      "cell_type": "code",
      "source": [
        "word_tokens = []\n",
        "for sen in sentence_tokens_further:\n",
        "  temp_tokens = bnltk.word_tokenize(sen)\n",
        "  for token in temp_tokens:\n",
        "    word_tokens.append(token)"
      ],
      "metadata": {
        "id": "B6cuxw4oQ2gU"
      },
      "execution_count": 32,
      "outputs": []
    },
    {
      "cell_type": "code",
      "source": [
        "word_tokens"
      ],
      "metadata": {
        "colab": {
          "base_uri": "https://localhost:8080/"
        },
        "id": "Rg_1xZz_Q7s9",
        "outputId": "022ce42b-83ce-4317-ec3e-0674dca5fd6c"
      },
      "execution_count": 33,
      "outputs": [
        {
          "output_type": "execute_result",
          "data": {
            "text/plain": [
              "['মাসি',\n",
              " '!',\n",
              " 'ঘুমোও',\n",
              " ',',\n",
              " 'যতীন',\n",
              " ',',\n",
              " 'রাত',\n",
              " 'হল',\n",
              " 'যে',\n",
              " '।',\n",
              " 'হোক-না',\n",
              " 'রাত',\n",
              " ',',\n",
              " 'আমার',\n",
              " 'দিন',\n",
              " 'তো',\n",
              " 'বেশি',\n",
              " 'নেই',\n",
              " '।',\n",
              " 'আমি',\n",
              " 'বলছিলুম',\n",
              " ',',\n",
              " 'মণিকে',\n",
              " 'তার',\n",
              " 'বাপের',\n",
              " 'বাড়ি—',\n",
              " 'ভুলে',\n",
              " 'যাচ্ছি',\n",
              " ',',\n",
              " 'ওর',\n",
              " 'বাপ',\n",
              " 'এখন',\n",
              " 'কোথায়—',\n",
              " 'সীতারামপুরে',\n",
              " '।',\n",
              " 'হাঁ',\n",
              " 'সীতারামপুরে',\n",
              " '।',\n",
              " 'সেইখানে',\n",
              " 'মণিকে',\n",
              " 'পাঠিয়ে',\n",
              " 'দাও',\n",
              " ',',\n",
              " 'আরো',\n",
              " 'কতদিন',\n",
              " 'ও',\n",
              " 'রোগীর',\n",
              " 'সেবা',\n",
              " 'করবে',\n",
              " '।',\n",
              " 'ওর',\n",
              " 'শরীর',\n",
              " 'তো',\n",
              " 'তেমন',\n",
              " 'শক্ত',\n",
              " 'নয়',\n",
              " '।',\n",
              " 'শোনো',\n",
              " 'একবার',\n",
              " '!',\n",
              " 'এই',\n",
              " 'অবস্থায়',\n",
              " 'তোমাকে',\n",
              " 'ফেলে',\n",
              " 'বউ',\n",
              " 'বাপের',\n",
              " 'বাড়ি',\n",
              " 'যেতে',\n",
              " 'চাইবেই',\n",
              " 'বা',\n",
              " 'কেন',\n",
              " '।',\n",
              " 'ডাক্তারেরা',\n",
              " 'কী',\n",
              " 'বলেছে',\n",
              " 'সে',\n",
              " 'কথা',\n",
              " 'কি',\n",
              " 'সে—',\n",
              " 'তা',\n",
              " 'সে',\n",
              " 'নাই',\n",
              " 'জানল—',\n",
              " 'চোখে',\n",
              " 'তো',\n",
              " 'দেখতে',\n",
              " 'পাচ্ছে',\n",
              " '।',\n",
              " 'সেদিন',\n",
              " 'বাপের',\n",
              " 'বাড়ি',\n",
              " 'যাবার',\n",
              " 'কথা',\n",
              " 'যেমন',\n",
              " 'একটু',\n",
              " 'ইশারায়',\n",
              " 'বলা',\n",
              " 'অমনি',\n",
              " 'বউ',\n",
              " 'কেঁদে',\n",
              " 'অস্থির',\n",
              " '।',\n",
              " 'মাসির',\n",
              " 'এই',\n",
              " 'কথাটার',\n",
              " 'মধ্যে',\n",
              " 'সত্যের',\n",
              " 'কিছু',\n",
              " 'অপলাপ',\n",
              " 'ছিল',\n",
              " ',',\n",
              " 'সে',\n",
              " 'কথা',\n",
              " 'বলা',\n",
              " 'আবশ্যক',\n",
              " '।',\n",
              " 'মণির',\n",
              " 'সঙ্গে',\n",
              " 'সেদিন',\n",
              " 'তাঁর',\n",
              " 'এই',\n",
              " 'প্রসঙ্গে',\n",
              " 'যে',\n",
              " 'আলাপ',\n",
              " 'হইয়াছিল',\n",
              " 'সেটা',\n",
              " 'নিম্নলিখিত-মতো',\n",
              " '।',\n",
              " 'বউ',\n",
              " ',',\n",
              " 'তোমার',\n",
              " 'বাপের',\n",
              " 'বাড়ি',\n",
              " 'থেকে',\n",
              " 'কিছু',\n",
              " 'খবর',\n",
              " 'এসেছে',\n",
              " 'বুঝি',\n",
              " '?',\n",
              " 'তোমার',\n",
              " 'জাঠততো',\n",
              " 'ভাই',\n",
              " 'অনাথকে',\n",
              " 'দেখলুম',\n",
              " 'যেন',\n",
              " '।',\n",
              " 'হাঁ',\n",
              " ',',\n",
              " 'মা',\n",
              " 'ব',\n",
              " '’',\n",
              " 'লে',\n",
              " 'পাঠিয়েছেন',\n",
              " ',',\n",
              " 'আসছে',\n",
              " 'শুক্রবারে',\n",
              " 'আমার',\n",
              " 'ছোটো',\n",
              " 'বোনের',\n",
              " 'অন্নপ্রাশন',\n",
              " '।',\n",
              " 'তাই',\n",
              " 'ভাবছি—',\n",
              " 'বেশ',\n",
              " 'তো',\n",
              " 'বাছা',\n",
              " ',',\n",
              " 'একগাছি',\n",
              " 'সোনার',\n",
              " 'হার',\n",
              " 'পাঠিয়ে',\n",
              " 'দাও',\n",
              " ',',\n",
              " 'তোমার',\n",
              " 'মা',\n",
              " 'খুশি',\n",
              " 'হবেন',\n",
              " '।',\n",
              " 'ভাবছি',\n",
              " ',',\n",
              " 'আমি',\n",
              " 'যাব',\n",
              " '।',\n",
              " 'আমার',\n",
              " 'ছোটো',\n",
              " 'বোনকে',\n",
              " 'তো',\n",
              " 'দেখিনি',\n",
              " ',',\n",
              " 'দেখতে',\n",
              " 'ইচ্ছে',\n",
              " 'করে',\n",
              " '।']"
            ]
          },
          "metadata": {},
          "execution_count": 33
        }
      ]
    },
    {
      "cell_type": "markdown",
      "source": [
        "# Remove punctuation"
      ],
      "metadata": {
        "id": "JuLM_mHSRXZA"
      }
    },
    {
      "cell_type": "code",
      "source": [
        "bengali_punctuation = [\n",
        "    '।',  # danda\n",
        "    '॥',  # double danda\n",
        "    '‘',  # left single quotation mark\n",
        "    '’',  # right single quotation mark\n",
        "    '“',  # left double quotation mark\n",
        "    '”',  # right double quotation mark\n",
        "    'ঁ',  # chandrabindu\n",
        "    'ঃ',  # visarga\n",
        "    '্',  # virama\n",
        "    '৺',  # abbreviation sign\n",
        "    '৲',  # rupee mark\n",
        "    '৳',  # rupee sign\n",
        "    '৴',  # currency denominator sign\n",
        "    '৵',  # currency denominator sign\n",
        "    '৶',  # currency denominator sign\n",
        "    '৷',  # Bengali full stop\n",
        "    '৸',  # Bengali letter khanda ta\n",
        "    '৹',   # Bengali letter khanda ta\n",
        "    '!',\n",
        "    '-',\n",
        "    '—',\n",
        "    '?',\n",
        "    ';',\n",
        "    ','\n",
        "]"
      ],
      "metadata": {
        "id": "UvMGS7XpQ_Oz"
      },
      "execution_count": 37,
      "outputs": []
    },
    {
      "cell_type": "code",
      "source": [
        "word_tokens = [word for word in word_tokens if word not in bengali_punctuation]"
      ],
      "metadata": {
        "id": "g9hT6hGBRGvk"
      },
      "execution_count": 38,
      "outputs": []
    },
    {
      "cell_type": "code",
      "source": [
        "word_tokens"
      ],
      "metadata": {
        "colab": {
          "base_uri": "https://localhost:8080/"
        },
        "id": "9PZ6_95cRKl8",
        "outputId": "f80b0afa-2746-4524-cece-461b7dd72654"
      },
      "execution_count": 39,
      "outputs": [
        {
          "output_type": "execute_result",
          "data": {
            "text/plain": [
              "['মাসি',\n",
              " 'ঘুমোও',\n",
              " 'যতীন',\n",
              " 'রাত',\n",
              " 'হল',\n",
              " 'যে',\n",
              " 'হোক-না',\n",
              " 'রাত',\n",
              " 'আমার',\n",
              " 'দিন',\n",
              " 'তো',\n",
              " 'বেশি',\n",
              " 'নেই',\n",
              " 'আমি',\n",
              " 'বলছিলুম',\n",
              " 'মণিকে',\n",
              " 'তার',\n",
              " 'বাপের',\n",
              " 'বাড়ি—',\n",
              " 'ভুলে',\n",
              " 'যাচ্ছি',\n",
              " 'ওর',\n",
              " 'বাপ',\n",
              " 'এখন',\n",
              " 'কোথায়—',\n",
              " 'সীতারামপুরে',\n",
              " 'হাঁ',\n",
              " 'সীতারামপুরে',\n",
              " 'সেইখানে',\n",
              " 'মণিকে',\n",
              " 'পাঠিয়ে',\n",
              " 'দাও',\n",
              " 'আরো',\n",
              " 'কতদিন',\n",
              " 'ও',\n",
              " 'রোগীর',\n",
              " 'সেবা',\n",
              " 'করবে',\n",
              " 'ওর',\n",
              " 'শরীর',\n",
              " 'তো',\n",
              " 'তেমন',\n",
              " 'শক্ত',\n",
              " 'নয়',\n",
              " 'শোনো',\n",
              " 'একবার',\n",
              " 'এই',\n",
              " 'অবস্থায়',\n",
              " 'তোমাকে',\n",
              " 'ফেলে',\n",
              " 'বউ',\n",
              " 'বাপের',\n",
              " 'বাড়ি',\n",
              " 'যেতে',\n",
              " 'চাইবেই',\n",
              " 'বা',\n",
              " 'কেন',\n",
              " 'ডাক্তারেরা',\n",
              " 'কী',\n",
              " 'বলেছে',\n",
              " 'সে',\n",
              " 'কথা',\n",
              " 'কি',\n",
              " 'সে—',\n",
              " 'তা',\n",
              " 'সে',\n",
              " 'নাই',\n",
              " 'জানল—',\n",
              " 'চোখে',\n",
              " 'তো',\n",
              " 'দেখতে',\n",
              " 'পাচ্ছে',\n",
              " 'সেদিন',\n",
              " 'বাপের',\n",
              " 'বাড়ি',\n",
              " 'যাবার',\n",
              " 'কথা',\n",
              " 'যেমন',\n",
              " 'একটু',\n",
              " 'ইশারায়',\n",
              " 'বলা',\n",
              " 'অমনি',\n",
              " 'বউ',\n",
              " 'কেঁদে',\n",
              " 'অস্থির',\n",
              " 'মাসির',\n",
              " 'এই',\n",
              " 'কথাটার',\n",
              " 'মধ্যে',\n",
              " 'সত্যের',\n",
              " 'কিছু',\n",
              " 'অপলাপ',\n",
              " 'ছিল',\n",
              " 'সে',\n",
              " 'কথা',\n",
              " 'বলা',\n",
              " 'আবশ্যক',\n",
              " 'মণির',\n",
              " 'সঙ্গে',\n",
              " 'সেদিন',\n",
              " 'তাঁর',\n",
              " 'এই',\n",
              " 'প্রসঙ্গে',\n",
              " 'যে',\n",
              " 'আলাপ',\n",
              " 'হইয়াছিল',\n",
              " 'সেটা',\n",
              " 'নিম্নলিখিত-মতো',\n",
              " 'বউ',\n",
              " 'তোমার',\n",
              " 'বাপের',\n",
              " 'বাড়ি',\n",
              " 'থেকে',\n",
              " 'কিছু',\n",
              " 'খবর',\n",
              " 'এসেছে',\n",
              " 'বুঝি',\n",
              " 'তোমার',\n",
              " 'জাঠততো',\n",
              " 'ভাই',\n",
              " 'অনাথকে',\n",
              " 'দেখলুম',\n",
              " 'যেন',\n",
              " 'হাঁ',\n",
              " 'মা',\n",
              " 'ব',\n",
              " 'লে',\n",
              " 'পাঠিয়েছেন',\n",
              " 'আসছে',\n",
              " 'শুক্রবারে',\n",
              " 'আমার',\n",
              " 'ছোটো',\n",
              " 'বোনের',\n",
              " 'অন্নপ্রাশন',\n",
              " 'তাই',\n",
              " 'ভাবছি—',\n",
              " 'বেশ',\n",
              " 'তো',\n",
              " 'বাছা',\n",
              " 'একগাছি',\n",
              " 'সোনার',\n",
              " 'হার',\n",
              " 'পাঠিয়ে',\n",
              " 'দাও',\n",
              " 'তোমার',\n",
              " 'মা',\n",
              " 'খুশি',\n",
              " 'হবেন',\n",
              " 'ভাবছি',\n",
              " 'আমি',\n",
              " 'যাব',\n",
              " 'আমার',\n",
              " 'ছোটো',\n",
              " 'বোনকে',\n",
              " 'তো',\n",
              " 'দেখিনি',\n",
              " 'দেখতে',\n",
              " 'ইচ্ছে',\n",
              " 'করে']"
            ]
          },
          "metadata": {},
          "execution_count": 39
        }
      ]
    },
    {
      "cell_type": "markdown",
      "source": [
        "# Remove stopwords"
      ],
      "metadata": {
        "id": "2AOyPA8-RVKd"
      }
    },
    {
      "cell_type": "code",
      "source": [
        "import nltk\n",
        "from nltk.corpus import stopwords\n",
        "nltk.download('stopwords')\n",
        "bengstopwords = stopwords.words('bengali')"
      ],
      "metadata": {
        "colab": {
          "base_uri": "https://localhost:8080/"
        },
        "id": "oiZgXJGoRqC5",
        "outputId": "5f283cb0-37e5-4fc6-fdf9-47cfb6c932f3"
      },
      "execution_count": 41,
      "outputs": [
        {
          "output_type": "stream",
          "name": "stderr",
          "text": [
            "[nltk_data] Downloading package stopwords to /root/nltk_data...\n",
            "[nltk_data]   Package stopwords is already up-to-date!\n"
          ]
        }
      ]
    },
    {
      "cell_type": "code",
      "source": [
        "word_tokens_without_stopwords = [word for word in word_tokens if word not in bengstopwords]"
      ],
      "metadata": {
        "id": "Oq4OxF1DR--P"
      },
      "execution_count": 42,
      "outputs": []
    },
    {
      "cell_type": "code",
      "source": [
        "len(word_tokens)"
      ],
      "metadata": {
        "colab": {
          "base_uri": "https://localhost:8080/"
        },
        "id": "LXTozPhwSOqU",
        "outputId": "df30301e-d1e3-4712-af6e-44b6601bdd65"
      },
      "execution_count": 43,
      "outputs": [
        {
          "output_type": "execute_result",
          "data": {
            "text/plain": [
              "159"
            ]
          },
          "metadata": {},
          "execution_count": 43
        }
      ]
    },
    {
      "cell_type": "code",
      "source": [
        "len(word_tokens_without_stopwords)"
      ],
      "metadata": {
        "colab": {
          "base_uri": "https://localhost:8080/"
        },
        "id": "mTT6emTOSSEi",
        "outputId": "414add7c-e0fd-4be3-f07d-664e0d9e604c"
      },
      "execution_count": 44,
      "outputs": [
        {
          "output_type": "execute_result",
          "data": {
            "text/plain": [
              "100"
            ]
          },
          "metadata": {},
          "execution_count": 44
        }
      ]
    },
    {
      "cell_type": "markdown",
      "source": [
        "# Remove word of single letter"
      ],
      "metadata": {
        "id": "sq-B9pinT8pu"
      }
    },
    {
      "cell_type": "code",
      "source": [
        "final_word_tokens = []\n",
        "for word in word_tokens_without_stopwords:\n",
        "  if len(word) > 1:\n",
        "    final_word_tokens.append(word)"
      ],
      "metadata": {
        "id": "2STzIhgBUFrb"
      },
      "execution_count": 53,
      "outputs": []
    },
    {
      "cell_type": "code",
      "source": [
        "final_word_tokens"
      ],
      "metadata": {
        "colab": {
          "base_uri": "https://localhost:8080/"
        },
        "id": "RCiksffCUYJh",
        "outputId": "1385a610-d0a7-4114-d333-74ec48cefae7"
      },
      "execution_count": 56,
      "outputs": [
        {
          "output_type": "execute_result",
          "data": {
            "text/plain": [
              "['মাসি',\n",
              " 'ঘুমোও',\n",
              " 'যতীন',\n",
              " 'রাত',\n",
              " 'হোক-না',\n",
              " 'রাত',\n",
              " 'বলছিলুম',\n",
              " 'মণিকে',\n",
              " 'বাপের',\n",
              " 'বাড়ি—',\n",
              " 'ভুলে',\n",
              " 'যাচ্ছি',\n",
              " 'বাপ',\n",
              " 'কোথায়—',\n",
              " 'সীতারামপুরে',\n",
              " 'হাঁ',\n",
              " 'সীতারামপুরে',\n",
              " 'সেইখানে',\n",
              " 'মণিকে',\n",
              " 'পাঠিয়ে',\n",
              " 'দাও',\n",
              " 'আরো',\n",
              " 'কতদিন',\n",
              " 'রোগীর',\n",
              " 'সেবা',\n",
              " 'শরীর',\n",
              " 'শক্ত',\n",
              " 'শোনো',\n",
              " 'অবস্থায়',\n",
              " 'তোমাকে',\n",
              " 'ফেলে',\n",
              " 'বউ',\n",
              " 'বাপের',\n",
              " 'বাড়ি',\n",
              " 'চাইবেই',\n",
              " 'ডাক্তারেরা',\n",
              " 'বলেছে',\n",
              " 'কথা',\n",
              " 'সে—',\n",
              " 'জানল—',\n",
              " 'চোখে',\n",
              " 'পাচ্ছে',\n",
              " 'সেদিন',\n",
              " 'বাপের',\n",
              " 'বাড়ি',\n",
              " 'যাবার',\n",
              " 'কথা',\n",
              " 'একটু',\n",
              " 'ইশারায়',\n",
              " 'অমনি',\n",
              " 'বউ',\n",
              " 'কেঁদে',\n",
              " 'অস্থির',\n",
              " 'মাসির',\n",
              " 'কথাটার',\n",
              " 'সত্যের',\n",
              " 'অপলাপ',\n",
              " 'কথা',\n",
              " 'আবশ্যক',\n",
              " 'মণির',\n",
              " 'সেদিন',\n",
              " 'প্রসঙ্গে',\n",
              " 'আলাপ',\n",
              " 'হইয়াছিল',\n",
              " 'নিম্নলিখিত-মতো',\n",
              " 'বউ',\n",
              " 'বাপের',\n",
              " 'বাড়ি',\n",
              " 'খবর',\n",
              " 'এসেছে',\n",
              " 'বুঝি',\n",
              " 'জাঠততো',\n",
              " 'ভাই',\n",
              " 'অনাথকে',\n",
              " 'দেখলুম',\n",
              " 'হাঁ',\n",
              " 'মা',\n",
              " 'লে',\n",
              " 'পাঠিয়েছেন',\n",
              " 'আসছে',\n",
              " 'শুক্রবারে',\n",
              " 'ছোটো',\n",
              " 'বোনের',\n",
              " 'অন্নপ্রাশন',\n",
              " 'ভাবছি—',\n",
              " 'বাছা',\n",
              " 'একগাছি',\n",
              " 'সোনার',\n",
              " 'হার',\n",
              " 'পাঠিয়ে',\n",
              " 'দাও',\n",
              " 'মা',\n",
              " 'খুশি',\n",
              " 'ভাবছি',\n",
              " 'যাব',\n",
              " 'ছোটো',\n",
              " 'বোনকে',\n",
              " 'দেখিনি',\n",
              " 'ইচ্ছে']"
            ]
          },
          "metadata": {},
          "execution_count": 56
        }
      ]
    },
    {
      "cell_type": "markdown",
      "source": [
        "# Lemmatization"
      ],
      "metadata": {
        "id": "jTfu2SaCSWfl"
      }
    },
    {
      "cell_type": "code",
      "source": [
        "!pip install BnLemma\n",
        "import BnLemma as lm\n",
        "bl = lm.Lemmatizer()"
      ],
      "metadata": {
        "colab": {
          "base_uri": "https://localhost:8080/"
        },
        "id": "30pUVbDVSrrV",
        "outputId": "dda25c2d-8a14-464f-9176-aa4dc15a32c4"
      },
      "execution_count": 51,
      "outputs": [
        {
          "output_type": "stream",
          "name": "stdout",
          "text": [
            "Requirement already satisfied: BnLemma in /usr/local/lib/python3.10/dist-packages (2.1)\n"
          ]
        }
      ]
    },
    {
      "cell_type": "code",
      "source": [
        "lemmas = []\n",
        "for word in final_word_tokens:\n",
        "  lemmas.append([word, bl.lemma(word)])"
      ],
      "metadata": {
        "id": "2FTrkr-tTEZ3"
      },
      "execution_count": 57,
      "outputs": []
    },
    {
      "cell_type": "code",
      "source": [
        "lemmas"
      ],
      "metadata": {
        "colab": {
          "base_uri": "https://localhost:8080/"
        },
        "id": "_EdbxvBwUSmJ",
        "outputId": "5704bc19-b21d-44f6-e158-88dc231defe8"
      },
      "execution_count": 58,
      "outputs": [
        {
          "output_type": "execute_result",
          "data": {
            "text/plain": [
              "[['মাসি', 'মাসি'],\n",
              " ['ঘুমোও', 'ঘুম'],\n",
              " ['যতীন', 'যতীন'],\n",
              " ['রাত', 'রাত'],\n",
              " ['হোক-না', 'হোক-না'],\n",
              " ['রাত', 'রাত'],\n",
              " ['বলছিলুম', 'বল'],\n",
              " ['মণিকে', 'মণি'],\n",
              " ['বাপের', 'বাপ'],\n",
              " ['বাড়ি—', 'বাড়ে'],\n",
              " ['ভুলে', 'ভুল'],\n",
              " ['যাচ্ছি', 'যাচা'],\n",
              " ['বাপ', 'বাপ'],\n",
              " ['কোথায়—', 'কোথায়—'],\n",
              " ['সীতারামপুরে', 'সীতা'],\n",
              " ['হাঁ', 'হা'],\n",
              " ['সীতারামপুরে', 'সীতা'],\n",
              " ['সেইখানে', 'সেই'],\n",
              " ['মণিকে', 'মণি'],\n",
              " ['পাঠিয়ে', 'পাঠ'],\n",
              " ['দাও', 'দেওয়া'],\n",
              " ['আরো', 'আরো'],\n",
              " ['কতদিন', 'দিন'],\n",
              " ['রোগীর', 'রোগ'],\n",
              " ['সেবা', 'সেবা'],\n",
              " ['শরীর', 'শরীর'],\n",
              " ['শক্ত', 'শক্ত'],\n",
              " ['শোনো', 'শোনো'],\n",
              " ['অবস্থায়', 'অবস্থায়'],\n",
              " ['তোমাকে', 'আপনাকে'],\n",
              " ['ফেলে', 'ফেল'],\n",
              " ['বউ', 'বউ'],\n",
              " ['বাপের', 'বাপ'],\n",
              " ['বাড়ি', 'বাড়ে'],\n",
              " ['চাইবেই', 'চাইনিজ'],\n",
              " ['ডাক্তারেরা', 'ডাক্তার'],\n",
              " ['বলেছে', 'বল'],\n",
              " ['কথা', 'কথা'],\n",
              " ['সে—', 'সে'],\n",
              " ['জানল—', 'জানল—'],\n",
              " ['চোখে', 'চোখ'],\n",
              " ['পাচ্ছে', 'পাওয়া'],\n",
              " ['সেদিন', 'দিন'],\n",
              " ['বাপের', 'বাপ'],\n",
              " ['বাড়ি', 'বাড়ে'],\n",
              " ['যাবার', 'বার'],\n",
              " ['কথা', 'কথা'],\n",
              " ['একটু', 'একটু'],\n",
              " ['ইশারায়', 'রায়'],\n",
              " ['অমনি', 'মনি'],\n",
              " ['বউ', 'বউ'],\n",
              " ['কেঁদে', 'কেঁচো'],\n",
              " ['অস্থির', 'অস্থির'],\n",
              " ['মাসির', 'মাসি'],\n",
              " ['কথাটার', 'কথা'],\n",
              " ['সত্যের', 'সত্য'],\n",
              " ['অপলাপ', 'অপলাপ'],\n",
              " ['কথা', 'কথা'],\n",
              " ['আবশ্যক', 'আবশ্যক'],\n",
              " ['মণির', 'মণির'],\n",
              " ['সেদিন', 'দিন'],\n",
              " ['প্রসঙ্গে', 'প্রসঙ্গ'],\n",
              " ['আলাপ', 'আল'],\n",
              " ['হইয়াছিল', 'হইয়াছিল'],\n",
              " ['নিম্নলিখিত-মতো', 'নিম্নলিখিত'],\n",
              " ['বউ', 'বউ'],\n",
              " ['বাপের', 'বাপ'],\n",
              " ['বাড়ি', 'বাড়ে'],\n",
              " ['খবর', 'খবর'],\n",
              " ['এসেছে', 'আসা'],\n",
              " ['বুঝি', 'বুঝ'],\n",
              " ['জাঠততো', 'জাঠততো'],\n",
              " ['ভাই', 'ভাই'],\n",
              " ['অনাথকে', 'অনাথ'],\n",
              " ['দেখলুম', 'দেখা'],\n",
              " ['হাঁ', 'হা'],\n",
              " ['মা', 'মা'],\n",
              " ['লে', 'লে'],\n",
              " ['পাঠিয়েছেন', 'পাঠ'],\n",
              " ['আসছে', 'আসা'],\n",
              " ['শুক্রবারে', 'শুক্রবার'],\n",
              " ['ছোটো', 'ছোট'],\n",
              " ['বোনের', 'বোনের'],\n",
              " ['অন্নপ্রাশন', 'অন্ন'],\n",
              " ['ভাবছি—', 'ভাব'],\n",
              " ['বাছা', 'বাছা'],\n",
              " ['একগাছি', 'গাছ'],\n",
              " ['সোনার', 'সোনা'],\n",
              " ['হার', 'হার'],\n",
              " ['পাঠিয়ে', 'পাঠ'],\n",
              " ['দাও', 'দেওয়া'],\n",
              " ['মা', 'মা'],\n",
              " ['খুশি', 'খুশ'],\n",
              " ['ভাবছি', 'ভাব'],\n",
              " ['যাব', 'যা'],\n",
              " ['ছোটো', 'ছোট'],\n",
              " ['বোনকে', 'বোনাস'],\n",
              " ['দেখিনি', 'দেখা'],\n",
              " ['ইচ্ছে', 'ইচ্ছে']]"
            ]
          },
          "metadata": {},
          "execution_count": 58
        }
      ]
    }
  ]
}