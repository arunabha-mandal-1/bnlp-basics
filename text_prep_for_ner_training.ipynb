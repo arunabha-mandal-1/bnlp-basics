{
  "nbformat": 4,
  "nbformat_minor": 0,
  "metadata": {
    "colab": {
      "provenance": [],
      "authorship_tag": "ABX9TyOB2Q5l1AC5g++q5tjJ5NN0"
    },
    "kernelspec": {
      "name": "python3",
      "display_name": "Python 3"
    },
    "language_info": {
      "name": "python"
    },
    "widgets": {
      "application/vnd.jupyter.widget-state+json": {
        "efda99777a274e1ba16e8f87aa942833": {
          "model_module": "@jupyter-widgets/controls",
          "model_name": "HBoxModel",
          "model_module_version": "1.5.0",
          "state": {
            "_dom_classes": [],
            "_model_module": "@jupyter-widgets/controls",
            "_model_module_version": "1.5.0",
            "_model_name": "HBoxModel",
            "_view_count": null,
            "_view_module": "@jupyter-widgets/controls",
            "_view_module_version": "1.5.0",
            "_view_name": "HBoxView",
            "box_style": "",
            "children": [
              "IPY_MODEL_17825d14488f4a6abefcb5852eadcbe8",
              "IPY_MODEL_ec8ba258cc404214aaa026a5a39d7915",
              "IPY_MODEL_568eb8f7b7b24e07adf9fd07f3741714"
            ],
            "layout": "IPY_MODEL_547e31cb99ed438d933777e0fb58dff9"
          }
        },
        "17825d14488f4a6abefcb5852eadcbe8": {
          "model_module": "@jupyter-widgets/controls",
          "model_name": "HTMLModel",
          "model_module_version": "1.5.0",
          "state": {
            "_dom_classes": [],
            "_model_module": "@jupyter-widgets/controls",
            "_model_module_version": "1.5.0",
            "_model_name": "HTMLModel",
            "_view_count": null,
            "_view_module": "@jupyter-widgets/controls",
            "_view_module_version": "1.5.0",
            "_view_name": "HTMLView",
            "description": "",
            "description_tooltip": null,
            "layout": "IPY_MODEL_ee3b66c7671649e9a9e949575167302b",
            "placeholder": "​",
            "style": "IPY_MODEL_bfc09e6f3a8a43a091dfa74c6e50d247",
            "value": "Downloading bn_ner.pkl: 100%"
          }
        },
        "ec8ba258cc404214aaa026a5a39d7915": {
          "model_module": "@jupyter-widgets/controls",
          "model_name": "FloatProgressModel",
          "model_module_version": "1.5.0",
          "state": {
            "_dom_classes": [],
            "_model_module": "@jupyter-widgets/controls",
            "_model_module_version": "1.5.0",
            "_model_name": "FloatProgressModel",
            "_view_count": null,
            "_view_module": "@jupyter-widgets/controls",
            "_view_module_version": "1.5.0",
            "_view_name": "ProgressView",
            "bar_style": "success",
            "description": "",
            "description_tooltip": null,
            "layout": "IPY_MODEL_3f16ca33cbaa483c9ef5a75d7a769d23",
            "max": 26024594,
            "min": 0,
            "orientation": "horizontal",
            "style": "IPY_MODEL_1ca11fb3ad40450aa1159f45fea4dda2",
            "value": 26024594
          }
        },
        "568eb8f7b7b24e07adf9fd07f3741714": {
          "model_module": "@jupyter-widgets/controls",
          "model_name": "HTMLModel",
          "model_module_version": "1.5.0",
          "state": {
            "_dom_classes": [],
            "_model_module": "@jupyter-widgets/controls",
            "_model_module_version": "1.5.0",
            "_model_name": "HTMLModel",
            "_view_count": null,
            "_view_module": "@jupyter-widgets/controls",
            "_view_module_version": "1.5.0",
            "_view_name": "HTMLView",
            "description": "",
            "description_tooltip": null,
            "layout": "IPY_MODEL_da8f323f95e74edfaf65aa58d7d1c871",
            "placeholder": "​",
            "style": "IPY_MODEL_45acc72bd61c48e6896a7078241fc2dd",
            "value": " 24.8M/24.8M [00:00&lt;00:00, 148MB/s]"
          }
        },
        "547e31cb99ed438d933777e0fb58dff9": {
          "model_module": "@jupyter-widgets/base",
          "model_name": "LayoutModel",
          "model_module_version": "1.2.0",
          "state": {
            "_model_module": "@jupyter-widgets/base",
            "_model_module_version": "1.2.0",
            "_model_name": "LayoutModel",
            "_view_count": null,
            "_view_module": "@jupyter-widgets/base",
            "_view_module_version": "1.2.0",
            "_view_name": "LayoutView",
            "align_content": null,
            "align_items": null,
            "align_self": null,
            "border": null,
            "bottom": null,
            "display": null,
            "flex": null,
            "flex_flow": null,
            "grid_area": null,
            "grid_auto_columns": null,
            "grid_auto_flow": null,
            "grid_auto_rows": null,
            "grid_column": null,
            "grid_gap": null,
            "grid_row": null,
            "grid_template_areas": null,
            "grid_template_columns": null,
            "grid_template_rows": null,
            "height": null,
            "justify_content": null,
            "justify_items": null,
            "left": null,
            "margin": null,
            "max_height": null,
            "max_width": null,
            "min_height": null,
            "min_width": null,
            "object_fit": null,
            "object_position": null,
            "order": null,
            "overflow": null,
            "overflow_x": null,
            "overflow_y": null,
            "padding": null,
            "right": null,
            "top": null,
            "visibility": null,
            "width": null
          }
        },
        "ee3b66c7671649e9a9e949575167302b": {
          "model_module": "@jupyter-widgets/base",
          "model_name": "LayoutModel",
          "model_module_version": "1.2.0",
          "state": {
            "_model_module": "@jupyter-widgets/base",
            "_model_module_version": "1.2.0",
            "_model_name": "LayoutModel",
            "_view_count": null,
            "_view_module": "@jupyter-widgets/base",
            "_view_module_version": "1.2.0",
            "_view_name": "LayoutView",
            "align_content": null,
            "align_items": null,
            "align_self": null,
            "border": null,
            "bottom": null,
            "display": null,
            "flex": null,
            "flex_flow": null,
            "grid_area": null,
            "grid_auto_columns": null,
            "grid_auto_flow": null,
            "grid_auto_rows": null,
            "grid_column": null,
            "grid_gap": null,
            "grid_row": null,
            "grid_template_areas": null,
            "grid_template_columns": null,
            "grid_template_rows": null,
            "height": null,
            "justify_content": null,
            "justify_items": null,
            "left": null,
            "margin": null,
            "max_height": null,
            "max_width": null,
            "min_height": null,
            "min_width": null,
            "object_fit": null,
            "object_position": null,
            "order": null,
            "overflow": null,
            "overflow_x": null,
            "overflow_y": null,
            "padding": null,
            "right": null,
            "top": null,
            "visibility": null,
            "width": null
          }
        },
        "bfc09e6f3a8a43a091dfa74c6e50d247": {
          "model_module": "@jupyter-widgets/controls",
          "model_name": "DescriptionStyleModel",
          "model_module_version": "1.5.0",
          "state": {
            "_model_module": "@jupyter-widgets/controls",
            "_model_module_version": "1.5.0",
            "_model_name": "DescriptionStyleModel",
            "_view_count": null,
            "_view_module": "@jupyter-widgets/base",
            "_view_module_version": "1.2.0",
            "_view_name": "StyleView",
            "description_width": ""
          }
        },
        "3f16ca33cbaa483c9ef5a75d7a769d23": {
          "model_module": "@jupyter-widgets/base",
          "model_name": "LayoutModel",
          "model_module_version": "1.2.0",
          "state": {
            "_model_module": "@jupyter-widgets/base",
            "_model_module_version": "1.2.0",
            "_model_name": "LayoutModel",
            "_view_count": null,
            "_view_module": "@jupyter-widgets/base",
            "_view_module_version": "1.2.0",
            "_view_name": "LayoutView",
            "align_content": null,
            "align_items": null,
            "align_self": null,
            "border": null,
            "bottom": null,
            "display": null,
            "flex": null,
            "flex_flow": null,
            "grid_area": null,
            "grid_auto_columns": null,
            "grid_auto_flow": null,
            "grid_auto_rows": null,
            "grid_column": null,
            "grid_gap": null,
            "grid_row": null,
            "grid_template_areas": null,
            "grid_template_columns": null,
            "grid_template_rows": null,
            "height": null,
            "justify_content": null,
            "justify_items": null,
            "left": null,
            "margin": null,
            "max_height": null,
            "max_width": null,
            "min_height": null,
            "min_width": null,
            "object_fit": null,
            "object_position": null,
            "order": null,
            "overflow": null,
            "overflow_x": null,
            "overflow_y": null,
            "padding": null,
            "right": null,
            "top": null,
            "visibility": null,
            "width": null
          }
        },
        "1ca11fb3ad40450aa1159f45fea4dda2": {
          "model_module": "@jupyter-widgets/controls",
          "model_name": "ProgressStyleModel",
          "model_module_version": "1.5.0",
          "state": {
            "_model_module": "@jupyter-widgets/controls",
            "_model_module_version": "1.5.0",
            "_model_name": "ProgressStyleModel",
            "_view_count": null,
            "_view_module": "@jupyter-widgets/base",
            "_view_module_version": "1.2.0",
            "_view_name": "StyleView",
            "bar_color": null,
            "description_width": ""
          }
        },
        "da8f323f95e74edfaf65aa58d7d1c871": {
          "model_module": "@jupyter-widgets/base",
          "model_name": "LayoutModel",
          "model_module_version": "1.2.0",
          "state": {
            "_model_module": "@jupyter-widgets/base",
            "_model_module_version": "1.2.0",
            "_model_name": "LayoutModel",
            "_view_count": null,
            "_view_module": "@jupyter-widgets/base",
            "_view_module_version": "1.2.0",
            "_view_name": "LayoutView",
            "align_content": null,
            "align_items": null,
            "align_self": null,
            "border": null,
            "bottom": null,
            "display": null,
            "flex": null,
            "flex_flow": null,
            "grid_area": null,
            "grid_auto_columns": null,
            "grid_auto_flow": null,
            "grid_auto_rows": null,
            "grid_column": null,
            "grid_gap": null,
            "grid_row": null,
            "grid_template_areas": null,
            "grid_template_columns": null,
            "grid_template_rows": null,
            "height": null,
            "justify_content": null,
            "justify_items": null,
            "left": null,
            "margin": null,
            "max_height": null,
            "max_width": null,
            "min_height": null,
            "min_width": null,
            "object_fit": null,
            "object_position": null,
            "order": null,
            "overflow": null,
            "overflow_x": null,
            "overflow_y": null,
            "padding": null,
            "right": null,
            "top": null,
            "visibility": null,
            "width": null
          }
        },
        "45acc72bd61c48e6896a7078241fc2dd": {
          "model_module": "@jupyter-widgets/controls",
          "model_name": "DescriptionStyleModel",
          "model_module_version": "1.5.0",
          "state": {
            "_model_module": "@jupyter-widgets/controls",
            "_model_module_version": "1.5.0",
            "_model_name": "DescriptionStyleModel",
            "_view_count": null,
            "_view_module": "@jupyter-widgets/base",
            "_view_module_version": "1.2.0",
            "_view_name": "StyleView",
            "description_width": ""
          }
        }
      }
    }
  },
  "cells": [
    {
      "cell_type": "markdown",
      "source": [
        "preprocessing pipeline for ner training data"
      ],
      "metadata": {
        "id": "_YYlB4Srfzmh"
      }
    },
    {
      "cell_type": "code",
      "source": [
        "from google.colab import drive\n",
        "drive.mount('/content/drive')"
      ],
      "metadata": {
        "colab": {
          "base_uri": "https://localhost:8080/"
        },
        "id": "Vazp9DSWiqvZ",
        "outputId": "a002d730-4d65-4f8d-c81c-71cdd3b38a55"
      },
      "execution_count": 1,
      "outputs": [
        {
          "output_type": "stream",
          "name": "stdout",
          "text": [
            "Drive already mounted at /content/drive; to attempt to forcibly remount, call drive.mount(\"/content/drive\", force_remount=True).\n"
          ]
        }
      ]
    },
    {
      "cell_type": "code",
      "source": [
        "!pip install striprtf"
      ],
      "metadata": {
        "colab": {
          "base_uri": "https://localhost:8080/"
        },
        "id": "weU68veIi5TV",
        "outputId": "98d3c62f-08f5-4d18-b62e-de89e9f86993"
      },
      "execution_count": 2,
      "outputs": [
        {
          "output_type": "stream",
          "name": "stdout",
          "text": [
            "Collecting striprtf\n",
            "  Downloading striprtf-0.0.26-py3-none-any.whl.metadata (2.1 kB)\n",
            "Downloading striprtf-0.0.26-py3-none-any.whl (6.9 kB)\n",
            "Installing collected packages: striprtf\n",
            "Successfully installed striprtf-0.0.26\n"
          ]
        }
      ]
    },
    {
      "cell_type": "code",
      "source": [
        "!pip install bnlp_toolkit"
      ],
      "metadata": {
        "colab": {
          "base_uri": "https://localhost:8080/"
        },
        "id": "AYDGOxfnjGmm",
        "outputId": "fd01b423-b087-42d7-f375-80e770397897"
      },
      "execution_count": 4,
      "outputs": [
        {
          "output_type": "stream",
          "name": "stdout",
          "text": [
            "Collecting bnlp_toolkit\n",
            "  Downloading bnlp_toolkit-4.0.3-py3-none-any.whl.metadata (3.3 kB)\n",
            "Requirement already satisfied: sentencepiece==0.2.0 in /usr/local/lib/python3.10/dist-packages (from bnlp_toolkit) (0.2.0)\n",
            "Collecting gensim==4.3.2 (from bnlp_toolkit)\n",
            "  Downloading gensim-4.3.2-cp310-cp310-manylinux_2_17_x86_64.manylinux2014_x86_64.whl.metadata (8.4 kB)\n",
            "Requirement already satisfied: nltk in /usr/local/lib/python3.10/dist-packages (from bnlp_toolkit) (3.8.1)\n",
            "Requirement already satisfied: numpy in /usr/local/lib/python3.10/dist-packages (from bnlp_toolkit) (1.26.4)\n",
            "Collecting scipy==1.10.1 (from bnlp_toolkit)\n",
            "  Downloading scipy-1.10.1-cp310-cp310-manylinux_2_17_x86_64.manylinux2014_x86_64.whl.metadata (58 kB)\n",
            "\u001b[2K     \u001b[90m━━━━━━━━━━━━━━━━━━━━━━━━━━━━━━━━━━━━━━━━\u001b[0m \u001b[32m58.9/58.9 kB\u001b[0m \u001b[31m4.6 MB/s\u001b[0m eta \u001b[36m0:00:00\u001b[0m\n",
            "\u001b[?25hCollecting sklearn-crfsuite==0.3.6 (from bnlp_toolkit)\n",
            "  Downloading sklearn_crfsuite-0.3.6-py2.py3-none-any.whl.metadata (3.8 kB)\n",
            "Collecting tqdm==4.66.3 (from bnlp_toolkit)\n",
            "  Downloading tqdm-4.66.3-py3-none-any.whl.metadata (57 kB)\n",
            "\u001b[2K     \u001b[90m━━━━━━━━━━━━━━━━━━━━━━━━━━━━━━━━━━━━━━━━\u001b[0m \u001b[32m57.6/57.6 kB\u001b[0m \u001b[31m4.6 MB/s\u001b[0m eta \u001b[36m0:00:00\u001b[0m\n",
            "\u001b[?25hCollecting ftfy==6.2.0 (from bnlp_toolkit)\n",
            "  Downloading ftfy-6.2.0-py3-none-any.whl.metadata (7.3 kB)\n",
            "Collecting emoji==1.7.0 (from bnlp_toolkit)\n",
            "  Downloading emoji-1.7.0.tar.gz (175 kB)\n",
            "\u001b[2K     \u001b[90m━━━━━━━━━━━━━━━━━━━━━━━━━━━━━━━━━━━━━━━━\u001b[0m \u001b[32m175.4/175.4 kB\u001b[0m \u001b[31m14.1 MB/s\u001b[0m eta \u001b[36m0:00:00\u001b[0m\n",
            "\u001b[?25h  Preparing metadata (setup.py) ... \u001b[?25l\u001b[?25hdone\n",
            "Requirement already satisfied: requests in /usr/local/lib/python3.10/dist-packages (from bnlp_toolkit) (2.32.3)\n",
            "Requirement already satisfied: wcwidth<0.3.0,>=0.2.12 in /usr/local/lib/python3.10/dist-packages (from ftfy==6.2.0->bnlp_toolkit) (0.2.13)\n",
            "Requirement already satisfied: smart-open>=1.8.1 in /usr/local/lib/python3.10/dist-packages (from gensim==4.3.2->bnlp_toolkit) (7.0.4)\n",
            "Collecting python-crfsuite>=0.8.3 (from sklearn-crfsuite==0.3.6->bnlp_toolkit)\n",
            "  Downloading python_crfsuite-0.9.11-cp310-cp310-manylinux_2_17_x86_64.manylinux2014_x86_64.whl.metadata (4.3 kB)\n",
            "Requirement already satisfied: six in /usr/local/lib/python3.10/dist-packages (from sklearn-crfsuite==0.3.6->bnlp_toolkit) (1.16.0)\n",
            "Requirement already satisfied: tabulate in /usr/local/lib/python3.10/dist-packages (from sklearn-crfsuite==0.3.6->bnlp_toolkit) (0.9.0)\n",
            "Requirement already satisfied: click in /usr/local/lib/python3.10/dist-packages (from nltk->bnlp_toolkit) (8.1.7)\n",
            "Requirement already satisfied: joblib in /usr/local/lib/python3.10/dist-packages (from nltk->bnlp_toolkit) (1.4.2)\n",
            "Requirement already satisfied: regex>=2021.8.3 in /usr/local/lib/python3.10/dist-packages (from nltk->bnlp_toolkit) (2024.9.11)\n",
            "Requirement already satisfied: charset-normalizer<4,>=2 in /usr/local/lib/python3.10/dist-packages (from requests->bnlp_toolkit) (3.3.2)\n",
            "Requirement already satisfied: idna<4,>=2.5 in /usr/local/lib/python3.10/dist-packages (from requests->bnlp_toolkit) (3.10)\n",
            "Requirement already satisfied: urllib3<3,>=1.21.1 in /usr/local/lib/python3.10/dist-packages (from requests->bnlp_toolkit) (2.2.3)\n",
            "Requirement already satisfied: certifi>=2017.4.17 in /usr/local/lib/python3.10/dist-packages (from requests->bnlp_toolkit) (2024.8.30)\n",
            "Requirement already satisfied: wrapt in /usr/local/lib/python3.10/dist-packages (from smart-open>=1.8.1->gensim==4.3.2->bnlp_toolkit) (1.16.0)\n",
            "Downloading bnlp_toolkit-4.0.3-py3-none-any.whl (22 kB)\n",
            "Downloading ftfy-6.2.0-py3-none-any.whl (54 kB)\n",
            "\u001b[2K   \u001b[90m━━━━━━━━━━━━━━━━━━━━━━━━━━━━━━━━━━━━━━━━\u001b[0m \u001b[32m54.4/54.4 kB\u001b[0m \u001b[31m3.7 MB/s\u001b[0m eta \u001b[36m0:00:00\u001b[0m\n",
            "\u001b[?25hDownloading gensim-4.3.2-cp310-cp310-manylinux_2_17_x86_64.manylinux2014_x86_64.whl (26.5 MB)\n",
            "\u001b[2K   \u001b[90m━━━━━━━━━━━━━━━━━━━━━━━━━━━━━━━━━━━━━━━━\u001b[0m \u001b[32m26.5/26.5 MB\u001b[0m \u001b[31m49.6 MB/s\u001b[0m eta \u001b[36m0:00:00\u001b[0m\n",
            "\u001b[?25hDownloading scipy-1.10.1-cp310-cp310-manylinux_2_17_x86_64.manylinux2014_x86_64.whl (34.4 MB)\n",
            "\u001b[2K   \u001b[90m━━━━━━━━━━━━━━━━━━━━━━━━━━━━━━━━━━━━━━━━\u001b[0m \u001b[32m34.4/34.4 MB\u001b[0m \u001b[31m24.3 MB/s\u001b[0m eta \u001b[36m0:00:00\u001b[0m\n",
            "\u001b[?25hDownloading sklearn_crfsuite-0.3.6-py2.py3-none-any.whl (12 kB)\n",
            "Downloading tqdm-4.66.3-py3-none-any.whl (78 kB)\n",
            "\u001b[2K   \u001b[90m━━━━━━━━━━━━━━━━━━━━━━━━━━━━━━━━━━━━━━━━\u001b[0m \u001b[32m78.4/78.4 kB\u001b[0m \u001b[31m6.0 MB/s\u001b[0m eta \u001b[36m0:00:00\u001b[0m\n",
            "\u001b[?25hDownloading python_crfsuite-0.9.11-cp310-cp310-manylinux_2_17_x86_64.manylinux2014_x86_64.whl (1.2 MB)\n",
            "\u001b[2K   \u001b[90m━━━━━━━━━━━━━━━━━━━━━━━━━━━━━━━━━━━━━━━━\u001b[0m \u001b[32m1.2/1.2 MB\u001b[0m \u001b[31m39.3 MB/s\u001b[0m eta \u001b[36m0:00:00\u001b[0m\n",
            "\u001b[?25hBuilding wheels for collected packages: emoji\n",
            "  Building wheel for emoji (setup.py) ... \u001b[?25l\u001b[?25hdone\n",
            "  Created wheel for emoji: filename=emoji-1.7.0-py3-none-any.whl size=171031 sha256=72e8a1e91a6cc8a9ef9cef011774124e22c8dc88086da63029f299b418779e45\n",
            "  Stored in directory: /root/.cache/pip/wheels/31/8a/8c/315c9e5d7773f74b33d5ed33f075b49c6eaeb7cedbb86e2cf8\n",
            "Successfully built emoji\n",
            "Installing collected packages: emoji, tqdm, scipy, python-crfsuite, ftfy, sklearn-crfsuite, gensim, bnlp_toolkit\n",
            "  Attempting uninstall: tqdm\n",
            "    Found existing installation: tqdm 4.66.5\n",
            "    Uninstalling tqdm-4.66.5:\n",
            "      Successfully uninstalled tqdm-4.66.5\n",
            "  Attempting uninstall: scipy\n",
            "    Found existing installation: scipy 1.13.1\n",
            "    Uninstalling scipy-1.13.1:\n",
            "      Successfully uninstalled scipy-1.13.1\n",
            "  Attempting uninstall: gensim\n",
            "    Found existing installation: gensim 4.3.3\n",
            "    Uninstalling gensim-4.3.3:\n",
            "      Successfully uninstalled gensim-4.3.3\n",
            "Successfully installed bnlp_toolkit-4.0.3 emoji-1.7.0 ftfy-6.2.0 gensim-4.3.2 python-crfsuite-0.9.11 scipy-1.10.1 sklearn-crfsuite-0.3.6 tqdm-4.66.3\n"
          ]
        }
      ]
    },
    {
      "cell_type": "code",
      "source": [
        "from bnlp import BengaliNER"
      ],
      "metadata": {
        "id": "7CvauHlRjcl4"
      },
      "execution_count": 5,
      "outputs": []
    },
    {
      "cell_type": "code",
      "source": [
        "bner = BengaliNER()"
      ],
      "metadata": {
        "colab": {
          "base_uri": "https://localhost:8080/",
          "height": 49,
          "referenced_widgets": [
            "efda99777a274e1ba16e8f87aa942833",
            "17825d14488f4a6abefcb5852eadcbe8",
            "ec8ba258cc404214aaa026a5a39d7915",
            "568eb8f7b7b24e07adf9fd07f3741714",
            "547e31cb99ed438d933777e0fb58dff9",
            "ee3b66c7671649e9a9e949575167302b",
            "bfc09e6f3a8a43a091dfa74c6e50d247",
            "3f16ca33cbaa483c9ef5a75d7a769d23",
            "1ca11fb3ad40450aa1159f45fea4dda2",
            "da8f323f95e74edfaf65aa58d7d1c871",
            "45acc72bd61c48e6896a7078241fc2dd"
          ]
        },
        "id": "SFMDooJUjpGl",
        "outputId": "01c6bfd8-ac55-447c-c0a4-0ac42d7511b2"
      },
      "execution_count": 6,
      "outputs": [
        {
          "output_type": "display_data",
          "data": {
            "text/plain": [
              "Downloading bn_ner.pkl:   0%|          | 0/26024594 [00:00<?, ?it/s]"
            ],
            "application/vnd.jupyter.widget-view+json": {
              "version_major": 2,
              "version_minor": 0,
              "model_id": "efda99777a274e1ba16e8f87aa942833"
            }
          },
          "metadata": {}
        }
      ]
    },
    {
      "cell_type": "code",
      "source": [
        "from striprtf.striprtf import rtf_to_text\n",
        "import os\n",
        "\n",
        "# Replace with the actual path to your RTF file in Drive\n",
        "file_path = '/content/drive/MyDrive/final-year-project/stories/প্রথম চিঠি .rtf'\n",
        "with open(file_path, 'r') as f:\n",
        "    rtf_content = f.read()\n",
        "text = rtf_to_text(rtf_content)\n",
        "# print(text)"
      ],
      "metadata": {
        "id": "tg6w7LGXgZAS"
      },
      "execution_count": 186,
      "outputs": []
    },
    {
      "cell_type": "code",
      "source": [
        "result = bner.tag(text)"
      ],
      "metadata": {
        "id": "LMDegGFRjsmm"
      },
      "execution_count": 187,
      "outputs": []
    },
    {
      "cell_type": "code",
      "source": [
        "# result"
      ],
      "metadata": {
        "id": "8nwCA-TIj0gP"
      },
      "execution_count": 79,
      "outputs": []
    },
    {
      "cell_type": "code",
      "source": [
        "ournerlist = []\n",
        "for i in result:\n",
        "  templist = [i[0], i[1]]\n",
        "  ournerlist.append(templist)\n",
        "print(ournerlist)"
      ],
      "metadata": {
        "colab": {
          "base_uri": "https://localhost:8080/"
        },
        "id": "i0BsKdYJn3nP",
        "outputId": "90bd114d-0040-4295-c795-01998030afcc"
      },
      "execution_count": 188,
      "outputs": [
        {
          "output_type": "stream",
          "name": "stdout",
          "text": [
            "[['প্রথম', 'O'], ['চিঠি', 'O'], ['pratham', 'O'], ['chithi', 'O'], ['বধূর', 'O'], ['সঙ্গে', 'O'], ['তার', 'S-PER'], ['প্রথম', 'O'], ['মিলন', 'O'], ['আর', 'O'], ['তার', 'O'], ['পরেই', 'O'], ['সে', 'O'], ['এই', 'O'], ['প্রথম', 'O'], ['এসেছে', 'O'], ['প্রবাসে', 'O'], ['চলে', 'O'], ['যখন', 'O'], ['আসে', 'O'], ['তখন', 'O'], ['বধূর', 'O'], ['লুকিয়ে', 'O'], ['কান্নাটি', 'O'], ['ঘরের', 'O'], ['আয়নার', 'O'], ['মধ্যে', 'O'], ['দিয়ে', 'O'], ['চকিতে', 'O'], ['ওর', 'O'], ['চোখে', 'O'], ['পড়ল', 'O'], ['মন', 'O'], ['বললে', 'O'], ['ফিরি', 'O'], ['দুটো', 'O'], ['কথা', 'O'], ['বলে', 'O'], ['আসি', 'O'], ['কিন্তু', 'O'], ['সেটুকু', 'O'], ['সময়', 'O'], ['ছিল', 'O'], ['না', 'O'], ['সে', 'O'], ['দূরে', 'O'], ['আসবে', 'O'], ['ব', 'O'], ['লে', 'O'], ['একজনের', 'O'], ['দুটি', 'O'], ['চোখ', 'O'], ['বয়ে', 'O'], ['জল', 'O'], ['পড়ে', 'O'], ['তার', 'O'], ['জীবনে', 'O'], ['এমন', 'O'], ['সে', 'O'], ['আর', 'O'], ['কখনো', 'O'], ['দেখে', 'O'], ['নি', 'O'], ['পথে', 'O'], ['চলবার', 'O'], ['সময়', 'O'], ['তার', 'S-PER'], ['কাছে', 'O'], ['পড়ন্ত', 'O'], ['রোদ্\\u200cদুরে', 'O'], ['এই', 'O'], ['পৃথিবী', 'O'], ['প্রেমের', 'O'], ['ব্যথায়', 'O'], ['ভরা', 'O'], ['হয়ে', 'O'], ['দেখা', 'O'], ['দিল', 'O'], ['সেই', 'O'], ['অসীম', 'O'], ['ব্যথার', 'O'], ['ভাণ্ডারে', 'O'], ['তার', 'O'], ['মতো', 'O'], ['একটি', 'O'], ['মানুষেরও', 'O'], ['নিমন্ত্রণ', 'O'], ['আছে', 'O'], ['এই', 'O'], ['কথা', 'O'], ['মনে', 'O'], ['করে', 'O'], ['বিস্ময়ে', 'O'], ['তার', 'O'], ['বুক', 'O'], ['ভরে', 'O'], ['উঠল', 'O'], ['যেখানে', 'O'], ['সে', 'O'], ['কাজ', 'O'], ['করতে', 'O'], ['এসেছে', 'O'], ['সে', 'O'], ['পাহাড়', 'O'], ['সেখানে', 'O'], ['দেবদারুর', 'O'], ['ছায়া', 'O'], ['বেয়ে', 'O'], ['বাঁকা', 'O'], ['পথ', 'O'], ['নীরব', 'O'], ['মিনতির', 'O'], ['মতো', 'O'], ['পাহাড়কে', 'O'], ['জড়িয়ে', 'O'], ['ধরে', 'O'], ['আর', 'O'], ['ছোটো', 'O'], ['ছোটো', 'O'], ['ঝরনা', 'O'], ['কাকে', 'O'], ['যেন', 'O'], ['আড়ালে', 'O'], ['আড়ালে', 'O'], ['খুঁজে', 'O'], ['বেড়ায়', 'O'], ['লুকিয়েচুরিয়ে', 'O'], ['আয়নার', 'O'], ['মধ্যে', 'O'], ['যে', 'O'], ['ছবিটি', 'O'], ['দেখে', 'O'], ['এসেছিল', 'O'], ['আজ', 'O'], ['প্রকৃতির', 'O'], ['মধ্যে', 'O'], ['প্রবাসী', 'O'], ['সেই', 'O'], ['ছবিরই', 'O'], ['আভাস', 'O'], ['দেখে', 'O'], ['নববধূর', 'O'], ['গোপন', 'O'], ['ব্যাকুলতার', 'O'], ['ছবি', 'O'], ['আজ', 'O'], ['দেশ', 'O'], ['থেকে', 'O'], ['তার', 'S-PER'], ['স্ত্রীর', 'S-PER'], ['প্রথম', 'O'], ['চিঠি', 'O'], ['এল', 'O'], ['লিখেছে', 'O'], ['তুমি', 'O'], ['কবে', 'O'], ['ফিরে', 'O'], ['আসবে', 'O'], ['এসো', 'O'], ['এসো', 'O'], ['শীঘ্র', 'O'], ['এসো', 'O'], ['তোমার', 'O'], ['দুটি', 'O'], ['পায়ে', 'O'], ['পড়ি', 'O'], ['এই', 'O'], ['আসা', 'O'], ['যাওয়ার', 'O'], ['সংসারে', 'O'], ['তারও', 'O'], ['চলে', 'O'], ['যাওয়া', 'O'], ['আর', 'O'], ['তারও', 'O'], ['ফিরে', 'O'], ['আসার', 'O'], ['যে', 'O'], ['এত', 'O'], ['দাম', 'O'], ['ছিল', 'O'], ['এ', 'O'], ['কথা', 'O'], ['কে', 'O'], ['জানত', 'O'], ['সেই', 'O'], ['দুটি', 'O'], ['আতুর', 'O'], ['চোখের', 'O'], ['চাউনির', 'O'], ['সামনে', 'O'], ['সে', 'O'], ['নিজেকে', 'O'], ['দাঁড়', 'O'], ['করিয়ে', 'O'], ['দেখলে', 'O'], ['আর', 'O'], ['তার', 'O'], ['মন', 'O'], ['বিস্ময়ে', 'O'], ['ভরে', 'O'], ['উঠল', 'O'], ['ভোরেবেলায়', 'O'], ['উঠে', 'O'], ['চিঠিখানি', 'O'], ['নিয়ে', 'O'], ['দেবদারুর', 'O'], ['ছায়ায়', 'O'], ['সেই', 'O'], ['বাঁকা', 'O'], ['পথে', 'O'], ['সে', 'O'], ['বেড়াতে', 'O'], ['বেরোল', 'O'], ['চিঠির', 'O'], ['পরশ', 'O'], ['তার', 'O'], ['হাতে', 'O'], ['লাগে', 'O'], ['আর', 'O'], ['কানে', 'O'], ['যেন', 'O'], ['সে', 'O'], ['শুনতে', 'O'], ['পায়', 'O'], ['তোমাকে', 'S-PER'], ['না', 'O'], ['দেখতে', 'O'], ['পেয়ে', 'O'], ['আমার', 'S-PER'], ['জগতের', 'O'], ['সমস্ত', 'O'], ['আকাশ', 'O'], ['কান্নায়', 'O'], ['ভেসে', 'O'], ['গেল', 'O'], ['মনে', 'O'], ['মনে', 'O'], ['ভাবতে', 'O'], ['লাগল', 'O'], ['এত', 'O'], ['কান্নার', 'O'], ['মূল্য', 'O'], ['কি', 'O'], ['আমার', 'S-PER'], ['মধ্যে', 'O'], ['আছে', 'O'], ['এমন', 'O'], ['সময়', 'O'], ['সূর্য', 'O'], ['উঠল', 'O'], ['পূর্বদিকের', 'O'], ['নীল', 'O'], ['পাহাড়ের', 'O'], ['শিখরে', 'O'], ['দেবদারুর', 'O'], ['শিশিরভেজা', 'O'], ['পাতার', 'O'], ['ঝালরের', 'O'], ['ভিতর', 'O'], ['দিয়ে', 'O'], ['আলো', 'O'], ['ঝিল্\\u200cমিল্\\u200c', 'O'], ['করে', 'O'], ['উঠল', 'O'], ['হঠাৎ', 'O'], ['চারটি', 'O'], ['বিদেশিনী', 'S-ORG'], ['মেয়ে', 'S-PER'], ['দুই', 'O'], ['কুকুর', 'O'], ['সঙ্গে', 'O'], ['নিয়ে', 'O'], ['রাস্তার', 'O'], ['বাঁকের', 'O'], ['মুখে', 'O'], ['তার', 'O'], ['সামনে', 'O'], ['এসে', 'O'], ['পড়ল', 'O'], ['কী', 'O'], ['জানি', 'O'], ['কী', 'O'], ['ছিল', 'O'], ['তার', 'O'], ['মুখে', 'O'], ['কিম্বা', 'O'], ['তার', 'O'], ['সাজে', 'O'], ['কিম্বা', 'O'], ['তার', 'O'], ['চালচলনে', 'O'], ['বড়ো', 'O'], ['মেয়েদুটি', 'O'], ['কৌতুকে', 'O'], ['মুখ', 'O'], ['একটুখানি', 'O'], ['বাঁকিয়ে', 'O'], ['চলে', 'O'], ['গেল', 'O'], ['ছোটো', 'O'], ['মেয়েদুটি', 'O'], ['হাসি', 'O'], ['চাপবার', 'O'], ['চেষ্টা', 'O'], ['করলে', 'O'], ['চাপতে', 'O'], ['পারলে', 'O'], ['না', 'O'], ['দুজনে', 'O'], ['দুজনকে', 'O'], ['ঠেলাঠেলি', 'O'], ['করে', 'O'], ['খিল্\\u200cখিল্\\u200c', 'O'], ['করে', 'O'], ['হেসে', 'O'], ['ছুটে', 'O'], ['গেল', 'O'], ['কঠিন', 'O'], ['কৌতুকের', 'O'], ['হাসিতে', 'O'], ['ঝরনাগুলিরও', 'O'], ['সুর', 'O'], ['ফিরে', 'O'], ['গেল', 'O'], ['তারা', 'S-PER'], ['হাততালি', 'O'], ['দিয়ে', 'O'], ['উঠল', 'O'], ['প্রবাসী', 'O'], ['মাথা', 'O'], ['হেঁট', 'O'], ['করে', 'O'], ['চলে', 'O'], ['আর', 'O'], ['ভাবে', 'O'], ['আমার', 'S-PER'], ['দেখার', 'O'], ['মূল্য', 'O'], ['কি', 'O'], ['এই', 'O'], ['হাসি', 'O'], ['সেদিন', 'O'], ['রাস্তায়', 'O'], ['চলা', 'O'], ['তার', 'S-PER'], ['আর', 'O'], ['হল', 'O'], ['না', 'O'], ['বাসায়', 'O'], ['ফিরে', 'O'], ['গেল', 'O'], ['একলা', 'O'], ['ঘরে', 'O'], ['বসে', 'O'], ['চিঠিখানি', 'O'], ['খুলে', 'O'], ['পড়লে', 'O'], ['তুমি', 'S-PER'], ['কবে', 'O'], ['ফিরে', 'O'], ['আসবে', 'O'], ['এসো', 'O'], ['এসো', 'O'], ['শীঘ্র', 'O'], ['এসো', 'O'], ['তোমার', 'O'], ['দুটি', 'O'], ['পায়ে', 'O'], ['পড়ি', 'O']]\n"
          ]
        }
      ]
    },
    {
      "cell_type": "code",
      "source": [
        "list = []\n",
        "for i in result:\n",
        "  if 'PER' in i[1]:\n",
        "    list.append(i[0])\n",
        "    # print(i[0])"
      ],
      "metadata": {
        "id": "oE4rVN-vj9Or"
      },
      "execution_count": 189,
      "outputs": []
    },
    {
      "cell_type": "code",
      "source": [
        "for i in ournerlist:\n",
        "  if 'PER' not in i[1]:\n",
        "    i[1] = 'O'\n",
        "print(ournerlist)"
      ],
      "metadata": {
        "colab": {
          "base_uri": "https://localhost:8080/"
        },
        "id": "HQCxQnHWpTBo",
        "outputId": "5520dab8-184b-40f9-a92c-df51801782fd"
      },
      "execution_count": 190,
      "outputs": [
        {
          "output_type": "stream",
          "name": "stdout",
          "text": [
            "[['প্রথম', 'O'], ['চিঠি', 'O'], ['pratham', 'O'], ['chithi', 'O'], ['বধূর', 'O'], ['সঙ্গে', 'O'], ['তার', 'S-PER'], ['প্রথম', 'O'], ['মিলন', 'O'], ['আর', 'O'], ['তার', 'O'], ['পরেই', 'O'], ['সে', 'O'], ['এই', 'O'], ['প্রথম', 'O'], ['এসেছে', 'O'], ['প্রবাসে', 'O'], ['চলে', 'O'], ['যখন', 'O'], ['আসে', 'O'], ['তখন', 'O'], ['বধূর', 'O'], ['লুকিয়ে', 'O'], ['কান্নাটি', 'O'], ['ঘরের', 'O'], ['আয়নার', 'O'], ['মধ্যে', 'O'], ['দিয়ে', 'O'], ['চকিতে', 'O'], ['ওর', 'O'], ['চোখে', 'O'], ['পড়ল', 'O'], ['মন', 'O'], ['বললে', 'O'], ['ফিরি', 'O'], ['দুটো', 'O'], ['কথা', 'O'], ['বলে', 'O'], ['আসি', 'O'], ['কিন্তু', 'O'], ['সেটুকু', 'O'], ['সময়', 'O'], ['ছিল', 'O'], ['না', 'O'], ['সে', 'O'], ['দূরে', 'O'], ['আসবে', 'O'], ['ব', 'O'], ['লে', 'O'], ['একজনের', 'O'], ['দুটি', 'O'], ['চোখ', 'O'], ['বয়ে', 'O'], ['জল', 'O'], ['পড়ে', 'O'], ['তার', 'O'], ['জীবনে', 'O'], ['এমন', 'O'], ['সে', 'O'], ['আর', 'O'], ['কখনো', 'O'], ['দেখে', 'O'], ['নি', 'O'], ['পথে', 'O'], ['চলবার', 'O'], ['সময়', 'O'], ['তার', 'S-PER'], ['কাছে', 'O'], ['পড়ন্ত', 'O'], ['রোদ্\\u200cদুরে', 'O'], ['এই', 'O'], ['পৃথিবী', 'O'], ['প্রেমের', 'O'], ['ব্যথায়', 'O'], ['ভরা', 'O'], ['হয়ে', 'O'], ['দেখা', 'O'], ['দিল', 'O'], ['সেই', 'O'], ['অসীম', 'O'], ['ব্যথার', 'O'], ['ভাণ্ডারে', 'O'], ['তার', 'O'], ['মতো', 'O'], ['একটি', 'O'], ['মানুষেরও', 'O'], ['নিমন্ত্রণ', 'O'], ['আছে', 'O'], ['এই', 'O'], ['কথা', 'O'], ['মনে', 'O'], ['করে', 'O'], ['বিস্ময়ে', 'O'], ['তার', 'O'], ['বুক', 'O'], ['ভরে', 'O'], ['উঠল', 'O'], ['যেখানে', 'O'], ['সে', 'O'], ['কাজ', 'O'], ['করতে', 'O'], ['এসেছে', 'O'], ['সে', 'O'], ['পাহাড়', 'O'], ['সেখানে', 'O'], ['দেবদারুর', 'O'], ['ছায়া', 'O'], ['বেয়ে', 'O'], ['বাঁকা', 'O'], ['পথ', 'O'], ['নীরব', 'O'], ['মিনতির', 'O'], ['মতো', 'O'], ['পাহাড়কে', 'O'], ['জড়িয়ে', 'O'], ['ধরে', 'O'], ['আর', 'O'], ['ছোটো', 'O'], ['ছোটো', 'O'], ['ঝরনা', 'O'], ['কাকে', 'O'], ['যেন', 'O'], ['আড়ালে', 'O'], ['আড়ালে', 'O'], ['খুঁজে', 'O'], ['বেড়ায়', 'O'], ['লুকিয়েচুরিয়ে', 'O'], ['আয়নার', 'O'], ['মধ্যে', 'O'], ['যে', 'O'], ['ছবিটি', 'O'], ['দেখে', 'O'], ['এসেছিল', 'O'], ['আজ', 'O'], ['প্রকৃতির', 'O'], ['মধ্যে', 'O'], ['প্রবাসী', 'O'], ['সেই', 'O'], ['ছবিরই', 'O'], ['আভাস', 'O'], ['দেখে', 'O'], ['নববধূর', 'O'], ['গোপন', 'O'], ['ব্যাকুলতার', 'O'], ['ছবি', 'O'], ['আজ', 'O'], ['দেশ', 'O'], ['থেকে', 'O'], ['তার', 'S-PER'], ['স্ত্রীর', 'S-PER'], ['প্রথম', 'O'], ['চিঠি', 'O'], ['এল', 'O'], ['লিখেছে', 'O'], ['তুমি', 'O'], ['কবে', 'O'], ['ফিরে', 'O'], ['আসবে', 'O'], ['এসো', 'O'], ['এসো', 'O'], ['শীঘ্র', 'O'], ['এসো', 'O'], ['তোমার', 'O'], ['দুটি', 'O'], ['পায়ে', 'O'], ['পড়ি', 'O'], ['এই', 'O'], ['আসা', 'O'], ['যাওয়ার', 'O'], ['সংসারে', 'O'], ['তারও', 'O'], ['চলে', 'O'], ['যাওয়া', 'O'], ['আর', 'O'], ['তারও', 'O'], ['ফিরে', 'O'], ['আসার', 'O'], ['যে', 'O'], ['এত', 'O'], ['দাম', 'O'], ['ছিল', 'O'], ['এ', 'O'], ['কথা', 'O'], ['কে', 'O'], ['জানত', 'O'], ['সেই', 'O'], ['দুটি', 'O'], ['আতুর', 'O'], ['চোখের', 'O'], ['চাউনির', 'O'], ['সামনে', 'O'], ['সে', 'O'], ['নিজেকে', 'O'], ['দাঁড়', 'O'], ['করিয়ে', 'O'], ['দেখলে', 'O'], ['আর', 'O'], ['তার', 'O'], ['মন', 'O'], ['বিস্ময়ে', 'O'], ['ভরে', 'O'], ['উঠল', 'O'], ['ভোরেবেলায়', 'O'], ['উঠে', 'O'], ['চিঠিখানি', 'O'], ['নিয়ে', 'O'], ['দেবদারুর', 'O'], ['ছায়ায়', 'O'], ['সেই', 'O'], ['বাঁকা', 'O'], ['পথে', 'O'], ['সে', 'O'], ['বেড়াতে', 'O'], ['বেরোল', 'O'], ['চিঠির', 'O'], ['পরশ', 'O'], ['তার', 'O'], ['হাতে', 'O'], ['লাগে', 'O'], ['আর', 'O'], ['কানে', 'O'], ['যেন', 'O'], ['সে', 'O'], ['শুনতে', 'O'], ['পায়', 'O'], ['তোমাকে', 'S-PER'], ['না', 'O'], ['দেখতে', 'O'], ['পেয়ে', 'O'], ['আমার', 'S-PER'], ['জগতের', 'O'], ['সমস্ত', 'O'], ['আকাশ', 'O'], ['কান্নায়', 'O'], ['ভেসে', 'O'], ['গেল', 'O'], ['মনে', 'O'], ['মনে', 'O'], ['ভাবতে', 'O'], ['লাগল', 'O'], ['এত', 'O'], ['কান্নার', 'O'], ['মূল্য', 'O'], ['কি', 'O'], ['আমার', 'S-PER'], ['মধ্যে', 'O'], ['আছে', 'O'], ['এমন', 'O'], ['সময়', 'O'], ['সূর্য', 'O'], ['উঠল', 'O'], ['পূর্বদিকের', 'O'], ['নীল', 'O'], ['পাহাড়ের', 'O'], ['শিখরে', 'O'], ['দেবদারুর', 'O'], ['শিশিরভেজা', 'O'], ['পাতার', 'O'], ['ঝালরের', 'O'], ['ভিতর', 'O'], ['দিয়ে', 'O'], ['আলো', 'O'], ['ঝিল্\\u200cমিল্\\u200c', 'O'], ['করে', 'O'], ['উঠল', 'O'], ['হঠাৎ', 'O'], ['চারটি', 'O'], ['বিদেশিনী', 'O'], ['মেয়ে', 'S-PER'], ['দুই', 'O'], ['কুকুর', 'O'], ['সঙ্গে', 'O'], ['নিয়ে', 'O'], ['রাস্তার', 'O'], ['বাঁকের', 'O'], ['মুখে', 'O'], ['তার', 'O'], ['সামনে', 'O'], ['এসে', 'O'], ['পড়ল', 'O'], ['কী', 'O'], ['জানি', 'O'], ['কী', 'O'], ['ছিল', 'O'], ['তার', 'O'], ['মুখে', 'O'], ['কিম্বা', 'O'], ['তার', 'O'], ['সাজে', 'O'], ['কিম্বা', 'O'], ['তার', 'O'], ['চালচলনে', 'O'], ['বড়ো', 'O'], ['মেয়েদুটি', 'O'], ['কৌতুকে', 'O'], ['মুখ', 'O'], ['একটুখানি', 'O'], ['বাঁকিয়ে', 'O'], ['চলে', 'O'], ['গেল', 'O'], ['ছোটো', 'O'], ['মেয়েদুটি', 'O'], ['হাসি', 'O'], ['চাপবার', 'O'], ['চেষ্টা', 'O'], ['করলে', 'O'], ['চাপতে', 'O'], ['পারলে', 'O'], ['না', 'O'], ['দুজনে', 'O'], ['দুজনকে', 'O'], ['ঠেলাঠেলি', 'O'], ['করে', 'O'], ['খিল্\\u200cখিল্\\u200c', 'O'], ['করে', 'O'], ['হেসে', 'O'], ['ছুটে', 'O'], ['গেল', 'O'], ['কঠিন', 'O'], ['কৌতুকের', 'O'], ['হাসিতে', 'O'], ['ঝরনাগুলিরও', 'O'], ['সুর', 'O'], ['ফিরে', 'O'], ['গেল', 'O'], ['তারা', 'S-PER'], ['হাততালি', 'O'], ['দিয়ে', 'O'], ['উঠল', 'O'], ['প্রবাসী', 'O'], ['মাথা', 'O'], ['হেঁট', 'O'], ['করে', 'O'], ['চলে', 'O'], ['আর', 'O'], ['ভাবে', 'O'], ['আমার', 'S-PER'], ['দেখার', 'O'], ['মূল্য', 'O'], ['কি', 'O'], ['এই', 'O'], ['হাসি', 'O'], ['সেদিন', 'O'], ['রাস্তায়', 'O'], ['চলা', 'O'], ['তার', 'S-PER'], ['আর', 'O'], ['হল', 'O'], ['না', 'O'], ['বাসায়', 'O'], ['ফিরে', 'O'], ['গেল', 'O'], ['একলা', 'O'], ['ঘরে', 'O'], ['বসে', 'O'], ['চিঠিখানি', 'O'], ['খুলে', 'O'], ['পড়লে', 'O'], ['তুমি', 'S-PER'], ['কবে', 'O'], ['ফিরে', 'O'], ['আসবে', 'O'], ['এসো', 'O'], ['এসো', 'O'], ['শীঘ্র', 'O'], ['এসো', 'O'], ['তোমার', 'O'], ['দুটি', 'O'], ['পায়ে', 'O'], ['পড়ি', 'O']]\n"
          ]
        }
      ]
    },
    {
      "cell_type": "code",
      "source": [
        "listper = []\n",
        "for i in ournerlist:\n",
        "  if 'PER' in i[1]:\n",
        "    listper.append(i[0])\n",
        "    # print(i[0])"
      ],
      "metadata": {
        "id": "4ERFcDcBqUOk"
      },
      "execution_count": 191,
      "outputs": []
    },
    {
      "cell_type": "code",
      "source": [
        "len(listper)"
      ],
      "metadata": {
        "colab": {
          "base_uri": "https://localhost:8080/"
        },
        "id": "on2foCK-qfKZ",
        "outputId": "fd966308-0948-4d72-e09f-10d443f85d0e"
      },
      "execution_count": 192,
      "outputs": [
        {
          "output_type": "execute_result",
          "data": {
            "text/plain": [
              "12"
            ]
          },
          "metadata": {},
          "execution_count": 192
        }
      ]
    },
    {
      "cell_type": "code",
      "source": [
        "len(list)"
      ],
      "metadata": {
        "colab": {
          "base_uri": "https://localhost:8080/"
        },
        "id": "XHcXKw2oqhgC",
        "outputId": "b936b79d-8c6f-45af-a167-af9c57e47bfa"
      },
      "execution_count": 193,
      "outputs": [
        {
          "output_type": "execute_result",
          "data": {
            "text/plain": [
              "12"
            ]
          },
          "metadata": {},
          "execution_count": 193
        }
      ]
    },
    {
      "cell_type": "code",
      "source": [
        "import csv\n",
        "\n",
        "folder_path = '/content/drive/MyDrive/final-year-project/stories-excel-file/'\n",
        "filename = 'pratham_chiti.csv'\n",
        "file_path = folder_path + filename\n",
        "\n",
        "with open(file_path, mode='w', newline='') as file:\n",
        "    writer = csv.writer(file)\n",
        "    writer.writerows(ournerlist)\n",
        "\n",
        "print(f\"CSV file has been saved to: {file_path}\")\n",
        "\n"
      ],
      "metadata": {
        "colab": {
          "base_uri": "https://localhost:8080/"
        },
        "collapsed": true,
        "id": "yNSa_Vv1kkEB",
        "outputId": "d23ebbe2-7e87-4c20-cf21-36ea1e2c487d"
      },
      "execution_count": 194,
      "outputs": [
        {
          "output_type": "stream",
          "name": "stdout",
          "text": [
            "CSV file has been saved to: /content/drive/MyDrive/final-year-project/stories-excel-file/pratham_chiti.csv\n"
          ]
        }
      ]
    },
    {
      "cell_type": "code",
      "source": [
        "drive.flush_and_unmount()"
      ],
      "metadata": {
        "colab": {
          "base_uri": "https://localhost:8080/",
          "height": 146
        },
        "id": "JAwieZui6mew",
        "outputId": "7f34a01c-edc8-496e-85e7-60d370022045"
      },
      "execution_count": 1,
      "outputs": [
        {
          "output_type": "error",
          "ename": "NameError",
          "evalue": "name 'drive' is not defined",
          "traceback": [
            "\u001b[0;31m---------------------------------------------------------------------------\u001b[0m",
            "\u001b[0;31mNameError\u001b[0m                                 Traceback (most recent call last)",
            "\u001b[0;32m<ipython-input-1-7e7fc67cc157>\u001b[0m in \u001b[0;36m<cell line: 1>\u001b[0;34m()\u001b[0m\n\u001b[0;32m----> 1\u001b[0;31m \u001b[0mdrive\u001b[0m\u001b[0;34m.\u001b[0m\u001b[0mflush_and_unmount\u001b[0m\u001b[0;34m(\u001b[0m\u001b[0;34m)\u001b[0m\u001b[0;34m\u001b[0m\u001b[0;34m\u001b[0m\u001b[0m\n\u001b[0m",
            "\u001b[0;31mNameError\u001b[0m: name 'drive' is not defined"
          ]
        }
      ]
    }
  ]
}