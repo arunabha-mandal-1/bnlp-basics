{
  "nbformat": 4,
  "nbformat_minor": 0,
  "metadata": {
    "colab": {
      "provenance": [],
      "authorship_tag": "ABX9TyPNRz9O0tl+Pa8C9rG8nA56",
      "include_colab_link": true
    },
    "kernelspec": {
      "name": "python3",
      "display_name": "Python 3"
    },
    "language_info": {
      "name": "python"
    }
  },
  "cells": [
    {
      "cell_type": "markdown",
      "metadata": {
        "id": "view-in-github",
        "colab_type": "text"
      },
      "source": [
        "<a href=\"https://colab.research.google.com/github/arunabha-mandal-1/bnlp-basics/blob/main/POS_tagging.ipynb\" target=\"_parent\"><img src=\"https://colab.research.google.com/assets/colab-badge.svg\" alt=\"Open In Colab\"/></a>"
      ]
    },
    {
      "cell_type": "markdown",
      "source": [
        "# Parts of Speech tagging"
      ],
      "metadata": {
        "id": "Q_xQtDwxGmLE"
      }
    },
    {
      "cell_type": "code",
      "source": [
        "!pip install banglanltk"
      ],
      "metadata": {
        "colab": {
          "base_uri": "https://localhost:8080/"
        },
        "id": "dz7nymeAMg4W",
        "outputId": "118612ed-29a4-4637-be83-4e779d027b81"
      },
      "execution_count": 1,
      "outputs": [
        {
          "output_type": "stream",
          "name": "stdout",
          "text": [
            "Collecting banglanltk\n",
            "  Downloading banglanltk-0.0.4-py3-none-any.whl.metadata (3.9 kB)\n",
            "Downloading banglanltk-0.0.4-py3-none-any.whl (462 kB)\n",
            "\u001b[?25l   \u001b[90m━━━━━━━━━━━━━━━━━━━━━━━━━━━━━━━━━━━━━━━━\u001b[0m \u001b[32m0.0/462.3 kB\u001b[0m \u001b[31m?\u001b[0m eta \u001b[36m-:--:--\u001b[0m\r\u001b[2K   \u001b[91m━━━━━━━━━━━━━━━━━━━━━━━\u001b[0m\u001b[90m╺\u001b[0m\u001b[90m━━━━━━━━━━━━━━━━\u001b[0m \u001b[32m266.2/462.3 kB\u001b[0m \u001b[31m7.4 MB/s\u001b[0m eta \u001b[36m0:00:01\u001b[0m\r\u001b[2K   \u001b[90m━━━━━━━━━━━━━━━━━━━━━━━━━━━━━━━━━━━━━━━━\u001b[0m \u001b[32m462.3/462.3 kB\u001b[0m \u001b[31m6.7 MB/s\u001b[0m eta \u001b[36m0:00:00\u001b[0m\n",
            "\u001b[?25hInstalling collected packages: banglanltk\n",
            "Successfully installed banglanltk-0.0.4\n"
          ]
        }
      ]
    },
    {
      "cell_type": "code",
      "source": [
        "import banglanltk as bn"
      ],
      "metadata": {
        "id": "-OY3uKHvMpdu"
      },
      "execution_count": 2,
      "outputs": []
    },
    {
      "cell_type": "code",
      "source": [
        "final_tokens1 = ['জীবের', 'সবচেয়ে', 'সম্পূর্ণতা', 'মানুষের', 'সবচেয়ে', 'অসম্পূর্ণ', 'জন্মগ্রহণ', 'বাঘ', 'ভালুক', 'জীবনযাত্রার', 'পনেরো-', 'আনা', 'মূলধন', 'আসে', 'প্রকৃতির', 'মালখানা', 'জীবরঙ্গভূমিতে', 'মানুষ', 'শূন্য', 'হাতে', 'মুঠো', 'বেঁধে', 'মানুষ', 'আসবার', 'পূর্বেই', 'জীবসৃষ্টিযজ্ঞে', 'প্রকৃতির', 'ভূরিব্যয়ের', 'পালা', 'শেষ', 'এসেছে', 'বিপুল', 'মাংস', 'কঠিন', 'বর্ম', 'প্রকাণ্ড', 'লেজ', 'জলে', 'স্থলে', 'পৃথুল', 'দেহের', 'অমিতাচার', 'প্রবল', 'উঠেছিল', 'ধরিত্রীকে', 'দিলে', 'ক্লান্ত', 'প্রমাণ', 'আতিশয্যের', 'পরাভব', 'অনিবার্য', 'পরীক্ষায়', 'এটাও', 'স্থির', 'প্রশ্রয়ের', 'পরিমাণ', 'দুর্বলতার', 'বোঝাও', 'দুর্বহ', 'ওঠে', 'নূতন', 'পর্বে', 'প্রকৃতি', 'যথাসম্ভব', 'মানুষের', 'বরাদ্দ', 'কম', 'রইল', 'নেপথ্যে', 'মানুষকে', 'ছোটো', 'একটা', 'কৌশল', 'এবারকার', 'জীবযাত্রার', 'পালায়', 'বিপুলতাকে', 'বহুলতায়', 'পরিণত', 'মহাকায়', 'জন্তু', 'প্রকাণ্ড', 'একলা', 'মানুষ', 'দূরপ্রসারিত']"
      ],
      "metadata": {
        "id": "U9Cqje6mNULm"
      },
      "execution_count": 3,
      "outputs": []
    },
    {
      "cell_type": "code",
      "source": [
        "final_tokens2 = ['চিত্ত', 'যেথা', 'ভয়শূন্য', 'উচ্চ', 'যেথা', 'শির', 'জ্ঞান', 'যেথা', 'মুক্ত', 'যেথা', 'গৃহের', 'প্রাচীর', 'আপন', 'প্রাঙ্গণতলে', 'দিবসশর্বরী', 'বসুধারে', 'রাখে', 'খণ্ড', 'ক্ষুদ্র', 'যেথা', 'বাক্য', 'হৃদয়ের', 'উৎসমুখ', 'উচ্ছ্বসিয়া', 'উঠে', 'যেথা', 'নির্বারিত', 'স্রোতে', 'দেশের', 'হ্রদয়', 'বুদ্ধির', 'সূত্রে', 'শত', 'শাখা', 'শত', 'স্রোতে', 'সেঁচিয়া', 'উঠে', 'যেথা', 'কর্মযজ্ঞে', 'বসন্তের', 'হাওয়ায়', 'অনুপ্রাণিত', 'অজানা', 'পথে', 'চলবারে', 'জনে', 'যেথা', 'চিন্তা', 'আচারপন্থাকে', 'বুদ্ধির', 'তীক্ষ্ণ', 'তলওয়ারে', 'আঘাত', 'যেথা', 'বিশ্ববিধাতা', 'প্রবুদ্ধ', 'উদার', 'সৃষ্টি', 'থাকো', 'সর্বত্র', 'স্বর্গে', 'উঠিতে', 'যাক', 'দেশ']"
      ],
      "metadata": {
        "id": "tUNGxr03Nc2o"
      },
      "execution_count": 4,
      "outputs": []
    },
    {
      "cell_type": "code",
      "source": [
        "!pip install BnLemma"
      ],
      "metadata": {
        "colab": {
          "base_uri": "https://localhost:8080/"
        },
        "id": "2bYJYBN1Nixq",
        "outputId": "664589ae-93dc-42db-b668-28e7af1b74d3"
      },
      "execution_count": 7,
      "outputs": [
        {
          "output_type": "stream",
          "name": "stdout",
          "text": [
            "Collecting BnLemma\n",
            "  Downloading BnLemma-2.1-py3-none-any.whl.metadata (1.7 kB)\n",
            "Downloading BnLemma-2.1-py3-none-any.whl (57 kB)\n",
            "\u001b[2K   \u001b[90m━━━━━━━━━━━━━━━━━━━━━━━━━━━━━━━━━━━━━━━━\u001b[0m \u001b[32m57.6/57.6 kB\u001b[0m \u001b[31m3.7 MB/s\u001b[0m eta \u001b[36m0:00:00\u001b[0m\n",
            "\u001b[?25hInstalling collected packages: BnLemma\n",
            "Successfully installed BnLemma-2.1\n"
          ]
        }
      ]
    },
    {
      "cell_type": "code",
      "source": [
        "import BnLemma as lm\n",
        "bl = lm.Lemmatizer()"
      ],
      "metadata": {
        "id": "Ax01nvr-OdzO"
      },
      "execution_count": 8,
      "outputs": []
    },
    {
      "cell_type": "code",
      "source": [
        "lemmas1 = [bl.lemma(word) for word in final_tokens1]"
      ],
      "metadata": {
        "id": "Q78rL9aPOjc8"
      },
      "execution_count": 9,
      "outputs": []
    },
    {
      "cell_type": "code",
      "source": [
        "print(lemmas1)"
      ],
      "metadata": {
        "colab": {
          "base_uri": "https://localhost:8080/"
        },
        "id": "Odj_1gQvOssU",
        "outputId": "dbf9f1da-a21d-40e7-cd63-e59159736098"
      },
      "execution_count": 11,
      "outputs": [
        {
          "output_type": "stream",
          "name": "stdout",
          "text": [
            "['জীব', 'সবচেয়ে', 'সম্পূর্ণ', 'মানুষ', 'সবচেয়ে', 'সম্পূর্ণ', 'জন্মগ্রহন', 'বাঘ', 'ভাল', 'যাত্রা', 'পনেরো', 'আনা', 'মূলধন', 'আসা', 'প্রকৃতি', 'খানা', 'জীবরঙ্গভূমি', 'মানুষ', 'শূন্য', 'হাত', 'মুঠো', 'বেঁধে', 'মানুষ', 'সবার', 'পূর্ব', 'জীবসৃষ্টিযজ্ঞে', 'প্রকৃতি', 'ভূ', 'পালা', 'শেষ', 'আসা', 'বিপুল', 'মাংস', 'কঠিন', 'বর্গ', 'প্রকাণ্ড', 'লেজ', 'জল', 'স্থল', 'পৃথুল', 'দেহ', 'অমিতাচা', 'প্রবল', 'উঠেছিল', 'ধরিত্রী', 'দিল', 'ক্লান্ত', 'প্রমাণ', 'আতিশয্যে', 'পরা', 'অনিন্দ্য', 'পরীক্ষা', 'এটি', 'স্থির', 'প্রশ্রয়ের', 'পরিমাণ', 'দুর্বল', 'বোঝা', 'দুর্বল', 'ওঠ', 'নূতন', 'পর্ব', 'প্রকৃতি', 'যথাসম্ভব', 'মানুষ', 'বরাদ্দ', 'কম', 'রইল', 'নেপথ্য', 'মানুষ', 'ছোট', 'একটি', 'কৌশল', 'এবার', 'যাত্রা', 'পালা', 'বিপুল', 'বহু', 'পরিণত', 'মহাকাব্য', 'জন্তু', 'প্রকাণ্ড', 'একলা', 'মানুষ', 'প্রসার']\n"
          ]
        }
      ]
    },
    {
      "cell_type": "code",
      "source": [
        "lemmas2 = [bl.lemma(word) for word in final_tokens2]"
      ],
      "metadata": {
        "id": "2emDltyHOwr6"
      },
      "execution_count": 12,
      "outputs": []
    },
    {
      "cell_type": "code",
      "source": [
        "print(lemmas2)"
      ],
      "metadata": {
        "colab": {
          "base_uri": "https://localhost:8080/"
        },
        "id": "-yzHocIPO1-H",
        "outputId": "3bd96bd9-ff2f-447f-fc7d-8db1110cf454"
      },
      "execution_count": 13,
      "outputs": [
        {
          "output_type": "stream",
          "name": "stdout",
          "text": [
            "['চিত্ত', 'যে', 'শূন্য', 'উচ্চ', 'যে', 'শির', 'জ্ঞান', 'যে', 'মুক্ত', 'যে', 'গৃহে', 'প্রাচীর', 'আপন', 'প্রাঙ্গণ', 'শর্বরী', 'সুধা', 'রাখা', 'খণ্ড', 'ক্ষুদ্র', 'যে', 'বাক্য', 'হৃদয়ে', 'মুখ', 'উচ্ছ্বসিয়া', 'উঠে', 'যে', 'নির্বাক', 'স্রোত', 'দেশ', 'হ্রদ', 'বুদ্ধি', 'সূত্র', 'শত', 'শাখা', 'শত', 'স্রোত', 'সেঁকা', 'উঠে', 'যে', 'কর্ম', 'বসন্ত', 'হাওড়', 'প্রাণি', 'জানা', 'পথ', 'বার', 'জন', 'যে', 'চিন্তা', 'আচারপন্থা', 'বুদ্ধি', 'তীক্ষ্ণ', 'তল', 'আঘাত', 'যে', 'বিশ্বব্যাপী', 'বুদ্ধ', 'উদার', 'সৃষ্টি', 'থাকা', 'সর্বত্র', 'স্বর্গ', 'উঠিতে', 'যা', 'দেশ']\n"
          ]
        }
      ]
    },
    {
      "cell_type": "code",
      "source": [
        "for word in lemmas1:\n",
        "  print(word, bn.pos_tag(word))"
      ],
      "metadata": {
        "colab": {
          "base_uri": "https://localhost:8080/"
        },
        "id": "toiwRtEwO4c3",
        "outputId": "3ecfaa52-4adf-4254-bccc-a14ea74a0d02"
      },
      "execution_count": 14,
      "outputs": [
        {
          "output_type": "stream",
          "name": "stdout",
          "text": [
            "জীব NN\n",
            "সবচেয়ে JJS\n",
            "সম্পূর্ণ RB\n",
            "মানুষ NN\n",
            "সবচেয়ে JJS\n",
            "সম্পূর্ণ RB\n",
            "জন্মগ্রহন VB\n",
            "বাঘ NN\n",
            "ভাল JJ\n",
            "যাত্রা IN\n",
            "পনেরো NN\n",
            "আনা VB\n",
            "মূলধন NN\n",
            "আসা NN\n",
            "প্রকৃতি NN\n",
            "খানা NN\n",
            "জীবরঙ্গভূমি NN\n",
            "মানুষ NN\n",
            "শূন্য NN\n",
            "হাত NN\n",
            "মুঠো NN\n",
            "বেঁধে NN\n",
            "মানুষ NN\n",
            "সবার NNP\n",
            "পূর্ব NN\n",
            "জীবসৃষ্টিযজ্ঞে NN\n",
            "প্রকৃতি NN\n",
            "ভূ NN\n",
            "পালা NN\n",
            "শেষ NN\n",
            "আসা NN\n",
            "বিপুল NN\n",
            "মাংস NN\n",
            "কঠিন NN\n",
            "বর্গ NN\n",
            "প্রকাণ্ড NN\n",
            "লেজ NN\n",
            "জল NN\n",
            "স্থল NN\n",
            "পৃথুল NN\n",
            "দেহ NN\n",
            "অমিতাচা NN\n",
            "প্রবল JJ\n",
            "উঠেছিল VB\n",
            "ধরিত্রী NN\n",
            "দিল VB\n",
            "ক্লান্ত NN\n",
            "প্রমাণ NN\n",
            "আতিশয্যে NN\n",
            "পরা NN\n",
            "অনিন্দ্য JJ\n",
            "পরীক্ষা JJS\n",
            "এটি PR\n",
            "স্থির NN\n",
            "প্রশ্রয়ের NN\n",
            "পরিমাণ NN\n",
            "দুর্বল NN\n",
            "বোঝা NN\n",
            "দুর্বল NN\n",
            "ওঠ VB\n",
            "নূতন JJ\n",
            "পর্ব NN\n",
            "প্রকৃতি NN\n",
            "যথাসম্ভব RB\n",
            "মানুষ NN\n",
            "বরাদ্দ NN\n",
            "কম JJ\n",
            "রইল NN\n",
            "নেপথ্য NN\n",
            "মানুষ NN\n",
            "ছোট NN\n",
            "একটি DT\n",
            "কৌশল NN\n",
            "এবার RB\n",
            "যাত্রা IN\n",
            "পালা NN\n",
            "বিপুল NN\n",
            "বহু NN\n",
            "পরিণত VBD\n",
            "মহাকাব্য NN\n",
            "জন্তু NN\n",
            "প্রকাণ্ড NN\n",
            "একলা RB\n",
            "মানুষ NN\n",
            "প্রসার NN\n"
          ]
        }
      ]
    },
    {
      "cell_type": "code",
      "source": [
        "for word in lemmas2:\n",
        "  print(word, bn.pos_tag(word))"
      ],
      "metadata": {
        "colab": {
          "base_uri": "https://localhost:8080/"
        },
        "id": "xZE5oX_EPXtp",
        "outputId": "07fe2a3c-9ff6-4399-b4b9-ab047ff61383"
      },
      "execution_count": 15,
      "outputs": [
        {
          "output_type": "stream",
          "name": "stdout",
          "text": [
            "চিত্ত NN\n",
            "যে NN\n",
            "শূন্য NN\n",
            "উচ্চ JJ\n",
            "যে NN\n",
            "শির NNP\n",
            "জ্ঞান NN\n",
            "যে NN\n",
            "মুক্ত NN\n",
            "যে NN\n",
            "গৃহে NN\n",
            "প্রাচীর NN\n",
            "আপন NN\n",
            "প্রাঙ্গণ NN\n",
            "শর্বরী NN\n",
            "সুধা NN\n",
            "রাখা NN\n",
            "খণ্ড NN\n",
            "ক্ষুদ্র NN\n",
            "যে NN\n",
            "বাক্য NN\n",
            "হৃদয়ে NN\n",
            "মুখ NN\n",
            "উচ্ছ্বসিয়া VB\n",
            "উঠে VB\n",
            "যে NN\n",
            "নির্বাক NN\n",
            "স্রোত NN\n",
            "দেশ NN\n",
            "হ্রদ NN\n",
            "বুদ্ধি NN\n",
            "সূত্র NN\n",
            "শত NN\n",
            "শাখা NN\n",
            "শত NN\n",
            "স্রোত NN\n",
            "সেঁকা NN\n",
            "উঠে VB\n",
            "যে NN\n",
            "কর্ম NN\n",
            "বসন্ত NN\n",
            "হাওড় NN\n",
            "প্রাণি NN\n",
            "জানা NN\n",
            "পথ NN\n",
            "বার NN\n",
            "জন NN\n",
            "যে NN\n",
            "চিন্তা NN\n",
            "আচারপন্থা NN\n",
            "বুদ্ধি NN\n",
            "তীক্ষ্ণ JJ\n",
            "তল NN\n",
            "আঘাত NN\n",
            "যে NN\n",
            "বিশ্বব্যাপী RB\n",
            "বুদ্ধ NN\n",
            "উদার JJ\n",
            "সৃষ্টি NN\n",
            "থাকা VB\n",
            "সর্বত্র RB\n",
            "স্বর্গ NN\n",
            "উঠিতে VB\n",
            "যা PR\n",
            "দেশ NN\n"
          ]
        }
      ]
    }
  ]
}